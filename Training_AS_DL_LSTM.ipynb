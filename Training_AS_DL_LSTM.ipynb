{
  "cells": [
    {
      "cell_type": "markdown",
      "id": "979e6de5",
      "metadata": {
        "id": "979e6de5"
      },
      "source": [
        "<h1 style=\"text-align: center; color: #E30613;\"><b><i>Entraînement avec LSTM sur les Données de Sentiments</i></b></h1>\n",
        "\n",
        "<p style=\"font-size: 18px; color: #333;\">\n",
        "Ce notebook présente une approche complète pour l'entraînement d'un modèle LSTM (Long Short-Term Memory) sur des données de sentiments.\n",
        "L'objectif est de prédire les sentiments exprimés dans des commentaires textuels en utilisant des techniques avancées de traitement du langage naturel (NLP).\n",
        "</p>\n",
        "\n",
        "### <span style=\"color: #28A745;\">**Étapes principales du workflow :**</span>\n",
        "\n",
        "1. **Chargement des données :** Importation et nettoyage des données textuelles.\n",
        "2. **Encodage des étiquettes :** Transformation des sentiments en valeurs numériques.\n",
        "3. **Division des données :** Séparation des données en ensembles d'entraînement, de validation et de test.\n",
        "4. **Vectorisation :** Conversion des textes en vecteurs numériques à l'aide de `CountVectorizer`.\n",
        "5. **Création d'un Dataset personnalisé :** Préparation des données pour le DataLoader de PyTorch.\n",
        "6. **Définition du modèle LSTM :** Construction et configuration du modèle LSTM pour la classification.\n",
        "7. **Entraînement :** Optimisation des paramètres du modèle à l'aide de la descente de gradient.\n",
        "8. **Évaluation :** Analyse des performances du modèle avec des métriques et des visualisations.\n",
        "\n",
        "### <span style=\"color: #28A745;\">**Technologies utilisées :**</span>\n",
        "\n",
        "- **PyTorch :** Framework pour la construction et l'entraînement du modèle LSTM.\n",
        "- **Scikit-learn :** Prétraitement des données et évaluation des performances.\n",
        "- **Matplotlib & Seaborn :** Visualisation des résultats et des métriques.\n",
        "- **TQDM :** Suivi des progrès pendant l'entraînement.\n",
        "\n",
        "<p style=\"font-size: 16px; color: #555;\">\n",
        "<b>Note :</b> Ce projet est conçu pour démontrer une approche pratique et reproductible pour l'analyse des sentiments à l'aide de réseaux de neurones récurrents.\n",
        "</p>"
      ]
    },
    {
      "cell_type": "markdown",
      "id": "9zm1Gltne4lD",
      "metadata": {
        "id": "9zm1Gltne4lD"
      },
      "source": [
        "# <span style=\"color: #E30613;\">**LSTM**</span>"
      ]
    },
    {
      "cell_type": "markdown",
      "id": "68103f0f",
      "metadata": {
        "id": "68103f0f"
      },
      "source": [
        "## <span style=\"color: #28A745;\">**Bibiliothèques nécessaires**</span>"
      ]
    },
    {
      "cell_type": "code",
      "execution_count": 3,
      "id": "915dbad9",
      "metadata": {
        "colab": {
          "base_uri": "https://localhost:8080/"
        },
        "collapsed": true,
        "id": "915dbad9",
        "outputId": "b5f6894a-ebc0-435e-afe9-44400a7c359b"
      },
      "outputs": [
        {
          "name": "stderr",
          "output_type": "stream",
          "text": [
            "\n",
            "[notice] A new release of pip is available: 25.1 -> 25.1.1\n",
            "[notice] To update, run: python.exe -m pip install --upgrade pip\n"
          ]
        },
        {
          "name": "stdout",
          "output_type": "stream",
          "text": [
            "Note: you may need to restart the kernel to use updated packages.\n",
            "Defaulting to user installation because normal site-packages is not writeable\n",
            "Requirement already satisfied: torch in c:\\users\\kikoo\\appdata\\roaming\\python\\python312\\site-packages (2.5.1+cu121)\n",
            "Requirement already satisfied: torchvision in c:\\users\\kikoo\\appdata\\roaming\\python\\python312\\site-packages (0.20.1+cu121)\n",
            "Requirement already satisfied: torchaudio in c:\\users\\kikoo\\appdata\\roaming\\python\\python312\\site-packages (2.5.1+cu121)\n",
            "Requirement already satisfied: scikit-learn in c:\\programdata\\anaconda3\\lib\\site-packages (1.5.1)\n",
            "Requirement already satisfied: matplotlib in c:\\programdata\\anaconda3\\lib\\site-packages (3.9.2)\n",
            "Requirement already satisfied: tqdm in c:\\programdata\\anaconda3\\lib\\site-packages (4.66.5)\n",
            "Requirement already satisfied: pandas in c:\\programdata\\anaconda3\\lib\\site-packages (2.2.2)\n",
            "Requirement already satisfied: filelock in c:\\programdata\\anaconda3\\lib\\site-packages (from torch) (3.13.1)\n",
            "Requirement already satisfied: typing-extensions>=4.8.0 in c:\\users\\kikoo\\appdata\\roaming\\python\\python312\\site-packages (from torch) (4.12.2)\n",
            "Requirement already satisfied: networkx in c:\\programdata\\anaconda3\\lib\\site-packages (from torch) (3.2.1)\n",
            "Requirement already satisfied: jinja2 in c:\\programdata\\anaconda3\\lib\\site-packages (from torch) (3.1.4)\n",
            "Requirement already satisfied: fsspec in c:\\programdata\\anaconda3\\lib\\site-packages (from torch) (2024.6.1)\n",
            "Requirement already satisfied: setuptools in c:\\programdata\\anaconda3\\lib\\site-packages (from torch) (75.1.0)\n",
            "Requirement already satisfied: sympy==1.13.1 in c:\\users\\kikoo\\appdata\\roaming\\python\\python312\\site-packages (from torch) (1.13.1)\n",
            "Requirement already satisfied: mpmath<1.4,>=1.1.0 in c:\\programdata\\anaconda3\\lib\\site-packages (from sympy==1.13.1->torch) (1.3.0)\n",
            "Requirement already satisfied: numpy in c:\\programdata\\anaconda3\\lib\\site-packages (from torchvision) (1.26.4)\n",
            "Requirement already satisfied: pillow!=8.3.*,>=5.3.0 in c:\\programdata\\anaconda3\\lib\\site-packages (from torchvision) (10.4.0)\n",
            "Requirement already satisfied: scipy>=1.6.0 in c:\\programdata\\anaconda3\\lib\\site-packages (from scikit-learn) (1.13.1)\n",
            "Requirement already satisfied: joblib>=1.2.0 in c:\\programdata\\anaconda3\\lib\\site-packages (from scikit-learn) (1.4.2)\n",
            "Requirement already satisfied: threadpoolctl>=3.1.0 in c:\\programdata\\anaconda3\\lib\\site-packages (from scikit-learn) (3.5.0)\n",
            "Requirement already satisfied: contourpy>=1.0.1 in c:\\programdata\\anaconda3\\lib\\site-packages (from matplotlib) (1.2.0)\n",
            "Requirement already satisfied: cycler>=0.10 in c:\\programdata\\anaconda3\\lib\\site-packages (from matplotlib) (0.11.0)\n",
            "Requirement already satisfied: fonttools>=4.22.0 in c:\\programdata\\anaconda3\\lib\\site-packages (from matplotlib) (4.51.0)\n",
            "Requirement already satisfied: kiwisolver>=1.3.1 in c:\\programdata\\anaconda3\\lib\\site-packages (from matplotlib) (1.4.4)\n",
            "Requirement already satisfied: packaging>=20.0 in c:\\programdata\\anaconda3\\lib\\site-packages (from matplotlib) (24.1)\n",
            "Requirement already satisfied: pyparsing>=2.3.1 in c:\\programdata\\anaconda3\\lib\\site-packages (from matplotlib) (3.1.2)\n",
            "Requirement already satisfied: python-dateutil>=2.7 in c:\\users\\kikoo\\appdata\\roaming\\python\\python312\\site-packages (from matplotlib) (2.8.2)\n",
            "Requirement already satisfied: colorama in c:\\users\\kikoo\\appdata\\roaming\\python\\python312\\site-packages (from tqdm) (0.4.6)\n",
            "Requirement already satisfied: pytz>=2020.1 in c:\\users\\kikoo\\appdata\\roaming\\python\\python312\\site-packages (from pandas) (2024.2)\n",
            "Requirement already satisfied: tzdata>=2022.7 in c:\\programdata\\anaconda3\\lib\\site-packages (from pandas) (2023.3)\n",
            "Requirement already satisfied: six>=1.5 in c:\\programdata\\anaconda3\\lib\\site-packages (from python-dateutil>=2.7->matplotlib) (1.16.0)\n",
            "Requirement already satisfied: MarkupSafe>=2.0 in c:\\programdata\\anaconda3\\lib\\site-packages (from jinja2->torch) (2.1.3)\n"
          ]
        }
      ],
      "source": [
        "%pip install torch torchvision torchaudio scikit-learn matplotlib tqdm pandas\n",
        "\n",
        "import pandas as pd\n",
        "import numpy as np\n",
        "import torch\n",
        "import torch.nn as nn\n",
        "from torch.utils.data import DataLoader, Dataset\n",
        "from sklearn.model_selection import train_test_split\n",
        "from sklearn.metrics import classification_report, confusion_matrix\n",
        "from sklearn.feature_extraction.text import CountVectorizer\n",
        "import matplotlib.pyplot as plt\n",
        "from tqdm import tqdm\n",
        "import seaborn as sns"
      ]
    },
    {
      "cell_type": "markdown",
      "id": "7WOHv2OTVsJ4",
      "metadata": {
        "id": "7WOHv2OTVsJ4"
      },
      "source": [
        "## <span style=\"color: #28A745;\">**Utilisation de GPU**</span>"
      ]
    },
    {
      "cell_type": "code",
      "execution_count": 5,
      "id": "QckqKaljV0xd",
      "metadata": {
        "colab": {
          "base_uri": "https://localhost:8080/"
        },
        "id": "QckqKaljV0xd",
        "outputId": "b3596dff-b86c-4f89-8322-729dc865123c"
      },
      "outputs": [
        {
          "name": "stdout",
          "output_type": "stream",
          "text": [
            "Device: cuda\n"
          ]
        }
      ],
      "source": [
        "# ✅ GPU seulement\n",
        "device = torch.device(\"cuda\" if torch.cuda.is_available() else \"cpu\")\n",
        "print(\"Device:\", device)"
      ]
    },
    {
      "cell_type": "markdown",
      "id": "hUFyzWDFV-ea",
      "metadata": {
        "id": "hUFyzWDFV-ea"
      },
      "source": [
        "## <span style=\"color: #28A745;\">**Chargement des Données**</span>"
      ]
    },
    {
      "cell_type": "code",
      "execution_count": null,
      "id": "APU8OV_aWDGo",
      "metadata": {
        "id": "APU8OV_aWDGo"
      },
      "outputs": [],
      "source": [
        "# 📁 Chargement des données\n",
        "df = pd.read_csv(\"/content/Results/Comments_clean.csv\")\n",
        "df = df.dropna(subset=[\"Comments\"])"
      ]
    },
    {
      "cell_type": "markdown",
      "id": "dpgLkOzNWIfI",
      "metadata": {
        "id": "dpgLkOzNWIfI"
      },
      "source": [
        "## <span style=\"color: #28A745;\">**Encodage des étiquettes**</span>"
      ]
    },
    {
      "cell_type": "code",
      "execution_count": 8,
      "id": "4skFs0KGWSUa",
      "metadata": {
        "id": "4skFs0KGWSUa"
      },
      "outputs": [],
      "source": [
        "# 🎯 Encodage des étiquettes\n",
        "from sklearn.preprocessing import LabelEncoder\n",
        "label_encoder = LabelEncoder()\n",
        "df[\"Sentiments_encoded\"] = label_encoder.fit_transform(df[\"Sentiments\"])"
      ]
    },
    {
      "cell_type": "markdown",
      "id": "v-EKAf3OWTy0",
      "metadata": {
        "id": "v-EKAf3OWTy0"
      },
      "source": [
        "## <span style=\"color: #28A745;\">**Division des données**</span>"
      ]
    },
    {
      "cell_type": "code",
      "execution_count": 9,
      "id": "o7En_Ga7Wb11",
      "metadata": {
        "id": "o7En_Ga7Wb11"
      },
      "outputs": [],
      "source": [
        "# ✂️ Division des données\n",
        "X_temp, X_test, y_temp, y_test = train_test_split(df[\"Comments\"], df[\"Sentiments_encoded\"], test_size=0.2, random_state=42, stratify=df[\"Sentiments_encoded\"])\n",
        "X_train, X_val, y_train, y_val = train_test_split(X_temp, y_temp, test_size=0.125, random_state=42, stratify=y_temp)  # 0.125 * 0.8 = 0.1"
      ]
    },
    {
      "cell_type": "markdown",
      "id": "XfXBLThsWfvm",
      "metadata": {
        "id": "XfXBLThsWfvm"
      },
      "source": [
        "## <span style=\"color: #28A745;\">**Vectorisation avec CountVectorizer**</span>"
      ]
    },
    {
      "cell_type": "code",
      "execution_count": 10,
      "id": "VfqwEF1YWnCb",
      "metadata": {
        "id": "VfqwEF1YWnCb"
      },
      "outputs": [],
      "source": [
        "# 🧠 Vectorisation avec CountVectorizer\n",
        "vectorizer = CountVectorizer(max_features=5000, ngram_range=(1, 2))\n",
        "vectorizer.fit(X_train)\n",
        "X_train_vec = vectorizer.transform(X_train).toarray()\n",
        "X_val_vec = vectorizer.transform(X_val).toarray()\n",
        "X_test_vec = vectorizer.transform(X_test).toarray()"
      ]
    },
    {
      "cell_type": "markdown",
      "id": "SvJFlVdcWxB2",
      "metadata": {
        "id": "SvJFlVdcWxB2"
      },
      "source": [
        "## <span style=\"color: #28A745;\">**Dataset personnalisé**</span>"
      ]
    },
    {
      "cell_type": "code",
      "execution_count": 12,
      "id": "DOCO1Y-MWwid",
      "metadata": {
        "id": "DOCO1Y-MWwid"
      },
      "outputs": [],
      "source": [
        "# 📦 Dataset personnalisé\n",
        "class CommentDataset(Dataset):\n",
        "    def __init__(self, X, y):\n",
        "        self.X = torch.tensor(X, dtype=torch.float32)\n",
        "        self.y = torch.tensor(y.values, dtype=torch.long)\n",
        "    def __len__(self):\n",
        "        return len(self.X)\n",
        "    def __getitem__(self, idx):\n",
        "        return self.X[idx], self.y[idx]\n",
        "\n",
        "train_dataset = CommentDataset(X_train_vec, y_train)\n",
        "val_dataset = CommentDataset(X_val_vec, y_val)\n",
        "test_dataset = CommentDataset(X_test_vec, y_test)\n",
        "\n",
        "train_loader = DataLoader(train_dataset, batch_size=32, shuffle=True)\n",
        "val_loader = DataLoader(val_dataset, batch_size=32)\n",
        "test_loader = DataLoader(test_dataset, batch_size=32)"
      ]
    },
    {
      "cell_type": "markdown",
      "id": "_8MadSv0W6VZ",
      "metadata": {
        "id": "_8MadSv0W6VZ"
      },
      "source": [
        "## <span style=\"color: #28A745;\">**Entraînement avec LSTM**</span>"
      ]
    },
    {
      "cell_type": "code",
      "execution_count": null,
      "id": "JgofH895qF94",
      "metadata": {
        "colab": {
          "base_uri": "https://localhost:8080/"
        },
        "id": "JgofH895qF94",
        "outputId": "302aaa7a-6716-44f6-ef53-b80b24f5d5e7"
      },
      "outputs": [
        {
          "name": "stderr",
          "output_type": "stream",
          "text": [
            "Epoch 1 [Training]: 100%|██████████| 80/80 [00:01<00:00, 53.46it/s, loss=1.27] \n"
          ]
        },
        {
          "name": "stdout",
          "output_type": "stream",
          "text": [
            "\n",
            "Epoch 1 - Train Loss: 1.0746, Val Loss: 1.0120, Train Acc: 0.4191, Val Acc: 0.4503\n"
          ]
        },
        {
          "name": "stderr",
          "output_type": "stream",
          "text": [
            "Epoch 2 [Training]: 100%|██████████| 80/80 [00:01<00:00, 54.26it/s, loss=1.04] \n"
          ]
        },
        {
          "name": "stdout",
          "output_type": "stream",
          "text": [
            "\n",
            "Epoch 2 - Train Loss: 0.9150, Val Loss: 0.8743, Train Acc: 0.6121, Val Acc: 0.6685\n"
          ]
        },
        {
          "name": "stderr",
          "output_type": "stream",
          "text": [
            "Epoch 3 [Training]: 100%|██████████| 80/80 [00:01<00:00, 56.56it/s, loss=0.552]\n"
          ]
        },
        {
          "name": "stdout",
          "output_type": "stream",
          "text": [
            "\n",
            "Epoch 3 - Train Loss: 0.7871, Val Loss: 0.7917, Train Acc: 0.8114, Val Acc: 0.7845\n"
          ]
        },
        {
          "name": "stderr",
          "output_type": "stream",
          "text": [
            "Epoch 4 [Training]: 100%|██████████| 80/80 [00:01<00:00, 53.05it/s, loss=0.575]\n"
          ]
        },
        {
          "name": "stdout",
          "output_type": "stream",
          "text": [
            "\n",
            "Epoch 4 - Train Loss: 0.6836, Val Loss: 0.7466, Train Acc: 0.8901, Val Acc: 0.8149\n"
          ]
        },
        {
          "name": "stderr",
          "output_type": "stream",
          "text": [
            "Epoch 5 [Training]: 100%|██████████| 80/80 [00:01<00:00, 50.19it/s, loss=0.552]\n"
          ]
        },
        {
          "name": "stdout",
          "output_type": "stream",
          "text": [
            "\n",
            "Epoch 5 - Train Loss: 0.6423, Val Loss: 0.7323, Train Acc: 0.9178, Val Acc: 0.8315\n"
          ]
        },
        {
          "name": "stderr",
          "output_type": "stream",
          "text": [
            "Epoch 6 [Training]: 100%|██████████| 80/80 [00:01<00:00, 49.30it/s, loss=0.749]\n"
          ]
        },
        {
          "name": "stdout",
          "output_type": "stream",
          "text": [
            "\n",
            "Epoch 6 - Train Loss: 0.6211, Val Loss: 0.7261, Train Acc: 0.9375, Val Acc: 0.8177\n"
          ]
        },
        {
          "name": "stderr",
          "output_type": "stream",
          "text": [
            "Epoch 7 [Training]: 100%|██████████| 80/80 [00:01<00:00, 54.01it/s, loss=0.552]\n"
          ]
        },
        {
          "name": "stdout",
          "output_type": "stream",
          "text": [
            "\n",
            "Epoch 7 - Train Loss: 0.6121, Val Loss: 0.7234, Train Acc: 0.9442, Val Acc: 0.8343\n"
          ]
        },
        {
          "name": "stderr",
          "output_type": "stream",
          "text": [
            "Epoch 8 [Training]: 100%|██████████| 80/80 [00:01<00:00, 52.72it/s, loss=0.551]\n"
          ]
        },
        {
          "name": "stdout",
          "output_type": "stream",
          "text": [
            "\n",
            "Epoch 8 - Train Loss: 0.6018, Val Loss: 0.7179, Train Acc: 0.9545, Val Acc: 0.8370\n"
          ]
        },
        {
          "name": "stderr",
          "output_type": "stream",
          "text": [
            "Epoch 9 [Training]: 100%|██████████| 80/80 [00:01<00:00, 46.87it/s, loss=0.551]\n"
          ]
        },
        {
          "name": "stdout",
          "output_type": "stream",
          "text": [
            "\n",
            "Epoch 9 - Train Loss: 0.5992, Val Loss: 0.7183, Train Acc: 0.9557, Val Acc: 0.8260\n"
          ]
        },
        {
          "name": "stderr",
          "output_type": "stream",
          "text": [
            "Epoch 10 [Training]: 100%|██████████| 80/80 [00:01<00:00, 46.13it/s, loss=0.551]\n"
          ]
        },
        {
          "name": "stdout",
          "output_type": "stream",
          "text": [
            "\n",
            "Epoch 10 - Train Loss: 0.5978, Val Loss: 0.7158, Train Acc: 0.9561, Val Acc: 0.8343\n"
          ]
        },
        {
          "name": "stderr",
          "output_type": "stream",
          "text": [
            "Epoch 11 [Training]: 100%|██████████| 80/80 [00:01<00:00, 46.26it/s, loss=0.551]\n"
          ]
        },
        {
          "name": "stdout",
          "output_type": "stream",
          "text": [
            "\n",
            "Epoch 11 - Train Loss: 0.5942, Val Loss: 0.7161, Train Acc: 0.9597, Val Acc: 0.8315\n"
          ]
        },
        {
          "name": "stderr",
          "output_type": "stream",
          "text": [
            "Epoch 12 [Training]: 100%|██████████| 80/80 [00:01<00:00, 43.48it/s, loss=0.551]\n"
          ]
        },
        {
          "name": "stdout",
          "output_type": "stream",
          "text": [
            "\n",
            "Epoch 12 - Train Loss: 0.5904, Val Loss: 0.7160, Train Acc: 0.9636, Val Acc: 0.8287\n",
            "⛔ Early stopping triggered\n"
          ]
        }
      ],
      "source": [
        "# 🧱 Modèle LSTM\n",
        "class SentimentLSTM(nn.Module):\n",
        "    def __init__(self, input_dim, hidden_dim, output_dim, n_layers, dropout):\n",
        "        super(SentimentLSTM, self).__init__()\n",
        "        self.lstm = nn.LSTM(input_dim, hidden_dim, num_layers=n_layers, batch_first=True, dropout=dropout)\n",
        "        self.dropout = nn.Dropout(dropout)\n",
        "        self.fc = nn.Linear(hidden_dim, output_dim)\n",
        "        self.softmax = nn.Softmax(dim=1)\n",
        "\n",
        "    def forward(self, x):\n",
        "        x = x.unsqueeze(1)  # [batch_size, 1, input_dim]\n",
        "        lstm_out, _ = self.lstm(x)\n",
        "        out = self.dropout(lstm_out[:, -1, :])\n",
        "        out = self.fc(out)\n",
        "        return self.softmax(out)\n",
        "\n",
        "input_dim = X_train_vec.shape[1]\n",
        "model = SentimentLSTM(input_dim=input_dim, hidden_dim=128, output_dim=3, n_layers=2, dropout=0.5)\n",
        "model = model.to(device)\n",
        "\n",
        "# 🔧 Entraînement\n",
        "criterion = nn.CrossEntropyLoss()\n",
        "optimizer = torch.optim.Adam(model.parameters(), lr=0.0009, weight_decay=1e-5, eps=0.00001)\n",
        "\n",
        "train_losses, val_losses, train_accuracies, val_accuracies = [], [], [], []\n",
        "best_val_loss = float('inf')\n",
        "patience = 2  # Nombre d'époques sans amélioration avant l'arrêt anticipé\n",
        "epochs_no_improve = 0\n",
        "\n",
        "for epoch in range(100):\n",
        "    model.train()\n",
        "    running_loss, correct, total = 0.0, 0, 0\n",
        "    loop = tqdm(train_loader, desc=f\"Epoch {epoch+1} [Training]\")\n",
        "    for inputs, labels in loop:\n",
        "        inputs, labels = inputs.to(device), labels.to(device)\n",
        "        optimizer.zero_grad()\n",
        "        outputs = model(inputs)\n",
        "        loss = criterion(outputs, labels)\n",
        "        loss.backward()\n",
        "        optimizer.step()\n",
        "\n",
        "        running_loss += loss.item() * inputs.size(0)\n",
        "        _, preds = torch.max(outputs, 1)\n",
        "        correct += (preds == labels).sum().item()\n",
        "        total += labels.size(0)\n",
        "        loop.set_postfix(loss=loss.item())\n",
        "\n",
        "    train_loss = running_loss / len(train_loader.dataset)\n",
        "    train_acc = correct / total\n",
        "    train_losses.append(train_loss)\n",
        "    train_accuracies.append(train_acc)\n",
        "\n",
        "    # Validation\n",
        "    model.eval()\n",
        "    val_loss, correct, total = 0.0, 0, 0\n",
        "    with torch.no_grad():\n",
        "        for inputs, labels in val_loader:\n",
        "            inputs, labels = inputs.to(device), labels.to(device)\n",
        "            outputs = model(inputs)\n",
        "            loss = criterion(outputs, labels)\n",
        "            val_loss += loss.item() * inputs.size(0)\n",
        "            _, preds = torch.max(outputs, 1)\n",
        "            correct += (preds == labels).sum().item()\n",
        "            total += labels.size(0)\n",
        "\n",
        "    val_loss = val_loss / len(val_loader.dataset)\n",
        "    val_acc = correct / total\n",
        "    val_losses.append(val_loss)\n",
        "    val_accuracies.append(val_acc)\n",
        "\n",
        "    print(f\"\\nEpoch {epoch+1} - Train Loss: {train_loss:.4f}, Val Loss: {val_loss:.4f}, Train Acc: {train_acc:.4f}, Val Acc: {val_acc:.4f}\")\n",
        "\n",
        "    # Early stopping\n",
        "    if val_loss < best_val_loss:\n",
        "        best_val_loss = val_loss\n",
        "        epochs_no_improve = 0\n",
        "        torch.save(model.state_dict(), \"/content/Results/best_model_LSTM.pt\")\n",
        "    else:\n",
        "        epochs_no_improve += 1\n",
        "        if epochs_no_improve == patience:\n",
        "            print(\"⛔ Early stopping triggered\")\n",
        "            break"
      ]
    },
    {
      "cell_type": "markdown",
      "id": "-EyPtSYaX0JU",
      "metadata": {
        "id": "-EyPtSYaX0JU"
      },
      "source": [
        "## <span style=\"color: #28A745;\">**Graphique des pertes**</span>"
      ]
    },
    {
      "cell_type": "code",
      "execution_count": 16,
      "id": "47URm_VvX-10",
      "metadata": {
        "colab": {
          "base_uri": "https://localhost:8080/",
          "height": 487
        },
        "id": "47URm_VvX-10",
        "outputId": "d6a72e21-a213-4555-d9aa-1619afcc591e"
      },
      "outputs": [
        {
          "data": {
            "image/png": "[encoded data removed]",
            "text/plain": [
              "<Figure size 1000x500 with 1 Axes>"
            ]
          },
          "metadata": {},
          "output_type": "display_data"
        }
      ],
      "source": [
        "# 📉 Graphique des pertes\n",
        "plt.figure(figsize=(10, 5))\n",
        "plt.plot(train_losses, label=\"Training Loss\", color='#28A745')\n",
        "plt.plot(val_losses, label=\"Validation Loss\", color='#E30613')\n",
        "plt.xlabel(\"Epochs\")\n",
        "plt.ylabel(\"Loss\")\n",
        "plt.title(\"Training vs Validation Loss - LSTM\")\n",
        "plt.legend()\n",
        "plt.show()"
      ]
    },
    {
      "cell_type": "markdown",
      "id": "3nBEMHnUYIZB",
      "metadata": {
        "id": "3nBEMHnUYIZB"
      },
      "source": [
        "## <span style=\"color: #28A745;\">**Évaluation finale**</span>"
      ]
    },
    {
      "cell_type": "code",
      "execution_count": null,
      "id": "wiOjH8zvYRqt",
      "metadata": {
        "colab": {
          "base_uri": "https://localhost:8080/"
        },
        "id": "wiOjH8zvYRqt",
        "outputId": "419d8dcc-cc94-4eb1-c8db-1c547c0fa5fd"
      },
      "outputs": [
        {
          "name": "stderr",
          "output_type": "stream",
          "text": [
            "C:\\Users\\kikoo\\AppData\\Local\\Temp\\ipykernel_27876\\3566478200.py:2: FutureWarning: You are using `torch.load` with `weights_only=False` (the current default value), which uses the default pickle module implicitly. It is possible to construct malicious pickle data which will execute arbitrary code during unpickling (See https://github.com/pytorch/pytorch/blob/main/SECURITY.md#untrusted-models for more details). In a future release, the default value for `weights_only` will be flipped to `True`. This limits the functions that could be executed during unpickling. Arbitrary objects will no longer be allowed to be loaded via this mode unless they are explicitly allowlisted by the user via `torch.serialization.add_safe_globals`. We recommend you start setting `weights_only=True` for any use case where you don't have full control of the loaded file. Please open an issue on GitHub for any issues related to this experimental feature.\n",
            "  model.load_state_dict(torch.load(\"content/Results/best_model_LSTM.pt\"))\n"
          ]
        },
        {
          "name": "stdout",
          "output_type": "stream",
          "text": [
            "\n",
            "🔍 Rapport de classification pour LSTM:\n",
            "              precision    recall  f1-score   support\n",
            "\n",
            "     Negatif       0.92      0.85      0.88       172\n",
            "      Neutre       0.80      0.83      0.82       236\n",
            "     Positif       0.91      0.92      0.91       315\n",
            "\n",
            "    accuracy                           0.88       723\n",
            "   macro avg       0.88      0.87      0.87       723\n",
            "weighted avg       0.88      0.88      0.88       723\n",
            "\n"
          ]
        }
      ],
      "source": [
        "# ✅ Évaluation finale\n",
        "model.load_state_dict(torch.load(\"/content/Results/best_model_LSTM.pt\"))\n",
        "model.eval()\n",
        "\n",
        "all_preds, all_labels = [], []\n",
        "with torch.no_grad():\n",
        "    for inputs, labels in test_loader:\n",
        "        inputs = inputs.to(device)\n",
        "        outputs = model(inputs)\n",
        "        _, preds = torch.max(outputs, 1)\n",
        "        all_preds.extend(preds.cpu().numpy())\n",
        "        all_labels.extend(labels.numpy())\n",
        "\n",
        "# 📊 Rapport de classification\n",
        "print(\"\\n🔍 Rapport de classification pour LSTM:\")\n",
        "print(classification_report(all_labels, all_preds, target_names=label_encoder.classes_))"
      ]
    },
    {
      "cell_type": "markdown",
      "id": "d5roWJiOYX5S",
      "metadata": {
        "id": "d5roWJiOYX5S"
      },
      "source": [
        "## <span style=\"color: #28A745;\">**Matrice de confusion**</span>"
      ]
    },
    {
      "cell_type": "code",
      "execution_count": 19,
      "id": "KyAPtL7iYW6L",
      "metadata": {
        "colab": {
          "base_uri": "https://localhost:8080/",
          "height": 487
        },
        "id": "KyAPtL7iYW6L",
        "outputId": "18847b4c-0da7-4407-9478-5538acec23fa"
      },
      "outputs": [
        {
          "data": {
            "image/png": "[encoded data removed]",
            "text/plain": [
              "<Figure size 600x500 with 2 Axes>"
            ]
          },
          "metadata": {},
          "output_type": "display_data"
        }
      ],
      "source": [
        "# 📌 Matrice de confusion\n",
        "cm = confusion_matrix(all_labels, all_preds)\n",
        "plt.figure(figsize=(6, 5))\n",
        "sns.heatmap(cm, annot=True, fmt=\"d\", cmap=\"Reds\", xticklabels=label_encoder.classes_, yticklabels=label_encoder.classes_)\n",
        "plt.xlabel(\"Prédictions\")\n",
        "plt.ylabel(\"Vérités\")\n",
        "plt.title(\"Matrice de confusion - LSTM\")\n",
        "plt.show()"
      ]
    },
    {
      "cell_type": "markdown",
      "id": "0fcc10c4",
      "metadata": {
        "id": "0fcc10c4"
      },
      "source": [
        "<h3 style=\"text-align: center; color: #E30613;\"><b><i>Développé par: OUARAS Khelil Rafik</i></b></h3>"
      ]
    }
  ],
  "metadata": {
    "accelerator": "GPU",
    "colab": {
      "gpuType": "T4",
      "provenance": []
    },
    "kernelspec": {
      "display_name": "base",
      "language": "python",
      "name": "python3"
    },
    "language_info": {
      "codemirror_mode": {
        "name": "ipython",
        "version": 3
      },
      "file_extension": ".py",
      "mimetype": "text/x-python",
      "name": "python",
      "nbconvert_exporter": "python",
      "pygments_lexer": "ipython3",
      "version": "3.12.3"
    }
  },
  "nbformat": 4,
  "nbformat_minor": 5
}
