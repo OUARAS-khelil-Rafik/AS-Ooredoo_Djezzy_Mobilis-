{
  "cells": [
    {
      "cell_type": "markdown",
      "id": "979e6de5",
      "metadata": {
        "id": "979e6de5"
      },
      "source": [
        "<h1 style=\"text-align: center; color: #E30613;\"><b><i>Entraînement avec LSTM sur les Données de Sentiments</i></b></h1>\n",
        "\n",
        "<p style=\"font-size: 18px; color: #333;\">\n",
        "Ce notebook présente une approche complète pour l'entraînement d'un modèle LSTM (Long Short-Term Memory) sur des données de sentiments.\n",
        "L'objectif est de prédire les sentiments exprimés dans des commentaires textuels en utilisant des techniques avancées de traitement du langage naturel (NLP).\n",
        "</p>\n",
        "\n",
        "### <span style=\"color: #28A745;\">**Étapes principales du workflow :**</span>\n",
        "\n",
        "1. **Chargement des données :** Importation et nettoyage des données textuelles.\n",
        "2. **Encodage des étiquettes :** Transformation des sentiments en valeurs numériques.\n",
        "3. **Division des données :** Séparation des données en ensembles d'entraînement, de validation et de test.\n",
        "4. **Vectorisation :** Conversion des textes en vecteurs numériques à l'aide de `CountVectorizer`.\n",
        "5. **Création d'un Dataset personnalisé :** Préparation des données pour le DataLoader de PyTorch.\n",
        "6. **Définition du modèle LSTM :** Construction et configuration du modèle LSTM pour la classification.\n",
        "7. **Entraînement :** Optimisation des paramètres du modèle à l'aide de la descente de gradient.\n",
        "8. **Évaluation :** Analyse des performances du modèle avec des métriques et des visualisations.\n",
        "\n",
        "### <span style=\"color: #28A745;\">**Technologies utilisées :**</span>\n",
        "\n",
        "- **PyTorch :** Framework pour la construction et l'entraînement du modèle LSTM.\n",
        "- **Scikit-learn :** Prétraitement des données et évaluation des performances.\n",
        "- **Matplotlib & Seaborn :** Visualisation des résultats et des métriques.\n",
        "- **TQDM :** Suivi des progrès pendant l'entraînement.\n",
        "\n",
        "<p style=\"font-size: 16px; color: #555;\">\n",
        "<b>Note :</b> Ce projet est conçu pour démontrer une approche pratique et reproductible pour l'analyse des sentiments à l'aide de réseaux de neurones récurrents.\n",
        "</p>"
      ]
    },
    {
      "cell_type": "markdown",
      "id": "9zm1Gltne4lD",
      "metadata": {
        "id": "9zm1Gltne4lD"
      },
      "source": [
        "# <span style=\"color: #E30613;\">**LSTM**</span>"
      ]
    },
    {
      "cell_type": "markdown",
      "id": "68103f0f",
      "metadata": {
        "id": "68103f0f"
      },
      "source": [
        "## <span style=\"color: #28A745;\">**Bibiliothèques nécessaires**</span>"
      ]
    },
    {
      "cell_type": "code",
      "execution_count": 30,
      "id": "915dbad9",
      "metadata": {
        "colab": {
          "base_uri": "https://localhost:8080/"
        },
        "collapsed": true,
        "id": "915dbad9",
        "outputId": "b5f6894a-ebc0-435e-afe9-44400a7c359b"
      },
      "outputs": [
        {
          "name": "stdout",
          "output_type": "stream",
          "text": [
            "Requirement already satisfied: torch in /usr/local/lib/python3.11/dist-packages (2.6.0+cu124)\n",
            "Requirement already satisfied: torchvision in /usr/local/lib/python3.11/dist-packages (0.21.0+cu124)\n",
            "Requirement already satisfied: torchaudio in /usr/local/lib/python3.11/dist-packages (2.6.0+cu124)\n",
            "Requirement already satisfied: scikit-learn in /usr/local/lib/python3.11/dist-packages (1.6.1)\n",
            "Requirement already satisfied: matplotlib in /usr/local/lib/python3.11/dist-packages (3.10.0)\n",
            "Requirement already satisfied: tqdm in /usr/local/lib/python3.11/dist-packages (4.67.1)\n",
            "Requirement already satisfied: pandas in /usr/local/lib/python3.11/dist-packages (2.2.2)\n",
            "Requirement already satisfied: filelock in /usr/local/lib/python3.11/dist-packages (from torch) (3.18.0)\n",
            "Requirement already satisfied: typing-extensions>=4.10.0 in /usr/local/lib/python3.11/dist-packages (from torch) (4.13.2)\n",
            "Requirement already satisfied: networkx in /usr/local/lib/python3.11/dist-packages (from torch) (3.4.2)\n",
            "Requirement already satisfied: jinja2 in /usr/local/lib/python3.11/dist-packages (from torch) (3.1.6)\n",
            "Requirement already satisfied: fsspec in /usr/local/lib/python3.11/dist-packages (from torch) (2025.3.2)\n",
            "Requirement already satisfied: nvidia-cuda-nvrtc-cu12==12.4.127 in /usr/local/lib/python3.11/dist-packages (from torch) (12.4.127)\n",
            "Requirement already satisfied: nvidia-cuda-runtime-cu12==12.4.127 in /usr/local/lib/python3.11/dist-packages (from torch) (12.4.127)\n",
            "Requirement already satisfied: nvidia-cuda-cupti-cu12==12.4.127 in /usr/local/lib/python3.11/dist-packages (from torch) (12.4.127)\n",
            "Requirement already satisfied: nvidia-cudnn-cu12==9.1.0.70 in /usr/local/lib/python3.11/dist-packages (from torch) (9.1.0.70)\n",
            "Requirement already satisfied: nvidia-cublas-cu12==12.4.5.8 in /usr/local/lib/python3.11/dist-packages (from torch) (12.4.5.8)\n",
            "Requirement already satisfied: nvidia-cufft-cu12==11.2.1.3 in /usr/local/lib/python3.11/dist-packages (from torch) (11.2.1.3)\n",
            "Requirement already satisfied: nvidia-curand-cu12==10.3.5.147 in /usr/local/lib/python3.11/dist-packages (from torch) (10.3.5.147)\n",
            "Requirement already satisfied: nvidia-cusolver-cu12==11.6.1.9 in /usr/local/lib/python3.11/dist-packages (from torch) (11.6.1.9)\n",
            "Requirement already satisfied: nvidia-cusparse-cu12==12.3.1.170 in /usr/local/lib/python3.11/dist-packages (from torch) (12.3.1.170)\n",
            "Requirement already satisfied: nvidia-cusparselt-cu12==0.6.2 in /usr/local/lib/python3.11/dist-packages (from torch) (0.6.2)\n",
            "Requirement already satisfied: nvidia-nccl-cu12==2.21.5 in /usr/local/lib/python3.11/dist-packages (from torch) (2.21.5)\n",
            "Requirement already satisfied: nvidia-nvtx-cu12==12.4.127 in /usr/local/lib/python3.11/dist-packages (from torch) (12.4.127)\n",
            "Requirement already satisfied: nvidia-nvjitlink-cu12==12.4.127 in /usr/local/lib/python3.11/dist-packages (from torch) (12.4.127)\n",
            "Requirement already satisfied: triton==3.2.0 in /usr/local/lib/python3.11/dist-packages (from torch) (3.2.0)\n",
            "Requirement already satisfied: sympy==1.13.1 in /usr/local/lib/python3.11/dist-packages (from torch) (1.13.1)\n",
            "Requirement already satisfied: mpmath<1.4,>=1.1.0 in /usr/local/lib/python3.11/dist-packages (from sympy==1.13.1->torch) (1.3.0)\n",
            "Requirement already satisfied: numpy in /usr/local/lib/python3.11/dist-packages (from torchvision) (2.0.2)\n",
            "Requirement already satisfied: pillow!=8.3.*,>=5.3.0 in /usr/local/lib/python3.11/dist-packages (from torchvision) (11.2.1)\n",
            "Requirement already satisfied: scipy>=1.6.0 in /usr/local/lib/python3.11/dist-packages (from scikit-learn) (1.15.2)\n",
            "Requirement already satisfied: joblib>=1.2.0 in /usr/local/lib/python3.11/dist-packages (from scikit-learn) (1.4.2)\n",
            "Requirement already satisfied: threadpoolctl>=3.1.0 in /usr/local/lib/python3.11/dist-packages (from scikit-learn) (3.6.0)\n",
            "Requirement already satisfied: contourpy>=1.0.1 in /usr/local/lib/python3.11/dist-packages (from matplotlib) (1.3.2)\n",
            "Requirement already satisfied: cycler>=0.10 in /usr/local/lib/python3.11/dist-packages (from matplotlib) (0.12.1)\n",
            "Requirement already satisfied: fonttools>=4.22.0 in /usr/local/lib/python3.11/dist-packages (from matplotlib) (4.57.0)\n",
            "Requirement already satisfied: kiwisolver>=1.3.1 in /usr/local/lib/python3.11/dist-packages (from matplotlib) (1.4.8)\n",
            "Requirement already satisfied: packaging>=20.0 in /usr/local/lib/python3.11/dist-packages (from matplotlib) (24.2)\n",
            "Requirement already satisfied: pyparsing>=2.3.1 in /usr/local/lib/python3.11/dist-packages (from matplotlib) (3.2.3)\n",
            "Requirement already satisfied: python-dateutil>=2.7 in /usr/local/lib/python3.11/dist-packages (from matplotlib) (2.9.0.post0)\n",
            "Requirement already satisfied: pytz>=2020.1 in /usr/local/lib/python3.11/dist-packages (from pandas) (2025.2)\n",
            "Requirement already satisfied: tzdata>=2022.7 in /usr/local/lib/python3.11/dist-packages (from pandas) (2025.2)\n",
            "Requirement already satisfied: six>=1.5 in /usr/local/lib/python3.11/dist-packages (from python-dateutil>=2.7->matplotlib) (1.17.0)\n",
            "Requirement already satisfied: MarkupSafe>=2.0 in /usr/local/lib/python3.11/dist-packages (from jinja2->torch) (3.0.2)\n"
          ]
        }
      ],
      "source": [
        "%pip install torch torchvision torchaudio scikit-learn matplotlib tqdm pandas\n",
        "\n",
        "import pandas as pd\n",
        "import numpy as np\n",
        "import torch\n",
        "import torch.nn as nn\n",
        "from torch.utils.data import DataLoader, Dataset\n",
        "from sklearn.model_selection import train_test_split\n",
        "from sklearn.metrics import classification_report, confusion_matrix\n",
        "from sklearn.feature_extraction.text import CountVectorizer\n",
        "import matplotlib.pyplot as plt\n",
        "from tqdm import tqdm\n",
        "import seaborn as sns"
      ]
    },
    {
      "cell_type": "markdown",
      "id": "7WOHv2OTVsJ4",
      "metadata": {
        "id": "7WOHv2OTVsJ4"
      },
      "source": [
        "## <span style=\"color: #28A745;\">**Utilisation de GPU**</span>"
      ]
    },
    {
      "cell_type": "code",
      "execution_count": 31,
      "id": "QckqKaljV0xd",
      "metadata": {
        "colab": {
          "base_uri": "https://localhost:8080/"
        },
        "id": "QckqKaljV0xd",
        "outputId": "b3596dff-b86c-4f89-8322-729dc865123c"
      },
      "outputs": [
        {
          "name": "stdout",
          "output_type": "stream",
          "text": [
            "Device: cuda\n"
          ]
        }
      ],
      "source": [
        "# ✅ GPU seulement\n",
        "device = torch.device(\"cuda\" if torch.cuda.is_available() else \"cpu\")\n",
        "print(\"Device:\", device)"
      ]
    },
    {
      "cell_type": "markdown",
      "id": "hUFyzWDFV-ea",
      "metadata": {
        "id": "hUFyzWDFV-ea"
      },
      "source": [
        "## <span style=\"color: #28A745;\">**Chargement des Données**</span>"
      ]
    },
    {
      "cell_type": "code",
      "execution_count": 32,
      "id": "APU8OV_aWDGo",
      "metadata": {
        "id": "APU8OV_aWDGo"
      },
      "outputs": [],
      "source": [
        "# 📁 Chargement des données\n",
        "df = pd.read_csv(\"/content/Results/Comments_clean.csv\")\n",
        "df = df.dropna(subset=[\"Comments\"])"
      ]
    },
    {
      "cell_type": "markdown",
      "id": "dpgLkOzNWIfI",
      "metadata": {
        "id": "dpgLkOzNWIfI"
      },
      "source": [
        "## <span style=\"color: #28A745;\">**Encodage des étiquettes**</span>"
      ]
    },
    {
      "cell_type": "code",
      "execution_count": 33,
      "id": "4skFs0KGWSUa",
      "metadata": {
        "id": "4skFs0KGWSUa"
      },
      "outputs": [],
      "source": [
        "# 🎯 Encodage des étiquettes\n",
        "from sklearn.preprocessing import LabelEncoder\n",
        "label_encoder = LabelEncoder()\n",
        "df[\"Sentiments_encoded\"] = label_encoder.fit_transform(df[\"Sentiments\"])"
      ]
    },
    {
      "cell_type": "markdown",
      "id": "v-EKAf3OWTy0",
      "metadata": {
        "id": "v-EKAf3OWTy0"
      },
      "source": [
        "## <span style=\"color: #28A745;\">**Division des données**</span>"
      ]
    },
    {
      "cell_type": "code",
      "execution_count": 34,
      "id": "o7En_Ga7Wb11",
      "metadata": {
        "id": "o7En_Ga7Wb11"
      },
      "outputs": [],
      "source": [
        "# ✂️ Division des données\n",
        "X_temp, X_test, y_temp, y_test = train_test_split(df[\"Comments\"], df[\"Sentiments_encoded\"], test_size=0.2, random_state=42, stratify=df[\"Sentiments_encoded\"])\n",
        "X_train, X_val, y_train, y_val = train_test_split(X_temp, y_temp, test_size=0.125, random_state=42, stratify=y_temp)  # 0.125 * 0.8 = 0.1"
      ]
    },
    {
      "cell_type": "markdown",
      "id": "XfXBLThsWfvm",
      "metadata": {
        "id": "XfXBLThsWfvm"
      },
      "source": [
        "## <span style=\"color: #28A745;\">**Vectorisation avec CountVectorizer**</span>"
      ]
    },
    {
      "cell_type": "code",
      "execution_count": 35,
      "id": "VfqwEF1YWnCb",
      "metadata": {
        "id": "VfqwEF1YWnCb"
      },
      "outputs": [],
      "source": [
        "# 🧠 Vectorisation avec CountVectorizer\n",
        "vectorizer = CountVectorizer(max_features=5000, ngram_range=(1, 2))\n",
        "vectorizer.fit(X_train)\n",
        "X_train_vec = vectorizer.transform(X_train).toarray()\n",
        "X_val_vec = vectorizer.transform(X_val).toarray()\n",
        "X_test_vec = vectorizer.transform(X_test).toarray()"
      ]
    },
    {
      "cell_type": "markdown",
      "id": "SvJFlVdcWxB2",
      "metadata": {
        "id": "SvJFlVdcWxB2"
      },
      "source": [
        "## <span style=\"color: #28A745;\">**Dataset personnalisé**</span>"
      ]
    },
    {
      "cell_type": "code",
      "execution_count": 36,
      "id": "DOCO1Y-MWwid",
      "metadata": {
        "id": "DOCO1Y-MWwid"
      },
      "outputs": [],
      "source": [
        "# 📦 Dataset personnalisé\n",
        "class CommentDataset(Dataset):\n",
        "    def __init__(self, X, y):\n",
        "        self.X = torch.tensor(X, dtype=torch.float32)\n",
        "        self.y = torch.tensor(y.values, dtype=torch.long)\n",
        "    def __len__(self):\n",
        "        return len(self.X)\n",
        "    def __getitem__(self, idx):\n",
        "        return self.X[idx], self.y[idx]\n",
        "\n",
        "train_dataset = CommentDataset(X_train_vec, y_train)\n",
        "val_dataset = CommentDataset(X_val_vec, y_val)\n",
        "test_dataset = CommentDataset(X_test_vec, y_test)\n",
        "\n",
        "train_loader = DataLoader(train_dataset, batch_size=32, shuffle=True)\n",
        "val_loader = DataLoader(val_dataset, batch_size=32)\n",
        "test_loader = DataLoader(test_dataset, batch_size=32)"
      ]
    },
    {
      "cell_type": "markdown",
      "id": "_8MadSv0W6VZ",
      "metadata": {
        "id": "_8MadSv0W6VZ"
      },
      "source": [
        "## <span style=\"color: #28A745;\">**Entraînement avec LSTM**</span>"
      ]
    },
    {
      "cell_type": "code",
      "execution_count": 108,
      "id": "JgofH895qF94",
      "metadata": {
        "colab": {
          "base_uri": "https://localhost:8080/"
        },
        "id": "JgofH895qF94",
        "outputId": "302aaa7a-6716-44f6-ef53-b80b24f5d5e7"
      },
      "outputs": [
        {
          "name": "stderr",
          "output_type": "stream",
          "text": [
            "Epoch 1 [Training]: 100%|██████████| 80/80 [00:00<00:00, 141.24it/s, loss=1.22]\n"
          ]
        },
        {
          "name": "stdout",
          "output_type": "stream",
          "text": [
            "\n",
            "Epoch 1 - Train Loss: 1.0712, Val Loss: 1.0136, Train Acc: 0.4350, Val Acc: 0.4448\n"
          ]
        },
        {
          "name": "stderr",
          "output_type": "stream",
          "text": [
            "Epoch 2 [Training]: 100%|██████████| 80/80 [00:00<00:00, 142.59it/s, loss=0.998]\n"
          ]
        },
        {
          "name": "stdout",
          "output_type": "stream",
          "text": [
            "\n",
            "Epoch 2 - Train Loss: 0.9111, Val Loss: 0.8671, Train Acc: 0.6255, Val Acc: 0.6713\n"
          ]
        },
        {
          "name": "stderr",
          "output_type": "stream",
          "text": [
            "Epoch 3 [Training]: 100%|██████████| 80/80 [00:00<00:00, 138.66it/s, loss=0.764]\n"
          ]
        },
        {
          "name": "stdout",
          "output_type": "stream",
          "text": [
            "\n",
            "Epoch 3 - Train Loss: 0.7680, Val Loss: 0.7773, Train Acc: 0.8276, Val Acc: 0.7928\n"
          ]
        },
        {
          "name": "stderr",
          "output_type": "stream",
          "text": [
            "Epoch 4 [Training]: 100%|██████████| 80/80 [00:00<00:00, 183.51it/s, loss=0.565]\n"
          ]
        },
        {
          "name": "stdout",
          "output_type": "stream",
          "text": [
            "\n",
            "Epoch 4 - Train Loss: 0.6739, Val Loss: 0.7378, Train Acc: 0.8960, Val Acc: 0.8260\n"
          ]
        },
        {
          "name": "stderr",
          "output_type": "stream",
          "text": [
            "Epoch 5 [Training]: 100%|██████████| 80/80 [00:00<00:00, 176.25it/s, loss=1.44]\n"
          ]
        },
        {
          "name": "stdout",
          "output_type": "stream",
          "text": [
            "\n",
            "Epoch 5 - Train Loss: 0.6372, Val Loss: 0.7198, Train Acc: 0.9272, Val Acc: 0.8398\n"
          ]
        },
        {
          "name": "stderr",
          "output_type": "stream",
          "text": [
            "Epoch 6 [Training]: 100%|██████████| 80/80 [00:00<00:00, 180.89it/s, loss=0.723]\n"
          ]
        },
        {
          "name": "stdout",
          "output_type": "stream",
          "text": [
            "\n",
            "Epoch 6 - Train Loss: 0.6182, Val Loss: 0.7178, Train Acc: 0.9415, Val Acc: 0.8370\n"
          ]
        },
        {
          "name": "stderr",
          "output_type": "stream",
          "text": [
            "Epoch 7 [Training]: 100%|██████████| 80/80 [00:00<00:00, 174.23it/s, loss=0.559]\n"
          ]
        },
        {
          "name": "stdout",
          "output_type": "stream",
          "text": [
            "\n",
            "Epoch 7 - Train Loss: 0.6088, Val Loss: 0.7125, Train Acc: 0.9470, Val Acc: 0.8343\n"
          ]
        },
        {
          "name": "stderr",
          "output_type": "stream",
          "text": [
            "Epoch 8 [Training]: 100%|██████████| 80/80 [00:00<00:00, 186.10it/s, loss=0.551]\n"
          ]
        },
        {
          "name": "stdout",
          "output_type": "stream",
          "text": [
            "\n",
            "Epoch 8 - Train Loss: 0.6020, Val Loss: 0.7093, Train Acc: 0.9541, Val Acc: 0.8425\n"
          ]
        },
        {
          "name": "stderr",
          "output_type": "stream",
          "text": [
            "Epoch 9 [Training]: 100%|██████████| 80/80 [00:00<00:00, 181.34it/s, loss=0.551]\n"
          ]
        },
        {
          "name": "stdout",
          "output_type": "stream",
          "text": [
            "\n",
            "Epoch 9 - Train Loss: 0.5985, Val Loss: 0.7075, Train Acc: 0.9573, Val Acc: 0.8398\n"
          ]
        },
        {
          "name": "stderr",
          "output_type": "stream",
          "text": [
            "Epoch 10 [Training]: 100%|██████████| 80/80 [00:00<00:00, 180.42it/s, loss=0.576]\n"
          ]
        },
        {
          "name": "stdout",
          "output_type": "stream",
          "text": [
            "\n",
            "Epoch 10 - Train Loss: 0.5938, Val Loss: 0.7111, Train Acc: 0.9616, Val Acc: 0.8260\n"
          ]
        },
        {
          "name": "stderr",
          "output_type": "stream",
          "text": [
            "Epoch 11 [Training]: 100%|██████████| 80/80 [00:00<00:00, 181.49it/s, loss=0.552]\n"
          ]
        },
        {
          "name": "stdout",
          "output_type": "stream",
          "text": [
            "\n",
            "Epoch 11 - Train Loss: 0.5912, Val Loss: 0.7090, Train Acc: 0.9624, Val Acc: 0.8370\n",
            "⛔ Early stopping triggered\n"
          ]
        }
      ],
      "source": [
        "# 🧱 Modèle LSTM\n",
        "class SentimentLSTM(nn.Module):\n",
        "    def __init__(self, input_dim, hidden_dim, output_dim, n_layers, dropout):\n",
        "        super(SentimentLSTM, self).__init__()\n",
        "        self.lstm = nn.LSTM(input_dim, hidden_dim, num_layers=n_layers, batch_first=True, dropout=dropout)\n",
        "        self.dropout = nn.Dropout(dropout)\n",
        "        self.fc = nn.Linear(hidden_dim, output_dim)\n",
        "        self.softmax = nn.Softmax(dim=1)\n",
        "\n",
        "    def forward(self, x):\n",
        "        x = x.unsqueeze(1)  # [batch_size, 1, input_dim]\n",
        "        lstm_out, _ = self.lstm(x)\n",
        "        out = self.dropout(lstm_out[:, -1, :])\n",
        "        out = self.fc(out)\n",
        "        return self.softmax(out)\n",
        "\n",
        "input_dim = X_train_vec.shape[1]\n",
        "model = SentimentLSTM(input_dim=input_dim, hidden_dim=128, output_dim=3, n_layers=2, dropout=0.5)\n",
        "model = model.to(device)\n",
        "\n",
        "# 🔧 Entraînement\n",
        "criterion = nn.CrossEntropyLoss()\n",
        "optimizer = torch.optim.Adam(model.parameters(), lr=0.0009, weight_decay=1e-5, eps=0.00001)\n",
        "\n",
        "train_losses, val_losses, train_accuracies, val_accuracies = [], [], [], []\n",
        "best_val_loss = float('inf')\n",
        "patience = 2  # Nombre d'époques sans amélioration avant l'arrêt anticipé\n",
        "epochs_no_improve = 0\n",
        "\n",
        "for epoch in range(100):\n",
        "    model.train()\n",
        "    running_loss, correct, total = 0.0, 0, 0\n",
        "    loop = tqdm(train_loader, desc=f\"Epoch {epoch+1} [Training]\")\n",
        "    for inputs, labels in loop:\n",
        "        inputs, labels = inputs.to(device), labels.to(device)\n",
        "        optimizer.zero_grad()\n",
        "        outputs = model(inputs)\n",
        "        loss = criterion(outputs, labels)\n",
        "        loss.backward()\n",
        "        optimizer.step()\n",
        "\n",
        "        running_loss += loss.item() * inputs.size(0)\n",
        "        _, preds = torch.max(outputs, 1)\n",
        "        correct += (preds == labels).sum().item()\n",
        "        total += labels.size(0)\n",
        "        loop.set_postfix(loss=loss.item())\n",
        "\n",
        "    train_loss = running_loss / len(train_loader.dataset)\n",
        "    train_acc = correct / total\n",
        "    train_losses.append(train_loss)\n",
        "    train_accuracies.append(train_acc)\n",
        "\n",
        "    # Validation\n",
        "    model.eval()\n",
        "    val_loss, correct, total = 0.0, 0, 0\n",
        "    with torch.no_grad():\n",
        "        for inputs, labels in val_loader:\n",
        "            inputs, labels = inputs.to(device), labels.to(device)\n",
        "            outputs = model(inputs)\n",
        "            loss = criterion(outputs, labels)\n",
        "            val_loss += loss.item() * inputs.size(0)\n",
        "            _, preds = torch.max(outputs, 1)\n",
        "            correct += (preds == labels).sum().item()\n",
        "            total += labels.size(0)\n",
        "\n",
        "    val_loss = val_loss / len(val_loader.dataset)\n",
        "    val_acc = correct / total\n",
        "    val_losses.append(val_loss)\n",
        "    val_accuracies.append(val_acc)\n",
        "\n",
        "    print(f\"\\nEpoch {epoch+1} - Train Loss: {train_loss:.4f}, Val Loss: {val_loss:.4f}, Train Acc: {train_acc:.4f}, Val Acc: {val_acc:.4f}\")\n",
        "\n",
        "    # Early stopping\n",
        "    if val_loss < best_val_loss:\n",
        "        best_val_loss = val_loss\n",
        "        epochs_no_improve = 0\n",
        "        torch.save(model.state_dict(), \"/content/Results/best_model_LSTM.pt\")\n",
        "    else:\n",
        "        epochs_no_improve += 1\n",
        "        if epochs_no_improve == patience:\n",
        "            print(\"⛔ Early stopping triggered\")\n",
        "            break"
      ]
    },
    {
      "cell_type": "markdown",
      "id": "-EyPtSYaX0JU",
      "metadata": {
        "id": "-EyPtSYaX0JU"
      },
      "source": [
        "## <span style=\"color: #28A745;\">**Graphique des pertes**</span>"
      ]
    },
    {
      "cell_type": "code",
      "execution_count": null,
      "id": "47URm_VvX-10",
      "metadata": {
        "colab": {
          "base_uri": "https://localhost:8080/",
          "height": 487
        },
        "id": "47URm_VvX-10",
        "outputId": "d6a72e21-a213-4555-d9aa-1619afcc591e"
      },
      "outputs": [
        {
          "data": {
            "image/png": "[encoded data removed]",
            "text/plain": [
              "<Figure size 1000x500 with 1 Axes>"
            ]
          },
          "metadata": {},
          "output_type": "display_data"
        }
      ],
      "source": [
        "# 📉 Graphique des pertes\n",
        "plt.figure(figsize=(10, 5))\n",
        "plt.plot(train_losses, label=\"Training Loss\", color='#28A745')\n",
        "plt.plot(val_losses, label=\"Validation Loss\", color='#E30613')\n",
        "plt.xlabel(\"Epochs\")\n",
        "plt.ylabel(\"Loss\")\n",
        "plt.title(\"Training vs Validation Loss - LSTM\")\n",
        "plt.legend()\n",
        "plt.show()"
      ]
    },
    {
      "cell_type": "markdown",
      "id": "3nBEMHnUYIZB",
      "metadata": {
        "id": "3nBEMHnUYIZB"
      },
      "source": [
        "## <span style=\"color: #28A745;\">**Évaluation finale**</span>"
      ]
    },
    {
      "cell_type": "code",
      "execution_count": 110,
      "id": "wiOjH8zvYRqt",
      "metadata": {
        "colab": {
          "base_uri": "https://localhost:8080/"
        },
        "id": "wiOjH8zvYRqt",
        "outputId": "419d8dcc-cc94-4eb1-c8db-1c547c0fa5fd"
      },
      "outputs": [
        {
          "name": "stdout",
          "output_type": "stream",
          "text": [
            "\n",
            "🔍 Rapport de classification pour LSTM:\n",
            "              precision    recall  f1-score   support\n",
            "\n",
            "     Negatif       0.91      0.83      0.87       172\n",
            "      Neutre       0.78      0.83      0.81       236\n",
            "     Positif       0.91      0.91      0.91       315\n",
            "\n",
            "    accuracy                           0.87       723\n",
            "   macro avg       0.87      0.86      0.86       723\n",
            "weighted avg       0.87      0.87      0.87       723\n",
            "\n"
          ]
        }
      ],
      "source": [
        "# ✅ Évaluation finale\n",
        "model.load_state_dict(torch.load(\"/content/Results/best_model_LSTM.pt\"))\n",
        "model.eval()\n",
        "\n",
        "all_preds, all_labels = [], []\n",
        "with torch.no_grad():\n",
        "    for inputs, labels in test_loader:\n",
        "        inputs = inputs.to(device)\n",
        "        outputs = model(inputs)\n",
        "        _, preds = torch.max(outputs, 1)\n",
        "        all_preds.extend(preds.cpu().numpy())\n",
        "        all_labels.extend(labels.numpy())\n",
        "\n",
        "# 📊 Rapport de classification\n",
        "print(\"\\n🔍 Rapport de classification pour LSTM:\")\n",
        "print(classification_report(all_labels, all_preds, target_names=label_encoder.classes_))"
      ]
    },
    {
      "cell_type": "markdown",
      "id": "d5roWJiOYX5S",
      "metadata": {
        "id": "d5roWJiOYX5S"
      },
      "source": [
        "## <span style=\"color: #28A745;\">**Matrice de confusion**</span>"
      ]
    },
    {
      "cell_type": "code",
      "execution_count": 111,
      "id": "KyAPtL7iYW6L",
      "metadata": {
        "colab": {
          "base_uri": "https://localhost:8080/",
          "height": 487
        },
        "id": "KyAPtL7iYW6L",
        "outputId": "18847b4c-0da7-4407-9478-5538acec23fa"
      },
      "outputs": [
        {
          "data": {
            "image/png": "[encoded data removed]",
            "text/plain": [
              "<Figure size 600x500 with 2 Axes>"
            ]
          },
          "metadata": {},
          "output_type": "display_data"
        }
      ],
      "source": [
        "# 📌 Matrice de confusion\n",
        "cm = confusion_matrix(all_labels, all_preds)\n",
        "plt.figure(figsize=(6, 5))\n",
        "sns.heatmap(cm, annot=True, fmt=\"d\", cmap=\"Reds\", xticklabels=label_encoder.classes_, yticklabels=label_encoder.classes_)\n",
        "plt.xlabel(\"Prédictions\")\n",
        "plt.ylabel(\"Vérités\")\n",
        "plt.title(\"Matrice de confusion - LSTM\")\n",
        "plt.show()"
      ]
    },
    {
      "cell_type": "markdown",
      "id": "0fcc10c4",
      "metadata": {
        "id": "0fcc10c4"
      },
      "source": [
        "<h3 style=\"text-align: center; color: #E30613;\"><b><i>Développé par: OUARAS Khelil Rafik</i></b></h3>"
      ]
    }
  ],
  "metadata": {
    "accelerator": "GPU",
    "colab": {
      "gpuType": "T4",
      "provenance": []
    },
    "kernelspec": {
      "display_name": "Python 3",
      "name": "python3"
    },
    "language_info": {
      "codemirror_mode": {
        "name": "ipython",
        "version": 3
      },
      "file_extension": ".py",
      "mimetype": "text/x-python",
      "name": "python",
      "nbconvert_exporter": "python",
      "pygments_lexer": "ipython3",
      "version": "3.12.3"
    }
  },
  "nbformat": 4,
  "nbformat_minor": 5
}
