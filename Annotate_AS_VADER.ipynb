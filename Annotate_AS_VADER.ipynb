{
  "cells": [
    {
      "cell_type": "markdown",
      "id": "f9f75fdb",
      "metadata": {
        "id": "f9f75fdb"
      },
      "source": [
        "<h1 style=\"text-align: center; color: #E30613;\"><b><i>Annotation Automatique avec VADER</i></b></h1>\n",
        "\n",
        "<p style=\"text-align: justify;\">\n",
        "Ce notebook présente une solution complète pour l'annotation automatique des sentiments à l'aide de l'outil <b>VADER (Valence Aware Dictionary and sEntiment Reasoner)</b>.\n",
        "L'objectif est de traiter des commentaires textuels, d'analyser leurs sentiments (positif, négatif ou neutre) et d'évaluer les performances du modèle.\n",
        "</p>\n",
        "\n",
        "<h3>🔍 Étapes Principales :</h3>\n",
        "<ol>\n",
        "    <li><b>Chargement des Données :</b> Importation des commentaires et du lexique personnalisé.</li>\n",
        "    <li><b>Préparation des Modèles NLP :</b> Configuration des modèles linguistiques pour le français et l'anglais.</li>\n",
        "    <li><b>Personnalisation de VADER :</b> Intégration d'un lexique personnalisé et gestion des bigrams.</li>\n",
        "    <li><b>Annotation des Sentiments :</b> Analyse des sentiments des commentaires en utilisant VADER.</li>\n",
        "    <li><b>Évaluation des Résultats :</b> Calcul des métriques de performance et génération de la matrice de confusion.</li>\n",
        "    <li><b>Enregistrement des Résultats :</b> Sauvegarde des annotations et des métriques dans des fichiers.</li>\n",
        "</ol>\n",
        "\n",
        "<p style=\"text-align: justify;\">\n",
        "Ce workflow est conçu pour être extensible et adaptable à différents jeux de données et langues.\n",
        "Il utilise des bibliothèques populaires telles que <b>spaCy</b>, <b>nltk</b>.\n",
        "</p>"
      ]
    },
    {
      "cell_type": "markdown",
      "id": "77644d5c",
      "metadata": {
        "id": "77644d5c"
      },
      "source": [
        "## <span style=\"color: #28A745;\">**Bibiliothèques nécessaires**</span>"
      ]
    },
    {
      "cell_type": "code",
      "execution_count": 1,
      "id": "9c90768b",
      "metadata": {
        "colab": {
          "base_uri": "https://localhost:8080/"
        },
        "execution": {
          "iopub.execute_input": "2025-03-05T01:39:25.818024Z",
          "iopub.status.busy": "2025-03-05T01:39:25.817678Z",
          "iopub.status.idle": "2025-03-05T01:39:50.275549Z",
          "shell.execute_reply": "2025-03-05T01:39:50.274469Z"
        },
        "id": "9c90768b",
        "outputId": "e1a06bcb-49f4-4ead-cc5e-cf5513b88e46",
        "papermill": {
          "duration": 24.4637,
          "end_time": "2025-03-05T01:39:50.277167",
          "exception": false,
          "start_time": "2025-03-05T01:39:25.813467",
          "status": "completed"
        },
        "tags": []
      },
      "outputs": [
        {
          "name": "stdout",
          "output_type": "stream",
          "text": [
            "\u001b[2K   \u001b[90m━━━━━━━━━━━━━━━━━━━━━━━━━━━━━━━━━━━━━━━━\u001b[0m \u001b[32m126.0/126.0 kB\u001b[0m \u001b[31m9.1 MB/s\u001b[0m eta \u001b[36m0:00:00\u001b[0m\n",
            "\u001b[2K   \u001b[90m━━━━━━━━━━━━━━━━━━━━━━━━━━━━━━━━━━━━━━━━\u001b[0m \u001b[32m363.4/363.4 MB\u001b[0m \u001b[31m1.5 MB/s\u001b[0m eta \u001b[36m0:00:00\u001b[0m\n",
            "\u001b[2K   \u001b[90m━━━━━━━━━━━━━━━━━━━━━━━━━━━━━━━━━━━━━━━━\u001b[0m \u001b[32m13.8/13.8 MB\u001b[0m \u001b[31m80.1 MB/s\u001b[0m eta \u001b[36m0:00:00\u001b[0m\n",
            "\u001b[2K   \u001b[90m━━━━━━━━━━━━━━━━━━━━━━━━━━━━━━━━━━━━━━━━\u001b[0m \u001b[32m24.6/24.6 MB\u001b[0m \u001b[31m65.0 MB/s\u001b[0m eta \u001b[36m0:00:00\u001b[0m\n",
            "\u001b[2K   \u001b[90m━━━━━━━━━━━━━━━━━━━━━━━━━━━━━━━━━━━━━━━━\u001b[0m \u001b[32m883.7/883.7 kB\u001b[0m \u001b[31m30.7 MB/s\u001b[0m eta \u001b[36m0:00:00\u001b[0m\n",
            "\u001b[2K   \u001b[90m━━━━━━━━━━━━━━━━━━━━━━━━━━━━━━━━━━━━━━━━\u001b[0m \u001b[32m664.8/664.8 MB\u001b[0m \u001b[31m2.8 MB/s\u001b[0m eta \u001b[36m0:00:00\u001b[0m\n",
            "\u001b[2K   \u001b[90m━━━━━━━━━━━━━━━━━━━━━━━━━━━━━━━━━━━━━━━━\u001b[0m \u001b[32m211.5/211.5 MB\u001b[0m \u001b[31m5.5 MB/s\u001b[0m eta \u001b[36m0:00:00\u001b[0m\n",
            "\u001b[2K   \u001b[90m━━━━━━━━━━━━━━━━━━━━━━━━━━━━━━━━━━━━━━━━\u001b[0m \u001b[32m56.3/56.3 MB\u001b[0m \u001b[31m12.2 MB/s\u001b[0m eta \u001b[36m0:00:00\u001b[0m\n",
            "\u001b[2K   \u001b[90m━━━━━━━━━━━━━━━━━━━━━━━━━━━━━━━━━━━━━━━━\u001b[0m \u001b[32m127.9/127.9 MB\u001b[0m \u001b[31m7.5 MB/s\u001b[0m eta \u001b[36m0:00:00\u001b[0m\n",
            "\u001b[2K   \u001b[90m━━━━━━━━━━━━━━━━━━━━━━━━━━━━━━━━━━━━━━━━\u001b[0m \u001b[32m207.5/207.5 MB\u001b[0m \u001b[31m6.1 MB/s\u001b[0m eta \u001b[36m0:00:00\u001b[0m\n",
            "\u001b[2K   \u001b[90m━━━━━━━━━━━━━━━━━━━━━━━━━━━━━━━━━━━━━━━━\u001b[0m \u001b[32m21.1/21.1 MB\u001b[0m \u001b[31m87.5 MB/s\u001b[0m eta \u001b[36m0:00:00\u001b[0m\n",
            "\u001b[2K   \u001b[90m━━━━━━━━━━━━━━━━━━━━━━━━━━━━━━━━━━━━━━━━\u001b[0m \u001b[32m292.9/292.9 kB\u001b[0m \u001b[31m21.3 MB/s\u001b[0m eta \u001b[36m0:00:00\u001b[0m\n",
            "\u001b[?25h\u001b[38;5;2m✔ Download and installation successful\u001b[0m\n",
            "You can now load the package via spacy.load('fr_core_news_sm')\n",
            "\u001b[38;5;3m⚠ Restart to reload dependencies\u001b[0m\n",
            "If you are in a Jupyter or Colab notebook, you may need to restart Python in\n",
            "order to load all the package's dependencies. You can do this by selecting the\n",
            "'Restart kernel' or 'Restart runtime' option.\n",
            "\u001b[38;5;2m✔ Download and installation successful\u001b[0m\n",
            "You can now load the package via spacy.load('en_core_web_sm')\n",
            "\u001b[38;5;3m⚠ Restart to reload dependencies\u001b[0m\n",
            "If you are in a Jupyter or Colab notebook, you may need to restart Python in\n",
            "order to load all the package's dependencies. You can do this by selecting the\n",
            "'Restart kernel' or 'Restart runtime' option.\n"
          ]
        }
      ],
      "source": [
        "%pip install -q nltk vaderSentiment spacy torch tqdm arabic-reshaper python-bidi\n",
        "\n",
        "# Télécharger les modèles linguistiques de spaCy pour le français et l'anglais\n",
        "import spacy\n",
        "\n",
        "spacy.cli.download(\"fr_core_news_sm\")  # Modèle pour le français\n",
        "spacy.cli.download(\"en_core_web_sm\")  # Modèle pour l'anglais"
      ]
    },
    {
      "cell_type": "code",
      "execution_count": 2,
      "id": "329fa5a9",
      "metadata": {
        "colab": {
          "base_uri": "https://localhost:8080/"
        },
        "execution": {
          "iopub.execute_input": "2025-03-05T01:39:50.287595Z",
          "iopub.status.busy": "2025-03-05T01:39:50.287341Z",
          "iopub.status.idle": "2025-03-05T01:39:55.844838Z",
          "shell.execute_reply": "2025-03-05T01:39:55.843923Z"
        },
        "id": "329fa5a9",
        "outputId": "755eca61-530f-4a80-9dad-c6f7a1a95f34",
        "papermill": {
          "duration": 5.564306,
          "end_time": "2025-03-05T01:39:55.846513",
          "exception": false,
          "start_time": "2025-03-05T01:39:50.282207",
          "status": "completed"
        },
        "tags": []
      },
      "outputs": [
        {
          "name": "stderr",
          "output_type": "stream",
          "text": [
            "[nltk_data] Downloading package punkt to /root/nltk_data...\n",
            "[nltk_data]   Unzipping tokenizers/punkt.zip.\n"
          ]
        }
      ],
      "source": [
        "import pandas as pd\n",
        "import os\n",
        "from tqdm import tqdm\n",
        "from vaderSentiment.vaderSentiment import SentimentIntensityAnalyzer\n",
        "from nltk.util import ngrams\n",
        "from sklearn.metrics import accuracy_score, precision_score, recall_score, classification_report, confusion_matrix\n",
        "import seaborn as sns\n",
        "import matplotlib.pyplot as plt\n",
        "\n",
        "# Chargement des Modèles NLP\n",
        "import nltk\n",
        "nltk.download(\"punkt\")\n",
        "nlp_fr = spacy.load(\"fr_core_news_sm\")  # Modèle français\n",
        "nlp_en = spacy.load(\"en_core_web_sm\")   # Modèle anglais"
      ]
    },
    {
      "cell_type": "markdown",
      "id": "79e3c43e",
      "metadata": {
        "id": "79e3c43e"
      },
      "source": [
        "## <span style=\"color: #E30613;\">**1. Chargement des Données**</span>"
      ]
    },
    {
      "cell_type": "code",
      "execution_count": 3,
      "id": "ed10f284",
      "metadata": {
        "colab": {
          "base_uri": "https://localhost:8080/"
        },
        "execution": {
          "iopub.execute_input": "2025-03-05T01:39:55.856793Z",
          "iopub.status.busy": "2025-03-05T01:39:55.856379Z",
          "iopub.status.idle": "2025-03-05T01:39:56.501752Z",
          "shell.execute_reply": "2025-03-05T01:39:56.500870Z"
        },
        "id": "ed10f284",
        "outputId": "0dbcb521-6d48-4060-956e-cce9f3ad048a",
        "papermill": {
          "duration": 0.65205,
          "end_time": "2025-03-05T01:39:56.503319",
          "exception": false,
          "start_time": "2025-03-05T01:39:55.851269",
          "status": "completed"
        },
        "tags": []
      },
      "outputs": [
        {
          "name": "stdout",
          "output_type": "stream",
          "text": [
            "✅ Lexique personnalisé chargé avec succès !\n"
          ]
        },
        {
          "name": "stderr",
          "output_type": "stream",
          "text": [
            "<ipython-input-3-6011ab0ee51b>:16: FutureWarning: Series.__getitem__ treating keys as positions is deprecated. In a future version, integer keys will always be treated as labels (consistent with DataFrame behavior). To access a value by position, use `ser.iloc[pos]`\n",
            "  word, score = row[0], row[1]  # Suppose que la 1ère colonne est le mot et la 2ème le score\n"
          ]
        }
      ],
      "source": [
        "# Charger le lexique et les commentaires\n",
        "comments_path = \"/content/Results/Comments_clean.csv\"\n",
        "lexicon_xlsx_path = \"/content/data/Costum_lexicon.xlsx\"\n",
        "\n",
        "# Lire les fichiers\n",
        "comments_df = pd.read_csv(comments_path)\n",
        "df_lexicon = pd.read_excel(lexicon_xlsx_path)\n",
        "\n",
        "# Vérifier les colonnes\n",
        "if \"Sentiments\" not in comments_df.columns:\n",
        "    raise ValueError(\"La colonne 'Sentiments' est absente.\")\n",
        "\n",
        "# Charger le lexique personnalisé\n",
        "custom_lexicon = {}\n",
        "for _, row in df_lexicon.iterrows():\n",
        "    word, score = row[0], row[1]  # Suppose que la 1ère colonne est le mot et la 2ème le score\n",
        "    custom_lexicon[word] = float(score)\n",
        "\n",
        "print(\"✅ Lexique personnalisé chargé avec succès !\")"
      ]
    },
    {
      "cell_type": "markdown",
      "id": "07562eeb",
      "metadata": {
        "id": "07562eeb"
      },
      "source": [
        "## <span style=\"color: #E30613;\">**2. Personnalisation de VADER avec bigrams**</span>"
      ]
    },
    {
      "cell_type": "code",
      "execution_count": 4,
      "id": "95f3ef92",
      "metadata": {
        "execution": {
          "iopub.execute_input": "2025-03-05T01:40:02.451339Z",
          "iopub.status.busy": "2025-03-05T01:40:02.451044Z",
          "iopub.status.idle": "2025-03-05T01:40:02.526151Z",
          "shell.execute_reply": "2025-03-05T01:40:02.525086Z"
        },
        "id": "95f3ef92",
        "papermill": {
          "duration": 0.082522,
          "end_time": "2025-03-05T01:40:02.527742",
          "exception": false,
          "start_time": "2025-03-05T01:40:02.445220",
          "status": "completed"
        },
        "tags": []
      },
      "outputs": [],
      "source": [
        "# Générer les bigrams et les ajouter au lexique\n",
        "bigram_lexicon = {}\n",
        "for phrase in custom_lexicon.keys():\n",
        "    tokens = phrase.split()  # Séparer en mots\n",
        "    if len(tokens) > 1:  # Si c'est un bigramme\n",
        "        bigram_lexicon[\"_\".join(tokens)] = custom_lexicon[phrase]  # Ajouter au lexique sous forme \"mot1_mot2\"\n",
        "\n",
        "# Fusionner les deux lexiques\n",
        "custom_lexicon.update(bigram_lexicon)\n",
        "\n",
        "# Initialiser VADER avec le lexique personnalisé\n",
        "analyzer = SentimentIntensityAnalyzer()\n",
        "analyzer.lexicon.update(custom_lexicon)"
      ]
    },
    {
      "cell_type": "markdown",
      "id": "11c757a2",
      "metadata": {
        "id": "11c757a2"
      },
      "source": [
        "## <span style=\"color: #E30613;\">**3. Fonction de Tokenization (inclut les bigrams)**</span>"
      ]
    },
    {
      "cell_type": "code",
      "execution_count": 5,
      "id": "e86a8729",
      "metadata": {
        "colab": {
          "base_uri": "https://localhost:8080/"
        },
        "execution": {
          "iopub.execute_input": "2025-03-05T01:40:09.858313Z",
          "iopub.status.busy": "2025-03-05T01:40:09.858060Z",
          "iopub.status.idle": "2025-03-05T01:40:09.863634Z",
          "shell.execute_reply": "2025-03-05T01:40:09.862897Z"
        },
        "id": "e86a8729",
        "outputId": "25a98f02-ecc5-4ff4-cf64-5ab1bf2337e6",
        "papermill": {
          "duration": 0.01225,
          "end_time": "2025-03-05T01:40:09.864841",
          "exception": false,
          "start_time": "2025-03-05T01:40:09.852591",
          "status": "completed"
        },
        "tags": []
      },
      "outputs": [
        {
          "name": "stdout",
          "output_type": "stream",
          "text": [
            "✅ Lexique mis à jour avec les bigrammes !\n"
          ]
        }
      ],
      "source": [
        "def tokenize_text(text, lang=\"fr\"):\n",
        "    \"\"\"Tokenisation en mots et en bigrammes pour capturer le contexte.\"\"\"\n",
        "    if lang == \"fr\":\n",
        "        doc = nlp_fr(text)\n",
        "    else:\n",
        "        doc = nlp_en(text)\n",
        "\n",
        "    tokens = [token.text.lower() for token in doc if not token.is_punct]\n",
        "    bigrams = [\"_\".join(bigram) for bigram in ngrams(tokens, 2)]  # Convertir les bigrams en format \"mot1_mot2\"\n",
        "\n",
        "    return tokens + bigrams\n",
        "\n",
        "print(\"✅ Lexique mis à jour avec les bigrammes !\")"
      ]
    },
    {
      "cell_type": "markdown",
      "id": "3eb3f23f",
      "metadata": {
        "id": "3eb3f23f"
      },
      "source": [
        "## <span style=\"color: #E30613;\">**4. Fonction d'Annotation avec VADER**</span>"
      ]
    },
    {
      "cell_type": "code",
      "execution_count": 6,
      "id": "faea6c27",
      "metadata": {
        "execution": {
          "iopub.execute_input": "2025-03-05T01:40:09.875396Z",
          "iopub.status.busy": "2025-03-05T01:40:09.875173Z",
          "iopub.status.idle": "2025-03-05T01:40:09.879418Z",
          "shell.execute_reply": "2025-03-05T01:40:09.878756Z"
        },
        "id": "faea6c27",
        "papermill": {
          "duration": 0.01089,
          "end_time": "2025-03-05T01:40:09.880583",
          "exception": false,
          "start_time": "2025-03-05T01:40:09.869693",
          "status": "completed"
        },
        "tags": []
      },
      "outputs": [],
      "source": [
        "def analyze_sentiment(comment):\n",
        "    \"\"\"Analyse le sentiment d'un commentaire avec VADER en tenant compte des bigrams.\"\"\"\n",
        "    if not isinstance(comment, str) or comment.strip() == \"\":\n",
        "        return \"Neutre\"\n",
        "\n",
        "    tokens = tokenize_text(comment)  # Tokenisation en mots et bigrams\n",
        "    modified_comment = \" \".join(tokens)  # Reconstruire la phrase avec bigrams\n",
        "\n",
        "    scores = analyzer.polarity_scores(modified_comment)\n",
        "    if scores[\"compound\"] >= 0.05:\n",
        "        return \"Positif\"\n",
        "    elif scores[\"compound\"] <= -0.05:\n",
        "        return \"Negatif\"\n",
        "    else:\n",
        "        return \"Neutre\""
      ]
    },
    {
      "cell_type": "markdown",
      "id": "eca7fa8d",
      "metadata": {
        "id": "eca7fa8d"
      },
      "source": [
        "## <span style=\"color: #E30613;\">**5. Application du Modèle VADER**</span>"
      ]
    },
    {
      "cell_type": "code",
      "execution_count": 7,
      "id": "46adb542",
      "metadata": {
        "colab": {
          "base_uri": "https://localhost:8080/"
        },
        "execution": {
          "iopub.execute_input": "2025-03-05T01:40:09.906821Z",
          "iopub.status.busy": "2025-03-05T01:40:09.906548Z",
          "iopub.status.idle": "2025-03-05T01:40:20.536087Z",
          "shell.execute_reply": "2025-03-05T01:40:20.534975Z"
        },
        "id": "46adb542",
        "outputId": "ffdc78bf-abf2-4de9-b5d9-11307ddf4e23",
        "papermill": {
          "duration": 10.636754,
          "end_time": "2025-03-05T01:40:20.537750",
          "exception": false,
          "start_time": "2025-03-05T01:40:09.900996",
          "status": "completed"
        },
        "tags": []
      },
      "outputs": [
        {
          "name": "stdout",
          "output_type": "stream",
          "text": [
            "🔄 Annotation des sentiments...\n"
          ]
        },
        {
          "name": "stderr",
          "output_type": "stream",
          "text": [
            "100%|██████████| 3614/3614 [00:30<00:00, 117.84it/s]\n"
          ]
        }
      ],
      "source": [
        "print(\"🔄 Annotation des sentiments...\")\n",
        "comments_df[\"Predicted_Sentiment\"] = [analyze_sentiment(comment) for comment in tqdm(comments_df[\"Comments\"])]"
      ]
    },
    {
      "cell_type": "markdown",
      "id": "4294bdeb",
      "metadata": {
        "id": "4294bdeb"
      },
      "source": [
        "## <span style=\"color: #E30613;\">**6. Évaluation des Résultats**</span>"
      ]
    },
    {
      "cell_type": "code",
      "execution_count": 8,
      "id": "249a3a89",
      "metadata": {
        "colab": {
          "base_uri": "https://localhost:8080/",
          "height": 569
        },
        "execution": {
          "iopub.execute_input": "2025-03-05T01:40:20.557870Z",
          "iopub.status.busy": "2025-03-05T01:40:20.557606Z",
          "iopub.status.idle": "2025-03-05T01:40:20.903673Z",
          "shell.execute_reply": "2025-03-05T01:40:20.902976Z"
        },
        "id": "249a3a89",
        "outputId": "103e4da3-3fe7-493e-db58-747e5daa937b",
        "papermill": {
          "duration": 0.357231,
          "end_time": "2025-03-05T01:40:20.904906",
          "exception": false,
          "start_time": "2025-03-05T01:40:20.547675",
          "status": "completed"
        },
        "tags": []
      },
      "outputs": [
        {
          "data": {
            "image/png": "[encoded data removed]",
            "text/plain": [
              "<Figure size 800x600 with 2 Axes>"
            ]
          },
          "metadata": {},
          "output_type": "display_data"
        }
      ],
      "source": [
        "y_true = comments_df[\"Sentiments\"]\n",
        "y_pred = comments_df[\"Predicted_Sentiment\"]\n",
        "\n",
        "output_dir = \"/content/Results\"\n",
        "\n",
        "# Calcul des métriques\n",
        "accuracy = accuracy_score(y_true, y_pred) * 100  # Pourcentage\n",
        "precision = precision_score(y_true, y_pred, average=None) * 100\n",
        "recall = recall_score(y_true, y_pred, average=None) * 100\n",
        "\n",
        "# Générer la matrice de confusion\n",
        "labels = [\"Negatif\", \"Neutre\", \"Positif\"]\n",
        "cm = confusion_matrix(y_true, y_pred, labels=labels)\n",
        "\n",
        "# Tracer la matrice de confusion\n",
        "plt.figure(figsize=(8, 6))\n",
        "sns.heatmap(cm, annot=True, fmt=\"d\", cmap=\"Blues\", xticklabels=labels, yticklabels=labels)\n",
        "\n",
        "# Titres et labels\n",
        "plt.title(\"Matrice de Confusion avec VADER\", fontsize=14)\n",
        "plt.xlabel(\"Prédit\", fontsize=12)\n",
        "plt.ylabel(\"Réel\", fontsize=12)\n",
        "\n",
        "# Sauvegarde de la Matrice\n",
        "confusion_matrix_path = os.path.join(output_dir, \"confusion_matrix_VADER.png\")\n",
        "plt.savefig(confusion_matrix_path)\n",
        "plt.show()"
      ]
    },
    {
      "cell_type": "code",
      "execution_count": 9,
      "id": "c4674372",
      "metadata": {
        "colab": {
          "base_uri": "https://localhost:8080/"
        },
        "execution": {
          "iopub.execute_input": "2025-03-05T01:40:20.925520Z",
          "iopub.status.busy": "2025-03-05T01:40:20.925297Z",
          "iopub.status.idle": "2025-03-05T01:40:21.018323Z",
          "shell.execute_reply": "2025-03-05T01:40:21.017476Z"
        },
        "id": "c4674372",
        "outputId": "86594a4b-8d57-4416-9f30-c8b9933caa2d",
        "papermill": {
          "duration": 0.104332,
          "end_time": "2025-03-05T01:40:21.019466",
          "exception": false,
          "start_time": "2025-03-05T01:40:20.915134",
          "status": "completed"
        },
        "tags": []
      },
      "outputs": [
        {
          "name": "stdout",
          "output_type": "stream",
          "text": [
            "\n",
            "✅ Accuracy du modèle sur l'ensemble de test : 91.01 %\n",
            "\n",
            "              precision    recall  f1-score   support\n",
            "\n",
            "     Negatif       0.90      0.91      0.91       862\n",
            "      Neutre       0.88      0.85      0.86      1178\n",
            "     Positif       0.94      0.95      0.94      1574\n",
            "\n",
            "    accuracy                           0.91      3614\n",
            "   macro avg       0.91      0.91      0.91      3614\n",
            "weighted avg       0.91      0.91      0.91      3614\n",
            "\n"
          ]
        }
      ],
      "source": [
        "# Affichage des résultats\n",
        "print(f\"\\n✅ Accuracy du modèle sur l'ensemble de test : {round(accuracy, 2)} %\\n\")\n",
        "report = classification_report(y_true, y_pred)\n",
        "print(report)"
      ]
    },
    {
      "cell_type": "markdown",
      "id": "8064b3aa",
      "metadata": {
        "id": "8064b3aa"
      },
      "source": [
        "## <span style=\"color: #E30613;\">**7. Enregistrement des Résultats**</span>"
      ]
    },
    {
      "cell_type": "code",
      "execution_count": 10,
      "id": "d9f03ebb",
      "metadata": {
        "_kg_hide-input": false,
        "colab": {
          "base_uri": "https://localhost:8080/"
        },
        "execution": {
          "iopub.execute_input": "2025-03-05T01:40:21.041280Z",
          "iopub.status.busy": "2025-03-05T01:40:21.041065Z",
          "iopub.status.idle": "2025-03-05T01:40:21.056720Z",
          "shell.execute_reply": "2025-03-05T01:40:21.055937Z"
        },
        "id": "d9f03ebb",
        "outputId": "70006199-58a4-4d48-c1f4-890c094ffcfe",
        "papermill": {
          "duration": 0.028154,
          "end_time": "2025-03-05T01:40:21.058061",
          "exception": false,
          "start_time": "2025-03-05T01:40:21.029907",
          "status": "completed"
        },
        "tags": []
      },
      "outputs": [
        {
          "name": "stdout",
          "output_type": "stream",
          "text": [
            "\n",
            "✅ Annotation terminée !\n",
            "\n"
          ]
        }
      ],
      "source": [
        "metrics_path = os.path.join(output_dir, \"metrics_results_VADER.txt\")\n",
        "annotated_csv_path = os.path.join(output_dir, \"Annotated_Comments_VADER.csv\")\n",
        "\n",
        "with open(metrics_path, \"w\") as f:\n",
        "    f.write(f\"🔍 Évaluation des Sentiments\\n\")\n",
        "    f.write(\"=\" * 50 + \"\\n\")\n",
        "    f.write(f\"\\n✅ Accuracy du modèle sur l'ensemble de test : {round(accuracy, 2)} %\\n\\n\")\n",
        "    f.write(report)\n",
        "\n",
        "# Sauvegarde du DataFrame annoté\n",
        "comments_df.to_csv(annotated_csv_path, index=False)\n",
        "\n",
        "print(\"\\n✅ Annotation terminée !\\n\")"
      ]
    },
    {
      "cell_type": "markdown",
      "id": "2b0da918",
      "metadata": {
        "id": "2b0da918"
      },
      "source": [
        "<h3 style=\"text-align: center; color: #E30613;\"><b><i>Développé par: OUARAS Khelil Rafik</i></b></h3>"
      ]
    }
  ],
  "metadata": {
    "colab": {
      "provenance": []
    },
    "kaggle": {
      "accelerator": "nvidiaTeslaT4",
      "dataSources": [
        {
          "databundleVersionId": 11295233,
          "datasetId": 6649495,
          "sourceId": 10923913,
          "sourceType": "datasetVersion"
        }
      ],
      "dockerImageVersionId": 30918,
      "isGpuEnabled": true,
      "isInternetEnabled": true,
      "language": "python",
      "sourceType": "notebook"
    },
    "kernelspec": {
      "display_name": "base",
      "language": "python",
      "name": "python3"
    },
    "language_info": {
      "codemirror_mode": {
        "name": "ipython",
        "version": 3
      },
      "file_extension": ".py",
      "mimetype": "text/x-python",
      "name": "python",
      "nbconvert_exporter": "python",
      "pygments_lexer": "ipython3",
      "version": "3.12.3"
    },
    "papermill": {
      "default_parameters": {},
      "duration": 59.586257,
      "end_time": "2025-03-05T01:40:22.817095",
      "environment_variables": {},
      "exception": null,
      "input_path": "__notebook__.ipynb",
      "output_path": "__notebook__.ipynb",
      "parameters": {},
      "start_time": "2025-03-05T01:39:23.230838",
      "version": "2.6.0"
    }
  },
  "nbformat": 4,
  "nbformat_minor": 5
}
