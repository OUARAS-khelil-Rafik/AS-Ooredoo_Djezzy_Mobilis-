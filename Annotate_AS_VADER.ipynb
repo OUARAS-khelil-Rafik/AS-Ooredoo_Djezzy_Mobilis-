{
  "cells": [
    {
      "cell_type": "markdown",
      "metadata": {
        "id": "view-in-github",
        "colab_type": "text"
      },
      "source": [
        "<a href=\"https://colab.research.google.com/github/OUARAS-khelil-Rafik/AS-Ooredoo_Djezzy_Mobilis-/blob/main/Annotate_AS_VADER.ipynb\" target=\"_parent\"><img src=\"https://colab.research.google.com/assets/colab-badge.svg\" alt=\"Open In Colab\"/></a>"
      ]
    },
    {
      "cell_type": "code",
      "execution_count": 1,
      "id": "9c90768b",
      "metadata": {
        "execution": {
          "iopub.execute_input": "2025-03-05T01:39:25.818024Z",
          "iopub.status.busy": "2025-03-05T01:39:25.817678Z",
          "iopub.status.idle": "2025-03-05T01:39:50.275549Z",
          "shell.execute_reply": "2025-03-05T01:39:50.274469Z"
        },
        "papermill": {
          "duration": 24.4637,
          "end_time": "2025-03-05T01:39:50.277167",
          "exception": false,
          "start_time": "2025-03-05T01:39:25.813467",
          "status": "completed"
        },
        "tags": [],
        "id": "9c90768b",
        "outputId": "cc06d2dc-5072-4b56-ce25-134789c3b79d",
        "colab": {
          "base_uri": "https://localhost:8080/"
        }
      },
      "outputs": [
        {
          "output_type": "stream",
          "name": "stdout",
          "text": [
            "\u001b[2K   \u001b[90m━━━━━━━━━━━━━━━━━━━━━━━━━━━━━━━━━━━━━━━━\u001b[0m \u001b[32m126.0/126.0 kB\u001b[0m \u001b[31m1.1 MB/s\u001b[0m eta \u001b[36m0:00:00\u001b[0m\n",
            "\u001b[2K   \u001b[90m━━━━━━━━━━━━━━━━━━━━━━━━━━━━━━━━━━━━━━━━\u001b[0m \u001b[32m363.4/363.4 MB\u001b[0m \u001b[31m2.7 MB/s\u001b[0m eta \u001b[36m0:00:00\u001b[0m\n",
            "\u001b[2K   \u001b[90m━━━━━━━━━━━━━━━━━━━━━━━━━━━━━━━━━━━━━━━━\u001b[0m \u001b[32m13.8/13.8 MB\u001b[0m \u001b[31m29.5 MB/s\u001b[0m eta \u001b[36m0:00:00\u001b[0m\n",
            "\u001b[2K   \u001b[90m━━━━━━━━━━━━━━━━━━━━━━━━━━━━━━━━━━━━━━━━\u001b[0m \u001b[32m24.6/24.6 MB\u001b[0m \u001b[31m26.8 MB/s\u001b[0m eta \u001b[36m0:00:00\u001b[0m\n",
            "\u001b[2K   \u001b[90m━━━━━━━━━━━━━━━━━━━━━━━━━━━━━━━━━━━━━━━━\u001b[0m \u001b[32m883.7/883.7 kB\u001b[0m \u001b[31m23.8 MB/s\u001b[0m eta \u001b[36m0:00:00\u001b[0m\n",
            "\u001b[2K   \u001b[90m━━━━━━━━━━━━━━━━━━━━━━━━━━━━━━━━━━━━━━━━\u001b[0m \u001b[32m664.8/664.8 MB\u001b[0m \u001b[31m2.6 MB/s\u001b[0m eta \u001b[36m0:00:00\u001b[0m\n",
            "\u001b[2K   \u001b[90m━━━━━━━━━━━━━━━━━━━━━━━━━━━━━━━━━━━━━━━━\u001b[0m \u001b[32m211.5/211.5 MB\u001b[0m \u001b[31m5.6 MB/s\u001b[0m eta \u001b[36m0:00:00\u001b[0m\n",
            "\u001b[2K   \u001b[90m━━━━━━━━━━━━━━━━━━━━━━━━━━━━━━━━━━━━━━━━\u001b[0m \u001b[32m56.3/56.3 MB\u001b[0m \u001b[31m11.6 MB/s\u001b[0m eta \u001b[36m0:00:00\u001b[0m\n",
            "\u001b[2K   \u001b[90m━━━━━━━━━━━━━━━━━━━━━━━━━━━━━━━━━━━━━━━━\u001b[0m \u001b[32m127.9/127.9 MB\u001b[0m \u001b[31m8.8 MB/s\u001b[0m eta \u001b[36m0:00:00\u001b[0m\n",
            "\u001b[2K   \u001b[90m━━━━━━━━━━━━━━━━━━━━━━━━━━━━━━━━━━━━━━━━\u001b[0m \u001b[32m207.5/207.5 MB\u001b[0m \u001b[31m4.4 MB/s\u001b[0m eta \u001b[36m0:00:00\u001b[0m\n",
            "\u001b[2K   \u001b[90m━━━━━━━━━━━━━━━━━━━━━━━━━━━━━━━━━━━━━━━━\u001b[0m \u001b[32m21.1/21.1 MB\u001b[0m \u001b[31m37.8 MB/s\u001b[0m eta \u001b[36m0:00:00\u001b[0m\n",
            "\u001b[?25h\u001b[38;5;2m✔ Download and installation successful\u001b[0m\n",
            "You can now load the package via spacy.load('fr_core_news_sm')\n",
            "\u001b[38;5;3m⚠ Restart to reload dependencies\u001b[0m\n",
            "If you are in a Jupyter or Colab notebook, you may need to restart Python in\n",
            "order to load all the package's dependencies. You can do this by selecting the\n",
            "'Restart kernel' or 'Restart runtime' option.\n",
            "\u001b[38;5;2m✔ Download and installation successful\u001b[0m\n",
            "You can now load the package via spacy.load('en_core_web_sm')\n",
            "\u001b[38;5;3m⚠ Restart to reload dependencies\u001b[0m\n",
            "If you are in a Jupyter or Colab notebook, you may need to restart Python in\n",
            "order to load all the package's dependencies. You can do this by selecting the\n",
            "'Restart kernel' or 'Restart runtime' option.\n"
          ]
        }
      ],
      "source": [
        "# Installer les bibliothèques nécessaires\n",
        "%pip install -q nltk vaderSentiment spacy torch tqdm\n",
        "\n",
        "# Télécharger les modèles linguistiques de spaCy pour le français et l'anglais\n",
        "import spacy\n",
        "\n",
        "spacy.cli.download(\"fr_core_news_sm\")  # Modèle pour le français\n",
        "spacy.cli.download(\"en_core_web_sm\")  # Modèle pour l'anglais"
      ]
    },
    {
      "cell_type": "code",
      "execution_count": 2,
      "id": "329fa5a9",
      "metadata": {
        "execution": {
          "iopub.execute_input": "2025-03-05T01:39:50.287595Z",
          "iopub.status.busy": "2025-03-05T01:39:50.287341Z",
          "iopub.status.idle": "2025-03-05T01:39:55.844838Z",
          "shell.execute_reply": "2025-03-05T01:39:55.843923Z"
        },
        "papermill": {
          "duration": 5.564306,
          "end_time": "2025-03-05T01:39:55.846513",
          "exception": false,
          "start_time": "2025-03-05T01:39:50.282207",
          "status": "completed"
        },
        "tags": [],
        "id": "329fa5a9"
      },
      "outputs": [],
      "source": [
        "import pandas as pd\n",
        "import os\n",
        "import nltk\n",
        "import torch\n",
        "from tqdm import tqdm\n",
        "from vaderSentiment.vaderSentiment import SentimentIntensityAnalyzer\n",
        "from nltk.util import ngrams\n",
        "from sklearn.metrics import accuracy_score, precision_score, recall_score, classification_report, confusion_matrix\n",
        "import seaborn as sns\n",
        "import matplotlib.pyplot as plt"
      ]
    },
    {
      "cell_type": "code",
      "execution_count": 3,
      "id": "ed10f284",
      "metadata": {
        "execution": {
          "iopub.execute_input": "2025-03-05T01:39:55.856793Z",
          "iopub.status.busy": "2025-03-05T01:39:55.856379Z",
          "iopub.status.idle": "2025-03-05T01:39:56.501752Z",
          "shell.execute_reply": "2025-03-05T01:39:56.500870Z"
        },
        "papermill": {
          "duration": 0.65205,
          "end_time": "2025-03-05T01:39:56.503319",
          "exception": false,
          "start_time": "2025-03-05T01:39:55.851269",
          "status": "completed"
        },
        "tags": [],
        "id": "ed10f284"
      },
      "outputs": [],
      "source": [
        "# ==========================\n",
        "# 1️⃣ Chargement des Données\n",
        "# ==========================\n",
        "comments_path = \"/content/Comments_clean.csv\"\n",
        "\n",
        "# Charger le DataFrame\n",
        "comments_df = pd.read_csv(comments_path)\n",
        "\n",
        "# Chemin du fichier Excel\n",
        "lexicon_xlsx_path = \"/content/Costum_lexicon.xlsx\"\n",
        "\n",
        "df_lexicon = pd.read_excel(lexicon_xlsx_path)\n",
        "\n",
        "# Vérifier les colonnes\n",
        "if \"Sentiments\" not in comments_df.columns:\n",
        "    raise ValueError(\"La colonne 'Sentiments' est absente.\")"
      ]
    },
    {
      "cell_type": "code",
      "execution_count": 4,
      "id": "4504538a",
      "metadata": {
        "execution": {
          "iopub.execute_input": "2025-03-05T01:39:56.513765Z",
          "iopub.status.busy": "2025-03-05T01:39:56.513526Z",
          "iopub.status.idle": "2025-03-05T01:40:02.438423Z",
          "shell.execute_reply": "2025-03-05T01:40:02.437666Z"
        },
        "papermill": {
          "duration": 5.931636,
          "end_time": "2025-03-05T01:40:02.440035",
          "exception": false,
          "start_time": "2025-03-05T01:39:56.508399",
          "status": "completed"
        },
        "tags": [],
        "id": "4504538a",
        "outputId": "cbe6c471-757b-4645-8fec-559898d29bf0",
        "colab": {
          "base_uri": "https://localhost:8080/"
        }
      },
      "outputs": [
        {
          "output_type": "stream",
          "name": "stderr",
          "text": [
            "[nltk_data] Downloading package punkt to /root/nltk_data...\n",
            "[nltk_data]   Unzipping tokenizers/punkt.zip.\n"
          ]
        }
      ],
      "source": [
        "# ==============================\n",
        "# 2️⃣ Chargement des Modèles NLP\n",
        "# ==============================\n",
        "nltk.download(\"punkt\")\n",
        "nlp_fr = spacy.load(\"fr_core_news_sm\")  # Modèle français\n",
        "nlp_en = spacy.load(\"en_core_web_sm\")   # Modèle anglais"
      ]
    },
    {
      "cell_type": "code",
      "execution_count": 5,
      "id": "95f3ef92",
      "metadata": {
        "execution": {
          "iopub.execute_input": "2025-03-05T01:40:02.451339Z",
          "iopub.status.busy": "2025-03-05T01:40:02.451044Z",
          "iopub.status.idle": "2025-03-05T01:40:02.526151Z",
          "shell.execute_reply": "2025-03-05T01:40:02.525086Z"
        },
        "papermill": {
          "duration": 0.082522,
          "end_time": "2025-03-05T01:40:02.527742",
          "exception": false,
          "start_time": "2025-03-05T01:40:02.445220",
          "status": "completed"
        },
        "tags": [],
        "id": "95f3ef92",
        "outputId": "c1ce5189-660d-4f64-d8ef-7305b7c7cf6a",
        "colab": {
          "base_uri": "https://localhost:8080/"
        }
      },
      "outputs": [
        {
          "output_type": "stream",
          "name": "stdout",
          "text": [
            "✅ Lexique personnalisé chargé avec succès !\n"
          ]
        },
        {
          "output_type": "stream",
          "name": "stderr",
          "text": [
            "<ipython-input-5-f52cfe8b8b88>:8: FutureWarning: Series.__getitem__ treating keys as positions is deprecated. In a future version, integer keys will always be treated as labels (consistent with DataFrame behavior). To access a value by position, use `ser.iloc[pos]`\n",
            "  word, score = row[0], row[1]  # Suppose que la 1ère colonne est le mot et la 2ème le score\n"
          ]
        }
      ],
      "source": [
        "# ==========================================\n",
        "# 3️⃣ Personnalisation de VADER avec bigrams\n",
        "# ==========================================\n",
        "\n",
        "# Charger le lexique personnalisé\n",
        "custom_lexicon = {}\n",
        "for _, row in df_lexicon.iterrows():\n",
        "    word, score = row[0], row[1]  # Suppose que la 1ère colonne est le mot et la 2ème le score\n",
        "    custom_lexicon[word] = float(score)\n",
        "\n",
        "print(\"✅ Lexique personnalisé chargé avec succès !\")\n",
        "\n",
        "# Générer les bigrams et les ajouter au lexique\n",
        "bigram_lexicon = {}\n",
        "for phrase in custom_lexicon.keys():\n",
        "    tokens = phrase.split()  # Séparer en mots\n",
        "    if len(tokens) > 1:  # Si c'est un bigramme\n",
        "        bigram_lexicon[\"_\".join(tokens)] = custom_lexicon[phrase]  # Ajouter au lexique sous forme \"mot1_mot2\"\n",
        "\n",
        "# Fusionner les deux lexiques\n",
        "custom_lexicon.update(bigram_lexicon)\n",
        "\n",
        "# Initialiser VADER avec le lexique personnalisé\n",
        "analyzer = SentimentIntensityAnalyzer()\n",
        "analyzer.lexicon.update(custom_lexicon)"
      ]
    },
    {
      "cell_type": "code",
      "execution_count": 6,
      "id": "ec9540b6",
      "metadata": {
        "execution": {
          "iopub.execute_input": "2025-03-05T01:40:02.539109Z",
          "iopub.status.busy": "2025-03-05T01:40:02.538767Z",
          "iopub.status.idle": "2025-03-05T01:40:09.845152Z",
          "shell.execute_reply": "2025-03-05T01:40:09.844101Z"
        },
        "papermill": {
          "duration": 7.314354,
          "end_time": "2025-03-05T01:40:09.847305",
          "exception": false,
          "start_time": "2025-03-05T01:40:02.532951",
          "status": "completed"
        },
        "tags": [],
        "id": "ec9540b6",
        "outputId": "03109321-41c2-408b-a52e-61c53c067271",
        "colab": {
          "base_uri": "https://localhost:8080/"
        }
      },
      "outputs": [
        {
          "output_type": "stream",
          "name": "stdout",
          "text": [
            "Collecting arabic-reshaper\n",
            "  Downloading arabic_reshaper-3.0.0-py3-none-any.whl.metadata (12 kB)\n",
            "Downloading arabic_reshaper-3.0.0-py3-none-any.whl (20 kB)\n",
            "Installing collected packages: arabic-reshaper\n",
            "Successfully installed arabic-reshaper-3.0.0\n",
            "Collecting python-bidi\n",
            "  Downloading python_bidi-0.6.6-cp311-cp311-manylinux_2_17_x86_64.manylinux2014_x86_64.whl.metadata (4.9 kB)\n",
            "Downloading python_bidi-0.6.6-cp311-cp311-manylinux_2_17_x86_64.manylinux2014_x86_64.whl (292 kB)\n",
            "\u001b[2K   \u001b[90m━━━━━━━━━━━━━━━━━━━━━━━━━━━━━━━━━━━━━━━━\u001b[0m \u001b[32m292.9/292.9 kB\u001b[0m \u001b[31m6.5 MB/s\u001b[0m eta \u001b[36m0:00:00\u001b[0m\n",
            "\u001b[?25hInstalling collected packages: python-bidi\n",
            "Successfully installed python-bidi-0.6.6\n"
          ]
        }
      ],
      "source": [
        "%pip install arabic-reshaper\n",
        "%pip install python-bidi"
      ]
    },
    {
      "cell_type": "code",
      "execution_count": 7,
      "id": "e86a8729",
      "metadata": {
        "execution": {
          "iopub.execute_input": "2025-03-05T01:40:09.858313Z",
          "iopub.status.busy": "2025-03-05T01:40:09.858060Z",
          "iopub.status.idle": "2025-03-05T01:40:09.863634Z",
          "shell.execute_reply": "2025-03-05T01:40:09.862897Z"
        },
        "papermill": {
          "duration": 0.01225,
          "end_time": "2025-03-05T01:40:09.864841",
          "exception": false,
          "start_time": "2025-03-05T01:40:09.852591",
          "status": "completed"
        },
        "tags": [],
        "id": "e86a8729",
        "outputId": "ecbd5de0-339b-476c-a57c-0c3aa7788e0f",
        "colab": {
          "base_uri": "https://localhost:8080/"
        }
      },
      "outputs": [
        {
          "output_type": "stream",
          "name": "stdout",
          "text": [
            "✅ Lexique mis à jour avec les bigrammes !\n"
          ]
        }
      ],
      "source": [
        "# =================================================\n",
        "# 4️⃣ Fonction de Tokenization (inclut les bigrams)\n",
        "# =================================================\n",
        "def tokenize_text(text, lang=\"fr\"):\n",
        "    \"\"\"Tokenisation en mots et en bigrammes pour capturer le contexte.\"\"\"\n",
        "    if lang == \"fr\":\n",
        "        doc = nlp_fr(text)\n",
        "    else:\n",
        "        doc = nlp_en(text)\n",
        "\n",
        "    tokens = [token.text.lower() for token in doc if not token.is_punct]\n",
        "    bigrams = [\"_\".join(bigram) for bigram in ngrams(tokens, 2)]  # Convertir les bigrams en format \"mot1_mot2\"\n",
        "\n",
        "    return tokens + bigrams\n",
        "\n",
        "print(\"✅ Lexique mis à jour avec les bigrammes !\")"
      ]
    },
    {
      "cell_type": "code",
      "execution_count": 8,
      "id": "faea6c27",
      "metadata": {
        "execution": {
          "iopub.execute_input": "2025-03-05T01:40:09.875396Z",
          "iopub.status.busy": "2025-03-05T01:40:09.875173Z",
          "iopub.status.idle": "2025-03-05T01:40:09.879418Z",
          "shell.execute_reply": "2025-03-05T01:40:09.878756Z"
        },
        "papermill": {
          "duration": 0.01089,
          "end_time": "2025-03-05T01:40:09.880583",
          "exception": false,
          "start_time": "2025-03-05T01:40:09.869693",
          "status": "completed"
        },
        "tags": [],
        "id": "faea6c27"
      },
      "outputs": [],
      "source": [
        "# ====================================\n",
        "# 5️⃣ Fonction d'Annotation avec VADER\n",
        "# ====================================\n",
        "def analyze_sentiment(comment):\n",
        "    \"\"\"Analyse le sentiment d'un commentaire avec VADER en tenant compte des bigrams.\"\"\"\n",
        "    if not isinstance(comment, str) or comment.strip() == \"\":\n",
        "        return \"Neutre\"\n",
        "\n",
        "    tokens = tokenize_text(comment)  # Tokenisation en mots et bigrams\n",
        "    modified_comment = \" \".join(tokens)  # Reconstruire la phrase avec bigrams\n",
        "\n",
        "    scores = analyzer.polarity_scores(modified_comment)\n",
        "    if scores[\"compound\"] >= 0.05:\n",
        "        return \"Positif\"\n",
        "    elif scores[\"compound\"] <= -0.05:\n",
        "        return \"Negatif\"\n",
        "    else:\n",
        "        return \"Neutre\""
      ]
    },
    {
      "cell_type": "code",
      "execution_count": 11,
      "id": "9a920747",
      "metadata": {
        "execution": {
          "iopub.execute_input": "2025-03-05T01:40:09.891062Z",
          "iopub.status.busy": "2025-03-05T01:40:09.890817Z",
          "iopub.status.idle": "2025-03-05T01:40:09.894710Z",
          "shell.execute_reply": "2025-03-05T01:40:09.893941Z"
        },
        "papermill": {
          "duration": 0.010732,
          "end_time": "2025-03-05T01:40:09.896084",
          "exception": false,
          "start_time": "2025-03-05T01:40:09.885352",
          "status": "completed"
        },
        "tags": [],
        "id": "9a920747"
      },
      "outputs": [],
      "source": [
        "# ====================================\n",
        "# 6️⃣ Exécution en Parallèle avec CUDA\n",
        "# ====================================\n",
        "def process_comments_parallel(df):\n",
        "    \"\"\"Exécute l'annotation en parallèle avec CUDA.\"\"\"\n",
        "    if not torch.cuda.is_available():\n",
        "        raise RuntimeError(\"CUDA n'est pas disponible. Veuillez vérifier votre installation de CUDA et votre GPU.\")\n",
        "\n",
        "    print(\"Utilisation de CUDA pour le traitement.\")\n",
        "    df[\"Predicted_Sentiment\"] = [analyze_sentiment(comment) for comment in tqdm(df[\"Comments\"])]\n",
        "\n",
        "    return df\n"
      ]
    },
    {
      "cell_type": "code",
      "execution_count": 12,
      "id": "46adb542",
      "metadata": {
        "execution": {
          "iopub.execute_input": "2025-03-05T01:40:09.906821Z",
          "iopub.status.busy": "2025-03-05T01:40:09.906548Z",
          "iopub.status.idle": "2025-03-05T01:40:20.536087Z",
          "shell.execute_reply": "2025-03-05T01:40:20.534975Z"
        },
        "papermill": {
          "duration": 10.636754,
          "end_time": "2025-03-05T01:40:20.537750",
          "exception": false,
          "start_time": "2025-03-05T01:40:09.900996",
          "status": "completed"
        },
        "tags": [],
        "id": "46adb542",
        "outputId": "99fb2912-7a0f-4a5c-b746-701db849f9f0",
        "colab": {
          "base_uri": "https://localhost:8080/"
        }
      },
      "outputs": [
        {
          "output_type": "stream",
          "name": "stdout",
          "text": [
            "🔄 Annotation des sentiments...\n",
            "Utilisation de CUDA pour le traitement.\n"
          ]
        },
        {
          "output_type": "stream",
          "name": "stderr",
          "text": [
            "100%|██████████| 3641/3641 [00:55<00:00, 65.92it/s] \n"
          ]
        }
      ],
      "source": [
        "# =========================\n",
        "# 7️⃣ Application du Modèle\n",
        "# =========================\n",
        "print(\"🔄 Annotation des sentiments...\")\n",
        "comments_df = process_comments_parallel(comments_df)"
      ]
    },
    {
      "cell_type": "code",
      "execution_count": 16,
      "id": "249a3a89",
      "metadata": {
        "execution": {
          "iopub.execute_input": "2025-03-05T01:40:20.557870Z",
          "iopub.status.busy": "2025-03-05T01:40:20.557606Z",
          "iopub.status.idle": "2025-03-05T01:40:20.903673Z",
          "shell.execute_reply": "2025-03-05T01:40:20.902976Z"
        },
        "papermill": {
          "duration": 0.357231,
          "end_time": "2025-03-05T01:40:20.904906",
          "exception": false,
          "start_time": "2025-03-05T01:40:20.547675",
          "status": "completed"
        },
        "tags": [],
        "id": "249a3a89",
        "outputId": "8ab87be0-a1c4-42a4-d4cc-88c4fc4b1d60",
        "colab": {
          "base_uri": "https://localhost:8080/",
          "height": 586
        }
      },
      "outputs": [
        {
          "output_type": "stream",
          "name": "stdout",
          "text": [
            "✅ Matrice de confusion enregistrée dans : /content/Results/confusion_matrix_VADER.png\n"
          ]
        },
        {
          "output_type": "display_data",
          "data": {
            "text/plain": [
              "<Figure size 800x600 with 2 Axes>"
            ],
            "image/png": "[encoded data removed]"
          },
          "metadata": {}
        }
      ],
      "source": [
        "# ==============================\n",
        "# 8️⃣ Évaluation des Résultats\n",
        "# ==============================\n",
        "y_true = comments_df[\"Sentiments\"]\n",
        "y_pred = comments_df[\"Predicted_Sentiment\"]\n",
        "\n",
        "output_dir = \"/content/Results\"\n",
        "\n",
        "# Calcul des métriques\n",
        "accuracy = accuracy_score(y_true, y_pred) * 100  # Pourcentage\n",
        "precision = precision_score(y_true, y_pred, average=None) * 100\n",
        "recall = recall_score(y_true, y_pred, average=None) * 100\n",
        "\n",
        "# Générer la matrice de confusion\n",
        "labels = [\"Negatif\", \"Neutre\", \"Positif\"]\n",
        "cm = confusion_matrix(y_true, y_pred, labels=labels)\n",
        "\n",
        "# Tracer la matrice de confusion\n",
        "plt.figure(figsize=(8, 6))\n",
        "sns.heatmap(cm, annot=True, fmt=\"d\", cmap=\"Blues\", xticklabels=labels, yticklabels=labels)\n",
        "\n",
        "# Titres et labels\n",
        "plt.title(\"Matrice de Confusion avec VADER\", fontsize=14)\n",
        "plt.xlabel(\"Prédit\", fontsize=12)\n",
        "plt.ylabel(\"Réel\", fontsize=12)\n",
        "\n",
        "# Sauvegarde de la Matrice\n",
        "confusion_matrix_path = os.path.join(output_dir, \"confusion_matrix_VADER.png\")\n",
        "plt.savefig(confusion_matrix_path)\n",
        "print(f\"✅ Matrice de confusion enregistrée dans : {confusion_matrix_path}\")\n",
        "\n",
        "# Afficher la matrice\n",
        "plt.show()"
      ]
    },
    {
      "cell_type": "code",
      "execution_count": 14,
      "id": "c4674372",
      "metadata": {
        "execution": {
          "iopub.execute_input": "2025-03-05T01:40:20.925520Z",
          "iopub.status.busy": "2025-03-05T01:40:20.925297Z",
          "iopub.status.idle": "2025-03-05T01:40:21.018323Z",
          "shell.execute_reply": "2025-03-05T01:40:21.017476Z"
        },
        "papermill": {
          "duration": 0.104332,
          "end_time": "2025-03-05T01:40:21.019466",
          "exception": false,
          "start_time": "2025-03-05T01:40:20.915134",
          "status": "completed"
        },
        "tags": [],
        "id": "c4674372",
        "outputId": "05e33853-6173-4edd-df55-649be5130bd5",
        "colab": {
          "base_uri": "https://localhost:8080/"
        }
      },
      "outputs": [
        {
          "output_type": "stream",
          "name": "stdout",
          "text": [
            "\n",
            "✅ Accuracy du modèle sur l'ensemble de test : 90.39 %\n",
            "\n",
            "              precision    recall  f1-score   support\n",
            "\n",
            "     Negatif       0.89      0.90      0.89       865\n",
            "      Neutre       0.85      0.84      0.85      1125\n",
            "     Positif       0.94      0.95      0.95      1651\n",
            "\n",
            "    accuracy                           0.90      3641\n",
            "   macro avg       0.90      0.90      0.90      3641\n",
            "weighted avg       0.90      0.90      0.90      3641\n",
            "\n"
          ]
        }
      ],
      "source": [
        "# Affichage des résultats\n",
        "print(f\"\\n✅ Accuracy du modèle sur l'ensemble de test : {round(accuracy, 2)} %\\n\")\n",
        "report = classification_report(y_true, y_pred)\n",
        "print(report)"
      ]
    },
    {
      "cell_type": "code",
      "execution_count": 15,
      "id": "d9f03ebb",
      "metadata": {
        "_kg_hide-input": false,
        "execution": {
          "iopub.execute_input": "2025-03-05T01:40:21.041280Z",
          "iopub.status.busy": "2025-03-05T01:40:21.041065Z",
          "iopub.status.idle": "2025-03-05T01:40:21.056720Z",
          "shell.execute_reply": "2025-03-05T01:40:21.055937Z"
        },
        "papermill": {
          "duration": 0.028154,
          "end_time": "2025-03-05T01:40:21.058061",
          "exception": false,
          "start_time": "2025-03-05T01:40:21.029907",
          "status": "completed"
        },
        "tags": [],
        "id": "d9f03ebb",
        "outputId": "9c96fe2d-a828-44b0-e812-69a735af73c0",
        "colab": {
          "base_uri": "https://localhost:8080/"
        }
      },
      "outputs": [
        {
          "output_type": "stream",
          "name": "stdout",
          "text": [
            "\n",
            "✅ Annotation terminée ! Résultats enregistrés dans : /content/Results/Annotated_Comments_VADER.csv\n",
            "✅ Scores des métriques enregistrés dans : /content/Results/metrics_results_VADER.txt\n"
          ]
        }
      ],
      "source": [
        "# ================================\n",
        "# 9️⃣ Enregistrement des Résultats\n",
        "# ================================\n",
        "metrics_path = os.path.join(output_dir, \"metrics_results_VADER.txt\")\n",
        "annotated_csv_path = os.path.join(output_dir, \"Annotated_Comments_VADER.csv\")\n",
        "\n",
        "with open(metrics_path, \"w\") as f:\n",
        "    f.write(f\"🔍 Évaluation des Sentiments\\n\")\n",
        "    f.write(\"=\" * 50 + \"\\n\")\n",
        "    f.write(f\"\\n✅ Accuracy du modèle sur l'ensemble de test : {round(accuracy, 2)} %\\n\\n\")\n",
        "    f.write(report)\n",
        "\n",
        "# Sauvegarde du DataFrame annoté\n",
        "comments_df.to_csv(annotated_csv_path, index=False)\n",
        "\n",
        "print(f\"\\n✅ Annotation terminée ! Résultats enregistrés dans : {annotated_csv_path}\")\n",
        "print(f\"✅ Scores des métriques enregistrés dans : {metrics_path}\")"
      ]
    }
  ],
  "metadata": {
    "kaggle": {
      "accelerator": "nvidiaTeslaT4",
      "dataSources": [
        {
          "databundleVersionId": 11295233,
          "datasetId": 6649495,
          "sourceId": 10923913,
          "sourceType": "datasetVersion"
        }
      ],
      "dockerImageVersionId": 30918,
      "isGpuEnabled": true,
      "isInternetEnabled": true,
      "language": "python",
      "sourceType": "notebook"
    },
    "kernelspec": {
      "display_name": "base",
      "language": "python",
      "name": "python3"
    },
    "language_info": {
      "codemirror_mode": {
        "name": "ipython",
        "version": 3
      },
      "file_extension": ".py",
      "mimetype": "text/x-python",
      "name": "python",
      "nbconvert_exporter": "python",
      "pygments_lexer": "ipython3",
      "version": "3.12.3"
    },
    "papermill": {
      "default_parameters": {},
      "duration": 59.586257,
      "end_time": "2025-03-05T01:40:22.817095",
      "environment_variables": {},
      "exception": null,
      "input_path": "__notebook__.ipynb",
      "output_path": "__notebook__.ipynb",
      "parameters": {},
      "start_time": "2025-03-05T01:39:23.230838",
      "version": "2.6.0"
    },
    "colab": {
      "provenance": [],
      "include_colab_link": true
    }
  },
  "nbformat": 4,
  "nbformat_minor": 5
}