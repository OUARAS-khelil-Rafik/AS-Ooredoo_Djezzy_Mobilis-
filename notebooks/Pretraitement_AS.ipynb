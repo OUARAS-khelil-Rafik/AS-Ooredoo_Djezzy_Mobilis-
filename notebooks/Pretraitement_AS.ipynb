{
  "cells": [
    {
      "cell_type": "markdown",
      "id": "f0ac2db0",
      "metadata": {},
      "source": [
        "<h1 style=\"text-align: center; color: #E30613;\"><b><i>Prétraitement des Données Textuelles</i></b></h1>\n",
        "\n",
        "<p style=\"text-align: justify;\">\n",
        "Le prétraitement des données textuelles est une étape essentielle dans le traitement du langage naturel (NLP). Il permet de nettoyer, normaliser et structurer les données textuelles brutes afin de les rendre exploitables pour des analyses ou des modèles d'apprentissage automatique. Ce processus inclut plusieurs étapes, telles que :\n",
        "</p>\n",
        "\n",
        "<ul>\n",
        "    <li><b>Lecture des données :</b> Importation des fichiers contenant les commentaires ou textes à analyser.</li>\n",
        "    <li><b>Nettoyage :</b> Suppression des doublons, des valeurs manquantes, des caractères spéciaux, des liens, et des emojis.</li>\n",
        "    <li><b>Normalisation :</b> Uniformisation des textes en remplaçant les variantes orthographiques ou phonétiques par des formes standardisées.</li>\n",
        "    <li><b>Correction des abréviations :</b> Remplacement des abréviations courantes par leurs équivalents complets.</li>\n",
        "    <li><b>Suppression des stop-words :</b> Élimination des mots vides (comme \"et\", \"ou\", \"mais\") pour réduire le bruit dans les données.</li>\n",
        "    <li><b>Regroupement phonétique :</b> Harmonisation des mots ayant des variantes phonétiques différentes.</li>\n",
        "    <li><b>Analyse des mots fréquents :</b> Identification des termes les plus utilisés pour mieux comprendre les tendances dans les données.</li>\n",
        "</ul>\n",
        "\n",
        "<p style=\"text-align: justify;\">\n",
        "Ces étapes permettent d'améliorer la qualité des données textuelles et de faciliter leur exploitation dans des tâches telles que l'analyse de sentiments, la classification de textes ou la génération de rapports.\n",
        "</p>"
      ]
    },
    {
      "cell_type": "markdown",
      "id": "87a81e6a",
      "metadata": {
        "id": "87a81e6a",
        "papermill": {
          "duration": 0.008366,
          "end_time": "2025-03-04T23:17:04.777739",
          "exception": false,
          "start_time": "2025-03-04T23:17:04.769373",
          "status": "completed"
        },
        "tags": []
      },
      "source": [
        "## <span style=\"color: #28A745;\">**Bibiliothèques nécessaires**</span>"
      ]
    },
    {
      "cell_type": "code",
      "execution_count": 22,
      "id": "PTHuQVF0twi7",
      "metadata": {
        "colab": {
          "base_uri": "https://localhost:8080/"
        },
        "id": "PTHuQVF0twi7",
        "outputId": "bfee6f91-12c4-4615-9fb4-cacde7d3b36e"
      },
      "outputs": [
        {
          "name": "stdout",
          "output_type": "stream",
          "text": [
            "Defaulting to user installation because normal site-packages is not writeable\n",
            "Requirement already satisfied: pandas in c:\\programdata\\anaconda3\\lib\\site-packages (2.2.2)\n",
            "Requirement already satisfied: emoji in c:\\users\\kikoo\\appdata\\roaming\\python\\python312\\site-packages (1.4.2)\n",
            "Requirement already satisfied: arabic_reshaper in c:\\users\\kikoo\\appdata\\roaming\\python\\python312\\site-packages (3.0.0)\n",
            "Requirement already satisfied: python-bidi in c:\\users\\kikoo\\appdata\\roaming\\python\\python312\\site-packages (0.6.6)\n",
            "Requirement already satisfied: numpy>=1.26.0 in c:\\programdata\\anaconda3\\lib\\site-packages (from pandas) (1.26.4)\n",
            "Requirement already satisfied: python-dateutil>=2.8.2 in c:\\users\\kikoo\\appdata\\roaming\\python\\python312\\site-packages (from pandas) (2.8.2)\n",
            "Requirement already satisfied: pytz>=2020.1 in c:\\users\\kikoo\\appdata\\roaming\\python\\python312\\site-packages (from pandas) (2024.2)\n",
            "Requirement already satisfied: tzdata>=2022.7 in c:\\programdata\\anaconda3\\lib\\site-packages (from pandas) (2023.3)\n",
            "Requirement already satisfied: six>=1.5 in c:\\programdata\\anaconda3\\lib\\site-packages (from python-dateutil>=2.8.2->pandas) (1.16.0)\n",
            "Note: you may need to restart the kernel to use updated packages.\n"
          ]
        },
        {
          "name": "stderr",
          "output_type": "stream",
          "text": [
            "\n",
            "[notice] A new release of pip is available: 25.1 -> 25.1.1\n",
            "[notice] To update, run: python.exe -m pip install --upgrade pip\n"
          ]
        }
      ],
      "source": [
        "%pip install pandas emoji arabic_reshaper python-bidi"
      ]
    },
    {
      "cell_type": "markdown",
      "id": "b1c4f87a",
      "metadata": {
        "id": "b1c4f87a"
      },
      "source": [
        "## <span style=\"color: #E30613;\">**1. Lecture du dataset**</span>"
      ]
    },
    {
      "cell_type": "code",
      "execution_count": 23,
      "id": "c7673f25",
      "metadata": {
        "_cell_guid": "b1076dfc-b9ad-4769-8c92-a6c4dae69d19",
        "_uuid": "8f2839f25d086af736a60e9eeb907d3b93b6e0e5",
        "colab": {
          "base_uri": "https://localhost:8080/",
          "height": 423
        },
        "execution": {
          "iopub.execute_input": "2025-03-04T23:17:02.150873Z",
          "iopub.status.busy": "2025-03-04T23:17:02.150328Z",
          "iopub.status.idle": "2025-03-04T23:17:04.563547Z",
          "shell.execute_reply": "2025-03-04T23:17:04.561815Z"
        },
        "id": "c7673f25",
        "outputId": "26723d34-a645-41ad-c446-4ae4ae9fcd93",
        "papermill": {
          "duration": 2.42425,
          "end_time": "2025-03-04T23:17:04.565623",
          "exception": false,
          "start_time": "2025-03-04T23:17:02.141373",
          "status": "completed"
        },
        "tags": []
      },
      "outputs": [
        {
          "data": {
            "application/vnd.microsoft.datawrangler.viewer.v0+json": {
              "columns": [
                {
                  "name": "index",
                  "rawType": "int64",
                  "type": "integer"
                },
                {
                  "name": "ID Post",
                  "rawType": "int64",
                  "type": "integer"
                },
                {
                  "name": "User Name",
                  "rawType": "object",
                  "type": "string"
                },
                {
                  "name": "Comments",
                  "rawType": "object",
                  "type": "unknown"
                },
                {
                  "name": "Sentiments",
                  "rawType": "object",
                  "type": "unknown"
                }
              ],
              "conversionMethod": "pd.DataFrame",
              "ref": "59416977-b530-43a1-acc8-ae73a10155d0",
              "rows": [
                [
                  "0",
                  "1",
                  "Samir Bekhouche",
                  null,
                  "Neutre"
                ],
                [
                  "1",
                  "1",
                  "Yanise Yanise",
                  "سلام عليكم ورحمة لديا مشكلة ! فليكسيت 100 دج و بدأت تنقص شوي شويا من 100 دج إلى 75دج و بعدها إلى 50 دج و بعدها إلى 25 دج !!!!!!!!!!! اين ذهبت لزونيتي تاعي ؟؟؟؟!!!!!!\n لن أتكلم بها و لم اتصل بها و ليس لي خاصية رنتي اذن اين ذهب مالي؟!؟!؟!؟\n و صار نفس الشيء مع أخي!!!!!!!!!!!!\n ماهذا لابد من استرجاعه",
                  "Negatif"
                ],
                [
                  "2",
                  "1",
                  "Jj Kie",
                  "كل عام و انتم بخير",
                  "Positif"
                ],
                [
                  "3",
                  "1",
                  "Sakou Younes",
                  "كل عام و أنتم بخير",
                  "Positif"
                ],
                [
                  "4",
                  "1",
                  "راني نعاني",
                  "كل عام و حنا بخير",
                  "Positif"
                ],
                [
                  "5",
                  "1",
                  "Wahab Ziadi",
                  "كل عام و حنا بخير",
                  "Positif"
                ],
                [
                  "6",
                  "1",
                  "أحمد فيراس",
                  "🥰",
                  "Positif"
                ],
                [
                  "7",
                  "1",
                  "مروان سيدهم سيدهم مروان",
                  "كل عام وأنتم بخير وأتمنا رد علا أسإلتي علا لحاص وكل عام وأنتم بخير",
                  "Positif"
                ],
                [
                  "8",
                  "1",
                  "Mostefa Merabti",
                  "Happy New year",
                  "Positif"
                ],
                [
                  "9",
                  "1",
                  "وليد برك",
                  "كاش عروض مدم رن في 2024",
                  "Neutre"
                ],
                [
                  "10",
                  "1",
                  "Aymen Aymen",
                  "تحيا جيزي",
                  "Positif"
                ],
                [
                  "11",
                  "1",
                  "Maram Akram",
                  "Bonne année à tous",
                  "Positif"
                ],
                [
                  "12",
                  "1",
                  "Plako Platr Ba 13",
                  "🙏",
                  "Neutre"
                ],
                [
                  "13",
                  "1",
                  "Lina Sami",
                  "كيفه نحول عروض جيزي سبيسيال باه نرجعها هايلة بزاف",
                  "Neutre"
                ],
                [
                  "14",
                  "1",
                  "Yakoub Boussebsi",
                  "سنة سعيدة ورجعونا 6h",
                  "Positif"
                ],
                [
                  "15",
                  "1",
                  "Hamza Othmani",
                  "بداية سنة سيئة جدا، لقد ثم قطع خطي ضلم، و مصلحة الزبائن لا ترد، عيب",
                  "Negatif"
                ],
                [
                  "16",
                  "1",
                  "RED ROSE",
                  "🌹🌹🌹🌹",
                  "Positif"
                ],
                [
                  "17",
                  "1",
                  "Mohamed Mellak",
                  "عام سعيد 2024",
                  "Positif"
                ],
                [
                  "18",
                  "1",
                  "Naseraddein Hamada",
                  null,
                  "Neutre"
                ],
                [
                  "19",
                  "1",
                  "جمعية الحي أبناء الغد لعياضات -قصر الأبطال-",
                  "نحيطكم علما انا قريتنا ( قرية لعياضات ) التابعة لبلدية قصر الأبطال دائرة عين ولمان ولاية سطيف ان شبكة الانترنت جيزي تنعدم تماما في قريتنا.نرجو منكم ايجاد حل لهذه المشكلة",
                  "Negatif"
                ],
                [
                  "20",
                  "1",
                  "Sàm Fàràh Mehimdà",
                  "كل مرة تسرقوا 50دج ؟؟؟؟ علاش هاك تخلونا نبدلوا الخط 🥴🥴🥴",
                  "Negatif"
                ],
                [
                  "21",
                  "1",
                  "Şàłàh Şğhïr",
                  "كل عام وانتم بالف خير ❣️❣️",
                  "Positif"
                ],
                [
                  "22",
                  "1",
                  "Sofiane Sofiane",
                  "علاه ديتولي 50 دج كل مرة راكم ديروهالي",
                  "Negatif"
                ],
                [
                  "23",
                  "1",
                  "Lamine Jseb",
                  "واش بيه الريزو اليوم؟؟ ماكاش انترنت منذ 3 ساعات",
                  "Negatif"
                ],
                [
                  "24",
                  "1",
                  "マウンテ ンライト",
                  "بهد مناسبة تبرعو علينا ب انترنت😁",
                  "Neutre"
                ],
                [
                  "25",
                  "1",
                  "Bnamer Boutayeb",
                  "ريقلو ابليكاسيو نتاعكم",
                  "Negatif"
                ],
                [
                  "26",
                  "1",
                  "ゞゞじ づ づ",
                  "ديرولنا كش حاجة نتع كونيكسيون",
                  "Neutre"
                ],
                [
                  "27",
                  "1",
                  "كنوش سمير",
                  "مكانش كونيكسو 🙄😒",
                  "Negatif"
                ],
                [
                  "28",
                  "1",
                  "Fati Fati",
                  "من 2006 راني مشتاركه معاكم كاش نهار فرحونا بهديه 😉",
                  "Neutre"
                ],
                [
                  "29",
                  "1",
                  "Sofiane Renault Medea",
                  "بطيءة",
                  "Negatif"
                ],
                [
                  "30",
                  "1",
                  "Sifadine Mehdi",
                  "ريزو وشبيه يروح و يجي ؟",
                  "Negatif"
                ],
                [
                  "31",
                  "1",
                  "Añdřeä Añdřeä",
                  "وقتاه تردولنا ريزو🤧",
                  "Negatif"
                ],
                [
                  "32",
                  "1",
                  "Nabil Issam",
                  "ريڨلونا رب ريزو",
                  "Negatif"
                ],
                [
                  "33",
                  "1",
                  "Abdo Gros",
                  "Malheureusement le réseau était coupé men 17h ! Hata dok bach wala en plus c'est en niveau d'Alger yahsra les autres wilaya !! Ni excuses ni rien! Mais bon en souhaitant une amélioration cette année nchlh",
                  "Negatif"
                ],
                [
                  "34",
                  "2",
                  "Djezzy",
                  "مرحباً\n يرجى التواصل معنا في الخاص حتى نتمكن من مساعدتكم\n شكراً ( سميرة .ق ) من جازي",
                  "Neutre"
                ],
                [
                  "35",
                  "2",
                  "Abdelghani Tahtah",
                  "ماهو هو الكود نتاع سلفلي ... ؟؟",
                  "Neutre"
                ],
                [
                  "36",
                  "2",
                  "أحمد فيراس",
                  "مليح",
                  "Positif"
                ],
                [
                  "37",
                  "2",
                  "Œœ Œœ",
                  "كيفاه نسلف عشرالاف",
                  "Neutre"
                ],
                [
                  "38",
                  "2",
                  "Houhou Ben Medani",
                  null,
                  "Neutre"
                ],
                [
                  "39",
                  "2",
                  "Riad BM",
                  "شكون يبعثلي 2 جيغا 😂😂",
                  "Neutre"
                ],
                [
                  "40",
                  "2",
                  "Amine Boudiaf",
                  "رجعونا عروض امتياز لي نحيتوها لنا",
                  "Negatif"
                ],
                [
                  "41",
                  "2",
                  "زين الدين ابن البوادي",
                  "أود معرفة كيفية سرقة رصيدي ؟\n الرجاء التوضيح \n لي رقمين من جيزي دائما لا اجد الرصيد Djezzy",
                  "Negatif"
                ],
                [
                  "42",
                  "2",
                  "Amani Amina",
                  "كيف رقم خدمة سلفي",
                  "Neutre"
                ],
                [
                  "43",
                  "2",
                  "العربي نواوي",
                  "ممكن نعرف علاش تنقصو من الرصيد \n والله العظيم عيب عيب عيب \n تفليكسي 50 الف غدوة تلقى 20 الف عيب\n حسبنا الله ونعم الوكيل.",
                  "Negatif"
                ],
                [
                  "44",
                  "2",
                  "Yassine Madrid",
                  "من فضلكم شريت شريحة جيزي جديدة كيفاه نأكتيفيها مع العلم فيها 60g انترنت و 7000 مكالمات",
                  "Neutre"
                ],
                [
                  "45",
                  "2",
                  "Aoudjia Aimen",
                  "وشبيه تطبيق حابس اي ريقلوه وريقليو الريزو رانا نعانيو 2024 وريزو ميت في حالا والله ما فهمنا ومفهمتش علاه رانا فالعالم الثالث (السبب الوحيد لا غيره لي مخلينا فالعالم الثالث انو مكاش عالم رابع او خامس)",
                  "Negatif"
                ],
                [
                  "46",
                  "2",
                  "صاحبة السعادة",
                  "علابيها وليتو كنفليكسيو تدوهم",
                  "Negatif"
                ],
                [
                  "47",
                  "2",
                  "عائشة صديقة",
                  "Djezzy من فضلكم أريد تقطيع الشريحة لتناسب الهاتف..هذا غير ممكن مع شريحتي الحالية هل يمكن استبدالها مع أخرى قابلة لتقطيع مع شرط الاحتفاظ برقمي الحالي..",
                  "Neutre"
                ],
                [
                  "48",
                  "2",
                  "Youcef Mellah",
                  "رانا نسلكو 150 لشهر و كونيكسيون ربي يجيب ممكن توضيح",
                  "Negatif"
                ],
                [
                  "49",
                  "2",
                  "Mar Lyn",
                  "تخدمو الجمعة ؟",
                  "Neutre"
                ]
              ],
              "shape": {
                "columns": 4,
                "rows": 4102
              }
            },
            "text/html": [
              "<div>\n",
              "<style scoped>\n",
              "    .dataframe tbody tr th:only-of-type {\n",
              "        vertical-align: middle;\n",
              "    }\n",
              "\n",
              "    .dataframe tbody tr th {\n",
              "        vertical-align: top;\n",
              "    }\n",
              "\n",
              "    .dataframe thead th {\n",
              "        text-align: right;\n",
              "    }\n",
              "</style>\n",
              "<table border=\"1\" class=\"dataframe\">\n",
              "  <thead>\n",
              "    <tr style=\"text-align: right;\">\n",
              "      <th></th>\n",
              "      <th>ID Post</th>\n",
              "      <th>User Name</th>\n",
              "      <th>Comments</th>\n",
              "      <th>Sentiments</th>\n",
              "    </tr>\n",
              "  </thead>\n",
              "  <tbody>\n",
              "    <tr>\n",
              "      <th>0</th>\n",
              "      <td>1</td>\n",
              "      <td>Samir Bekhouche</td>\n",
              "      <td>NaN</td>\n",
              "      <td>Neutre</td>\n",
              "    </tr>\n",
              "    <tr>\n",
              "      <th>1</th>\n",
              "      <td>1</td>\n",
              "      <td>Yanise Yanise</td>\n",
              "      <td>سلام عليكم ورحمة لديا مشكلة ! فليكسيت 100 دج و...</td>\n",
              "      <td>Negatif</td>\n",
              "    </tr>\n",
              "    <tr>\n",
              "      <th>2</th>\n",
              "      <td>1</td>\n",
              "      <td>Jj Kie</td>\n",
              "      <td>كل عام و انتم بخير</td>\n",
              "      <td>Positif</td>\n",
              "    </tr>\n",
              "    <tr>\n",
              "      <th>3</th>\n",
              "      <td>1</td>\n",
              "      <td>Sakou Younes</td>\n",
              "      <td>كل عام و أنتم بخير</td>\n",
              "      <td>Positif</td>\n",
              "    </tr>\n",
              "    <tr>\n",
              "      <th>4</th>\n",
              "      <td>1</td>\n",
              "      <td>راني نعاني</td>\n",
              "      <td>كل عام و حنا بخير</td>\n",
              "      <td>Positif</td>\n",
              "    </tr>\n",
              "    <tr>\n",
              "      <th>...</th>\n",
              "      <td>...</td>\n",
              "      <td>...</td>\n",
              "      <td>...</td>\n",
              "      <td>...</td>\n",
              "    </tr>\n",
              "    <tr>\n",
              "      <th>4097</th>\n",
              "      <td>183</td>\n",
              "      <td>Ĺã Rõsë Ýb</td>\n",
              "      <td>❤️❤️</td>\n",
              "      <td>Positif</td>\n",
              "    </tr>\n",
              "    <tr>\n",
              "      <th>4098</th>\n",
              "      <td>183</td>\n",
              "      <td>نسمات هادئة</td>\n",
              "      <td>💕💕💕💕</td>\n",
              "      <td>Positif</td>\n",
              "    </tr>\n",
              "    <tr>\n",
              "      <th>4099</th>\n",
              "      <td>183</td>\n",
              "      <td>ملك ملهاش غيرك</td>\n",
              "      <td>❤❤❤❤❤❤🌹</td>\n",
              "      <td>Positif</td>\n",
              "    </tr>\n",
              "    <tr>\n",
              "      <th>4100</th>\n",
              "      <td>183</td>\n",
              "      <td>سعيدي رضا</td>\n",
              "      <td>NaN</td>\n",
              "      <td>Neutre</td>\n",
              "    </tr>\n",
              "    <tr>\n",
              "      <th>4101</th>\n",
              "      <td>183</td>\n",
              "      <td>جيبلي فيت فيت</td>\n",
              "      <td>❤️❤️❤️❤️</td>\n",
              "      <td>Positif</td>\n",
              "    </tr>\n",
              "  </tbody>\n",
              "</table>\n",
              "<p>4102 rows × 4 columns</p>\n",
              "</div>"
            ],
            "text/plain": [
              "      ID Post        User Name  \\\n",
              "0           1  Samir Bekhouche   \n",
              "1           1    Yanise Yanise   \n",
              "2           1           Jj Kie   \n",
              "3           1     Sakou Younes   \n",
              "4           1       راني نعاني   \n",
              "...       ...              ...   \n",
              "4097      183       Ĺã Rõsë Ýb   \n",
              "4098      183      نسمات هادئة   \n",
              "4099      183   ملك ملهاش غيرك   \n",
              "4100      183        سعيدي رضا   \n",
              "4101      183    جيبلي فيت فيت   \n",
              "\n",
              "                                               Comments Sentiments  \n",
              "0                                                   NaN     Neutre  \n",
              "1     سلام عليكم ورحمة لديا مشكلة ! فليكسيت 100 دج و...    Negatif  \n",
              "2                                    كل عام و انتم بخير    Positif  \n",
              "3                                    كل عام و أنتم بخير    Positif  \n",
              "4                                     كل عام و حنا بخير    Positif  \n",
              "...                                                 ...        ...  \n",
              "4097                                               ❤️❤️    Positif  \n",
              "4098                                               💕💕💕💕    Positif  \n",
              "4099                                            ❤❤❤❤❤❤🌹    Positif  \n",
              "4100                                                NaN     Neutre  \n",
              "4101                                           ❤️❤️❤️❤️    Positif  \n",
              "\n",
              "[4102 rows x 4 columns]"
            ]
          },
          "execution_count": 23,
          "metadata": {},
          "output_type": "execute_result"
        }
      ],
      "source": [
        "import pandas as pd\n",
        "\n",
        "# Define the paths to the input files\n",
        "comments_path = \"/content/data/Comments.xlsx\"\n",
        "\n",
        "# Read the Excel files\n",
        "comments_df = pd.read_excel(comments_path)\n",
        "\n",
        "comments_df"
      ]
    },
    {
      "cell_type": "markdown",
      "id": "14b04918",
      "metadata": {
        "id": "14b04918",
        "papermill": {
          "duration": 0.008213,
          "end_time": "2025-03-04T23:17:04.760762",
          "exception": false,
          "start_time": "2025-03-04T23:17:04.752549",
          "status": "completed"
        },
        "tags": []
      },
      "source": [
        "## <span style=\"color: #E30613;\">**2. Prétraitement**</span>"
      ]
    },
    {
      "cell_type": "code",
      "execution_count": 24,
      "id": "e640d65f",
      "metadata": {
        "execution": {
          "iopub.execute_input": "2025-03-04T23:17:04.927135Z",
          "iopub.status.busy": "2025-03-04T23:17:04.926739Z",
          "iopub.status.idle": "2025-03-04T23:17:04.938677Z",
          "shell.execute_reply": "2025-03-04T23:17:04.937645Z"
        },
        "id": "e640d65f",
        "papermill": {
          "duration": 0.023409,
          "end_time": "2025-03-04T23:17:04.940582",
          "exception": false,
          "start_time": "2025-03-04T23:17:04.917173",
          "status": "completed"
        },
        "tags": []
      },
      "outputs": [],
      "source": [
        "comments_df = comments_df.dropna(subset=[\"Comments\"])\n",
        "comments_df = comments_df[comments_df[\"Comments\"].str.strip() != \"\"]"
      ]
    },
    {
      "cell_type": "markdown",
      "id": "d4166789",
      "metadata": {
        "id": "d4166789"
      },
      "source": [
        "### <span style=\"color: #E30613;\">**2.3. Supprimer les doublons consécutifs**</span>"
      ]
    },
    {
      "cell_type": "code",
      "execution_count": 25,
      "id": "285d4e1d",
      "metadata": {
        "execution": {
          "iopub.execute_input": "2025-03-04T23:17:04.976739Z",
          "iopub.status.busy": "2025-03-04T23:17:04.976400Z",
          "iopub.status.idle": "2025-03-04T23:17:04.982931Z",
          "shell.execute_reply": "2025-03-04T23:17:04.981969Z"
        },
        "id": "285d4e1d",
        "papermill": {
          "duration": 0.017773,
          "end_time": "2025-03-04T23:17:04.984634",
          "exception": false,
          "start_time": "2025-03-04T23:17:04.966861",
          "status": "completed"
        },
        "tags": []
      },
      "outputs": [],
      "source": [
        "comments_df = comments_df.loc[comments_df[\"Comments\"].shift() != comments_df[\"Comments\"]]"
      ]
    },
    {
      "cell_type": "markdown",
      "id": "209d9d8a",
      "metadata": {
        "id": "209d9d8a"
      },
      "source": [
        "### <span style=\"color: #E30613;\">**2.4. Normalisation**</span>"
      ]
    },
    {
      "cell_type": "code",
      "execution_count": 26,
      "id": "11359c09",
      "metadata": {
        "colab": {
          "base_uri": "https://localhost:8080/",
          "height": 458
        },
        "execution": {
          "iopub.execute_input": "2025-03-04T23:17:05.004727Z",
          "iopub.status.busy": "2025-03-04T23:17:05.004377Z",
          "iopub.status.idle": "2025-03-04T23:17:05.376870Z",
          "shell.execute_reply": "2025-03-04T23:17:05.375990Z"
        },
        "id": "11359c09",
        "outputId": "37452f7c-d639-483a-f64d-da7a6f697f6f",
        "papermill": {
          "duration": 0.385043,
          "end_time": "2025-03-04T23:17:05.378717",
          "exception": false,
          "start_time": "2025-03-04T23:17:04.993674",
          "status": "completed"
        },
        "tags": []
      },
      "outputs": [
        {
          "data": {
            "text/plain": [
              "1       سلام عليكم ورحمة لديا مشكلة ! فليكسيت 100 دج و...\n",
              "2                                      كل عام و انتم بخير\n",
              "3                                      كل عام و أنتم بخير\n",
              "4                                       كل عام و حنا بخير\n",
              "6                                                      حب\n",
              "                              ...                        \n",
              "4096                                               🩷🩷🩷🩷🩷🩷\n",
              "4097                                            حب ️ حب ️\n",
              "4098                                       حب  حب  حب  حب\n",
              "4099                           حب  حب  حب  حب  حب  حب  حب\n",
              "4101                                  حب ️ حب ️ حب ️ حب ️\n",
              "Name: Comments, Length: 3821, dtype: object"
            ]
          },
          "execution_count": 26,
          "metadata": {},
          "output_type": "execute_result"
        }
      ],
      "source": [
        "import re\n",
        "\n",
        "def normalize_arabic(text):\n",
        "    text = text.lower()\n",
        "    text = re.sub(\"گ\", \"ك\", text)\n",
        "    text = re.sub(\"ڭ\", \"ك\", text)\n",
        "    text = re.sub(\"ڤ\", \"ق\", text)\n",
        "    text = re.sub(\"ڨ\", \"ق\", text)\n",
        "    text = re.sub(\"پ\", \"ب\", text)\n",
        "    text = re.sub(\"é\", \"e\", text)\n",
        "    text = re.sub(\"ê\", \"e\", text)\n",
        "    text = re.sub(\"ë\", \"e\", text)\n",
        "    text = re.sub(\"ç\", \"c\", text)\n",
        "    text = re.sub(\"à\", \"a\", text)\n",
        "    text = re.sub(\"â\", \"a\", text)\n",
        "    text = re.sub(\"ä\", \"a\", text)\n",
        "    text = re.sub(\"î\", \"i\", text)\n",
        "    text = re.sub(\"ï\", \"a\", text)\n",
        "    text = re.sub(\"æ\", \"ae\", text)\n",
        "    text = re.sub(\"œ\", \"oe\", text)\n",
        "    return text\n",
        "\n",
        "def replace_emojis(text):\n",
        "    emojis = {\n",
        "        \"\\U0001F60D\": \"حب\",\n",
        "        \"\\U0001F611\": \"حب\",\n",
        "        \"\\U0001F618\": \"حب\",\n",
        "        \"\\U0001F619\": \"حب\",\n",
        "        \"\\U0001F61A\": \"حب\",\n",
        "        \"\\U0001F61B\": \"حب\",\n",
        "        \"\\U0001F61C\": \"حب\",\n",
        "        \"\\U0001F61D\": \"حب\",\n",
        "        \"\\U0001F61E\": \"حب\",\n",
        "        \"\\U0001F61F\": \"حب\",\n",
        "        \"\\U0001F620\": \"غضب\",\n",
        "        \"\\U0001F621\": \"غضب\",\n",
        "        \"\\U0001F627\": \"غضب\",\n",
        "        \"\\U0001F92C\": \"غضب\",\n",
        "        \"\\U0001F630\": \"غضب\",\n",
        "        \"\\U0001FA79\": \"حب\",\n",
        "        \"\\U0001F970\": \"حب\",\n",
        "        \"\\U00002764\": \"حب\",\n",
        "        \"\\U0001F495\": \"حب\",\n",
        "        \"\\U0001F339\": \"حب\",\n",
        "    }\n",
        "    for emoji, arabic_equivalent in emojis.items():\n",
        "        # Ajouter un espace après chaque remplacement\n",
        "        text = re.sub(emoji, \" \" + arabic_equivalent + \" \", text)\n",
        "    return text.strip()\n",
        "\n",
        "# Appliquer la normalisation\n",
        "comments_df[\"Comments\"] = comments_df[\"Comments\"].apply(normalize_arabic)\n",
        "\n",
        "comments_df[\"Comments\"] = comments_df[\"Comments\"].apply(replace_emojis)\n",
        "\n",
        "# After replacing emojis, remove any extra spaces\n",
        "comments_df[\"Comments\"]"
      ]
    },
    {
      "cell_type": "markdown",
      "id": "ef10a550",
      "metadata": {
        "id": "ef10a550"
      },
      "source": [
        "### <span style=\"color: #E30613;\">**2.5. Correction des abréviations**</span>"
      ]
    },
    {
      "cell_type": "code",
      "execution_count": 27,
      "id": "6504936c",
      "metadata": {
        "execution": {
          "iopub.execute_input": "2025-03-04T23:17:05.950744Z",
          "iopub.status.busy": "2025-03-04T23:17:05.950390Z",
          "iopub.status.idle": "2025-03-04T23:17:05.992933Z",
          "shell.execute_reply": "2025-03-04T23:17:05.991733Z"
        },
        "id": "6504936c",
        "papermill": {
          "duration": 0.055193,
          "end_time": "2025-03-04T23:17:05.995028",
          "exception": false,
          "start_time": "2025-03-04T23:17:05.939835",
          "status": "completed"
        },
        "tags": []
      },
      "outputs": [],
      "source": [
        "abbreviations = {\n",
        "    \"mrc\": \"merci\",\n",
        "    \"num\": \"numéro\",\n",
        "    \"numro\": \"numéro\",\n",
        "    \"nn\": \"non\",\n",
        "    \"bn\": \"bonne\",\n",
        "    \"topp\": \"top\",\n",
        "    \"شوي\": \"قليل\",\n",
        "    \"شويا\": \"قليل\",\n",
        "    \"لزونيتي\": \"الوحدات\",\n",
        "    \"حنا\": \"نحن\",\n",
        "    \"أسإلتي\": \"اسئلة\",\n",
        "    \"حاص\": \"خاص\",\n",
        "    \"مدام\": \"بينما\",\n",
        "    \"رانا\": \"نحن\",\n",
        "    \"بون\": \"حسن\",\n",
        "    \"توس\": \"جميع\",\n",
        "    \"سبيسيال\": \"منفرد\",\n",
        "    \"سبيال\": \"منفرد\",\n",
        "    \"باه\": \"لكي\",\n",
        "    \"زاف\": \"كثيرا\",\n",
        "    \"بزاف\": \"كثيرا\",\n",
        "    \"نتمني\": \"نتمنى\",\n",
        "    \"فظلكم\": \"فضلكم\",\n",
        "    \"ضلم\": \"ظلم\",\n",
        "    \"ردى\": \"رد\",\n",
        "    \"علاش\": \"لماذا\",\n",
        "    \"علاه\": \"لماذا\",\n",
        "    \"علا\": \"لماذا\",\n",
        "    \"هذ\": \"هذا\",\n",
        "    \"تبرعو\": \"تبرع\",\n",
        "    \"ابليكاسيو\": \"تطبيق\",\n",
        "    \"أبليكاسيون\": \"تطبيق\",\n",
        "    \"أبليكاسيو\": \"تطبيق\",\n",
        "    \"الخاص بكم\": \"نتاعكم\",\n",
        "    \"ديرولنا\": \"افعلو لنا\",\n",
        "    \"ديرو\": \"افعلو\",\n",
        "    \"نحا\": \"نزع\",\n",
        "    \"دير\": \"افعل\",\n",
        "    \"حاجة\": \"شيء\",\n",
        "    \"نتع\": \"خاص ب\",\n",
        "    \"تاع\": \"خاص ب\",\n",
        "    \"تع\": \"خاص ب\",\n",
        "    \"جاوبوني\": \"رد علي\",\n",
        "    \"مشتاركه\": \"مشاركة\",\n",
        "    \"رحو\": \"اذهبو\",\n",
        "    \"هدي\": \"هدية\",\n",
        "    \"هذي\": \"هذه\",\n",
        "    \"يروح\": \"يذهب\",\n",
        "    \"يجي\": \"يأتي\",\n",
        "    \"وقتاه\": \"متى\",\n",
        "    \"وقتاش\": \"متى\",\n",
        "    \"وقتش\": \"متى\",\n",
        "    \"تردولنا\": \"تردون\",\n",
        "    \"نتاع\": \"خاص ب\",\n",
        "    \"شك\": \"من\",\n",
        "    \"شكون\": \"من\",\n",
        "    \"نحيتوها\": \"نزع\",\n",
        "    \"نحيتو\": \"نزع\",\n",
        "    \"نحيت\": \"نزع\",\n",
        "    \"سلفلي\": \"قرض\",\n",
        "    \"سلفولي\": \"قرض\",\n",
        "    \"غدوة\": \"غدا\",\n",
        "    \"تلقى\": \"تجد\",\n",
        "    \"نلقى\": \"اجد\",\n",
        "    \"نأكتيفيها\": \"تفعيل\",\n",
        "    \"نأكتيفي\": \"تفعيل\",\n",
        "    \"ناكتيفي\": \"تفعيل\",\n",
        "    \"نعانيو\": \"نعانون\",\n",
        "    \"نعانو\": \"نعانون\",\n",
        "    \"ميت حال\": \"رديء\",\n",
        "    \"مفهمتش\": \"لم افهم\",\n",
        "    \"انو\": \"انه\",\n",
        "    \"علابالي\": \"اعلم\",\n",
        "    \"ليتو\": \"اصبحتم\",\n",
        "    \"وليتو\": \"اصبحتم\",\n",
        "    \"تدو\": \"تاخذون\",\n",
        "    \"الى\": \"إلى\",\n",
        "    \"خاستني\": \"احتاج\",\n",
        "    \"خستني\": \"احتاج\",\n",
        "    \"مشى\": \"تعمل\",\n",
        "    \"مشا\": \"تعمل\",\n",
        "    \"شكا\": \"شكوى\",\n",
        "    \"شكيت\": \"شكوى\",\n",
        "    \"زرو\": \"سيء\",\n",
        "    \"زيرو\": \"سيء\",\n",
        "    \"سرفيك\": \"خدمة\",\n",
        "    \"سرفيس\": \"خدمة\",\n",
        "    \"جيزي اب\": \"djezzy app\",\n",
        "    \"nchlh\": \"incha allah\",\n",
        "    \"riglou\": \"regler\",\n",
        "    \"bah\": \"pour\",\n",
        "    \"nwaliw\": \"devenir\",\n",
        "    \"k\": \"comme\",\n",
        "    \"مراحش\": \"لن\",\n",
        "    \"مهمش\": \"ليسو\",\n",
        "    \"تعليع\": \"تعليق\",\n",
        "    \"زااف\": \"كثيرا\",\n",
        "    \"khayan\": \"سرق\",\n",
        "    \"djezzyy\": \"djezzy\",\n",
        "    \"ومرديتش\": \"لم ترد\",\n",
        "    \"واش\": \"ماذا\",\n",
        "    \"منبعد\": \"بعد ذلك\",\n",
        "    \"تفتحش\": \"لا تفتح\",\n",
        "    \"ندير\": \"افعل\",\n",
        "    \"راه\": \"اصبح\",\n",
        "    \"لازم\": \"يجب\",\n",
        "    \"pix\": \"pixx\",\n",
        "    \"Twanty\": \"Twenty\",\n",
        "    \"orod\": \"prod\",\n",
        "    \"imtiyaaz\": \"imtiyaz\",\n",
        "    \"tm\": \"ok\",\n",
        "    \"نم\": \"تم\",\n",
        "    \"جداو\": \"جدا\",\n",
        "    \"زلب\": \"زبل\",\n",
        "    \"كونطرا\": \"عقد\",\n",
        "    \"شري\": \"شراء\",\n",
        "    \"توب\": \"رائع\",\n",
        "    \"جزل\": \"جزيلا\",\n",
        "    \"ياسر\": \"كثيرا\",\n",
        "    \"golde\": \"gold\",\n",
        "    \"mknch\": \"introuvable\",\n",
        "    \"rani\": \"je suis\",\n",
        "    \"شكرالكم\": \"شكرا لكم\",\n",
        "    \"viv\": \"vive\",\n",
        "    \"عتل\": \"ارسل\",\n",
        "    \"بعت\": \"ارسل\",\n",
        "    \"لاجونس\": \"مقر\",\n",
        "    \"rpnd\": \"repond\",\n",
        "    \"prv\": \"prive\",\n",
        "    \"svp\": \"s il vous plais\",\n",
        "    \"yennayer\": \"سنة\",\n",
        "    \"amervuh\": \"سعيدة\",\n",
        "    \"assgas\": \"assegas\",\n",
        "    \"asugas\": \"assegas\",\n",
        "    \"asegas\": \"assegas\",\n",
        "    \"amegaz\": \"amegas\",\n",
        "    \"amgaz\": \"amegas\",\n",
        "    \"amegaz\": \"amegas\",\n",
        "    \"amgaz\": \"amegas\",\n",
        "    \"amegaz\": \"amegas\",\n",
        "    \"خخ\": \"ضحك\",\n",
        "    \"هه\": \"ضحك\",\n",
        "    \"سبي\": \"سبيسيال\",\n",
        "    \"شبكهمشكورين\": \"شبكه مشكورين\",\n",
        "    \"يعطيكمصحه\": \"يعطيكم صحه\",\n",
        "    \"نشله\": \"ان شاء الله\",\n",
        "    \"عندوش\": \"لا يوجد\",\n",
        "    \"خفظو\": \"تخفيض\",\n",
        "    \"سء\": \"سؤال\",\n",
        "    \"مليحة\": \"حسن\",\n",
        "    \"مليحه\": \"حسن\",\n",
        "    \"وله\": \"و الله\",\n",
        "    \"مكمات\": \"مكالمات\",\n",
        "    \"وينتا\": \"متى\",\n",
        "    \"تدوها\": \"تاخذون\",\n",
        "    \"felawen\": \"tous\",\n",
        "    \"ya\": \"il y a\",\n",
        "    \"en\": \"في\",\n",
        "    \"panne\": \"عطل\",\n",
        "    \"happy\": \"سعيدة\",\n",
        "    \"koum\": \"votre\",\n",
        "    \"ayi\": \"faible\",\n",
        "    \"new\": \"جديدة\",\n",
        "    \"year\": \"سنة\",\n",
        "    \"years\": \"سنة\",\n",
        "    \"شنو\": \"ما هو\",\n",
        "    \"هدا\": \"هذا\",\n",
        "    \"شالنج\": \"تحدي\",\n",
        "    \"li\": \"qui\",\n",
        "    \"bghi\": \"aime\",\n",
        "    \"ndirlo\": \"faire\",\n",
        "    \"yji\": \"viens\",\n",
        "    \"lah\": \"pourquoi\",\n",
        "    \"raho\": \"que il\",\n",
        "    \"hbs\": \"arret\",\n",
        "    \"بر\": \"فقط\",\n",
        "    \"برك\": \"فقط\",\n",
        "    \"غي\": \"الا\",\n",
        "    \"غير\": \"الا\",\n",
        "    \"الي\": \"الى\",\n",
        "    \"حسنو\": \"اصلاح\",\n",
        "    \"سقمو\": \"اصلاح\",\n",
        "    \"جوند\": \"legend\",\n",
        "    \"يجاند\": \"legend\",\n",
        "    \"ليجند\": \"legend\",\n",
        "    \"ارطيا\": \"جزء\",\n",
        "    \"علجال\": \"من أجل\",\n",
        "    \"تثقال\": \"بطء\",\n",
        "    \"كون\": \"ليت\",\n",
        "    \"بغى\": \"اراد\",\n",
        "    \"يبغي\": \"يريد\",\n",
        "    \"نبغي\": \"نريد\",\n",
        "    \"تفرج\": \"مشاهدة\",\n",
        "    \"ماتش\": \"مباراة\",\n",
        "    \"رجا\": \"رجاء\",\n",
        "    \"متمشلكش\": \"لا تعمل\",\n",
        "    \"متمسيلكش\": \"لا تعمل\",\n",
        "    \"لايص\": \"اماكن\",\n",
        "    \"بلايص\": \"اماكن\",\n",
        "    \"بلاصة\": \"اماكن\",\n",
        "    \"نسقسي\": \"اسأل\",\n",
        "    \"اذ\": \"اذا\",\n",
        "    \"يمتي\": \"بلا حدود\",\n",
        "    \"اليميتي\": \"بلا حدود\",\n",
        "    \"خسني\": \"اريد\",\n",
        "    \"باطل\": \"مجانا\",\n",
        "    \"قولد\": \"gold\",\n",
        "    \"تعيف\": \"بطء\",\n",
        "    \"نسييو\": \"محاولة\",\n",
        "    \"نلعبو\": \"لعب\",\n",
        "    \"نكونو\": \"أكون\",\n",
        "    \"عب\": \"لعب\",\n",
        "    \"كف\": \"كيف\",\n",
        "    \"اللهيوفقناجميعاقولويارب\": \"الله يوفقنا جميع اقولو يارب\",\n",
        "    \"congratulations\": \"مبروك\",\n",
        "    \"berkaw\": \"arret\",\n",
        "    \"ser\": \"vole\",\n",
        "    \"تردوش\": \"لا تردون\",\n",
        "    \"هضرت\": \"تكلمت\",\n",
        "    \"باش\": \"لكي\",\n",
        "    \"تحلى\": \"حل\",\n",
        "    \"تحلي\": \"حل\",\n",
        "    \"لينا\": \"لنا\",\n",
        "    \"حض\": \"حظ\",\n",
        "    \"wech\": \"Quoi\",\n",
        "    \"ndirou\": \"faire\",\n",
        "    \"bach\": \"pour\",\n",
        "    \"nrebhou\": \"gagner\",\n",
        "    \"elfe\": \"mille\",\n",
        "    \"mabrok\": \"felicitations\",\n",
        "    \"koules\": \"tous\",\n",
        "    \"moucharikones\": \"participants\",\n",
        "    \"el\": \"les\",\n",
        "    \"mabrouk\": \"مبروك\",\n",
        "    \"اطوههالي\": \"اعطوها لي\",\n",
        "    \"شاب\": \"جميل\",\n",
        "    \"يعطيكمالصحة\": \"يعطيكم الصحة\",\n",
        "    \"illa\": \"lent\",\n",
        "    \"woww\": \"wow\",\n",
        "    \"يارب\": \"يا رب\",\n",
        "    \"كلشي\": \"كل شيء\",\n",
        "    \"كنكتي\": \"تواصل\",\n",
        "    \"مانكونيكتيش\": \"لا أتواصل\",\n",
        "    \"يووز\": \"yooz\",\n",
        "    \"يوز\": \"yooz\",\n",
        "    \"وش\": \"ما هو\",\n",
        "    \"وشمن\": \"اي\",\n",
        "    \"ديما\": \"dima\",\n",
        "    \"راه\": \"انه\",\n",
        "    \"معجبتنيش\": \"سيء\",\n",
        "    \"تحبسلي\": \"توقف\",\n",
        "    \"انتاع\": \"ل\",\n",
        "    \"لوس\": \"plus\",\n",
        "    \"شكراوريدو\": \"شكرا أوريدو\",\n",
        "    \"در\": \"فعل\",\n",
        "    \"رهي\": \"انه\",\n",
        "    \"كاين\": \"يوجد\",\n",
        "    \"مباغش\": \"لا يريد\",\n",
        "    \"يمدلي\": \"يعطيني\",\n",
        "    \"يخرجو\": \"خروج\",\n",
        "    \"اكتر\": \"أكثر\",\n",
        "    \"مايمشيش\": \"لا يعمل\",\n",
        "    \"سوايع\": \"ساعة\",\n",
        "    \"محبتش\": \"لا\",\n",
        "    \"جام\": \"مستحيل\",\n",
        "    \"جامي\": \"مستحيل\",\n",
        "    \"تمشلي\": \"تعمل\",\n",
        "    \"ريفي\": \"خاص\",\n",
        "    \"قاع\": \"كل\",\n",
        "    \"منربحش\": \"لا أربح\",\n",
        "    \"منربحوش\": \"لا أربح\",\n",
        "    \"نقارع\": \"صبر\",\n",
        "    \"مفتحتوهاليش\": \"لا تفتح\",\n",
        "    \"ابونمون\": \"اشتراك\",\n",
        "    \"مساج\": \"رسالة\",\n",
        "    \"رجعو\": \"رد\",\n",
        "    \"صحيتو\": \"شكرا\",\n",
        "    \"لاتوجد\": \"لا توجد\",\n",
        "    \"نلقاش\": \"لا أجد\",\n",
        "    \"ما نلقاش\": \"لا أجد\",\n",
        "    \"كريدي\": \"رصيد\",\n",
        "    \"ريبونديولنا\": \"رد\",\n",
        "    \"جد\": \"جدا\",\n",
        "    \"ينحيولي\": \"نزع\",\n",
        "    \"يحذفولي\": \"نزع\",\n",
        "    \"ماسلفت\": \"لم اقترض\",\n",
        "    \"مدايرا\": \"لم أفعل\",\n",
        "    \"راهي\": \"إنها\",\n",
        "    \"فور\": \"ممتاز\",\n",
        "    \"هايل\": \"ممتاز\",\n",
        "    \"مليح\": \"جيد\",\n",
        "    \"شابة\": \"جميل\",\n",
        "    \"ماصلحتليش\": \"لا تعمل\",\n",
        "    \"إستلاف\": \"قرض\",\n",
        "    \"خص\": \"اريد\",\n",
        "    \"هاذ\": \"هذا\",\n",
        "    \"شحال\": \"كم\",\n",
        "    \"تاكتيفيه\": \"تفعيل\",\n",
        "    \"حتان\": \"كي\",\n",
        "    \"كيفاش\": \"كيف\",\n",
        "    \"غلطة\": \"خطا\",\n",
        "    \"ختاريت\": \"خيار\",\n",
        "    \"ديالي\": \"خاص بي\",\n",
        "    \"حاب\": \"اريد\",\n",
        "    \"ويل\": \"أو\",\n",
        "    \"ابعث\": \"ارسال\",\n",
        "    \"goold\": \"gold\",\n",
        "    \"ماتجاوبوش\": \"عدم رد\",\n",
        "    \"مهدى\": \"هدية\",\n",
        "    \"واشهرالجاي\": \"شهر موالي\",\n",
        "    \"نخلصش\": \"لا أدفع\",\n",
        "    \"ابليس\": \"plus\",\n",
        "    \"تأكتيفها\": \"تفعيل\",\n",
        "    \"هيل\": \"hayla\",\n",
        "    \"هاذي\": \"هذه\",\n",
        "    \"وشمن\": \"ما هي\",\n",
        "    \"جزاير\": \"جزائر\",\n",
        "    \"معن\": \"معنى\",\n",
        "    \"فاه\": \"فيها\",\n",
        "    \"فاش\": \"اي\",\n",
        "    \"مكوبي\": \"مقطوع\",\n",
        "    \"مي\": \"لكن\",\n",
        "    \"مايمشيلك\": \"لا يعمل\",\n",
        "    \"نديرلهم\": \"اعمل لهم\",\n",
        "    \"تتمسخرو\": \"استهزاء\",\n",
        "    \"ريبونديو\": \"رد\",\n",
        "    \"plais\" : \"من فظلكم\",\n",
        "    \"كفاه\": \"كيف\",\n",
        "    \"ندموندي\": \"طلب\",\n",
        "    \"دخلتو\": \"ادخال\",\n",
        "    \"العالميه\": \"عالمية\",\n",
        "    \"قات\": \"بقي\",\n",
        "    \"بقات\": \"بقي\",\n",
        "    \"nechlh\": \"incha allah\",\n",
        "    \"jdida\": \"جديد\",\n",
        "    \"كيفما\": \"كيف\",\n",
        "    \"اندير\": \"افعل\",\n",
        "    \"ذيم\": \"دائما\",\n",
        "    \"وين\": \"أين\",\n",
        "    \"راهي\": \"هي\",\n",
        "    \"ماندمت\": \"ندم\",\n",
        "    \"حشو\": \"خدعة\",\n",
        "    \"حشوة\": \"خدعة\",\n",
        "    \"انشاءاللهتكونمننصيبي\": \"ان شاء الله تكون من نصيبي\",\n",
        "    \"نتمنالهم\": \"اتمنى\",\n",
        "    \"راحوش\": \"لم يذهب\",\n",
        "    \"بادن\": \"باذن\",\n",
        "    \"الي\": \"الذي\",\n",
        "    \"تغلقلو\": \"غلق\",\n",
        "    \"نيمروه\": \"رقم\",\n",
        "    \"يسترجعو\": \"استرجاع\",\n",
        "    \"رانيني\": \"ranini\",\n",
        "    \"عقوبة\": \"عاقبة\",\n",
        "    \"قوب\": \"عاقبة\",\n",
        "    \"حطو\": \"وضع\",\n",
        "    \"لينا\": \"لنا\",\n",
        "    \"ستمرار\": \"مستمر\",\n",
        "    \"لابيلكاسيو\": \"تطبيق\",\n",
        "    \"لبليكاسيو\": \"تطبيق\",\n",
        "    \"متمشيش\": \"لا تعمل\",\n",
        "    \"حبستوها\": \"توقف\",\n",
        "    \"حمال\": \"تحميل\",\n",
        "    \"مزان\": \"ميزان\",\n",
        "    \"جيه\": \"جهة\",\n",
        "    \"فلاترددو\": \"فلا تترددو\",\n",
        "    \"خدمهوعروضاطاقم\": \"خدمة و عروض طاقم\",\n",
        "    \"فلعاصمة\": \"في عاصمة\",\n",
        "    \"nztjwice\": \" \",\n",
        "    \"refvf\": \" \",\n",
        "    \"b\": \" \",\n",
        "    \"br\": \" \",\n",
        "    \"ابار\": \"يبارك\",\n",
        "    \"يحفضكم\": \"يحفظكم\",\n",
        "    \"يلوس\": \"plus\",\n",
        "    \"تاه\": \"متى\",\n",
        "    \"بف\": \" \",\n",
        "    \"sagmou\": \"regler\",\n",
        "    \"شويش\": \"switch\",\n",
        "    \"بغية\": \"اريد\",\n",
        "    \"dialkom\": \"vous\",\n",
        "    \"sahel\": \"facile\",\n",
        "    \"toop\": \"top\",\n",
        "    \"هنيء\": \"مبروك\",\n",
        "    \"puse\": \"sim\",\n",
        "    \"pui\": \"puis\",\n",
        "    \"nerbah\": \"gagne\",\n",
        "    \"ghir\": \"sauf\",\n",
        "    \"بيان\": \"جيدا\",\n",
        "    \"ماتمشيش\": \"لا تعمل\",\n",
        "    \"نحافضو\": \"حفاظ\",\n",
        "    \"تخلاص\": \"انتهاء\",\n",
        "    \"متعرفش\": \"لا تعلم\",\n",
        "    \"خاصتا\": \"خاصة\",\n",
        "    \"وفى\": \"و في\",\n",
        "    \"ظل\": \"دائما\",\n",
        "    \"مدرتو\": \"لم تفعلو\",\n",
        "    \"لموبليس\": \"موبيليس\",\n",
        "    \"را\": \"انه\",\n",
        "    \"صر\": \"حدث\",\n",
        "    \"rah\": \"il est\",\n",
        "    \"gae\": \"tous\",\n",
        "    \"dok\": \"maintenant\",\n",
        "    \"لابليكاسيون\": \"تطبيق\",\n",
        "    \"كلش\": \"كل\",\n",
        "    \"مشاءالله\": \"ما شاء الله\",\n",
        "    \"حبس\": \"توقف\",\n",
        "    \"زيد\": \"ايضا\",\n",
        "    \"تسرقو\": \"سرق\",\n",
        "    \"تاكتيفي\": \"تفعيل\",\n",
        "    \"زوعاماء\": \"زعماء\",\n",
        "    \"ul\": \" \",\n",
        "    \"كدب\": \"كذب\",\n",
        "    \"ميقراسيون\": \"تبديل\",\n",
        "    \"شح\": \"كم\",\n",
        "    \"فيهاش\": \"لا يوجد\",\n",
        "    \"نجاوب\": \"اجيب\",\n",
        "    \"راحت\": \"ذهب\",\n",
        "    \"متسواش\": \"سيء\",\n",
        "    \"تعكم\": \"خاص بكم\",\n",
        "    \"حقاهايلة\": \"ممتاز\",\n",
        "    \"صرقولي\": \"سرق\",\n",
        "    \"صرق\": \"سرق\",\n",
        "    \"ويني\": \"اين\",\n",
        "    \"حمدلله\": \"حمد لله\",\n",
        "    \"رحمن\": \"رحمان\",\n",
        "    \"نشال\": \"شاء الله\",\n",
        "    \"ماشاء\": \"ما شاء\",\n",
        "    \"تنحولي\": \"نزع\",\n",
        "    \"خمسلاف\": \"خمسة ألف\",\n",
        "    \"خمسلاف\": \"خمسة ألف\",\n",
        "    \"مفعلتهاش\": \"لا تفعيل\",\n",
        "    \"سرقتولي\": \"سرق\",\n",
        "    \"لكريدي\": \"رصيد\",\n",
        "    \"انترنتوراها\": \"اين انترنت\",\n",
        "    \"تعييف\": \"سيء\",\n",
        "    \"تعيف\": \"سيء\",\n",
        "    \"ضك\": \"الان\",\n",
        "    \"جزى\": \"جزاك\",\n",
        "    \"نشاء\": \"ان شاء\",\n",
        "    \"إنشاءالله\": \"ان شاء الله\",\n",
        "    \"نشالله\": \"ان شاء الله\",\n",
        "    \"شاءالله\": \"شاء الله\"\n",
        "}\n",
        "\n",
        "def replace_abbreviations(text):\n",
        "    words = text.split()\n",
        "    return ' '.join([abbreviations[word] if word in abbreviations else word for word in words])\n",
        "\n",
        "comments_df['Comments'] = comments_df['Comments'].apply(replace_abbreviations)"
      ]
    },
    {
      "cell_type": "markdown",
      "id": "604f868c",
      "metadata": {
        "id": "604f868c"
      },
      "source": [
        "### <span style=\"color: #E30613;\">**2.6. Regroupement phonétique**</span>"
      ]
    },
    {
      "cell_type": "code",
      "execution_count": 28,
      "id": "169074c5",
      "metadata": {
        "execution": {
          "iopub.execute_input": "2025-03-04T23:17:06.020547Z",
          "iopub.status.busy": "2025-03-04T23:17:06.020043Z",
          "iopub.status.idle": "2025-03-04T23:17:06.059759Z",
          "shell.execute_reply": "2025-03-04T23:17:06.058423Z"
        },
        "id": "169074c5",
        "papermill": {
          "duration": 0.053207,
          "end_time": "2025-03-04T23:17:06.062065",
          "exception": false,
          "start_time": "2025-03-04T23:17:06.008858",
          "status": "completed"
        },
        "tags": []
      },
      "outputs": [],
      "source": [
        "import re\n",
        "\n",
        "# Dictionnaire de regroupement phonétique\n",
        "phonetic_groups = {\n",
        "    \"تعبئة\": [\"كنفليكسيو\", \"نفليكسي\", \"نفليكسيو\", \"فليكس\", \"تفليكسي\", \"فليكسولنا\", \"نفلبكسى\", \"فليكسيت\", \"كسي\", \"فليكسي\"],\n",
        "    \"connexion\": [\"conx\", \"cnx\", \"ncx\", \"conexion\", \"connection\"],\n",
        "    \"reseau\": [\"wrizo\", \"rizo\", \"riso\", \"rysou\", \"resou\", \"risou\"],\n",
        "    \"اصلاح\": [\"ريقلوه\", \"ريقلو\", \"صلحو\", \"ريقولو\", \"صلحونا\", \"عدلو\", \"ريغلونا\", \"رقليو\", \"تريغليونا\", \"لوتصلحولينا\", \"تريقلونا\", \"وريقليو\"],\n",
        "    \"شبكة\": [\"ريزو\", \"اريزو\", \"الريزو\", \"ااريزو\", \"خط\", \"خطي\", \"رزو\"],\n",
        "    \"ما به\": [\"واشي\", \"واش به\", \"وشبيه\", \"شبيه\"],\n",
        "    \"لا يوجد\": [\"ماكاش\", \"مكانش\", \"مكاش\", \"مكااش\", \"والو\", \"معنديش\", \"الو\"],\n",
        "    \"أي\": [\"كش\", \"كاش\"],\n",
        "    \"انترنت\": [\"كونيكسيون\", \"كونكسيو\", \"كونكزيون\", \"كونيكسيو\", \"ليدوني\", \"انترنات\", \"انترنيت\",\"نترنت\", \"أنترنات\", \"الكنكسيو\", \"الانثرنات\", \"الانترنت\", \"أنترنت\",  \"اترنات\", \"الكونيكسيوو\", \"نت\", \"لكونيكسيو\", \"كنكسيو\", \"كونيكسو\", \"انترن\"],\n",
        "    \"جازي\": [\"جايز\", \"جاز\", \"دجيزي\", \"دجزي\", \"جيزي\", \"جايزي\"],\n",
        "    \"اسقاس\": [\"اسوكاس\", \"اصكاس\", \"اسيقاس\", \"اسكاس\"],\n",
        "    \"امقاز\": [\"أموقاز\", \"امكاز\"],\n",
        "    \"رمز\": [\"كود\", \"رزم\"],\n",
        "    \"بارك\": [\"بارى\", \"بيار\", \"باراك\", \"يبارك\"],\n",
        "    \"شريحة\": [\"لابيس\", \"لبيس\", \"بيس\", \"لابوس\", \"لبييس\", \"ليبيس\", \"بوس\", \"سبيسي\", \"لبووس\", \"pis\"],\n",
        "    \"اوريدو\": [\"اريدوو\", \"لأوريد\", \"ياؤريدوا\", \"اوريدوا\", \"واوريدو\", \"ااوريدو\", \"اريدو\"],\n",
        "    \"ان شاء\": [\"إنشاء\", \"نشالله\", \"انشاء\"],\n",
        "    \"ilimite\": [\"ilm\", \"ilmt\", \"ilimiti\", \"ilim\"],\n",
        "}\n",
        "\n",
        "# Création d’un mapping inverse (pour accélérer la recherche)\n",
        "phonetic_mapping = {}\n",
        "for standard, variations in phonetic_groups.items():\n",
        "    for variant in variations:\n",
        "        phonetic_mapping[variant] = standard\n",
        "\n",
        "# Fonction de remplacement des variantes phonétiques\n",
        "def replace_phonetic_variants(text):\n",
        "    words = text.split()\n",
        "    return ' '.join([phonetic_mapping[word] if word in phonetic_mapping else word for word in words])\n",
        "\n",
        "comments_df['Comments'] = comments_df['Comments'].apply(replace_phonetic_variants)\n",
        "\n",
        "def normalize_arabic(text):\n",
        "    text = text.lower()\n",
        "    text = re.sub(\"[إأآا]\", \"ا\", text)\n",
        "    return text\n",
        "\n",
        "# Appliquer la normalisation\n",
        "comments_df[\"Comments\"] = comments_df[\"Comments\"].apply(normalize_arabic)"
      ]
    },
    {
      "cell_type": "markdown",
      "id": "89d72b7d",
      "metadata": {
        "id": "89d72b7d",
        "papermill": {
          "duration": 0.008418,
          "end_time": "2025-03-04T23:17:05.451409",
          "exception": false,
          "start_time": "2025-03-04T23:17:05.442991",
          "status": "completed"
        },
        "tags": []
      },
      "source": [
        "### <span style=\"color: #E30613;\">**2.7. Nettoyage des données**</span>"
      ]
    },
    {
      "cell_type": "code",
      "execution_count": 29,
      "id": "6b09bead",
      "metadata": {
        "colab": {
          "base_uri": "https://localhost:8080/",
          "height": 458
        },
        "execution": {
          "iopub.execute_input": "2025-03-04T23:17:05.470161Z",
          "iopub.status.busy": "2025-03-04T23:17:05.469729Z",
          "iopub.status.idle": "2025-03-04T23:17:05.848265Z",
          "shell.execute_reply": "2025-03-04T23:17:05.846946Z"
        },
        "id": "6b09bead",
        "outputId": "463440dd-663b-4187-c385-f061474d9c8e",
        "papermill": {
          "duration": 0.390991,
          "end_time": "2025-03-04T23:17:05.851076",
          "exception": false,
          "start_time": "2025-03-04T23:17:05.460085",
          "status": "completed"
        },
        "tags": []
      },
      "outputs": [
        {
          "data": {
            "text/plain": [
              "1       سلام عليكم ورحمة لديا مشكلة   تعبئة   و بدات ت...\n",
              "2                                      كل عام و انتم بخير\n",
              "3                                      كل عام و انتم بخير\n",
              "4                                       كل عام و نحن بخير\n",
              "6                                                      حب\n",
              "                              ...                        \n",
              "4095    سلام عليكم اوريدو عندي مشكل كل مرة تعبئة نزع خ...\n",
              "4097                                               حب  حب\n",
              "4098                                          حب حب حب حب\n",
              "4099                                 حب حب حب حب حب حب حب\n",
              "4101                                       حب  حب  حب  حب\n",
              "Name: Comments, Length: 3645, dtype: object"
            ]
          },
          "execution_count": 29,
          "metadata": {},
          "output_type": "execute_result"
        }
      ],
      "source": [
        "import emoji\n",
        "\n",
        "def clean_text(text):\n",
        "    text = emoji.replace_emoji(text, replace=\" \")  # Supprimer les emojis\n",
        "    text = re.sub(r'http\\S+|https\\S+', \" \", str(text))  # Supprimer les hyperliens\n",
        "    text = re.sub(r'((www\\.[^\\s]+)|(https?://[^\\s]+))', \" \", str(text))  # Supprimer les URL\n",
        "    text = re.sub(r'@\\S+', '', str(text))  # Supprimer les mentions @\n",
        "    text = text.replace(\"_\", \" \").replace(\"#\", \"\")  # Supprimer # et _\n",
        "    text = text.replace(\"'\", \" \")  # Supprimer '\n",
        "    text = re.sub(r'\\.|,|،|؛', \" \", text)  # Supprimer certaines ponctuations\n",
        "\n",
        "    # Supprimer les mots réservés\n",
        "    text = re.sub(r'\\bRT\\b|\\bRetweeted\\b', \" \", text)\n",
        "    reserved_words = r'\\b(?:h{1,2}|m{1,2}|s{1,2}|Da|da|DA|Euro|جيغات|يورو|أورو|g|جيكا|جيقا|جيقي|km|kilometre|m|qr|mb|gb|حي|giga|milles|esim|Mo|mo|ko|mega|Go|جيغا|جيجا|ساعة|دج|دينار(?: جزائري)?|Dollars?|دولار|Algérie)\\b'\n",
        "    text = re.sub(reserved_words, \" \", text, flags=re.IGNORECASE)\n",
        "\n",
        "    # Supprimer les voyelles courtes arabes (حركات)\n",
        "    harakat = r\"[\\u064B-\\u0652]\"\n",
        "    text = re.sub(harakat, '', text)\n",
        "\n",
        "    text = re.sub(r\"(.)\\1{2,}\", r\"\\1\", text)  # Supprimer les caractères consécutifs en double\n",
        "    text = re.sub(r'\\d+', \" \", text)  # Supprimer les chiffres\n",
        "    text = text.replace('\\n', \" \").replace('/', \" \")  # Supprimer sauts de ligne et /\n",
        "    text = re.sub(r'[^\\w\\s]', \" \", text)  # Supprimer les caractères spéciaux\n",
        "\n",
        "    return text.strip()\n",
        "\n",
        "# Appliquer le nettoyage aux commentaires\n",
        "comments_df[\"Comments\"] = comments_df[\"Comments\"].apply(clean_text)\n",
        "\n",
        "# Remplacer les valeurs nulles par une chaîne vide\n",
        "comments_df[\"Comments\"] = comments_df[\"Comments\"].fillna('')\n",
        "\n",
        "# Supprimer les lignes vides après nettoyage\n",
        "comments_df = comments_df.dropna(subset=[\"Comments\"])\n",
        "comments_df = comments_df[comments_df[\"Comments\"].str.strip() != \"\"]\n",
        "\n",
        "# Afficher les commentaires nettoyés\n",
        "comments_df[\"Comments\"]"
      ]
    },
    {
      "cell_type": "markdown",
      "id": "82b9383f",
      "metadata": {
        "id": "82b9383f",
        "papermill": {
          "duration": 0.008862,
          "end_time": "2025-03-04T23:17:06.140871",
          "exception": false,
          "start_time": "2025-03-04T23:17:06.132009",
          "status": "completed"
        },
        "tags": []
      },
      "source": [
        "### <span style=\"color: #E30613;\">**2.7. Stop word**</span>"
      ]
    },
    {
      "cell_type": "markdown",
      "id": "70272a0f",
      "metadata": {
        "id": "70272a0f",
        "papermill": {
          "duration": 0.009009,
          "end_time": "2025-03-04T23:17:06.159148",
          "exception": false,
          "start_time": "2025-03-04T23:17:06.150139",
          "status": "completed"
        },
        "tags": []
      },
      "source": [
        "Les **Stop Words** ou bien les **mots vides** sont des mots couramment utilisés qui sont généralement ignorés par les moteurs de recherche, tels que **the**, **اللذين**, **إن**, etc. Ces mots sont supprimés pour :\n",
        "\n",
        "- **Économiser de l’espace** dans la base de données.\n",
        "- **Réduire le temps de traitement**.\n",
        "\n",
        "Dans cette étape, nous allons utiliser le package **NLTK** pour supprimer ces mots vides.\n",
        "\n",
        "#### <span style=\"color: #28A745;\">Pourquoi utiliser NLTK ?</span>\n",
        "Le package **NLTK** (Natural Language Toolkit) est utilisé pour traiter le langage naturel en Python. Il contient une liste de **stop words** pour plusieurs langues, notamment : **Arabe**, **Français**, et bien d’autres."
      ]
    },
    {
      "cell_type": "code",
      "execution_count": 30,
      "id": "f4dd022c",
      "metadata": {
        "colab": {
          "base_uri": "https://localhost:8080/"
        },
        "execution": {
          "iopub.execute_input": "2025-03-04T23:17:06.178944Z",
          "iopub.status.busy": "2025-03-04T23:17:06.178536Z",
          "iopub.status.idle": "2025-03-04T23:17:08.881988Z",
          "shell.execute_reply": "2025-03-04T23:17:08.880454Z"
        },
        "id": "f4dd022c",
        "outputId": "8c0ae18c-3d2b-4ddc-c8b1-4a6bc0eff984",
        "papermill": {
          "duration": 2.715631,
          "end_time": "2025-03-04T23:17:08.883932",
          "exception": false,
          "start_time": "2025-03-04T23:17:06.168301",
          "status": "completed"
        },
        "tags": []
      },
      "outputs": [
        {
          "name": "stdout",
          "output_type": "stream",
          "text": [
            "['إذ', 'إذا', 'إذما', 'إذن', 'أف', 'أقل', 'أكثر', 'ألا', 'إلا', 'التي', 'الذي', 'الذين', 'اللاتي', 'اللائي', 'اللتان', 'اللتيا', 'اللتين', 'اللذان', 'اللذين', 'اللواتي', 'إلى', 'إليك', 'إليكم', 'إليكما', 'إليكن', 'أم', 'أما', 'أما', 'إما', 'أن', 'إن', 'إنا', 'أنا', 'أنت', 'أنتم', 'أنتما', 'أنتن', 'إنما', 'إنه', 'أنى', 'أنى', 'آه', 'آها', 'أو', 'أولاء', 'أولئك', 'أوه', 'آي', 'أي', 'أيها', 'إي', 'أين', 'أين', 'أينما', 'إيه', 'بخ', 'بس', 'بعد', 'بعض', 'بك', 'بكم', 'بكم', 'بكما', 'بكن', 'بل', 'بلى', 'بما', 'بماذا', 'بمن', 'بنا', 'به', 'بها', 'بهم', 'بهما', 'بهن', 'بي', 'بين', 'بيد', 'تلك', 'تلكم', 'تلكما', 'ته', 'تي', 'تين', 'تينك', 'ثم', 'ثمة', 'حاشا', 'حبذا', 'حتى', 'حيث', 'حيثما', 'حين', 'خلا', 'دون', 'ذا', 'ذات', 'ذاك', 'ذان', 'ذانك', 'ذلك', 'ذلكم', 'ذلكما', 'ذلكن', 'ذه', 'ذو', 'ذوا', 'ذواتا', 'ذواتي', 'ذي', 'ذين', 'ذينك', 'ريث', 'سوف', 'سوى', 'شتان', 'عدا', 'عسى', 'عل', 'على', 'عليك', 'عليه', 'عما', 'عن', 'عند', 'غير', 'فإذا', 'فإن', 'فلا', 'فمن', 'في', 'فيم', 'فيما', 'فيه', 'فيها', 'قد', 'كأن', 'كأنما', 'كأي', 'كأين', 'كذا', 'كذلك', 'كل', 'كلا', 'كلاهما', 'كلتا', 'كلما', 'كليكما', 'كليهما', 'كم', 'كم', 'كما', 'كي', 'كيت', 'كيف', 'كيفما', 'لا', 'لاسيما', 'لدى', 'لست', 'لستم', 'لستما', 'لستن', 'لسن', 'لسنا', 'لعل', 'لك', 'لكم', 'لكما', 'لكن', 'لكنما', 'لكي', 'لكيلا', 'لم', 'لما', 'لن', 'لنا', 'له', 'لها', 'لهم', 'لهما', 'لهن', 'لو', 'لولا', 'لوما', 'لي', 'لئن', 'ليت', 'ليس', 'ليسا', 'ليست', 'ليستا', 'ليسوا', 'ما', 'ماذا', 'متى', 'مذ', 'مع', 'مما', 'ممن', 'من', 'منه', 'منها', 'منذ', 'مه', 'مهما', 'نحن', 'نحو', 'نعم', 'ها', 'هاتان', 'هاته', 'هاتي', 'هاتين', 'هاك', 'هاهنا', 'هذا', 'هذان', 'هذه', 'هذي', 'هذين', 'هكذا', 'هل', 'هلا', 'هم', 'هما', 'هن', 'هنا', 'هناك', 'هنالك', 'هو', 'هؤلاء', 'هي', 'هيا', 'هيت', 'هيهات', 'والذي', 'والذين', 'وإذ', 'وإذا', 'وإن', 'ولا', 'ولكن', 'ولو', 'وما', 'ومن', 'وهو', 'يا', 'أبٌ', 'أخٌ', 'حمٌ', 'فو', 'أنتِ', 'يناير', 'فبراير', 'مارس', 'أبريل', 'مايو', 'يونيو', 'يوليو', 'أغسطس', 'سبتمبر', 'أكتوبر', 'نوفمبر', 'ديسمبر', 'جانفي', 'فيفري', 'مارس', 'أفريل', 'ماي', 'جوان', 'جويلية', 'أوت', 'كانون', 'شباط', 'آذار', 'نيسان', 'أيار', 'حزيران', 'تموز', 'آب', 'أيلول', 'تشرين', 'دولار', 'دينار', 'ريال', 'درهم', 'ليرة', 'جنيه', 'قرش', 'مليم', 'فلس', 'هللة', 'سنتيم', 'يورو', 'ين', 'يوان', 'شيكل', 'واحد', 'اثنان', 'ثلاثة', 'أربعة', 'خمسة', 'ستة', 'سبعة', 'ثمانية', 'تسعة', 'عشرة', 'أحد', 'اثنا', 'اثني', 'إحدى', 'ثلاث', 'أربع', 'خمس', 'ست', 'سبع', 'ثماني', 'تسع', 'عشر', 'ثمان', 'سبت', 'أحد', 'اثنين', 'ثلاثاء', 'أربعاء', 'خميس', 'جمعة', 'أول', 'ثان', 'ثاني', 'ثالث', 'رابع', 'خامس', 'سادس', 'سابع', 'ثامن', 'تاسع', 'عاشر', 'حادي', 'أ', 'ب', 'ت', 'ث', 'ج', 'ح', 'خ', 'د', 'ذ', 'ر', 'ز', 'س', 'ش', 'ص', 'ض', 'ط', 'ظ', 'ع', 'غ', 'ف', 'ق', 'ك', 'ل', 'م', 'ن', 'ه', 'و', 'ي', 'ء', 'ى', 'آ', 'ؤ', 'ئ', 'أ', 'ة', 'ألف', 'باء', 'تاء', 'ثاء', 'جيم', 'حاء', 'خاء', 'دال', 'ذال', 'راء', 'زاي', 'سين', 'شين', 'صاد', 'ضاد', 'طاء', 'ظاء', 'عين', 'غين', 'فاء', 'قاف', 'كاف', 'لام', 'ميم', 'نون', 'هاء', 'واو', 'ياء', 'همزة', 'ي', 'نا', 'ك', 'كن', 'ه', 'إياه', 'إياها', 'إياهما', 'إياهم', 'إياهن', 'إياك', 'إياكما', 'إياكم', 'إياك', 'إياكن', 'إياي', 'إيانا', 'أولالك', 'تانِ', 'تانِك', 'تِه', 'تِي', 'تَيْنِ', 'ثمّ', 'ثمّة', 'ذانِ', 'ذِه', 'ذِي', 'ذَيْنِ', 'هَؤلاء', 'هَاتانِ', 'هَاتِه', 'هَاتِي', 'هَاتَيْنِ', 'هَذا', 'هَذانِ', 'هَذِه', 'هَذِي', 'هَذَيْنِ', 'الألى', 'الألاء', 'أل', 'أنّى', 'أيّ', 'ّأيّان', 'أنّى', 'أيّ', 'ّأيّان', 'ذيت', 'كأيّ', 'كأيّن', 'بضع', 'فلان', 'وا', 'آمينَ', 'آهِ', 'آهٍ', 'آهاً', 'أُفٍّ', 'أُفٍّ', 'أفٍّ', 'أمامك', 'أمامكَ', 'أوّهْ', 'إلَيْكَ', 'إلَيْكَ', 'إليكَ', 'إليكنّ', 'إيهٍ', 'بخٍ', 'بسّ', 'بَسْ', 'بطآن', 'بَلْهَ', 'حاي', 'حَذارِ', 'حيَّ', 'حيَّ', 'دونك', 'رويدك', 'سرعان', 'شتانَ', 'شَتَّانَ', 'صهْ', 'صهٍ', 'طاق', 'طَق', 'عَدَسْ', 'كِخ', 'مكانَك', 'مكانَك', 'مكانَك', 'مكانكم', 'مكانكما', 'مكانكنّ', 'نَخْ', 'هاكَ', 'هَجْ', 'هلم', 'هيّا', 'هَيْهات', 'وا', 'واهاً', 'وراءَك', 'وُشْكَانَ', 'وَيْ', 'يفعلان', 'تفعلان', 'يفعلون', 'تفعلون', 'تفعلين', 'اتخذ', 'ألفى', 'تخذ', 'ترك', 'تعلَّم', 'جعل', 'حجا', 'حبيب', 'خال', 'حسب', 'خال', 'درى', 'رأى', 'زعم', 'صبر', 'ظنَّ', 'عدَّ', 'علم', 'غادر', 'ذهب', 'وجد', 'ورد', 'وهب', 'أسكن', 'أطعم', 'أعطى', 'رزق', 'زود', 'سقى', 'كسا', 'أخبر', 'أرى', 'أعلم', 'أنبأ', 'حدَث', 'خبَّر', 'نبَّا', 'أفعل به', 'ما أفعله', 'بئس', 'ساء', 'طالما', 'قلما', 'لات', 'لكنَّ', 'ءَ', 'أجل', 'إذاً', 'أمّا', 'إمّا', 'إنَّ', 'أنًّ', 'أى', 'إى', 'أيا', 'ب', 'ثمَّ', 'جلل', 'جير', 'رُبَّ', 'س', 'علًّ', 'ف', 'كأنّ', 'كلَّا', 'كى', 'ل', 'لات', 'لعلَّ', 'لكنَّ', 'لكنَّ', 'م', 'نَّ', 'هلّا', 'وا', 'أل', 'إلّا', 'ت', 'ك', 'لمّا', 'ن', 'ه', 'و', 'ا', 'ي', 'تجاه', 'تلقاء', 'جميع', 'حسب', 'سبحان', 'شبه', 'لعمر', 'مثل', 'معاذ', 'أبو', 'أخو', 'حمو', 'فو', 'مئة', 'مئتان', 'ثلاثمئة', 'أربعمئة', 'خمسمئة', 'ستمئة', 'سبعمئة', 'ثمنمئة', 'تسعمئة', 'مائة', 'ثلاثمائة', 'أربعمائة', 'خمسمائة', 'ستمائة', 'سبعمائة', 'ثمانمئة', 'تسعمائة', 'عشرون', 'ثلاثون', 'اربعون', 'خمسون', 'ستون', 'سبعون', 'ثمانون', 'تسعون', 'عشرين', 'ثلاثين', 'اربعين', 'خمسين', 'ستين', 'سبعين', 'ثمانين', 'تسعين', 'بضع', 'نيف', 'أجمع', 'جميع', 'عامة', 'عين', 'نفس', 'لا سيما', 'أصلا', 'أهلا', 'أيضا', 'بؤسا', 'بعدا', 'بغتة', 'تعسا', 'حقا', 'حمدا', 'خلافا', 'خاصة', 'دواليك', 'سحقا', 'سرا', 'سمعا', 'صبرا', 'صدقا', 'صراحة', 'طرا', 'عجبا', 'عيانا', 'غالبا', 'فرادى', 'فضلا', 'قاطبة', 'كثيرا', 'لبيك', 'معاذ', 'أبدا', 'إزاء', 'أصلا', 'الآن', 'أمد', 'أمس', 'آنفا', 'آناء', 'أنّى', 'أول', 'أيّان', 'تارة', 'ثمّ', 'ثمّة', 'حقا', 'صباح', 'مساء', 'ضحوة', 'عوض', 'غدا', 'غداة', 'قطّ', 'كلّما', 'لدن', 'لمّا', 'مرّة', 'قبل', 'خلف', 'أمام', 'فوق', 'تحت', 'يمين', 'شمال', 'ارتدّ', 'استحال', 'أصبح', 'أضحى', 'آض', 'أمسى', 'انقلب', 'بات', 'تبدّل', 'تحوّل', 'حار', 'رجع', 'راح', 'صار', 'ظلّ', 'عاد', 'غدا', 'كان', 'ما انفك', 'ما برح', 'مادام', 'مازال', 'مافتئ', 'ابتدأ', 'أخذ', 'اخلولق', 'أقبل', 'انبرى', 'أنشأ', 'أوشك', 'جعل', 'حرى', 'شرع', 'طفق', 'علق', 'قام', 'كرب', 'كاد', 'هبّ']\n",
            "['au', 'aux', 'avec', 'ce', 'ces', 'dans', 'de', 'des', 'du', 'elle', 'en', 'et', 'eux', 'il', 'ils', 'je', 'la', 'le', 'les', 'leur', 'lui', 'ma', 'mais', 'me', 'même', 'mes', 'moi', 'mon', 'ne', 'nos', 'notre', 'nous', 'on', 'ou', 'par', 'pas', 'pour', 'qu', 'que', 'qui', 'sa', 'se', 'ses', 'son', 'sur', 'ta', 'te', 'tes', 'toi', 'ton', 'tu', 'un', 'une', 'vos', 'votre', 'vous', 'c', 'd', 'j', 'l', 'à', 'm', 'n', 's', 't', 'y', 'été', 'étée', 'étées', 'étés', 'étant', 'étante', 'étants', 'étantes', 'suis', 'es', 'est', 'sommes', 'êtes', 'sont', 'serai', 'seras', 'sera', 'serons', 'serez', 'seront', 'serais', 'serait', 'serions', 'seriez', 'seraient', 'étais', 'était', 'étions', 'étiez', 'étaient', 'fus', 'fut', 'fûmes', 'fûtes', 'furent', 'sois', 'soit', 'soyons', 'soyez', 'soient', 'fusse', 'fusses', 'fût', 'fussions', 'fussiez', 'fussent', 'ayant', 'ayante', 'ayantes', 'ayants', 'eu', 'eue', 'eues', 'eus', 'ai', 'as', 'avons', 'avez', 'ont', 'aurai', 'auras', 'aura', 'aurons', 'aurez', 'auront', 'aurais', 'aurait', 'aurions', 'auriez', 'auraient', 'avais', 'avait', 'avions', 'aviez', 'avaient', 'eut', 'eûmes', 'eûtes', 'eurent', 'aie', 'aies', 'ait', 'ayons', 'ayez', 'aient', 'eusse', 'eusses', 'eût', 'eussions', 'eussiez', 'eussent']\n"
          ]
        },
        {
          "name": "stderr",
          "output_type": "stream",
          "text": [
            "[nltk_data] Downloading package stopwords to\n",
            "[nltk_data]     C:\\Users\\kikoo\\AppData\\Roaming\\nltk_data...\n",
            "[nltk_data]   Package stopwords is already up-to-date!\n"
          ]
        }
      ],
      "source": [
        "# import necessary libraries\n",
        "import nltk\n",
        "from nltk.corpus import stopwords\n",
        "\n",
        "# Charger les stopwords pour l'arabe et le français\n",
        "nltk.download('stopwords')\n",
        "arabic_stopwords = set(stopwords.words('arabic'))\n",
        "french_stopwords = set(stopwords.words('french'))\n",
        "\n",
        "# Affiche quelques mots (stop-words)\n",
        "print(stopwords.words('arabic'))\n",
        "\n",
        "# Affiche quelques mots (stop-words)\n",
        "print(stopwords.words('french'))"
      ]
    },
    {
      "cell_type": "code",
      "execution_count": 31,
      "id": "dabf8757",
      "metadata": {
        "colab": {
          "base_uri": "https://localhost:8080/"
        },
        "execution": {
          "iopub.execute_input": "2025-03-04T23:17:08.935589Z",
          "iopub.status.busy": "2025-03-04T23:17:08.935243Z",
          "iopub.status.idle": "2025-03-04T23:17:08.943878Z",
          "shell.execute_reply": "2025-03-04T23:17:08.942540Z"
        },
        "id": "dabf8757",
        "outputId": "303e51f3-01b6-40d4-adcd-d4b88ff5ff40",
        "papermill": {
          "duration": 0.02095,
          "end_time": "2025-03-04T23:17:08.945635",
          "exception": false,
          "start_time": "2025-03-04T23:17:08.924685",
          "status": "completed"
        },
        "tags": []
      },
      "outputs": [
        {
          "name": "stdout",
          "output_type": "stream",
          "text": [
            "['لعمر', 'قطّ', 'الذي', 'عشرون', 'وَيْ', 'ز', 'أف', 'بغتة', 'ذواتي', 'هَاتانِ', 'كان', 'آي', 'متى', 'لمّا', 'إياك', 'إياه', 'إي', 'شتان', 'رابع', 'هما', 'خبَّر', 'ذو', 'ليرة', 'إياها', 'رُبَّ', 'بي', 'ذَيْنِ', 'قبل', 'إنَّ', 'فو', 'أول', 'إليك', 'دولار', 'صدقا', 'هَاتِي', 'ظاء', 'أفٍّ', 'اربعين', 'ستمائة', 'عَدَسْ', 'بَلْهَ', 'خال', 'بكن', 'مما', 'سنتيم', 'ذِي', 'آهِ', 'فيه', 'اللتان', 'سبع', 'جانفي', 'كأين', 'كأنما', 'سمعا', 'كِخ', 'زاي', 'سوف', 'مهما', 'حبيب', 'نا', 'كيف', 'إن', 'ذي', 'لهما', 'ريال', 'ديسمبر', 'خاء', 'ذِه', 'أكثر', 'ذا', 'مه', 'تسعين', 'جميع', 'ارتدّ', 'أبدا', 'ذين', 'كن', 'اللذان', 'ميم', 'أل', 'الذين', 'نبَّا', 'عشرين', 'هيا', 'إليكما', 'أوّهْ', 'أخذ', 'آه', 'كذا', 'لنا', 'أبٌ', 'يناير', 'ج', 'مافتئ', 'على', 'ثلاثون', 'سرا', 'ثالث', 'إيانا', 'تانِ', 'ثمّ', 'خمسة', 'إمّا', 'غدا', 'واو', 'أمام', 'أمس', 'أم', 'ح', 'خلافا', 'ذينك', 'تعلَّم', 'هَذِي', 'ذلكن', 'ها', 'إذ', 'به', 'سبعمئة', 'كي', 'جمعة', 'هنالك', 'خميس', 'أربع', 'واحد', 'لهم', 'ئ', 'ثمانون', 'هلا', 'ه', 'إليكَ', 'اللائي', 'ين', 'ر', 'استحال', 'هناك', 'درى', 'أصلا', 'مئتان', 'آب', 'أخبر', 'أطعم', 'لها', 'ياء', 'عشر', 'إلَيْكَ', 'كيفما', 'كاد', 'مائة', 'لهن', 'تلكما', 'سبعمائة', 'تي', 'بهما', 'تسعون', 'ذاك', 'كاف', 'فيها', 'هَذا', 'كلَّا', 'بل', 'فإذا', 'نَّ', 'أنا', 'كأيّ', 'نَخْ', 'يوان', 'أمامك', 'فلس', 'سادس', 'فوق', 'مازال', 'بات', 'بهم', 'هذي', 'ب', 'اتخذ', 'تلك', 'فبراير', 'له', 'زعم', 'أفعل به', 'إذاً', 'بضع', 'حدَث', 'سوى', 'أين', 'سبت', 'هاء', 'إياكم', 'ثمانين', 'إذن', 'ريث', 'أغسطس', 'شمال', 'عامة', 'ذلكما', 'أمد', 'ثلاثاء', 'ظ', 'ن', 'مكانكم', 'لات', 'علًّ', 'خمس', 'لكنَّ', 'هَاتَيْنِ', 'رويدك', 'جنيه', 'مرّة', 'ستة', 'ورد', 'فرادى', 'أعلم', 'ذات', 'تشرين', 'هَاتِه', 'وهو', 'أنتم', 'م', 'فاء', 'آهٍ', 'أوشك', 'أكتوبر', 'عوض', 'حاي', 'عليك', 'سبعة', 'أضحى', 'دينار', 'اللذين', 'حادي', 'خمسون', 'قاف', 'لكم', 'هَجْ', 'أنبأ', 'إنما', 'طاء', 'فلان', 'كليكما', 'ذ', 'تحت', 'فإن', 'ع', 'كانون', 'أخٌ', 'نحو', 'أولئك', 'ءَ', 'بعدا', 'بسّ', 'إنه', 'هذين', 'تلكم', 'لما', 'ثلاث', 'هن', 'أيّان', 'بك', 'ص', 'هو', 'أربعمئة', 'شباط', 'اللتين', 'كم', 'سابع', 'تخذ', 'بكما', 'إيه', 'كيت', 'تِي', 'أفريل', 'ثاني', 'آ', 'ذال', 'طالما', 'أربعمائة', 'حاء', 'غين', 'خمسمائة', 'عليه', 'سبعين', 'بنا', 'بَسْ', 'حمو', 'وُشْكَانَ', 'التي', 'إلّا', 'لام', 'أعطى', 'غ', 'تعسا', 'ق', 'اللتيا', 'ش', 'صهٍ', 'مع', 'ستين', 'خ', 'ذلك', 'مارس', 'هاته', 'إلا', 'رزق', 'ذان', 'بماذا', 'منه', 'حَذارِ', 'أقل', 'راء', 'طفق', 'أُفٍّ', 'هيّا', 'ثماني', 'عن', 'أهلا', 'هَذَيْنِ', 'مليم', 'أقبل', 'بما', 'خمسين', 'هذه', 'ثان', 'لكما', 'ؤ', 'بعد', 'أنى', 'و', 'سرعان', 'يمين', 'ثمان', 'أيضا', 'تينك', 'أيا', 'ثلاثين', 'إلى', 'وما', 'آناء', 'كأي', 'صاد', 'عاشر', 'باء', 'سين', 'عدَّ', 'وإن', 'جلل', 'صار', 'عشرة', 'ليت', 'لعلَّ', 'ي', 'جعل', 'بؤسا', 'نيسان', 'إذا', 'أيلول', 'ك', 'علم', 'أو', 'هَيْهات', 'فيما', 'حيث', 'إى', 'أنتِ', 'أجمع', 'آض', 'ثمة', 'أنتن', 'أنًّ', 'أنشأ', 'مثل', 'يورو', 'ستون', 'بها', 'أسكن', 'أنتما', 'صبر', 'عل', 'حمدا', 'أيها', 'ذانِ', 'هلّا', 'انبرى', 'صهْ', 'تفعلان', 'أينما', 'جويلية', 'كسا', 'إليكنّ', 'مئة', 'مايو', 'غداة', 'أي', 'من', 'ألفى', 'سبحان', 'اثنان', 'هاهنا', 'تجاه', 'إذما', 'شبه', 'ل', 'حزيران', 'ة', 'هاتين', 'زود', 'حرى', 'في', 'تموز', 'هَؤلاء', 'آمينَ', 'صراحة', 'كأيّن', 'طاق', 'ست', 'إزاء', 'أوت', 'ثلاثمائة', 'لبيك', 'صباح', 'تبدّل', 'ترك', 'هبّ', 'عين', 'هذا', 'بين', 'هكذا', 'تلقاء', 'اربعون', 'شتانَ', 'طرا', 'خمسمئة', 'دال', 'وهب', 'غادر', 'لا سيما', 'ثامن', 'كلّما', 'اثنا', 'كلتا', 'يوليو', 'ثلاثة', 'دواليك', 'آهاً', 'نون', 'ث', 'يفعلون', 'مذ', 'أمامكَ', 'رأى', 'حمٌ', 'اللاتي', 'اخلولق', 'معاذ', 'أيّ', 'مكانكنّ', 'مادام', 'اثنين', 'الألى', 'هذان', 'إياكن', 'مكانكما', 'أرى', 'رجع', 'حتى', 'هؤلاء', 'ته', 'نيف', 'ء', 'كأن', 'هل', 'ثمَّ', 'لك', 'حقا', 'وا', 'يونيو', 'تين', 'آنفا', 'خامس', 'خلا', 'اللواتي', 'هم', 'أخو', 'تسعمائة', 'ظلّ', 'أصبح', 'تسعة', 'أربعاء', 'مكانَك', 'أبريل', 'لدن', 'عما', 'همزة', 'تاسع', 'أولالك', 'ما برح', 'ظنَّ', 'واهاً', 'شين', 'كرب', 'تانِك', 'درهم', 'ض', 'شرع', 'أنت', 'أولاء', 'ثم', 'أى', 'ماي', 'نوفمبر', 'أوه', 'راح', 'قاطبة', 'أبو', 'بخ', 'إياهن', 'علق', 'بطآن', 'عاد', 'ّأيّان', 'انقلب', 'كما', 'بيد', 'وجد', 'إليكن', 'دونك', 'حار', 'هَذانِ', 'فمن', 'سبتمبر', 'مساء', 'هاتي', 'ثمانمئة', 'ثمنمئة', 'ثاء', 'إحدى', 'ثمانية', 'د', 'هللة', 'تسع', 'ى', 'شَتَّانَ', 'قد', 'ثلاثمئة', 'ضحوة', 'ومن', 'وإذا', 'أنّى', 'قرش', 'تِه', 'هَذِه', 'كل', 'هي', 'سقى', 'حين', 'وراءَك', 'إياهم', 'الألاء', 'آها', 'بعض', 'جيم', 'قلما', 'نفس', 'بهن', 'والذي', 'تاء', 'ستمئة', 'حيثما', 'إياي', 'ممن', 'بكم', 'كلاهما', 'يفعلان', 'الآن', 'تفعلون', 'شيكل', 'لي', 'خاصة', 'ذواتا', 'منذ', 'ثمّة', 'إياهما', 'يا', 'سبعون', 'أن', 'آذار', 'عند', 'تحوّل', 'كلما', 'ألف', 'خلف', 'حجا', 'حيَّ', 'ما أفعله', 'صبرا', 'كى', 'تفعلين', 'نحن', 'ذيت', 'تسعمئة', 'ذوا', 'ت', 'هاك', 'ضاد', 'هاكَ', 'إياكما', 'فيفري', 'اثني', 'طَق', 'ا', 'سحقا', 'إليكم', 'إنا', 'ط', 'كأنّ', 'كذلك', 'ذلكم', 'هنا', 'ألا', 'أربعة', 'كليهما', 'جير', 'فيم', 'ذهب', 'قام', 'أمّا', 'منها', 'بمن', 'إيهٍ', 'ماذا', 'أحد', 'جوان', 'بخٍ', 'تَيْنِ', 'تارة', 'أيار', 'ف', 'هلم', 'أ', 'ابتدأ', 'هاتان', 'ذانك', 'والذين', 'أمسى', 'ما انفك', 'س', 'ذه']\n"
          ]
        }
      ],
      "source": [
        "# Liste des mots à exclure\n",
        "words_to_remove = [\n",
        "    'لا', 'كثيرا', 'كثير', 'ليست', 'غير',\n",
        "    'لست', 'ما', 'بئس', 'نعم', 'ساء', 'عجبا', 'عيانا',\n",
        "    'غالبا', 'فضلا', 'حسبنا', 'حسب', 'أجل', 'أما', 'إما', 'بس', 'بلى',\n",
        "    'بينما', 'حاشا', 'حبذا', 'دون', 'عدا', 'عسى', 'فلا', 'كلا',\n",
        "    'لاسيما', 'لدى', 'لستم', 'لستما', 'لستن', 'لسن', 'لسنا',\n",
        "    'لعل', 'لكن', 'لكنما', 'لكي', 'لكيلا', 'لم', 'لن', 'لو', 'لولا', 'لوما', 'لئن',\n",
        "    'ليس', 'ليسا', 'ليستا', 'ليسوا',\n",
        "    'هيت', 'هيهات', 'وإذ', 'ولا', 'ولكن', 'ولو'\n",
        "]\n",
        "\n",
        "# Filtrer les stop words pour exclure les mots dans `words_to_remove`\n",
        "final_arabic_stopwords = [word for word in arabic_stopwords if word not in words_to_remove]\n",
        "\n",
        "# Afficher la liste finale\n",
        "print(final_arabic_stopwords)"
      ]
    },
    {
      "cell_type": "code",
      "execution_count": 32,
      "id": "64454381",
      "metadata": {
        "colab": {
          "base_uri": "https://localhost:8080/",
          "height": 458
        },
        "execution": {
          "iopub.execute_input": "2025-03-04T23:17:08.995327Z",
          "iopub.status.busy": "2025-03-04T23:17:08.994953Z",
          "iopub.status.idle": "2025-03-04T23:17:09.570082Z",
          "shell.execute_reply": "2025-03-04T23:17:09.568889Z"
        },
        "id": "64454381",
        "outputId": "743e68e5-40fe-42ec-c0d9-b00b39d3f4b3",
        "papermill": {
          "duration": 0.587916,
          "end_time": "2025-03-04T23:17:09.572148",
          "exception": false,
          "start_time": "2025-03-04T23:17:08.984232",
          "status": "completed"
        },
        "tags": []
      },
      "outputs": [
        {
          "data": {
            "text/plain": [
              "1       سلام عليكم ورحمة لديا مشكلة تعبئة بدات تنقص قل...\n",
              "2                                           عام انتم بخير\n",
              "3                                           عام انتم بخير\n",
              "4                                                عام بخير\n",
              "6                                                      حب\n",
              "                              ...                        \n",
              "4095    سلام عليكم اوريدو عندي مشكل مرة تعبئة نزع الف ...\n",
              "4097                                                حب حب\n",
              "4098                                          حب حب حب حب\n",
              "4099                                 حب حب حب حب حب حب حب\n",
              "4101                                          حب حب حب حب\n",
              "Name: Comments, Length: 3645, dtype: object"
            ]
          },
          "execution_count": 32,
          "metadata": {},
          "output_type": "execute_result"
        }
      ],
      "source": [
        "def remove_stopwords(text):\n",
        "    words = text.split()\n",
        "    filtered_words = [word for word in words if word not in final_arabic_stopwords and word not in french_stopwords]\n",
        "    return \" \".join(filtered_words)\n",
        "\n",
        "# Appliquer la suppression des stop-words\n",
        "comments_df[\"Comments\"] = comments_df[\"Comments\"].apply(remove_stopwords)\n",
        "\n",
        "comments_df[\"Comments\"] = comments_df[\"Comments\"].apply(clean_text)\n",
        "\n",
        "# Afficher les commentaires nettoyés\n",
        "comments_df[\"Comments\"]"
      ]
    },
    {
      "cell_type": "markdown",
      "id": "10e6a72d",
      "metadata": {
        "id": "10e6a72d",
        "papermill": {
          "duration": 0.009556,
          "end_time": "2025-03-04T23:17:09.653870",
          "exception": false,
          "start_time": "2025-03-04T23:17:09.644314",
          "status": "completed"
        },
        "tags": []
      },
      "source": [
        "## <span style=\"color: #E30613;\">**3. Sauvegarde des fichiers nettoyés**</span>"
      ]
    },
    {
      "cell_type": "code",
      "execution_count": 34,
      "id": "79ac6bbb",
      "metadata": {
        "colab": {
          "base_uri": "https://localhost:8080/"
        },
        "execution": {
          "iopub.execute_input": "2025-03-04T23:17:09.675427Z",
          "iopub.status.busy": "2025-03-04T23:17:09.675006Z",
          "iopub.status.idle": "2025-03-04T23:17:09.702979Z",
          "shell.execute_reply": "2025-03-04T23:17:09.701731Z"
        },
        "id": "79ac6bbb",
        "outputId": "0e52b1c3-1b78-424e-c7cf-ef9589eecdb9",
        "papermill": {
          "duration": 0.040761,
          "end_time": "2025-03-04T23:17:09.704643",
          "exception": false,
          "start_time": "2025-03-04T23:17:09.663882",
          "status": "completed"
        },
        "tags": []
      },
      "outputs": [
        {
          "name": "stdout",
          "output_type": "stream",
          "text": [
            "Prétraitement terminé et fichiers enregistrés !\n"
          ]
        }
      ],
      "source": [
        "# Appliquer le nettoyage aux commentaires et posts\n",
        "comments_df[\"Comments\"] = comments_df[\"Comments\"].apply(clean_text)\n",
        "\n",
        "comments_df = comments_df.dropna(subset=[\"Comments\"])\n",
        "comments_df = comments_df[comments_df[\"Comments\"].str.strip() != \"\"]\n",
        "\n",
        "# Sauvegarder les fichiers après la translittération\n",
        "comments_df.to_csv(\"/content/Results/Comments_clean.csv\", index=False)\n",
        "\n",
        "print(\"Prétraitement terminé et fichiers enregistrés !\")"
      ]
    },
    {
      "cell_type": "markdown",
      "id": "a1183a8f",
      "metadata": {
        "id": "a1183a8f"
      },
      "source": [
        "### <span style=\"color: #28A745;\">**Les mots les plus fréquents**</span>"
      ]
    },
    {
      "cell_type": "code",
      "execution_count": 35,
      "id": "356a2bb0",
      "metadata": {
        "colab": {
          "base_uri": "https://localhost:8080/",
          "height": 458
        },
        "id": "356a2bb0",
        "outputId": "5f4321a6-e570-46f7-aa64-a4fab5803439"
      },
      "outputs": [
        {
          "data": {
            "text/plain": [
              "1       سلام عليكم ورحمة لديا مشكلة تعبئة بدات تنقص قل...\n",
              "2                                           عام انتم بخير\n",
              "3                                           عام انتم بخير\n",
              "4                                                عام بخير\n",
              "6                                                      حب\n",
              "                              ...                        \n",
              "4095    سلام عليكم اوريدو عندي مشكل مرة تعبئة نزع الف لحل\n",
              "4097                                                   حب\n",
              "4098                                                   حب\n",
              "4099                                                   حب\n",
              "4101                                                   حب\n",
              "Name: Comments, Length: 3637, dtype: object"
            ]
          },
          "execution_count": 35,
          "metadata": {},
          "output_type": "execute_result"
        }
      ],
      "source": [
        "# Fonction pour supprimer les mots répétitifs consécutifs et les espaces multiples\n",
        "def remove_consecutive_duplicates_and_extra_spaces(phrase):\n",
        "    import re\n",
        "    # Supprimer les répétitions consécutives\n",
        "    phrase = re.sub(r'(\\b\\w+\\b)(?=\\s+\\1)', '', phrase)\n",
        "    # Supprimer les espaces multiples\n",
        "    phrase = re.sub(r'\\s+', '  ', phrase)\n",
        "    # Supprimer les espaces en début et fin de chaîne\n",
        "    return phrase.strip()\n",
        "\n",
        "# Appliquer la fonction à chaque commentaire\n",
        "comments_df[\"Comments\"] = comments_df[\"Comments\"].apply(remove_consecutive_duplicates_and_extra_spaces)\n",
        "\n",
        "# Supprimer les stop-words arabes\n",
        "comments_df[\"Comments\"] = comments_df[\"Comments\"].apply(lambda text: ' '.join([word for word in text.split() if word not in arabic_stopwords]))\n",
        "\n",
        "# Afficher les commentaires nettoyés\n",
        "comments_df[\"Comments\"]"
      ]
    },
    {
      "cell_type": "code",
      "execution_count": 38,
      "id": "eb4d1a1a",
      "metadata": {
        "colab": {
          "base_uri": "https://localhost:8080/",
          "height": 1000
        },
        "id": "eb4d1a1a",
        "outputId": "bdb3324e-a8f6-40b9-c9c8-c97edb80e9dc"
      },
      "outputs": [
        {
          "data": {
            "image/png": "[encoded data removed]",
            "text/plain": [
              "<Figure size 1000x600 with 1 Axes>"
            ]
          },
          "metadata": {},
          "output_type": "display_data"
        }
      ],
      "source": [
        "import os\n",
        "import matplotlib.pyplot as plt\n",
        "from collections import Counter\n",
        "from arabic_reshaper import reshape\n",
        "from bidi.algorithm import get_display\n",
        "\n",
        "# Specify the font that supports Arabic characters\n",
        "plt.rcParams['font.family'] = 'Tahoma'  # You can use 'DejaVu Sans', 'Amiri', etc.\n",
        "\n",
        "# Compter les mots les plus fréquents\n",
        "all_words = ' '.join(comments_df[\"Comments\"]).split()\n",
        "word_counts = Counter(all_words)\n",
        "\n",
        "# Obtenir les 10 mots les plus fréquents\n",
        "most_common_words = word_counts.most_common(20)\n",
        "\n",
        "# Préparer les données pour le graphique\n",
        "words = [get_display(reshape(word)) for word, count in most_common_words]\n",
        "counts = [count for word, count in most_common_words]\n",
        "\n",
        "# Dessiner le graphique\n",
        "plt.figure(figsize=(10, 6))\n",
        "plt.barh(words, counts, color='#E30613')\n",
        "plt.xlabel('Fréquence')\n",
        "plt.ylabel('Mots')\n",
        "plt.title('Les mots les plus fréquents')\n",
        "plt.gca().invert_yaxis()  # Inverser l'axe Y pour afficher les mots dans l'ordre\n",
        "\n",
        "# Sauvegarde les mots les plus fréquents\n",
        "output_dir = \"content/Results\"\n",
        "mots_frec_path = os.path.join(output_dir, \"mots_frec.png\")\n",
        "plt.savefig(mots_frec_path)\n",
        "plt.show()"
      ]
    },
    {
      "cell_type": "markdown",
      "id": "7842aaf7",
      "metadata": {
        "id": "7842aaf7"
      },
      "source": [
        "<h3 style=\"text-align: center; color: #E30613;\"><b><i>Développé par: OUARAS Khelil Rafik</i></b></h3>"
      ]
    }
  ],
  "metadata": {
    "colab": {
      "provenance": []
    },
    "kaggle": {
      "accelerator": "none",
      "dataSources": [
        {
          "datasetId": 6649495,
          "sourceId": 10923646,
          "sourceType": "datasetVersion"
        }
      ],
      "isGpuEnabled": false,
      "isInternetEnabled": true,
      "language": "python",
      "sourceType": "notebook"
    },
    "kernelspec": {
      "display_name": "base",
      "language": "python",
      "name": "python3"
    },
    "language_info": {
      "codemirror_mode": {
        "name": "ipython",
        "version": 3
      },
      "file_extension": ".py",
      "mimetype": "text/x-python",
      "name": "python",
      "nbconvert_exporter": "python",
      "pygments_lexer": "ipython3",
      "version": "3.12.3"
    },
    "papermill": {
      "default_parameters": {},
      "duration": 11.577648,
      "end_time": "2025-03-04T23:17:10.837918",
      "environment_variables": {},
      "exception": null,
      "input_path": "__notebook__.ipynb",
      "output_path": "__notebook__.ipynb",
      "parameters": {},
      "start_time": "2025-03-04T23:16:59.260270",
      "version": "2.6.0"
    }
  },
  "nbformat": 4,
  "nbformat_minor": 5
}
