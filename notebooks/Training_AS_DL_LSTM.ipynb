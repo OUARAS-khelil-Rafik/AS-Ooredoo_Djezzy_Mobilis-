{
  "cells": [
    {
      "cell_type": "markdown",
      "id": "979e6de5",
      "metadata": {
        "id": "979e6de5"
      },
      "source": [
        "<h1 style=\"text-align: center; color: #E30613;\"><b><i>Entraînement avec LSTM sur les Données de Sentiments</i></b></h1>\n",
        "\n",
        "<p style=\"font-size: 18px; color: #333;\">\n",
        "Ce notebook présente une approche complète pour l'entraînement d'un modèle LSTM (Long Short-Term Memory) sur des données de sentiments.\n",
        "L'objectif est de prédire les sentiments exprimés dans des commentaires textuels en utilisant des techniques avancées de traitement du langage naturel (NLP).\n",
        "</p>\n",
        "\n",
        "### <span style=\"color: #28A745;\">**Étapes principales du workflow :**</span>\n",
        "\n",
        "1. **Chargement des données :** Importation et nettoyage des données textuelles.\n",
        "2. **Encodage des étiquettes :** Transformation des sentiments en valeurs numériques.\n",
        "3. **Division des données :** Séparation des données en ensembles d'entraînement, de validation et de test.\n",
        "4. **Vectorisation :** Conversion des textes en vecteurs numériques à l'aide de `CountVectorizer`.\n",
        "5. **Création d'un Dataset personnalisé :** Préparation des données pour le DataLoader de PyTorch.\n",
        "6. **Définition du modèle LSTM :** Construction et configuration du modèle LSTM pour la classification.\n",
        "7. **Entraînement :** Optimisation des paramètres du modèle à l'aide de la descente de gradient.\n",
        "8. **Évaluation :** Analyse des performances du modèle avec des métriques et des visualisations.\n",
        "\n",
        "### <span style=\"color: #28A745;\">**Technologies utilisées :**</span>\n",
        "\n",
        "- **PyTorch :** Framework pour la construction et l'entraînement du modèle LSTM.\n",
        "- **Scikit-learn :** Prétraitement des données et évaluation des performances.\n",
        "- **Matplotlib & Seaborn :** Visualisation des résultats et des métriques.\n",
        "- **TQDM :** Suivi des progrès pendant l'entraînement.\n",
        "\n",
        "<p style=\"font-size: 16px; color: #555;\">\n",
        "<b>Note :</b> Ce projet est conçu pour démontrer une approche pratique et reproductible pour l'analyse des sentiments à l'aide de réseaux de neurones récurrents.\n",
        "</p>"
      ]
    },
    {
      "cell_type": "markdown",
      "id": "9zm1Gltne4lD",
      "metadata": {
        "id": "9zm1Gltne4lD"
      },
      "source": [
        "# <span style=\"color: #E30613;\">**LSTM**</span>"
      ]
    },
    {
      "cell_type": "markdown",
      "id": "68103f0f",
      "metadata": {
        "id": "68103f0f"
      },
      "source": [
        "## <span style=\"color: #28A745;\">**Bibiliothèques nécessaires**</span>"
      ]
    },
    {
      "cell_type": "code",
      "execution_count": 154,
      "id": "915dbad9",
      "metadata": {
        "colab": {
          "base_uri": "https://localhost:8080/"
        },
        "collapsed": true,
        "id": "915dbad9",
        "outputId": "b5f6894a-ebc0-435e-afe9-44400a7c359b"
      },
      "outputs": [
        {
          "name": "stdout",
          "output_type": "stream",
          "text": [
            "Defaulting to user installation because normal site-packages is not writeable\n",
            "Requirement already satisfied: torch in c:\\users\\kikoo\\appdata\\roaming\\python\\python312\\site-packages (2.5.1+cu121)\n",
            "Requirement already satisfied: torchvision in c:\\users\\kikoo\\appdata\\roaming\\python\\python312\\site-packages (0.20.1+cu121)\n",
            "Requirement already satisfied: torchaudio in c:\\users\\kikoo\\appdata\\roaming\\python\\python312\\site-packages (2.5.1+cu121)\n",
            "Requirement already satisfied: scikit-learn in c:\\programdata\\anaconda3\\lib\\site-packages (1.5.1)\n",
            "Requirement already satisfied: matplotlib in c:\\programdata\\anaconda3\\lib\\site-packages (3.9.2)\n",
            "Requirement already satisfied: tqdm in c:\\programdata\\anaconda3\\lib\\site-packages (4.66.5)\n",
            "Requirement already satisfied: pandas in c:\\programdata\\anaconda3\\lib\\site-packages (2.2.2)\n",
            "Requirement already satisfied: filelock in c:\\programdata\\anaconda3\\lib\\site-packages (from torch) (3.13.1)\n",
            "Requirement already satisfied: typing-extensions>=4.8.0 in c:\\users\\kikoo\\appdata\\roaming\\python\\python312\\site-packages (from torch) (4.12.2)\n",
            "Requirement already satisfied: networkx in c:\\programdata\\anaconda3\\lib\\site-packages (from torch) (3.2.1)\n",
            "Requirement already satisfied: jinja2 in c:\\programdata\\anaconda3\\lib\\site-packages (from torch) (3.1.4)\n",
            "Requirement already satisfied: fsspec in c:\\programdata\\anaconda3\\lib\\site-packages (from torch) (2024.6.1)\n",
            "Requirement already satisfied: setuptools in c:\\programdata\\anaconda3\\lib\\site-packages (from torch) (75.1.0)\n",
            "Requirement already satisfied: sympy==1.13.1 in c:\\users\\kikoo\\appdata\\roaming\\python\\python312\\site-packages (from torch) (1.13.1)\n",
            "Requirement already satisfied: mpmath<1.4,>=1.1.0 in c:\\programdata\\anaconda3\\lib\\site-packages (from sympy==1.13.1->torch) (1.3.0)\n",
            "Requirement already satisfied: numpy in c:\\programdata\\anaconda3\\lib\\site-packages (from torchvision) (1.26.4)\n",
            "Requirement already satisfied: pillow!=8.3.*,>=5.3.0 in c:\\programdata\\anaconda3\\lib\\site-packages (from torchvision) (10.4.0)\n",
            "Requirement already satisfied: scipy>=1.6.0 in c:\\programdata\\anaconda3\\lib\\site-packages (from scikit-learn) (1.13.1)\n",
            "Requirement already satisfied: joblib>=1.2.0 in c:\\programdata\\anaconda3\\lib\\site-packages (from scikit-learn) (1.4.2)\n",
            "Requirement already satisfied: threadpoolctl>=3.1.0 in c:\\programdata\\anaconda3\\lib\\site-packages (from scikit-learn) (3.5.0)\n",
            "Requirement already satisfied: contourpy>=1.0.1 in c:\\programdata\\anaconda3\\lib\\site-packages (from matplotlib) (1.2.0)\n",
            "Requirement already satisfied: cycler>=0.10 in c:\\programdata\\anaconda3\\lib\\site-packages (from matplotlib) (0.11.0)\n",
            "Requirement already satisfied: fonttools>=4.22.0 in c:\\programdata\\anaconda3\\lib\\site-packages (from matplotlib) (4.51.0)\n",
            "Requirement already satisfied: kiwisolver>=1.3.1 in c:\\programdata\\anaconda3\\lib\\site-packages (from matplotlib) (1.4.4)\n",
            "Requirement already satisfied: packaging>=20.0 in c:\\programdata\\anaconda3\\lib\\site-packages (from matplotlib) (24.1)\n",
            "Requirement already satisfied: pyparsing>=2.3.1 in c:\\programdata\\anaconda3\\lib\\site-packages (from matplotlib) (3.1.2)\n",
            "Requirement already satisfied: python-dateutil>=2.7 in c:\\users\\kikoo\\appdata\\roaming\\python\\python312\\site-packages (from matplotlib) (2.8.2)\n",
            "Requirement already satisfied: colorama in c:\\users\\kikoo\\appdata\\roaming\\python\\python312\\site-packages (from tqdm) (0.4.6)\n",
            "Requirement already satisfied: pytz>=2020.1 in c:\\users\\kikoo\\appdata\\roaming\\python\\python312\\site-packages (from pandas) (2024.2)\n",
            "Requirement already satisfied: tzdata>=2022.7 in c:\\programdata\\anaconda3\\lib\\site-packages (from pandas) (2023.3)\n",
            "Requirement already satisfied: six>=1.5 in c:\\programdata\\anaconda3\\lib\\site-packages (from python-dateutil>=2.7->matplotlib) (1.16.0)\n",
            "Requirement already satisfied: MarkupSafe>=2.0 in c:\\programdata\\anaconda3\\lib\\site-packages (from jinja2->torch) (2.1.3)\n",
            "Note: you may need to restart the kernel to use updated packages.\n"
          ]
        }
      ],
      "source": [
        "%pip install torch torchvision torchaudio scikit-learn matplotlib tqdm pandas\n",
        "\n",
        "import pandas as pd\n",
        "import numpy as np\n",
        "import torch\n",
        "import torch.nn as nn\n",
        "from torch.utils.data import DataLoader, Dataset\n",
        "from sklearn.model_selection import train_test_split\n",
        "from sklearn.metrics import classification_report, confusion_matrix\n",
        "from sklearn.feature_extraction.text import CountVectorizer\n",
        "import matplotlib.pyplot as plt\n",
        "from tqdm import tqdm\n",
        "import seaborn as sns"
      ]
    },
    {
      "cell_type": "markdown",
      "id": "7WOHv2OTVsJ4",
      "metadata": {
        "id": "7WOHv2OTVsJ4"
      },
      "source": [
        "## <span style=\"color: #28A745;\">**Utilisation de GPU**</span>"
      ]
    },
    {
      "cell_type": "code",
      "execution_count": 155,
      "id": "QckqKaljV0xd",
      "metadata": {
        "colab": {
          "base_uri": "https://localhost:8080/"
        },
        "id": "QckqKaljV0xd",
        "outputId": "b3596dff-b86c-4f89-8322-729dc865123c"
      },
      "outputs": [
        {
          "name": "stdout",
          "output_type": "stream",
          "text": [
            "Device: cuda\n"
          ]
        }
      ],
      "source": [
        "# ✅ GPU seulement\n",
        "device = torch.device(\"cuda\" if torch.cuda.is_available() else \"cpu\")\n",
        "print(\"Device:\", device)"
      ]
    },
    {
      "cell_type": "markdown",
      "id": "hUFyzWDFV-ea",
      "metadata": {
        "id": "hUFyzWDFV-ea"
      },
      "source": [
        "## <span style=\"color: #28A745;\">**Chargement des Données**</span>"
      ]
    },
    {
      "cell_type": "code",
      "execution_count": null,
      "id": "APU8OV_aWDGo",
      "metadata": {
        "id": "APU8OV_aWDGo"
      },
      "outputs": [],
      "source": [
        "# 📁 Chargement des données\n",
        "df = pd.read_csv(\"/content/Results/Comments_clean.csv\")\n",
        "df = df.dropna(subset=[\"Comments\"])"
      ]
    },
    {
      "cell_type": "markdown",
      "id": "dpgLkOzNWIfI",
      "metadata": {
        "id": "dpgLkOzNWIfI"
      },
      "source": [
        "## <span style=\"color: #28A745;\">**Encodage des étiquettes**</span>"
      ]
    },
    {
      "cell_type": "code",
      "execution_count": 157,
      "id": "4skFs0KGWSUa",
      "metadata": {
        "id": "4skFs0KGWSUa"
      },
      "outputs": [],
      "source": [
        "# 🎯 Encodage des étiquettes\n",
        "from sklearn.preprocessing import LabelEncoder\n",
        "label_encoder = LabelEncoder()\n",
        "df[\"Sentiments_encoded\"] = label_encoder.fit_transform(df[\"Sentiments\"])"
      ]
    },
    {
      "cell_type": "markdown",
      "id": "v-EKAf3OWTy0",
      "metadata": {
        "id": "v-EKAf3OWTy0"
      },
      "source": [
        "## <span style=\"color: #28A745;\">**Division des données**</span>"
      ]
    },
    {
      "cell_type": "code",
      "execution_count": 158,
      "id": "o7En_Ga7Wb11",
      "metadata": {
        "id": "o7En_Ga7Wb11"
      },
      "outputs": [],
      "source": [
        "# ✂️ Division des données\n",
        "X_temp, X_test, y_temp, y_test = train_test_split(df[\"Comments\"], df[\"Sentiments_encoded\"], test_size=0.2, random_state=42, stratify=df[\"Sentiments_encoded\"])\n",
        "X_train, X_val, y_train, y_val = train_test_split(X_temp, y_temp, test_size=0.125, random_state=42, stratify=y_temp)  # 0.125 * 0.8 = 0.1"
      ]
    },
    {
      "cell_type": "markdown",
      "id": "XfXBLThsWfvm",
      "metadata": {
        "id": "XfXBLThsWfvm"
      },
      "source": [
        "## <span style=\"color: #28A745;\">**Vectorisation avec CountVectorizer**</span>"
      ]
    },
    {
      "cell_type": "code",
      "execution_count": 160,
      "id": "VfqwEF1YWnCb",
      "metadata": {
        "id": "VfqwEF1YWnCb"
      },
      "outputs": [],
      "source": [
        "# 🧠 Vectorisation avec CountVectorizer\n",
        "vectorizer = CountVectorizer(max_features=5000, ngram_range=(1, 2))\n",
        "vectorizer.fit(X_train)\n",
        "X_train_vec = vectorizer.transform(X_train).toarray()\n",
        "X_val_vec = vectorizer.transform(X_val).toarray()\n",
        "X_test_vec = vectorizer.transform(X_test).toarray()"
      ]
    },
    {
      "cell_type": "markdown",
      "id": "SvJFlVdcWxB2",
      "metadata": {
        "id": "SvJFlVdcWxB2"
      },
      "source": [
        "## <span style=\"color: #28A745;\">**Dataset personnalisé**</span>"
      ]
    },
    {
      "cell_type": "code",
      "execution_count": 161,
      "id": "DOCO1Y-MWwid",
      "metadata": {
        "id": "DOCO1Y-MWwid"
      },
      "outputs": [],
      "source": [
        "# 📦 Dataset personnalisé\n",
        "class CommentDataset(Dataset):\n",
        "    def __init__(self, X, y):\n",
        "        self.X = torch.tensor(X, dtype=torch.float32)\n",
        "        self.y = torch.tensor(y.values, dtype=torch.long)\n",
        "    def __len__(self):\n",
        "        return len(self.X)\n",
        "    def __getitem__(self, idx):\n",
        "        return self.X[idx], self.y[idx]\n",
        "\n",
        "train_dataset = CommentDataset(X_train_vec, y_train)\n",
        "val_dataset = CommentDataset(X_val_vec, y_val)\n",
        "test_dataset = CommentDataset(X_test_vec, y_test)\n",
        "\n",
        "train_loader = DataLoader(train_dataset, batch_size=32, shuffle=True)\n",
        "val_loader = DataLoader(val_dataset, batch_size=32)\n",
        "test_loader = DataLoader(test_dataset, batch_size=32)"
      ]
    },
    {
      "cell_type": "markdown",
      "id": "_8MadSv0W6VZ",
      "metadata": {
        "id": "_8MadSv0W6VZ"
      },
      "source": [
        "## <span style=\"color: #28A745;\">**Entraînement avec LSTM**</span>"
      ]
    },
    {
      "cell_type": "code",
      "execution_count": 164,
      "id": "JgofH895qF94",
      "metadata": {
        "colab": {
          "base_uri": "https://localhost:8080/"
        },
        "id": "JgofH895qF94",
        "outputId": "302aaa7a-6716-44f6-ef53-b80b24f5d5e7"
      },
      "outputs": [
        {
          "name": "stderr",
          "output_type": "stream",
          "text": [
            "Epoch 1 [Training]: 100%|██████████| 80/80 [00:01<00:00, 46.83it/s, loss=1.13]\n"
          ]
        },
        {
          "name": "stdout",
          "output_type": "stream",
          "text": [
            "\n",
            "Epoch 1 - Train Loss: 1.0946, Val Loss: 1.0933, Train Acc: 0.3911, Val Acc: 0.4365\n"
          ]
        },
        {
          "name": "stderr",
          "output_type": "stream",
          "text": [
            "Epoch 2 [Training]: 100%|██████████| 80/80 [00:01<00:00, 44.34it/s, loss=1.09]\n"
          ]
        },
        {
          "name": "stdout",
          "output_type": "stream",
          "text": [
            "\n",
            "Epoch 2 - Train Loss: 1.0920, Val Loss: 1.0907, Train Acc: 0.4389, Val Acc: 0.4365\n"
          ]
        },
        {
          "name": "stderr",
          "output_type": "stream",
          "text": [
            "Epoch 3 [Training]: 100%|██████████| 80/80 [00:01<00:00, 42.66it/s, loss=1.09]\n"
          ]
        },
        {
          "name": "stdout",
          "output_type": "stream",
          "text": [
            "\n",
            "Epoch 3 - Train Loss: 1.0888, Val Loss: 1.0869, Train Acc: 0.4353, Val Acc: 0.4365\n"
          ]
        },
        {
          "name": "stderr",
          "output_type": "stream",
          "text": [
            "Epoch 4 [Training]: 100%|██████████| 80/80 [00:01<00:00, 44.97it/s, loss=1.04]\n"
          ]
        },
        {
          "name": "stdout",
          "output_type": "stream",
          "text": [
            "\n",
            "Epoch 4 - Train Loss: 1.0830, Val Loss: 1.0799, Train Acc: 0.4353, Val Acc: 0.4365\n"
          ]
        },
        {
          "name": "stderr",
          "output_type": "stream",
          "text": [
            "Epoch 5 [Training]: 100%|██████████| 80/80 [00:01<00:00, 42.85it/s, loss=1.1] \n"
          ]
        },
        {
          "name": "stdout",
          "output_type": "stream",
          "text": [
            "\n",
            "Epoch 5 - Train Loss: 1.0718, Val Loss: 1.0663, Train Acc: 0.4353, Val Acc: 0.4392\n"
          ]
        },
        {
          "name": "stderr",
          "output_type": "stream",
          "text": [
            "Epoch 6 [Training]: 100%|██████████| 80/80 [00:01<00:00, 46.24it/s, loss=1.13] \n"
          ]
        },
        {
          "name": "stdout",
          "output_type": "stream",
          "text": [
            "\n",
            "Epoch 6 - Train Loss: 1.0518, Val Loss: 1.0443, Train Acc: 0.4361, Val Acc: 0.4420\n"
          ]
        },
        {
          "name": "stderr",
          "output_type": "stream",
          "text": [
            "Epoch 7 [Training]: 100%|██████████| 80/80 [00:01<00:00, 47.22it/s, loss=1.19] \n"
          ]
        },
        {
          "name": "stdout",
          "output_type": "stream",
          "text": [
            "\n",
            "Epoch 7 - Train Loss: 1.0242, Val Loss: 1.0191, Train Acc: 0.4405, Val Acc: 0.4448\n"
          ]
        },
        {
          "name": "stderr",
          "output_type": "stream",
          "text": [
            "Epoch 8 [Training]: 100%|██████████| 80/80 [00:02<00:00, 39.76it/s, loss=0.83] \n"
          ]
        },
        {
          "name": "stdout",
          "output_type": "stream",
          "text": [
            "\n",
            "Epoch 8 - Train Loss: 0.9955, Val Loss: 0.9954, Train Acc: 0.4559, Val Acc: 0.4530\n"
          ]
        },
        {
          "name": "stderr",
          "output_type": "stream",
          "text": [
            "Epoch 9 [Training]: 100%|██████████| 80/80 [00:01<00:00, 47.28it/s, loss=0.811]\n"
          ]
        },
        {
          "name": "stdout",
          "output_type": "stream",
          "text": [
            "\n",
            "Epoch 9 - Train Loss: 0.9671, Val Loss: 0.9733, Train Acc: 0.4947, Val Acc: 0.4834\n"
          ]
        },
        {
          "name": "stderr",
          "output_type": "stream",
          "text": [
            "Epoch 10 [Training]: 100%|██████████| 80/80 [00:01<00:00, 49.04it/s, loss=1.22] \n"
          ]
        },
        {
          "name": "stdout",
          "output_type": "stream",
          "text": [
            "\n",
            "Epoch 10 - Train Loss: 0.9409, Val Loss: 0.9527, Train Acc: 0.5500, Val Acc: 0.5276\n"
          ]
        },
        {
          "name": "stderr",
          "output_type": "stream",
          "text": [
            "Epoch 11 [Training]: 100%|██████████| 80/80 [00:01<00:00, 43.30it/s, loss=1.13] \n"
          ]
        },
        {
          "name": "stdout",
          "output_type": "stream",
          "text": [
            "\n",
            "Epoch 11 - Train Loss: 0.9166, Val Loss: 0.9332, Train Acc: 0.6232, Val Acc: 0.5912\n"
          ]
        },
        {
          "name": "stderr",
          "output_type": "stream",
          "text": [
            "Epoch 12 [Training]: 100%|██████████| 80/80 [00:01<00:00, 46.38it/s, loss=0.879]\n"
          ]
        },
        {
          "name": "stdout",
          "output_type": "stream",
          "text": [
            "\n",
            "Epoch 12 - Train Loss: 0.8944, Val Loss: 0.9161, Train Acc: 0.6746, Val Acc: 0.6160\n"
          ]
        },
        {
          "name": "stderr",
          "output_type": "stream",
          "text": [
            "Epoch 13 [Training]: 100%|██████████| 80/80 [00:01<00:00, 44.38it/s, loss=0.928]\n"
          ]
        },
        {
          "name": "stdout",
          "output_type": "stream",
          "text": [
            "\n",
            "Epoch 13 - Train Loss: 0.8739, Val Loss: 0.9017, Train Acc: 0.7034, Val Acc: 0.6492\n"
          ]
        },
        {
          "name": "stderr",
          "output_type": "stream",
          "text": [
            "Epoch 14 [Training]: 100%|██████████| 80/80 [00:01<00:00, 43.12it/s, loss=0.953]\n"
          ]
        },
        {
          "name": "stdout",
          "output_type": "stream",
          "text": [
            "\n",
            "Epoch 14 - Train Loss: 0.8558, Val Loss: 0.8887, Train Acc: 0.7382, Val Acc: 0.6602\n"
          ]
        },
        {
          "name": "stderr",
          "output_type": "stream",
          "text": [
            "Epoch 15 [Training]: 100%|██████████| 80/80 [00:02<00:00, 38.16it/s, loss=0.781]\n"
          ]
        },
        {
          "name": "stdout",
          "output_type": "stream",
          "text": [
            "\n",
            "Epoch 15 - Train Loss: 0.8396, Val Loss: 0.8773, Train Acc: 0.7604, Val Acc: 0.6657\n"
          ]
        },
        {
          "name": "stderr",
          "output_type": "stream",
          "text": [
            "Epoch 16 [Training]: 100%|██████████| 80/80 [00:02<00:00, 38.79it/s, loss=0.562]\n"
          ]
        },
        {
          "name": "stdout",
          "output_type": "stream",
          "text": [
            "\n",
            "Epoch 16 - Train Loss: 0.8229, Val Loss: 0.8669, Train Acc: 0.7857, Val Acc: 0.6740\n"
          ]
        },
        {
          "name": "stderr",
          "output_type": "stream",
          "text": [
            "Epoch 17 [Training]: 100%|██████████| 80/80 [00:01<00:00, 46.17it/s, loss=0.572]\n"
          ]
        },
        {
          "name": "stdout",
          "output_type": "stream",
          "text": [
            "\n",
            "Epoch 17 - Train Loss: 0.8086, Val Loss: 0.8557, Train Acc: 0.8062, Val Acc: 0.7017\n"
          ]
        },
        {
          "name": "stderr",
          "output_type": "stream",
          "text": [
            "Epoch 18 [Training]: 100%|██████████| 80/80 [00:01<00:00, 40.35it/s, loss=0.664]\n"
          ]
        },
        {
          "name": "stdout",
          "output_type": "stream",
          "text": [
            "\n",
            "Epoch 18 - Train Loss: 0.7916, Val Loss: 0.8439, Train Acc: 0.8466, Val Acc: 0.7182\n"
          ]
        },
        {
          "name": "stderr",
          "output_type": "stream",
          "text": [
            "Epoch 19 [Training]: 100%|██████████| 80/80 [00:01<00:00, 43.78it/s, loss=0.871]\n"
          ]
        },
        {
          "name": "stdout",
          "output_type": "stream",
          "text": [
            "\n",
            "Epoch 19 - Train Loss: 0.7731, Val Loss: 0.8318, Train Acc: 0.8687, Val Acc: 0.7459\n"
          ]
        },
        {
          "name": "stderr",
          "output_type": "stream",
          "text": [
            "Epoch 20 [Training]: 100%|██████████| 80/80 [00:01<00:00, 46.81it/s, loss=0.869]\n"
          ]
        },
        {
          "name": "stdout",
          "output_type": "stream",
          "text": [
            "\n",
            "Epoch 20 - Train Loss: 0.7536, Val Loss: 0.8184, Train Acc: 0.8845, Val Acc: 0.7818\n"
          ]
        },
        {
          "name": "stderr",
          "output_type": "stream",
          "text": [
            "Epoch 21 [Training]: 100%|██████████| 80/80 [00:01<00:00, 47.82it/s, loss=0.6]  \n"
          ]
        },
        {
          "name": "stdout",
          "output_type": "stream",
          "text": [
            "\n",
            "Epoch 21 - Train Loss: 0.7341, Val Loss: 0.8067, Train Acc: 0.8913, Val Acc: 0.7845\n"
          ]
        },
        {
          "name": "stderr",
          "output_type": "stream",
          "text": [
            "Epoch 22 [Training]: 100%|██████████| 80/80 [00:01<00:00, 46.27it/s, loss=0.629]\n"
          ]
        },
        {
          "name": "stdout",
          "output_type": "stream",
          "text": [
            "\n",
            "Epoch 22 - Train Loss: 0.7162, Val Loss: 0.7964, Train Acc: 0.8980, Val Acc: 0.7983\n"
          ]
        },
        {
          "name": "stderr",
          "output_type": "stream",
          "text": [
            "Epoch 23 [Training]: 100%|██████████| 80/80 [00:01<00:00, 45.50it/s, loss=0.673]\n"
          ]
        },
        {
          "name": "stdout",
          "output_type": "stream",
          "text": [
            "\n",
            "Epoch 23 - Train Loss: 0.7014, Val Loss: 0.7872, Train Acc: 0.9067, Val Acc: 0.8011\n"
          ]
        },
        {
          "name": "stderr",
          "output_type": "stream",
          "text": [
            "Epoch 24 [Training]: 100%|██████████| 80/80 [00:02<00:00, 38.96it/s, loss=0.772]\n"
          ]
        },
        {
          "name": "stdout",
          "output_type": "stream",
          "text": [
            "\n",
            "Epoch 24 - Train Loss: 0.6890, Val Loss: 0.7796, Train Acc: 0.9095, Val Acc: 0.8011\n"
          ]
        },
        {
          "name": "stderr",
          "output_type": "stream",
          "text": [
            "Epoch 25 [Training]: 100%|██████████| 80/80 [00:01<00:00, 43.37it/s, loss=0.558]\n"
          ]
        },
        {
          "name": "stdout",
          "output_type": "stream",
          "text": [
            "\n",
            "Epoch 25 - Train Loss: 0.6786, Val Loss: 0.7734, Train Acc: 0.9142, Val Acc: 0.8094\n"
          ]
        },
        {
          "name": "stderr",
          "output_type": "stream",
          "text": [
            "Epoch 26 [Training]: 100%|██████████| 80/80 [00:02<00:00, 35.35it/s, loss=0.608]\n"
          ]
        },
        {
          "name": "stdout",
          "output_type": "stream",
          "text": [
            "\n",
            "Epoch 26 - Train Loss: 0.6696, Val Loss: 0.7672, Train Acc: 0.9178, Val Acc: 0.8149\n"
          ]
        },
        {
          "name": "stderr",
          "output_type": "stream",
          "text": [
            "Epoch 27 [Training]: 100%|██████████| 80/80 [00:02<00:00, 32.48it/s, loss=0.748]\n"
          ]
        },
        {
          "name": "stdout",
          "output_type": "stream",
          "text": [
            "\n",
            "Epoch 27 - Train Loss: 0.6606, Val Loss: 0.7618, Train Acc: 0.9233, Val Acc: 0.8287\n"
          ]
        },
        {
          "name": "stderr",
          "output_type": "stream",
          "text": [
            "Epoch 28 [Training]: 100%|██████████| 80/80 [00:02<00:00, 32.31it/s, loss=0.577]\n"
          ]
        },
        {
          "name": "stdout",
          "output_type": "stream",
          "text": [
            "\n",
            "Epoch 28 - Train Loss: 0.6551, Val Loss: 0.7583, Train Acc: 0.9253, Val Acc: 0.8315\n"
          ]
        },
        {
          "name": "stderr",
          "output_type": "stream",
          "text": [
            "Epoch 29 [Training]: 100%|██████████| 80/80 [00:02<00:00, 36.01it/s, loss=0.556]\n"
          ]
        },
        {
          "name": "stdout",
          "output_type": "stream",
          "text": [
            "\n",
            "Epoch 29 - Train Loss: 0.6487, Val Loss: 0.7537, Train Acc: 0.9276, Val Acc: 0.8343\n"
          ]
        },
        {
          "name": "stderr",
          "output_type": "stream",
          "text": [
            "Epoch 30 [Training]: 100%|██████████| 80/80 [00:02<00:00, 39.88it/s, loss=0.551]\n"
          ]
        },
        {
          "name": "stdout",
          "output_type": "stream",
          "text": [
            "\n",
            "Epoch 30 - Train Loss: 0.6445, Val Loss: 0.7497, Train Acc: 0.9300, Val Acc: 0.8343\n"
          ]
        },
        {
          "name": "stderr",
          "output_type": "stream",
          "text": [
            "Epoch 31 [Training]: 100%|██████████| 80/80 [00:02<00:00, 34.94it/s, loss=0.551]\n"
          ]
        },
        {
          "name": "stdout",
          "output_type": "stream",
          "text": [
            "\n",
            "Epoch 31 - Train Loss: 0.6397, Val Loss: 0.7464, Train Acc: 0.9328, Val Acc: 0.8343\n"
          ]
        },
        {
          "name": "stderr",
          "output_type": "stream",
          "text": [
            "Epoch 32 [Training]: 100%|██████████| 80/80 [00:02<00:00, 33.95it/s, loss=0.566]\n"
          ]
        },
        {
          "name": "stdout",
          "output_type": "stream",
          "text": [
            "\n",
            "Epoch 32 - Train Loss: 0.6348, Val Loss: 0.7440, Train Acc: 0.9348, Val Acc: 0.8343\n"
          ]
        },
        {
          "name": "stderr",
          "output_type": "stream",
          "text": [
            "Epoch 33 [Training]: 100%|██████████| 80/80 [00:02<00:00, 30.34it/s, loss=0.552]\n"
          ]
        },
        {
          "name": "stdout",
          "output_type": "stream",
          "text": [
            "\n",
            "Epoch 33 - Train Loss: 0.6316, Val Loss: 0.7412, Train Acc: 0.9399, Val Acc: 0.8343\n"
          ]
        },
        {
          "name": "stderr",
          "output_type": "stream",
          "text": [
            "Epoch 34 [Training]: 100%|██████████| 80/80 [00:02<00:00, 38.40it/s, loss=1.22] \n"
          ]
        },
        {
          "name": "stdout",
          "output_type": "stream",
          "text": [
            "\n",
            "Epoch 34 - Train Loss: 0.6284, Val Loss: 0.7390, Train Acc: 0.9419, Val Acc: 0.8370\n"
          ]
        },
        {
          "name": "stderr",
          "output_type": "stream",
          "text": [
            "Epoch 35 [Training]: 100%|██████████| 80/80 [00:01<00:00, 41.33it/s, loss=0.551]\n"
          ]
        },
        {
          "name": "stdout",
          "output_type": "stream",
          "text": [
            "\n",
            "Epoch 35 - Train Loss: 0.6259, Val Loss: 0.7374, Train Acc: 0.9442, Val Acc: 0.8287\n"
          ]
        },
        {
          "name": "stderr",
          "output_type": "stream",
          "text": [
            "Epoch 36 [Training]: 100%|██████████| 80/80 [00:02<00:00, 39.91it/s, loss=0.552]\n"
          ]
        },
        {
          "name": "stdout",
          "output_type": "stream",
          "text": [
            "\n",
            "Epoch 36 - Train Loss: 0.6239, Val Loss: 0.7352, Train Acc: 0.9415, Val Acc: 0.8315\n"
          ]
        },
        {
          "name": "stderr",
          "output_type": "stream",
          "text": [
            "Epoch 37 [Training]: 100%|██████████| 80/80 [00:01<00:00, 40.49it/s, loss=0.552]\n"
          ]
        },
        {
          "name": "stdout",
          "output_type": "stream",
          "text": [
            "\n",
            "Epoch 37 - Train Loss: 0.6209, Val Loss: 0.7334, Train Acc: 0.9458, Val Acc: 0.8370\n"
          ]
        },
        {
          "name": "stderr",
          "output_type": "stream",
          "text": [
            "Epoch 38 [Training]: 100%|██████████| 80/80 [00:02<00:00, 39.20it/s, loss=0.61] \n"
          ]
        },
        {
          "name": "stdout",
          "output_type": "stream",
          "text": [
            "\n",
            "Epoch 38 - Train Loss: 0.6193, Val Loss: 0.7315, Train Acc: 0.9466, Val Acc: 0.8370\n"
          ]
        },
        {
          "name": "stderr",
          "output_type": "stream",
          "text": [
            "Epoch 39 [Training]: 100%|██████████| 80/80 [00:02<00:00, 36.35it/s, loss=0.552]\n"
          ]
        },
        {
          "name": "stdout",
          "output_type": "stream",
          "text": [
            "\n",
            "Epoch 39 - Train Loss: 0.6163, Val Loss: 0.7302, Train Acc: 0.9474, Val Acc: 0.8370\n"
          ]
        },
        {
          "name": "stderr",
          "output_type": "stream",
          "text": [
            "Epoch 40 [Training]: 100%|██████████| 80/80 [00:01<00:00, 40.47it/s, loss=1.49] \n"
          ]
        },
        {
          "name": "stdout",
          "output_type": "stream",
          "text": [
            "\n",
            "Epoch 40 - Train Loss: 0.6139, Val Loss: 0.7290, Train Acc: 0.9490, Val Acc: 0.8315\n"
          ]
        },
        {
          "name": "stderr",
          "output_type": "stream",
          "text": [
            "Epoch 41 [Training]: 100%|██████████| 80/80 [00:02<00:00, 37.53it/s, loss=0.552]\n"
          ]
        },
        {
          "name": "stdout",
          "output_type": "stream",
          "text": [
            "\n",
            "Epoch 41 - Train Loss: 0.6126, Val Loss: 0.7271, Train Acc: 0.9498, Val Acc: 0.8398\n"
          ]
        },
        {
          "name": "stderr",
          "output_type": "stream",
          "text": [
            "Epoch 42 [Training]: 100%|██████████| 80/80 [00:01<00:00, 43.10it/s, loss=0.559]\n"
          ]
        },
        {
          "name": "stdout",
          "output_type": "stream",
          "text": [
            "\n",
            "Epoch 42 - Train Loss: 0.6114, Val Loss: 0.7260, Train Acc: 0.9498, Val Acc: 0.8398\n"
          ]
        },
        {
          "name": "stderr",
          "output_type": "stream",
          "text": [
            "Epoch 43 [Training]: 100%|██████████| 80/80 [00:01<00:00, 47.50it/s, loss=0.552]\n"
          ]
        },
        {
          "name": "stdout",
          "output_type": "stream",
          "text": [
            "\n",
            "Epoch 43 - Train Loss: 0.6092, Val Loss: 0.7249, Train Acc: 0.9529, Val Acc: 0.8370\n"
          ]
        },
        {
          "name": "stderr",
          "output_type": "stream",
          "text": [
            "Epoch 44 [Training]: 100%|██████████| 80/80 [00:01<00:00, 47.27it/s, loss=1.25] \n"
          ]
        },
        {
          "name": "stdout",
          "output_type": "stream",
          "text": [
            "\n",
            "Epoch 44 - Train Loss: 0.6074, Val Loss: 0.7242, Train Acc: 0.9510, Val Acc: 0.8398\n"
          ]
        },
        {
          "name": "stderr",
          "output_type": "stream",
          "text": [
            "Epoch 45 [Training]: 100%|██████████| 80/80 [00:01<00:00, 44.87it/s, loss=0.552]\n"
          ]
        },
        {
          "name": "stdout",
          "output_type": "stream",
          "text": [
            "\n",
            "Epoch 45 - Train Loss: 0.6060, Val Loss: 0.7242, Train Acc: 0.9557, Val Acc: 0.8398\n"
          ]
        },
        {
          "name": "stderr",
          "output_type": "stream",
          "text": [
            "Epoch 46 [Training]: 100%|██████████| 80/80 [00:01<00:00, 46.32it/s, loss=0.552]\n"
          ]
        },
        {
          "name": "stdout",
          "output_type": "stream",
          "text": [
            "\n",
            "Epoch 46 - Train Loss: 0.6052, Val Loss: 0.7228, Train Acc: 0.9553, Val Acc: 0.8425\n"
          ]
        },
        {
          "name": "stderr",
          "output_type": "stream",
          "text": [
            "Epoch 47 [Training]: 100%|██████████| 80/80 [00:01<00:00, 46.52it/s, loss=0.556]\n"
          ]
        },
        {
          "name": "stdout",
          "output_type": "stream",
          "text": [
            "\n",
            "Epoch 47 - Train Loss: 0.6056, Val Loss: 0.7225, Train Acc: 0.9549, Val Acc: 0.8425\n"
          ]
        },
        {
          "name": "stderr",
          "output_type": "stream",
          "text": [
            "Epoch 48 [Training]: 100%|██████████| 80/80 [00:01<00:00, 49.03it/s, loss=0.552]\n"
          ]
        },
        {
          "name": "stdout",
          "output_type": "stream",
          "text": [
            "\n",
            "Epoch 48 - Train Loss: 0.6032, Val Loss: 0.7214, Train Acc: 0.9561, Val Acc: 0.8398\n"
          ]
        },
        {
          "name": "stderr",
          "output_type": "stream",
          "text": [
            "Epoch 49 [Training]: 100%|██████████| 80/80 [00:01<00:00, 46.50it/s, loss=0.551]\n"
          ]
        },
        {
          "name": "stdout",
          "output_type": "stream",
          "text": [
            "\n",
            "Epoch 49 - Train Loss: 0.6032, Val Loss: 0.7211, Train Acc: 0.9545, Val Acc: 0.8453\n"
          ]
        },
        {
          "name": "stderr",
          "output_type": "stream",
          "text": [
            "Epoch 50 [Training]: 100%|██████████| 80/80 [00:01<00:00, 47.20it/s, loss=0.556]\n"
          ]
        },
        {
          "name": "stdout",
          "output_type": "stream",
          "text": [
            "\n",
            "Epoch 50 - Train Loss: 0.6009, Val Loss: 0.7204, Train Acc: 0.9581, Val Acc: 0.8425\n"
          ]
        },
        {
          "name": "stderr",
          "output_type": "stream",
          "text": [
            "Epoch 51 [Training]: 100%|██████████| 80/80 [00:01<00:00, 43.00it/s, loss=0.551]\n"
          ]
        },
        {
          "name": "stdout",
          "output_type": "stream",
          "text": [
            "\n",
            "Epoch 51 - Train Loss: 0.6011, Val Loss: 0.7197, Train Acc: 0.9577, Val Acc: 0.8370\n"
          ]
        },
        {
          "name": "stderr",
          "output_type": "stream",
          "text": [
            "Epoch 52 [Training]: 100%|██████████| 80/80 [00:01<00:00, 46.83it/s, loss=0.551]\n"
          ]
        },
        {
          "name": "stdout",
          "output_type": "stream",
          "text": [
            "\n",
            "Epoch 52 - Train Loss: 0.6007, Val Loss: 0.7198, Train Acc: 0.9585, Val Acc: 0.8370\n"
          ]
        },
        {
          "name": "stderr",
          "output_type": "stream",
          "text": [
            "Epoch 53 [Training]: 100%|██████████| 80/80 [00:01<00:00, 40.96it/s, loss=1.1]  \n"
          ]
        },
        {
          "name": "stdout",
          "output_type": "stream",
          "text": [
            "\n",
            "Epoch 53 - Train Loss: 0.5982, Val Loss: 0.7193, Train Acc: 0.9585, Val Acc: 0.8315\n"
          ]
        },
        {
          "name": "stderr",
          "output_type": "stream",
          "text": [
            "Epoch 54 [Training]: 100%|██████████| 80/80 [00:02<00:00, 39.96it/s, loss=0.551]\n"
          ]
        },
        {
          "name": "stdout",
          "output_type": "stream",
          "text": [
            "\n",
            "Epoch 54 - Train Loss: 0.5982, Val Loss: 0.7190, Train Acc: 0.9593, Val Acc: 0.8370\n"
          ]
        },
        {
          "name": "stderr",
          "output_type": "stream",
          "text": [
            "Epoch 55 [Training]: 100%|██████████| 80/80 [00:02<00:00, 32.26it/s, loss=0.552]\n"
          ]
        },
        {
          "name": "stdout",
          "output_type": "stream",
          "text": [
            "\n",
            "Epoch 55 - Train Loss: 0.5970, Val Loss: 0.7191, Train Acc: 0.9597, Val Acc: 0.8315\n"
          ]
        },
        {
          "name": "stderr",
          "output_type": "stream",
          "text": [
            "Epoch 56 [Training]: 100%|██████████| 80/80 [00:01<00:00, 43.47it/s, loss=0.552]\n"
          ]
        },
        {
          "name": "stdout",
          "output_type": "stream",
          "text": [
            "\n",
            "Epoch 56 - Train Loss: 0.5959, Val Loss: 0.7183, Train Acc: 0.9620, Val Acc: 0.8343\n"
          ]
        },
        {
          "name": "stderr",
          "output_type": "stream",
          "text": [
            "Epoch 57 [Training]: 100%|██████████| 80/80 [00:02<00:00, 37.99it/s, loss=0.559]\n"
          ]
        },
        {
          "name": "stdout",
          "output_type": "stream",
          "text": [
            "\n",
            "Epoch 57 - Train Loss: 0.5962, Val Loss: 0.7179, Train Acc: 0.9612, Val Acc: 0.8343\n"
          ]
        },
        {
          "name": "stderr",
          "output_type": "stream",
          "text": [
            "Epoch 58 [Training]: 100%|██████████| 80/80 [00:01<00:00, 51.41it/s, loss=0.551]\n"
          ]
        },
        {
          "name": "stdout",
          "output_type": "stream",
          "text": [
            "\n",
            "Epoch 58 - Train Loss: 0.5957, Val Loss: 0.7176, Train Acc: 0.9612, Val Acc: 0.8343\n"
          ]
        },
        {
          "name": "stderr",
          "output_type": "stream",
          "text": [
            "Epoch 59 [Training]: 100%|██████████| 80/80 [00:01<00:00, 44.39it/s, loss=0.551]\n"
          ]
        },
        {
          "name": "stdout",
          "output_type": "stream",
          "text": [
            "\n",
            "Epoch 59 - Train Loss: 0.5953, Val Loss: 0.7171, Train Acc: 0.9601, Val Acc: 0.8370\n"
          ]
        },
        {
          "name": "stderr",
          "output_type": "stream",
          "text": [
            "Epoch 60 [Training]: 100%|██████████| 80/80 [00:01<00:00, 43.58it/s, loss=0.552]\n"
          ]
        },
        {
          "name": "stdout",
          "output_type": "stream",
          "text": [
            "\n",
            "Epoch 60 - Train Loss: 0.5945, Val Loss: 0.7169, Train Acc: 0.9620, Val Acc: 0.8370\n"
          ]
        },
        {
          "name": "stderr",
          "output_type": "stream",
          "text": [
            "Epoch 61 [Training]: 100%|██████████| 80/80 [00:01<00:00, 46.15it/s, loss=0.553]\n"
          ]
        },
        {
          "name": "stdout",
          "output_type": "stream",
          "text": [
            "\n",
            "Epoch 61 - Train Loss: 0.5940, Val Loss: 0.7160, Train Acc: 0.9632, Val Acc: 0.8370\n"
          ]
        },
        {
          "name": "stderr",
          "output_type": "stream",
          "text": [
            "Epoch 62 [Training]: 100%|██████████| 80/80 [00:01<00:00, 50.36it/s, loss=0.551]\n"
          ]
        },
        {
          "name": "stdout",
          "output_type": "stream",
          "text": [
            "\n",
            "Epoch 62 - Train Loss: 0.5933, Val Loss: 0.7157, Train Acc: 0.9616, Val Acc: 0.8370\n"
          ]
        },
        {
          "name": "stderr",
          "output_type": "stream",
          "text": [
            "Epoch 63 [Training]: 100%|██████████| 80/80 [00:02<00:00, 38.25it/s, loss=0.551]\n"
          ]
        },
        {
          "name": "stdout",
          "output_type": "stream",
          "text": [
            "\n",
            "Epoch 63 - Train Loss: 0.5934, Val Loss: 0.7158, Train Acc: 0.9624, Val Acc: 0.8370\n"
          ]
        },
        {
          "name": "stderr",
          "output_type": "stream",
          "text": [
            "Epoch 64 [Training]: 100%|██████████| 80/80 [00:01<00:00, 48.02it/s, loss=0.551]\n"
          ]
        },
        {
          "name": "stdout",
          "output_type": "stream",
          "text": [
            "\n",
            "Epoch 64 - Train Loss: 0.5924, Val Loss: 0.7161, Train Acc: 0.9636, Val Acc: 0.8370\n",
            "⛔ Early stopping triggered\n"
          ]
        }
      ],
      "source": [
        "# 🧱 Modèle LSTM\n",
        "class SentimentLSTM(nn.Module):\n",
        "    def __init__(self, input_dim, hidden_dim, output_dim, n_layers, dropout):\n",
        "        super(SentimentLSTM, self).__init__()\n",
        "        self.lstm = nn.LSTM(input_dim, hidden_dim, num_layers=n_layers, batch_first=True, dropout=dropout)\n",
        "        self.dropout = nn.Dropout(dropout)\n",
        "        self.fc = nn.Linear(hidden_dim, output_dim)\n",
        "        self.softmax = nn.Softmax(dim=1)\n",
        "\n",
        "    def forward(self, x):\n",
        "        x = x.unsqueeze(1)  # [batch_size, 1, input_dim]\n",
        "        lstm_out, _ = self.lstm(x)\n",
        "        out = self.dropout(lstm_out[:, -1, :])\n",
        "        out = self.fc(out)\n",
        "        return self.softmax(out)\n",
        "\n",
        "input_dim = X_train_vec.shape[1]\n",
        "model = SentimentLSTM(input_dim=input_dim, hidden_dim=128, output_dim=3, n_layers=2, dropout=0.3)\n",
        "model = model.to(device)\n",
        "\n",
        "# 🔧 Entraînement\n",
        "criterion = nn.CrossEntropyLoss()\n",
        "optimizer = torch.optim.Adam(model.parameters(), lr=0.00009, weight_decay=2e-5, eps=0.00001)\n",
        "\n",
        "train_losses, val_losses, train_accuracies, val_accuracies = [], [], [], []\n",
        "best_val_loss = float('inf')\n",
        "patience = 2  # Nombre d'époques sans amélioration avant l'arrêt anticipé\n",
        "epochs_no_improve = 0\n",
        "\n",
        "for epoch in range(100):\n",
        "    model.train()\n",
        "    running_loss, correct, total = 0.0, 0, 0\n",
        "    loop = tqdm(train_loader, desc=f\"Epoch {epoch+1} [Training]\")\n",
        "    for inputs, labels in loop:\n",
        "        inputs, labels = inputs.to(device), labels.to(device)\n",
        "        optimizer.zero_grad()\n",
        "        outputs = model(inputs)\n",
        "        loss = criterion(outputs, labels)\n",
        "        loss.backward()\n",
        "        optimizer.step()\n",
        "\n",
        "        running_loss += loss.item() * inputs.size(0)\n",
        "        _, preds = torch.max(outputs, 1)\n",
        "        correct += (preds == labels).sum().item()\n",
        "        total += labels.size(0)\n",
        "        loop.set_postfix(loss=loss.item())\n",
        "\n",
        "    train_loss = running_loss / len(train_loader.dataset)\n",
        "    train_acc = correct / total\n",
        "    train_losses.append(train_loss)\n",
        "    train_accuracies.append(train_acc)\n",
        "\n",
        "    # Validation\n",
        "    model.eval()\n",
        "    val_loss, correct, total = 0.0, 0, 0\n",
        "    with torch.no_grad():\n",
        "        for inputs, labels in val_loader:\n",
        "            inputs, labels = inputs.to(device), labels.to(device)\n",
        "            outputs = model(inputs)\n",
        "            loss = criterion(outputs, labels)\n",
        "            val_loss += loss.item() * inputs.size(0)\n",
        "            _, preds = torch.max(outputs, 1)\n",
        "            correct += (preds == labels).sum().item()\n",
        "            total += labels.size(0)\n",
        "\n",
        "    val_loss = val_loss / len(val_loader.dataset)\n",
        "    val_acc = correct / total\n",
        "    val_losses.append(val_loss)\n",
        "    val_accuracies.append(val_acc)\n",
        "\n",
        "    print(f\"\\nEpoch {epoch+1} - Train Loss: {train_loss:.4f}, Val Loss: {val_loss:.4f}, Train Acc: {train_acc:.4f}, Val Acc: {val_acc:.4f}\")\n",
        "\n",
        "    # Early stopping\n",
        "    if val_loss < best_val_loss:\n",
        "        best_val_loss = val_loss\n",
        "        epochs_no_improve = 0\n",
        "        torch.save(model.state_dict(), \"Results/best_model_LSTM.pt\")\n",
        "    else:\n",
        "        epochs_no_improve += 1\n",
        "        if epochs_no_improve == patience:\n",
        "            print(\"⛔ Early stopping triggered\")\n",
        "            break"
      ]
    },
    {
      "cell_type": "markdown",
      "id": "-EyPtSYaX0JU",
      "metadata": {
        "id": "-EyPtSYaX0JU"
      },
      "source": [
        "## <span style=\"color: #28A745;\">**Graphique des pertes**</span>"
      ]
    },
    {
      "cell_type": "code",
      "execution_count": 166,
      "id": "47URm_VvX-10",
      "metadata": {
        "colab": {
          "base_uri": "https://localhost:8080/",
          "height": 487
        },
        "id": "47URm_VvX-10",
        "outputId": "d6a72e21-a213-4555-d9aa-1619afcc591e"
      },
      "outputs": [
        {
          "data": {
            "image/png": "[encoded data removed]",
            "text/plain": [
              "<Figure size 1000x500 with 1 Axes>"
            ]
          },
          "metadata": {},
          "output_type": "display_data"
        }
      ],
      "source": [
        "# 📉 Graphique des pertes\n",
        "plt.figure(figsize=(10, 5))\n",
        "plt.plot(train_losses, label=\"Training Loss\", color='#28A745')\n",
        "plt.plot(val_losses, label=\"Validation Loss\", color='#E30613')\n",
        "plt.xlabel(\"Epochs\")\n",
        "plt.ylabel(\"Loss\")\n",
        "plt.title(\"Training vs Validation Loss - LSTM\")\n",
        "plt.legend()\n",
        "plt.show()"
      ]
    },
    {
      "cell_type": "markdown",
      "id": "3nBEMHnUYIZB",
      "metadata": {
        "id": "3nBEMHnUYIZB"
      },
      "source": [
        "## <span style=\"color: #28A745;\">**Évaluation finale**</span>"
      ]
    },
    {
      "cell_type": "code",
      "execution_count": 165,
      "id": "wiOjH8zvYRqt",
      "metadata": {
        "colab": {
          "base_uri": "https://localhost:8080/"
        },
        "id": "wiOjH8zvYRqt",
        "outputId": "419d8dcc-cc94-4eb1-c8db-1c547c0fa5fd"
      },
      "outputs": [
        {
          "name": "stderr",
          "output_type": "stream",
          "text": [
            "C:\\Users\\kikoo\\AppData\\Local\\Temp\\ipykernel_27876\\4166534504.py:2: FutureWarning: You are using `torch.load` with `weights_only=False` (the current default value), which uses the default pickle module implicitly. It is possible to construct malicious pickle data which will execute arbitrary code during unpickling (See https://github.com/pytorch/pytorch/blob/main/SECURITY.md#untrusted-models for more details). In a future release, the default value for `weights_only` will be flipped to `True`. This limits the functions that could be executed during unpickling. Arbitrary objects will no longer be allowed to be loaded via this mode unless they are explicitly allowlisted by the user via `torch.serialization.add_safe_globals`. We recommend you start setting `weights_only=True` for any use case where you don't have full control of the loaded file. Please open an issue on GitHub for any issues related to this experimental feature.\n",
            "  model.load_state_dict(torch.load(\"Results/best_model_LSTM.pt\"))\n"
          ]
        },
        {
          "name": "stdout",
          "output_type": "stream",
          "text": [
            "\n",
            "🔍 Rapport de classification pour LSTM:\n",
            "              precision    recall  f1-score   support\n",
            "\n",
            "     Negatif       0.90      0.83      0.86       172\n",
            "      Neutre       0.79      0.82      0.80       236\n",
            "     Positif       0.91      0.92      0.91       315\n",
            "\n",
            "    accuracy                           0.87       723\n",
            "   macro avg       0.87      0.86      0.86       723\n",
            "weighted avg       0.87      0.87      0.87       723\n",
            "\n"
          ]
        }
      ],
      "source": [
        "# ✅ Évaluation finale\n",
        "model.load_state_dict(torch.load(\"Results/best_model_LSTM.pt\"))\n",
        "model.eval()\n",
        "\n",
        "all_preds, all_labels = [], []\n",
        "with torch.no_grad():\n",
        "    for inputs, labels in test_loader:\n",
        "        inputs = inputs.to(device)\n",
        "        outputs = model(inputs)\n",
        "        _, preds = torch.max(outputs, 1)\n",
        "        all_preds.extend(preds.cpu().numpy())\n",
        "        all_labels.extend(labels.numpy())\n",
        "\n",
        "# 📊 Rapport de classification\n",
        "print(\"\\n🔍 Rapport de classification pour LSTM:\")\n",
        "print(classification_report(all_labels, all_preds, target_names=label_encoder.classes_))"
      ]
    },
    {
      "cell_type": "markdown",
      "id": "d5roWJiOYX5S",
      "metadata": {
        "id": "d5roWJiOYX5S"
      },
      "source": [
        "## <span style=\"color: #28A745;\">**Matrice de confusion**</span>"
      ]
    },
    {
      "cell_type": "code",
      "execution_count": 167,
      "id": "KyAPtL7iYW6L",
      "metadata": {
        "colab": {
          "base_uri": "https://localhost:8080/",
          "height": 487
        },
        "id": "KyAPtL7iYW6L",
        "outputId": "18847b4c-0da7-4407-9478-5538acec23fa"
      },
      "outputs": [
        {
          "data": {
            "image/png": "[encoded data removed]",
            "text/plain": [
              "<Figure size 600x500 with 2 Axes>"
            ]
          },
          "metadata": {},
          "output_type": "display_data"
        }
      ],
      "source": [
        "# 📌 Matrice de confusion\n",
        "cm = confusion_matrix(all_labels, all_preds)\n",
        "plt.figure(figsize=(6, 5))\n",
        "sns.heatmap(cm, annot=True, fmt=\"d\", cmap=\"Reds\", xticklabels=label_encoder.classes_, yticklabels=label_encoder.classes_)\n",
        "plt.xlabel(\"Prédictions\")\n",
        "plt.ylabel(\"Vérités\")\n",
        "plt.title(\"Matrice de confusion - LSTM\")\n",
        "plt.show()"
      ]
    },
    {
      "cell_type": "markdown",
      "id": "0fcc10c4",
      "metadata": {
        "id": "0fcc10c4"
      },
      "source": [
        "<h3 style=\"text-align: center; color: #E30613;\"><b><i>Développé par: OUARAS Khelil Rafik</i></b></h3>"
      ]
    }
  ],
  "metadata": {
    "accelerator": "GPU",
    "colab": {
      "gpuType": "T4",
      "provenance": []
    },
    "kernelspec": {
      "display_name": "base",
      "language": "python",
      "name": "python3"
    },
    "language_info": {
      "codemirror_mode": {
        "name": "ipython",
        "version": 3
      },
      "file_extension": ".py",
      "mimetype": "text/x-python",
      "name": "python",
      "nbconvert_exporter": "python",
      "pygments_lexer": "ipython3",
      "version": "3.12.3"
    }
  },
  "nbformat": 4,
  "nbformat_minor": 5
}
