{
  "cells": [
    {
      "cell_type": "markdown",
      "metadata": {
        "id": "view-in-github",
        "colab_type": "text"
      },
      "source": [
        "<a href=\"https://colab.research.google.com/github/OUARAS-khelil-Rafik/AS-Ooredoo_Djezzy_Mobilis-/blob/main/Training_AS_DL.ipynb\" target=\"_parent\"><img src=\"https://colab.research.google.com/assets/colab-badge.svg\" alt=\"Open In Colab\"/></a>"
      ]
    },
    {
      "cell_type": "code",
      "execution_count": null,
      "id": "915dbad9",
      "metadata": {
        "id": "915dbad9",
        "outputId": "cbe08e5f-05fa-438f-acf3-750bcc0eea2c"
      },
      "outputs": [
        {
          "name": "stdout",
          "output_type": "stream",
          "text": [
            "Defaulting to user installation because normal site-packages is not writeable\n",
            "Requirement already satisfied: torch in c:\\users\\kikoo\\appdata\\roaming\\python\\python312\\site-packages (2.5.1+cu121)\n",
            "Requirement already satisfied: torchvision in c:\\users\\kikoo\\appdata\\roaming\\python\\python312\\site-packages (0.20.1+cu121)\n",
            "Requirement already satisfied: torchaudio in c:\\users\\kikoo\\appdata\\roaming\\python\\python312\\site-packages (2.5.1+cu121)\n",
            "Requirement already satisfied: scikit-learn in c:\\programdata\\anaconda3\\lib\\site-packages (1.5.1)\n",
            "Requirement already satisfied: matplotlib in c:\\programdata\\anaconda3\\lib\\site-packages (3.9.2)\n",
            "Requirement already satisfied: tqdm in c:\\programdata\\anaconda3\\lib\\site-packages (4.66.5)\n",
            "Requirement already satisfied: pandas in c:\\programdata\\anaconda3\\lib\\site-packages (2.2.2)\n",
            "Requirement already satisfied: filelock in c:\\programdata\\anaconda3\\lib\\site-packages (from torch) (3.13.1)\n",
            "Requirement already satisfied: typing-extensions>=4.8.0 in c:\\users\\kikoo\\appdata\\roaming\\python\\python312\\site-packages (from torch) (4.12.2)\n",
            "Requirement already satisfied: networkx in c:\\programdata\\anaconda3\\lib\\site-packages (from torch) (3.2.1)\n",
            "Requirement already satisfied: jinja2 in c:\\programdata\\anaconda3\\lib\\site-packages (from torch) (3.1.4)\n",
            "Requirement already satisfied: fsspec in c:\\programdata\\anaconda3\\lib\\site-packages (from torch) (2024.6.1)\n",
            "Requirement already satisfied: setuptools in c:\\programdata\\anaconda3\\lib\\site-packages (from torch) (75.1.0)\n",
            "Requirement already satisfied: sympy==1.13.1 in c:\\users\\kikoo\\appdata\\roaming\\python\\python312\\site-packages (from torch) (1.13.1)\n",
            "Requirement already satisfied: mpmath<1.4,>=1.1.0 in c:\\programdata\\anaconda3\\lib\\site-packages (from sympy==1.13.1->torch) (1.3.0)\n",
            "Requirement already satisfied: numpy in c:\\programdata\\anaconda3\\lib\\site-packages (from torchvision) (1.26.4)\n",
            "Requirement already satisfied: pillow!=8.3.*,>=5.3.0 in c:\\programdata\\anaconda3\\lib\\site-packages (from torchvision) (10.4.0)\n",
            "Requirement already satisfied: scipy>=1.6.0 in c:\\programdata\\anaconda3\\lib\\site-packages (from scikit-learn) (1.13.1)\n",
            "Requirement already satisfied: joblib>=1.2.0 in c:\\programdata\\anaconda3\\lib\\site-packages (from scikit-learn) (1.4.2)\n",
            "Requirement already satisfied: threadpoolctl>=3.1.0 in c:\\programdata\\anaconda3\\lib\\site-packages (from scikit-learn) (3.5.0)\n",
            "Requirement already satisfied: contourpy>=1.0.1 in c:\\programdata\\anaconda3\\lib\\site-packages (from matplotlib) (1.2.0)\n",
            "Requirement already satisfied: cycler>=0.10 in c:\\programdata\\anaconda3\\lib\\site-packages (from matplotlib) (0.11.0)\n",
            "Requirement already satisfied: fonttools>=4.22.0 in c:\\programdata\\anaconda3\\lib\\site-packages (from matplotlib) (4.51.0)\n",
            "Requirement already satisfied: kiwisolver>=1.3.1 in c:\\programdata\\anaconda3\\lib\\site-packages (from matplotlib) (1.4.4)\n",
            "Requirement already satisfied: packaging>=20.0 in c:\\programdata\\anaconda3\\lib\\site-packages (from matplotlib) (24.1)\n",
            "Requirement already satisfied: pyparsing>=2.3.1 in c:\\programdata\\anaconda3\\lib\\site-packages (from matplotlib) (3.1.2)\n",
            "Requirement already satisfied: python-dateutil>=2.7 in c:\\programdata\\anaconda3\\lib\\site-packages (from matplotlib) (2.9.0.post0)\n",
            "Requirement already satisfied: colorama in c:\\users\\kikoo\\appdata\\roaming\\python\\python312\\site-packages (from tqdm) (0.4.6)\n",
            "Requirement already satisfied: pytz>=2020.1 in c:\\users\\kikoo\\appdata\\roaming\\python\\python312\\site-packages (from pandas) (2024.2)\n",
            "Requirement already satisfied: tzdata>=2022.7 in c:\\programdata\\anaconda3\\lib\\site-packages (from pandas) (2023.3)\n",
            "Requirement already satisfied: six>=1.5 in c:\\programdata\\anaconda3\\lib\\site-packages (from python-dateutil>=2.7->matplotlib) (1.16.0)\n",
            "Requirement already satisfied: MarkupSafe>=2.0 in c:\\programdata\\anaconda3\\lib\\site-packages (from jinja2->torch) (2.1.3)\n",
            "Note: you may need to restart the kernel to use updated packages.\n"
          ]
        }
      ],
      "source": [
        "%pip install torch torchvision torchaudio scikit-learn matplotlib tqdm pandas"
      ]
    },
    {
      "cell_type": "code",
      "execution_count": 3,
      "id": "55cd8cb0",
      "metadata": {
        "colab": {
          "base_uri": "https://localhost:8080/",
          "height": 1000
        },
        "id": "55cd8cb0",
        "outputId": "ee5170ac-e680-44be-b910-e27ba95cf281"
      },
      "outputs": [
        {
          "output_type": "stream",
          "name": "stdout",
          "text": [
            "Device: cuda\n"
          ]
        },
        {
          "output_type": "stream",
          "name": "stderr",
          "text": [
            "Epoch 1 [Training]: 100%|██████████| 80/80 [00:01<00:00, 55.74it/s, loss=1.09]\n"
          ]
        },
        {
          "output_type": "stream",
          "name": "stdout",
          "text": [
            "\n",
            "Epoch 1 - Train Loss: 1.0961, Val Loss: 1.0945, Train Acc: 0.4549, Val Acc: 0.4521\n"
          ]
        },
        {
          "output_type": "stream",
          "name": "stderr",
          "text": [
            "Epoch 2 [Training]: 100%|██████████| 80/80 [00:00<00:00, 186.48it/s, loss=1.09]\n"
          ]
        },
        {
          "output_type": "stream",
          "name": "stdout",
          "text": [
            "\n",
            "Epoch 2 - Train Loss: 1.0925, Val Loss: 1.0903, Train Acc: 0.4533, Val Acc: 0.4521\n"
          ]
        },
        {
          "output_type": "stream",
          "name": "stderr",
          "text": [
            "Epoch 3 [Training]: 100%|██████████| 80/80 [00:00<00:00, 178.80it/s, loss=1.09]\n"
          ]
        },
        {
          "output_type": "stream",
          "name": "stdout",
          "text": [
            "\n",
            "Epoch 3 - Train Loss: 1.0865, Val Loss: 1.0822, Train Acc: 0.4533, Val Acc: 0.4521\n"
          ]
        },
        {
          "output_type": "stream",
          "name": "stderr",
          "text": [
            "Epoch 4 [Training]: 100%|██████████| 80/80 [00:00<00:00, 185.67it/s, loss=1.06]\n"
          ]
        },
        {
          "output_type": "stream",
          "name": "stdout",
          "text": [
            "\n",
            "Epoch 4 - Train Loss: 1.0733, Val Loss: 1.0622, Train Acc: 0.4553, Val Acc: 0.4548\n"
          ]
        },
        {
          "output_type": "stream",
          "name": "stderr",
          "text": [
            "Epoch 5 [Training]: 100%|██████████| 80/80 [00:00<00:00, 184.27it/s, loss=0.999]\n"
          ]
        },
        {
          "output_type": "stream",
          "name": "stdout",
          "text": [
            "\n",
            "Epoch 5 - Train Loss: 1.0423, Val Loss: 1.0241, Train Acc: 0.4612, Val Acc: 0.4575\n"
          ]
        },
        {
          "output_type": "stream",
          "name": "stderr",
          "text": [
            "Epoch 6 [Training]: 100%|██████████| 80/80 [00:00<00:00, 179.30it/s, loss=1.03]\n"
          ]
        },
        {
          "output_type": "stream",
          "name": "stdout",
          "text": [
            "\n",
            "Epoch 6 - Train Loss: 1.0005, Val Loss: 0.9876, Train Acc: 0.4745, Val Acc: 0.4740\n"
          ]
        },
        {
          "output_type": "stream",
          "name": "stderr",
          "text": [
            "Epoch 7 [Training]: 100%|██████████| 80/80 [00:00<00:00, 182.61it/s, loss=0.957]\n"
          ]
        },
        {
          "output_type": "stream",
          "name": "stdout",
          "text": [
            "\n",
            "Epoch 7 - Train Loss: 0.9672, Val Loss: 0.9612, Train Acc: 0.5106, Val Acc: 0.5205\n"
          ]
        },
        {
          "output_type": "stream",
          "name": "stderr",
          "text": [
            "Epoch 8 [Training]: 100%|██████████| 80/80 [00:00<00:00, 175.76it/s, loss=0.859]\n"
          ]
        },
        {
          "output_type": "stream",
          "name": "stdout",
          "text": [
            "\n",
            "Epoch 8 - Train Loss: 0.9378, Val Loss: 0.9375, Train Acc: 0.5643, Val Acc: 0.5589\n"
          ]
        },
        {
          "output_type": "stream",
          "name": "stderr",
          "text": [
            "Epoch 9 [Training]: 100%|██████████| 80/80 [00:00<00:00, 187.46it/s, loss=0.922]\n"
          ]
        },
        {
          "output_type": "stream",
          "name": "stdout",
          "text": [
            "\n",
            "Epoch 9 - Train Loss: 0.9113, Val Loss: 0.9147, Train Acc: 0.6184, Val Acc: 0.6137\n"
          ]
        },
        {
          "output_type": "stream",
          "name": "stderr",
          "text": [
            "Epoch 10 [Training]: 100%|██████████| 80/80 [00:00<00:00, 184.81it/s, loss=0.961]\n"
          ]
        },
        {
          "output_type": "stream",
          "name": "stdout",
          "text": [
            "\n",
            "Epoch 10 - Train Loss: 0.8852, Val Loss: 0.8930, Train Acc: 0.6710, Val Acc: 0.6411\n"
          ]
        },
        {
          "output_type": "stream",
          "name": "stderr",
          "text": [
            "Epoch 11 [Training]: 100%|██████████| 80/80 [00:00<00:00, 185.06it/s, loss=0.881]\n"
          ]
        },
        {
          "output_type": "stream",
          "name": "stdout",
          "text": [
            "\n",
            "Epoch 11 - Train Loss: 0.8612, Val Loss: 0.8728, Train Acc: 0.7090, Val Acc: 0.6712\n"
          ]
        },
        {
          "output_type": "stream",
          "name": "stderr",
          "text": [
            "Epoch 12 [Training]: 100%|██████████| 80/80 [00:00<00:00, 178.97it/s, loss=0.87]\n"
          ]
        },
        {
          "output_type": "stream",
          "name": "stdout",
          "text": [
            "\n",
            "Epoch 12 - Train Loss: 0.8372, Val Loss: 0.8541, Train Acc: 0.7494, Val Acc: 0.7041\n"
          ]
        },
        {
          "output_type": "stream",
          "name": "stderr",
          "text": [
            "Epoch 13 [Training]: 100%|██████████| 80/80 [00:00<00:00, 185.49it/s, loss=0.786]\n"
          ]
        },
        {
          "output_type": "stream",
          "name": "stdout",
          "text": [
            "\n",
            "Epoch 13 - Train Loss: 0.8166, Val Loss: 0.8363, Train Acc: 0.7804, Val Acc: 0.7425\n"
          ]
        },
        {
          "output_type": "stream",
          "name": "stderr",
          "text": [
            "Epoch 14 [Training]: 100%|██████████| 80/80 [00:00<00:00, 182.42it/s, loss=0.799]\n"
          ]
        },
        {
          "output_type": "stream",
          "name": "stdout",
          "text": [
            "\n",
            "Epoch 14 - Train Loss: 0.7958, Val Loss: 0.8188, Train Acc: 0.8251, Val Acc: 0.7726\n"
          ]
        },
        {
          "output_type": "stream",
          "name": "stderr",
          "text": [
            "Epoch 15 [Training]: 100%|██████████| 80/80 [00:00<00:00, 182.95it/s, loss=0.786]\n"
          ]
        },
        {
          "output_type": "stream",
          "name": "stdout",
          "text": [
            "\n",
            "Epoch 15 - Train Loss: 0.7733, Val Loss: 0.7994, Train Acc: 0.8561, Val Acc: 0.7918\n"
          ]
        },
        {
          "output_type": "stream",
          "name": "stderr",
          "text": [
            "Epoch 16 [Training]: 100%|██████████| 80/80 [00:00<00:00, 171.60it/s, loss=0.754]\n"
          ]
        },
        {
          "output_type": "stream",
          "name": "stdout",
          "text": [
            "\n",
            "Epoch 16 - Train Loss: 0.7480, Val Loss: 0.7803, Train Acc: 0.8769, Val Acc: 0.8110\n"
          ]
        },
        {
          "output_type": "stream",
          "name": "stderr",
          "text": [
            "Epoch 17 [Training]: 100%|██████████| 80/80 [00:00<00:00, 178.51it/s, loss=0.674]\n"
          ]
        },
        {
          "output_type": "stream",
          "name": "stdout",
          "text": [
            "\n",
            "Epoch 17 - Train Loss: 0.7236, Val Loss: 0.7627, Train Acc: 0.8941, Val Acc: 0.8301\n"
          ]
        },
        {
          "output_type": "stream",
          "name": "stderr",
          "text": [
            "Epoch 18 [Training]: 100%|██████████| 80/80 [00:00<00:00, 179.57it/s, loss=0.695]\n"
          ]
        },
        {
          "output_type": "stream",
          "name": "stdout",
          "text": [
            "\n",
            "Epoch 18 - Train Loss: 0.7056, Val Loss: 0.7481, Train Acc: 0.9004, Val Acc: 0.8603\n"
          ]
        },
        {
          "output_type": "stream",
          "name": "stderr",
          "text": [
            "Epoch 19 [Training]: 100%|██████████| 80/80 [00:00<00:00, 171.74it/s, loss=0.686]\n"
          ]
        },
        {
          "output_type": "stream",
          "name": "stdout",
          "text": [
            "\n",
            "Epoch 19 - Train Loss: 0.6913, Val Loss: 0.7361, Train Acc: 0.8996, Val Acc: 0.8685\n"
          ]
        },
        {
          "output_type": "stream",
          "name": "stderr",
          "text": [
            "Epoch 20 [Training]: 100%|██████████| 80/80 [00:00<00:00, 153.04it/s, loss=0.66]\n"
          ]
        },
        {
          "output_type": "stream",
          "name": "stdout",
          "text": [
            "\n",
            "Epoch 20 - Train Loss: 0.6791, Val Loss: 0.7256, Train Acc: 0.9114, Val Acc: 0.8712\n"
          ]
        },
        {
          "output_type": "stream",
          "name": "stderr",
          "text": [
            "Epoch 21 [Training]: 100%|██████████| 80/80 [00:00<00:00, 163.78it/s, loss=0.621]\n"
          ]
        },
        {
          "output_type": "stream",
          "name": "stdout",
          "text": [
            "\n",
            "Epoch 21 - Train Loss: 0.6670, Val Loss: 0.7174, Train Acc: 0.9196, Val Acc: 0.8740\n"
          ]
        },
        {
          "output_type": "stream",
          "name": "stderr",
          "text": [
            "Epoch 22 [Training]: 100%|██████████| 80/80 [00:00<00:00, 157.49it/s, loss=0.644]\n"
          ]
        },
        {
          "output_type": "stream",
          "name": "stdout",
          "text": [
            "\n",
            "Epoch 22 - Train Loss: 0.6601, Val Loss: 0.7105, Train Acc: 0.9247, Val Acc: 0.8795\n"
          ]
        },
        {
          "output_type": "stream",
          "name": "stderr",
          "text": [
            "Epoch 23 [Training]: 100%|██████████| 80/80 [00:00<00:00, 146.39it/s, loss=0.611]\n"
          ]
        },
        {
          "output_type": "stream",
          "name": "stdout",
          "text": [
            "\n",
            "Epoch 23 - Train Loss: 0.6522, Val Loss: 0.7042, Train Acc: 0.9267, Val Acc: 0.8822\n"
          ]
        },
        {
          "output_type": "stream",
          "name": "stderr",
          "text": [
            "Epoch 24 [Training]: 100%|██████████| 80/80 [00:00<00:00, 173.19it/s, loss=0.655]\n"
          ]
        },
        {
          "output_type": "stream",
          "name": "stdout",
          "text": [
            "\n",
            "Epoch 24 - Train Loss: 0.6448, Val Loss: 0.6985, Train Acc: 0.9282, Val Acc: 0.8849\n"
          ]
        },
        {
          "output_type": "stream",
          "name": "stderr",
          "text": [
            "Epoch 25 [Training]: 100%|██████████| 80/80 [00:00<00:00, 179.53it/s, loss=0.613]\n"
          ]
        },
        {
          "output_type": "stream",
          "name": "stdout",
          "text": [
            "\n",
            "Epoch 25 - Train Loss: 0.6391, Val Loss: 0.6942, Train Acc: 0.9361, Val Acc: 0.8849\n"
          ]
        },
        {
          "output_type": "stream",
          "name": "stderr",
          "text": [
            "Epoch 26 [Training]: 100%|██████████| 80/80 [00:00<00:00, 179.98it/s, loss=0.613]\n"
          ]
        },
        {
          "output_type": "stream",
          "name": "stdout",
          "text": [
            "\n",
            "Epoch 26 - Train Loss: 0.6347, Val Loss: 0.6901, Train Acc: 0.9357, Val Acc: 0.8849\n"
          ]
        },
        {
          "output_type": "stream",
          "name": "stderr",
          "text": [
            "Epoch 27 [Training]: 100%|██████████| 80/80 [00:00<00:00, 180.87it/s, loss=0.598]\n"
          ]
        },
        {
          "output_type": "stream",
          "name": "stdout",
          "text": [
            "\n",
            "Epoch 27 - Train Loss: 0.6286, Val Loss: 0.6866, Train Acc: 0.9420, Val Acc: 0.8877\n"
          ]
        },
        {
          "output_type": "stream",
          "name": "stderr",
          "text": [
            "Epoch 28 [Training]: 100%|██████████| 80/80 [00:00<00:00, 182.14it/s, loss=0.624]\n"
          ]
        },
        {
          "output_type": "stream",
          "name": "stdout",
          "text": [
            "\n",
            "Epoch 28 - Train Loss: 0.6274, Val Loss: 0.6835, Train Acc: 0.9424, Val Acc: 0.8904\n"
          ]
        },
        {
          "output_type": "stream",
          "name": "stderr",
          "text": [
            "Epoch 29 [Training]: 100%|██████████| 80/80 [00:00<00:00, 181.20it/s, loss=0.624]\n"
          ]
        },
        {
          "output_type": "stream",
          "name": "stdout",
          "text": [
            "\n",
            "Epoch 29 - Train Loss: 0.6251, Val Loss: 0.6799, Train Acc: 0.9373, Val Acc: 0.8904\n"
          ]
        },
        {
          "output_type": "stream",
          "name": "stderr",
          "text": [
            "Epoch 30 [Training]: 100%|██████████| 80/80 [00:00<00:00, 176.62it/s, loss=0.661]\n"
          ]
        },
        {
          "output_type": "stream",
          "name": "stdout",
          "text": [
            "\n",
            "Epoch 30 - Train Loss: 0.6197, Val Loss: 0.6765, Train Acc: 0.9482, Val Acc: 0.8932\n"
          ]
        },
        {
          "output_type": "stream",
          "name": "stderr",
          "text": [
            "Epoch 31 [Training]: 100%|██████████| 80/80 [00:00<00:00, 191.72it/s, loss=0.612]\n"
          ]
        },
        {
          "output_type": "stream",
          "name": "stdout",
          "text": [
            "\n",
            "Epoch 31 - Train Loss: 0.6179, Val Loss: 0.6738, Train Acc: 0.9463, Val Acc: 0.8932\n"
          ]
        },
        {
          "output_type": "stream",
          "name": "stderr",
          "text": [
            "Epoch 32 [Training]: 100%|██████████| 80/80 [00:00<00:00, 182.99it/s, loss=0.588]\n"
          ]
        },
        {
          "output_type": "stream",
          "name": "stdout",
          "text": [
            "\n",
            "Epoch 32 - Train Loss: 0.6160, Val Loss: 0.6719, Train Acc: 0.9459, Val Acc: 0.8932\n"
          ]
        },
        {
          "output_type": "stream",
          "name": "stderr",
          "text": [
            "Epoch 33 [Training]: 100%|██████████| 80/80 [00:00<00:00, 182.47it/s, loss=0.584]\n"
          ]
        },
        {
          "output_type": "stream",
          "name": "stdout",
          "text": [
            "\n",
            "Epoch 33 - Train Loss: 0.6144, Val Loss: 0.6703, Train Acc: 0.9490, Val Acc: 0.8904\n"
          ]
        },
        {
          "output_type": "stream",
          "name": "stderr",
          "text": [
            "Epoch 34 [Training]: 100%|██████████| 80/80 [00:00<00:00, 187.12it/s, loss=0.597]\n"
          ]
        },
        {
          "output_type": "stream",
          "name": "stdout",
          "text": [
            "\n",
            "Epoch 34 - Train Loss: 0.6132, Val Loss: 0.6692, Train Acc: 0.9514, Val Acc: 0.8904\n"
          ]
        },
        {
          "output_type": "stream",
          "name": "stderr",
          "text": [
            "Epoch 35 [Training]: 100%|██████████| 80/80 [00:00<00:00, 181.65it/s, loss=0.583]\n"
          ]
        },
        {
          "output_type": "stream",
          "name": "stdout",
          "text": [
            "\n",
            "Epoch 35 - Train Loss: 0.6083, Val Loss: 0.6677, Train Acc: 0.9537, Val Acc: 0.8959\n"
          ]
        },
        {
          "output_type": "stream",
          "name": "stderr",
          "text": [
            "Epoch 36 [Training]: 100%|██████████| 80/80 [00:00<00:00, 182.16it/s, loss=0.65]\n"
          ]
        },
        {
          "output_type": "stream",
          "name": "stdout",
          "text": [
            "\n",
            "Epoch 36 - Train Loss: 0.6079, Val Loss: 0.6664, Train Acc: 0.9541, Val Acc: 0.8932\n"
          ]
        },
        {
          "output_type": "stream",
          "name": "stderr",
          "text": [
            "Epoch 37 [Training]: 100%|██████████| 80/80 [00:00<00:00, 182.72it/s, loss=0.564]\n"
          ]
        },
        {
          "output_type": "stream",
          "name": "stdout",
          "text": [
            "\n",
            "Epoch 37 - Train Loss: 0.6068, Val Loss: 0.6655, Train Acc: 0.9537, Val Acc: 0.8986\n"
          ]
        },
        {
          "output_type": "stream",
          "name": "stderr",
          "text": [
            "Epoch 38 [Training]: 100%|██████████| 80/80 [00:00<00:00, 174.46it/s, loss=0.602]\n"
          ]
        },
        {
          "output_type": "stream",
          "name": "stdout",
          "text": [
            "\n",
            "Epoch 38 - Train Loss: 0.6053, Val Loss: 0.6648, Train Acc: 0.9557, Val Acc: 0.8959\n"
          ]
        },
        {
          "output_type": "stream",
          "name": "stderr",
          "text": [
            "Epoch 39 [Training]: 100%|██████████| 80/80 [00:00<00:00, 183.70it/s, loss=0.667]\n"
          ]
        },
        {
          "output_type": "stream",
          "name": "stdout",
          "text": [
            "\n",
            "Epoch 39 - Train Loss: 0.6027, Val Loss: 0.6642, Train Acc: 0.9573, Val Acc: 0.8986\n"
          ]
        },
        {
          "output_type": "stream",
          "name": "stderr",
          "text": [
            "Epoch 40 [Training]: 100%|██████████| 80/80 [00:00<00:00, 182.98it/s, loss=0.562]\n"
          ]
        },
        {
          "output_type": "stream",
          "name": "stdout",
          "text": [
            "\n",
            "Epoch 40 - Train Loss: 0.6005, Val Loss: 0.6632, Train Acc: 0.9588, Val Acc: 0.8959\n"
          ]
        },
        {
          "output_type": "stream",
          "name": "stderr",
          "text": [
            "Epoch 41 [Training]: 100%|██████████| 80/80 [00:00<00:00, 181.66it/s, loss=0.559]\n"
          ]
        },
        {
          "output_type": "stream",
          "name": "stdout",
          "text": [
            "\n",
            "Epoch 41 - Train Loss: 0.6012, Val Loss: 0.6623, Train Acc: 0.9545, Val Acc: 0.8959\n"
          ]
        },
        {
          "output_type": "stream",
          "name": "stderr",
          "text": [
            "Epoch 42 [Training]: 100%|██████████| 80/80 [00:00<00:00, 182.70it/s, loss=0.563]\n"
          ]
        },
        {
          "output_type": "stream",
          "name": "stdout",
          "text": [
            "\n",
            "Epoch 42 - Train Loss: 0.5971, Val Loss: 0.6616, Train Acc: 0.9627, Val Acc: 0.8959\n"
          ]
        },
        {
          "output_type": "stream",
          "name": "stderr",
          "text": [
            "Epoch 43 [Training]: 100%|██████████| 80/80 [00:00<00:00, 180.31it/s, loss=0.601]\n"
          ]
        },
        {
          "output_type": "stream",
          "name": "stdout",
          "text": [
            "\n",
            "Epoch 43 - Train Loss: 0.5972, Val Loss: 0.6609, Train Acc: 0.9612, Val Acc: 0.8959\n"
          ]
        },
        {
          "output_type": "stream",
          "name": "stderr",
          "text": [
            "Epoch 44 [Training]: 100%|██████████| 80/80 [00:00<00:00, 183.02it/s, loss=0.566]\n"
          ]
        },
        {
          "output_type": "stream",
          "name": "stdout",
          "text": [
            "\n",
            "Epoch 44 - Train Loss: 0.5963, Val Loss: 0.6601, Train Acc: 0.9624, Val Acc: 0.8959\n"
          ]
        },
        {
          "output_type": "stream",
          "name": "stderr",
          "text": [
            "Epoch 45 [Training]: 100%|██████████| 80/80 [00:00<00:00, 148.44it/s, loss=0.665]\n"
          ]
        },
        {
          "output_type": "stream",
          "name": "stdout",
          "text": [
            "\n",
            "Epoch 45 - Train Loss: 0.5960, Val Loss: 0.6595, Train Acc: 0.9627, Val Acc: 0.8986\n"
          ]
        },
        {
          "output_type": "stream",
          "name": "stderr",
          "text": [
            "Epoch 46 [Training]: 100%|██████████| 80/80 [00:00<00:00, 164.33it/s, loss=0.609]\n"
          ]
        },
        {
          "output_type": "stream",
          "name": "stdout",
          "text": [
            "\n",
            "Epoch 46 - Train Loss: 0.5941, Val Loss: 0.6589, Train Acc: 0.9671, Val Acc: 0.8959\n"
          ]
        },
        {
          "output_type": "stream",
          "name": "stderr",
          "text": [
            "Epoch 47 [Training]: 100%|██████████| 80/80 [00:00<00:00, 167.31it/s, loss=0.563]\n"
          ]
        },
        {
          "output_type": "stream",
          "name": "stdout",
          "text": [
            "\n",
            "Epoch 47 - Train Loss: 0.5948, Val Loss: 0.6586, Train Acc: 0.9608, Val Acc: 0.8986\n"
          ]
        },
        {
          "output_type": "stream",
          "name": "stderr",
          "text": [
            "Epoch 48 [Training]: 100%|██████████| 80/80 [00:00<00:00, 141.28it/s, loss=0.565]\n"
          ]
        },
        {
          "output_type": "stream",
          "name": "stdout",
          "text": [
            "\n",
            "Epoch 48 - Train Loss: 0.5927, Val Loss: 0.6584, Train Acc: 0.9659, Val Acc: 0.8986\n"
          ]
        },
        {
          "output_type": "stream",
          "name": "stderr",
          "text": [
            "Epoch 49 [Training]: 100%|██████████| 80/80 [00:00<00:00, 146.51it/s, loss=0.606]\n"
          ]
        },
        {
          "output_type": "stream",
          "name": "stdout",
          "text": [
            "\n",
            "Epoch 49 - Train Loss: 0.5926, Val Loss: 0.6579, Train Acc: 0.9647, Val Acc: 0.8986\n"
          ]
        },
        {
          "output_type": "stream",
          "name": "stderr",
          "text": [
            "Epoch 50 [Training]: 100%|██████████| 80/80 [00:00<00:00, 183.11it/s, loss=0.595]\n"
          ]
        },
        {
          "output_type": "stream",
          "name": "stdout",
          "text": [
            "\n",
            "Epoch 50 - Train Loss: 0.5907, Val Loss: 0.6577, Train Acc: 0.9663, Val Acc: 0.8986\n"
          ]
        },
        {
          "output_type": "stream",
          "name": "stderr",
          "text": [
            "Epoch 51 [Training]: 100%|██████████| 80/80 [00:00<00:00, 177.37it/s, loss=0.576]\n"
          ]
        },
        {
          "output_type": "stream",
          "name": "stdout",
          "text": [
            "\n",
            "Epoch 51 - Train Loss: 0.5922, Val Loss: 0.6574, Train Acc: 0.9643, Val Acc: 0.8986\n"
          ]
        },
        {
          "output_type": "stream",
          "name": "stderr",
          "text": [
            "Epoch 52 [Training]: 100%|██████████| 80/80 [00:00<00:00, 185.03it/s, loss=0.618]\n"
          ]
        },
        {
          "output_type": "stream",
          "name": "stdout",
          "text": [
            "\n",
            "Epoch 52 - Train Loss: 0.5917, Val Loss: 0.6575, Train Acc: 0.9631, Val Acc: 0.8986\n"
          ]
        },
        {
          "output_type": "stream",
          "name": "stderr",
          "text": [
            "Epoch 53 [Training]: 100%|██████████| 80/80 [00:00<00:00, 179.72it/s, loss=0.559]\n"
          ]
        },
        {
          "output_type": "stream",
          "name": "stdout",
          "text": [
            "\n",
            "Epoch 53 - Train Loss: 0.5893, Val Loss: 0.6573, Train Acc: 0.9675, Val Acc: 0.8986\n"
          ]
        },
        {
          "output_type": "stream",
          "name": "stderr",
          "text": [
            "Epoch 54 [Training]: 100%|██████████| 80/80 [00:00<00:00, 155.90it/s, loss=0.614]\n"
          ]
        },
        {
          "output_type": "stream",
          "name": "stdout",
          "text": [
            "\n",
            "Epoch 54 - Train Loss: 0.5896, Val Loss: 0.6569, Train Acc: 0.9659, Val Acc: 0.8986\n"
          ]
        },
        {
          "output_type": "stream",
          "name": "stderr",
          "text": [
            "Epoch 55 [Training]: 100%|██████████| 80/80 [00:00<00:00, 142.92it/s, loss=0.659]\n"
          ]
        },
        {
          "output_type": "stream",
          "name": "stdout",
          "text": [
            "\n",
            "Epoch 55 - Train Loss: 0.5893, Val Loss: 0.6567, Train Acc: 0.9643, Val Acc: 0.8986\n"
          ]
        },
        {
          "output_type": "stream",
          "name": "stderr",
          "text": [
            "Epoch 56 [Training]: 100%|██████████| 80/80 [00:00<00:00, 104.65it/s, loss=0.619]\n"
          ]
        },
        {
          "output_type": "stream",
          "name": "stdout",
          "text": [
            "\n",
            "Epoch 56 - Train Loss: 0.5864, Val Loss: 0.6564, Train Acc: 0.9698, Val Acc: 0.8986\n"
          ]
        },
        {
          "output_type": "stream",
          "name": "stderr",
          "text": [
            "Epoch 57 [Training]: 100%|██████████| 80/80 [00:00<00:00, 133.05it/s, loss=0.603]\n"
          ]
        },
        {
          "output_type": "stream",
          "name": "stdout",
          "text": [
            "\n",
            "Epoch 57 - Train Loss: 0.5875, Val Loss: 0.6567, Train Acc: 0.9686, Val Acc: 0.8986\n"
          ]
        },
        {
          "output_type": "stream",
          "name": "stderr",
          "text": [
            "Epoch 58 [Training]: 100%|██████████| 80/80 [00:00<00:00, 145.75it/s, loss=0.556]\n"
          ]
        },
        {
          "output_type": "stream",
          "name": "stdout",
          "text": [
            "\n",
            "Epoch 58 - Train Loss: 0.5854, Val Loss: 0.6567, Train Acc: 0.9702, Val Acc: 0.8986\n",
            "⛔ Early stopping triggered\n"
          ]
        },
        {
          "output_type": "display_data",
          "data": {
            "text/plain": [
              "<Figure size 1000x500 with 1 Axes>"
            ],
            "image/png": "[encoded data removed]"
          },
          "metadata": {}
        },
        {
          "output_type": "stream",
          "name": "stdout",
          "text": [
            "\n",
            "Classification Report:\n",
            "              precision    recall  f1-score   support\n",
            "\n",
            "     Negatif       0.89      0.84      0.86       173\n",
            "      Neutre       0.82      0.86      0.84       226\n",
            "     Positif       0.94      0.94      0.94       330\n",
            "\n",
            "    accuracy                           0.89       729\n",
            "   macro avg       0.88      0.88      0.88       729\n",
            "weighted avg       0.89      0.89      0.89       729\n",
            "\n"
          ]
        },
        {
          "output_type": "display_data",
          "data": {
            "text/plain": [
              "<Figure size 600x500 with 2 Axes>"
            ],
            "image/png": "[encoded data removed]"
          },
          "metadata": {}
        }
      ],
      "source": [
        "import pandas as pd\n",
        "import numpy as np\n",
        "import torch\n",
        "import torch.nn as nn\n",
        "from torch.utils.data import DataLoader, Dataset\n",
        "from sklearn.model_selection import train_test_split\n",
        "from sklearn.metrics import classification_report, confusion_matrix\n",
        "from sklearn.feature_extraction.text import CountVectorizer\n",
        "import matplotlib.pyplot as plt\n",
        "from tqdm import tqdm\n",
        "import seaborn as sns\n",
        "\n",
        "# ✅ GPU seulement\n",
        "device = torch.device(\"cuda\" if torch.cuda.is_available() else \"cpu\")\n",
        "print(\"Device:\", device)\n",
        "\n",
        "# 📁 Chargement des données\n",
        "df = pd.read_csv(\"/content/Comments_clean.csv\")\n",
        "df = df.dropna(subset=[\"Comments\"])\n",
        "\n",
        "# 🎯 Encodage des étiquettes\n",
        "from sklearn.preprocessing import LabelEncoder\n",
        "label_encoder = LabelEncoder()\n",
        "df[\"Sentiments_encoded\"] = label_encoder.fit_transform(df[\"Sentiments\"])\n",
        "\n",
        "# ✂️ Division des données\n",
        "X_temp, X_test, y_temp, y_test = train_test_split(df[\"Comments\"], df[\"Sentiments_encoded\"], test_size=0.2, random_state=42, stratify=df[\"Sentiments_encoded\"])\n",
        "X_train, X_val, y_train, y_val = train_test_split(X_temp, y_temp, test_size=0.125, random_state=42, stratify=y_temp)  # 0.125 * 0.8 = 0.1\n",
        "\n",
        "# 🧠 Vectorisation avec CountVectorizer\n",
        "vectorizer = CountVectorizer(max_features=5000, ngram_range=(1, 2))\n",
        "vectorizer.fit(X_train)\n",
        "X_train_vec = vectorizer.transform(X_train).toarray()\n",
        "X_val_vec = vectorizer.transform(X_val).toarray()\n",
        "X_test_vec = vectorizer.transform(X_test).toarray()\n",
        "\n",
        "# 📦 Dataset personnalisé\n",
        "class CommentDataset(Dataset):\n",
        "    def __init__(self, X, y):\n",
        "        self.X = torch.tensor(X, dtype=torch.float32)\n",
        "        self.y = torch.tensor(y.values, dtype=torch.long)\n",
        "    def __len__(self):\n",
        "        return len(self.X)\n",
        "    def __getitem__(self, idx):\n",
        "        return self.X[idx], self.y[idx]\n",
        "\n",
        "train_dataset = CommentDataset(X_train_vec, y_train)\n",
        "val_dataset = CommentDataset(X_val_vec, y_val)\n",
        "test_dataset = CommentDataset(X_test_vec, y_test)\n",
        "\n",
        "train_loader = DataLoader(train_dataset, batch_size=32, shuffle=True)\n",
        "val_loader = DataLoader(val_dataset, batch_size=32)\n",
        "test_loader = DataLoader(test_dataset, batch_size=32)\n",
        "\n",
        "# 🧱 Modèle LSTM\n",
        "class SentimentLSTM(nn.Module):\n",
        "    def __init__(self, input_dim, hidden_dim, output_dim, n_layers, dropout):\n",
        "        super(SentimentLSTM, self).__init__()\n",
        "        self.lstm = nn.LSTM(input_dim, hidden_dim, num_layers=n_layers, batch_first=True, dropout=dropout)\n",
        "        self.dropout = nn.Dropout(dropout)\n",
        "        self.fc = nn.Linear(hidden_dim, output_dim)\n",
        "        self.softmax = nn.Softmax(dim=1)\n",
        "\n",
        "    def forward(self, x):\n",
        "        x = x.unsqueeze(1)  # [batch_size, 1, input_dim]\n",
        "        lstm_out, _ = self.lstm(x)\n",
        "        out = self.dropout(lstm_out[:, -1, :])\n",
        "        out = self.fc(out)\n",
        "        return self.softmax(out)\n",
        "\n",
        "input_dim = X_train_vec.shape[1]\n",
        "model = SentimentLSTM(input_dim=input_dim, hidden_dim=128, output_dim=3, n_layers=2, dropout=0.5)\n",
        "model = model.to(device)\n",
        "\n",
        "# 🔧 Entraînement\n",
        "criterion = nn.CrossEntropyLoss()\n",
        "optimizer = torch.optim.Adam(model.parameters(), lr=0.0001, weight_decay=1e-6)\n",
        "\n",
        "train_losses, val_losses, train_accuracies, val_accuracies = [], [], [], []\n",
        "best_val_loss = float('inf')\n",
        "patience = 2  # Nombre d'époques sans amélioration avant l'arrêt anticipé\n",
        "epochs_no_improve = 0\n",
        "\n",
        "for epoch in range(100):\n",
        "    model.train()\n",
        "    running_loss, correct, total = 0.0, 0, 0\n",
        "    loop = tqdm(train_loader, desc=f\"Epoch {epoch+1} [Training]\")\n",
        "    for inputs, labels in loop:\n",
        "        inputs, labels = inputs.to(device), labels.to(device)\n",
        "        optimizer.zero_grad()\n",
        "        outputs = model(inputs)\n",
        "        loss = criterion(outputs, labels)\n",
        "        loss.backward()\n",
        "        optimizer.step()\n",
        "\n",
        "        running_loss += loss.item() * inputs.size(0)\n",
        "        _, preds = torch.max(outputs, 1)\n",
        "        correct += (preds == labels).sum().item()\n",
        "        total += labels.size(0)\n",
        "        loop.set_postfix(loss=loss.item())\n",
        "\n",
        "    train_loss = running_loss / len(train_loader.dataset)\n",
        "    train_acc = correct / total\n",
        "    train_losses.append(train_loss)\n",
        "    train_accuracies.append(train_acc)\n",
        "\n",
        "    # Validation\n",
        "    model.eval()\n",
        "    val_loss, correct, total = 0.0, 0, 0\n",
        "    with torch.no_grad():\n",
        "        for inputs, labels in val_loader:\n",
        "            inputs, labels = inputs.to(device), labels.to(device)\n",
        "            outputs = model(inputs)\n",
        "            loss = criterion(outputs, labels)\n",
        "            val_loss += loss.item() * inputs.size(0)\n",
        "            _, preds = torch.max(outputs, 1)\n",
        "            correct += (preds == labels).sum().item()\n",
        "            total += labels.size(0)\n",
        "\n",
        "    val_loss = val_loss / len(val_loader.dataset)\n",
        "    val_acc = correct / total\n",
        "    val_losses.append(val_loss)\n",
        "    val_accuracies.append(val_acc)\n",
        "\n",
        "    print(f\"\\nEpoch {epoch+1} - Train Loss: {train_loss:.4f}, Val Loss: {val_loss:.4f}, Train Acc: {train_acc:.4f}, Val Acc: {val_acc:.4f}\")\n",
        "\n",
        "    # Early stopping\n",
        "    if val_loss < best_val_loss:\n",
        "        best_val_loss = val_loss\n",
        "        epochs_no_improve = 0\n",
        "        torch.save(model.state_dict(), \"best_model.pt\")\n",
        "    else:\n",
        "        epochs_no_improve += 1\n",
        "        if epochs_no_improve == patience:\n",
        "            print(\"⛔ Early stopping triggered\")\n",
        "            break\n",
        "\n",
        "# 📉 Graphique des pertes\n",
        "plt.figure(figsize=(10, 5))\n",
        "plt.plot(train_losses, label=\"Training Loss\")\n",
        "plt.plot(val_losses, label=\"Validation Loss\")\n",
        "plt.xlabel(\"Epochs\")\n",
        "plt.ylabel(\"Loss\")\n",
        "plt.title(\"Training vs Validation Loss\")\n",
        "plt.legend()\n",
        "plt.show()\n",
        "\n",
        "# ✅ Évaluation finale\n",
        "model.load_state_dict(torch.load(\"best_model.pt\"))\n",
        "model.eval()\n",
        "\n",
        "all_preds, all_labels = [], []\n",
        "with torch.no_grad():\n",
        "    for inputs, labels in test_loader:\n",
        "        inputs = inputs.to(device)\n",
        "        outputs = model(inputs)\n",
        "        _, preds = torch.max(outputs, 1)\n",
        "        all_preds.extend(preds.cpu().numpy())\n",
        "        all_labels.extend(labels.numpy())\n",
        "\n",
        "# 📊 Rapport de classification\n",
        "print(\"\\nClassification Report:\")\n",
        "print(classification_report(all_labels, all_preds, target_names=label_encoder.classes_))\n",
        "\n",
        "# 📌 Matrice de confusion\n",
        "cm = confusion_matrix(all_labels, all_preds)\n",
        "plt.figure(figsize=(6, 5))\n",
        "sns.heatmap(cm, annot=True, fmt=\"d\", cmap=\"Blues\", xticklabels=label_encoder.classes_, yticklabels=label_encoder.classes_)\n",
        "plt.xlabel(\"Predicted\")\n",
        "plt.ylabel(\"True\")\n",
        "plt.title(\"Confusion Matrix\")\n",
        "plt.show()"
      ]
    },
    {
      "cell_type": "markdown",
      "id": "26258c2d",
      "metadata": {
        "id": "26258c2d"
      },
      "source": [
        "---"
      ]
    },
    {
      "cell_type": "code",
      "source": [
        "import torch\n",
        "from torch.utils.data import DataLoader, Dataset, random_split\n",
        "from torch.nn import functional as F\n",
        "from torch import nn\n",
        "from torch.optim import AdamW\n",
        "from transformers import AutoTokenizer, AutoModelForSequenceClassification, AutoConfig, get_scheduler\n",
        "from sklearn.preprocessing import LabelEncoder\n",
        "from sklearn.metrics import classification_report, confusion_matrix\n",
        "import matplotlib.pyplot as plt\n",
        "from tqdm import tqdm\n",
        "import pandas as pd\n",
        "import numpy as np\n",
        "import seaborn as sns\n",
        "import random\n",
        "\n",
        "# Configuration du device GPU uniquement\n",
        "assert torch.cuda.is_available(), \"CUDA GPU is not available.\"\n",
        "device = torch.device(\"cuda\")\n",
        "\n",
        "# 1. Chargement des données\n",
        "df = pd.read_csv(\"Comments_clean.csv\").dropna(subset=[\"Comments\"])\n",
        "\n",
        "# 2. Encodage des sentiments\n",
        "label_encoder = LabelEncoder()\n",
        "df[\"Sentiments_encoded\"] = label_encoder.fit_transform(df[\"Sentiments\"])\n",
        "num_labels = len(label_encoder.classes_)\n",
        "\n",
        "# 3. Tokenizer et Dataset\n",
        "tokenizer = AutoTokenizer.from_pretrained(\"alger-ia/dziribert\")\n",
        "\n",
        "class SentimentDataset(Dataset):\n",
        "    def __init__(self, texts, labels, tokenizer, max_len=128):\n",
        "        self.texts = texts\n",
        "        self.labels = labels\n",
        "        self.tokenizer = tokenizer\n",
        "        self.max_len = max_len\n",
        "\n",
        "    def __len__(self): return len(self.texts)\n",
        "\n",
        "    def __getitem__(self, idx):\n",
        "        text = str(self.texts[idx])\n",
        "        encoding = self.tokenizer(\n",
        "            text,\n",
        "            truncation=True,\n",
        "            padding=\"max_length\",\n",
        "            max_length=self.max_len,\n",
        "            return_tensors=\"pt\"\n",
        "        )\n",
        "        return {\n",
        "            \"input_ids\": encoding[\"input_ids\"].squeeze(),\n",
        "            \"attention_mask\": encoding[\"attention_mask\"].squeeze(),\n",
        "            \"labels\": torch.tensor(self.labels[idx], dtype=torch.long)\n",
        "        }\n",
        "\n",
        "# 4. Split dataset (Train 70%, Test 20%, Val 10%)\n",
        "dataset = SentimentDataset(df[\"Comments\"].values, df[\"Sentiments_encoded\"].values, tokenizer)\n",
        "total_size = len(dataset)\n",
        "train_size = int(0.7 * total_size)\n",
        "test_size = int(0.2 * total_size)\n",
        "val_size = total_size - train_size - test_size\n",
        "train_set, test_set, val_set = random_split(dataset, [train_size, test_size, val_size], generator=torch.Generator().manual_seed(42))\n",
        "\n",
        "train_loader = DataLoader(train_set, batch_size=16, shuffle=True)\n",
        "val_loader = DataLoader(val_set, batch_size=16)\n",
        "test_loader = DataLoader(test_set, batch_size=16)\n",
        "\n",
        "# 5. Chargement du modèle avec dropout custom\n",
        "config = AutoConfig.from_pretrained(\"alger-ia/dziribert\", num_labels=num_labels, hidden_dropout_prob=0.4)\n",
        "model = AutoModelForSequenceClassification.from_pretrained(\"alger-ia/dziribert\", config=config)\n",
        "model.to(device)\n",
        "\n",
        "# 6. Optimiseur et Scheduler\n",
        "optimizer = AdamW(model.parameters(), lr=2e-5, weight_decay=0.01)\n",
        "num_epochs = 10\n",
        "num_training_steps = num_epochs * len(train_loader)\n",
        "lr_scheduler = get_scheduler(\"linear\", optimizer=optimizer, num_warmup_steps=100, num_training_steps=num_training_steps)\n",
        "\n",
        "# 7. Entraînement avec Early Stopping\n",
        "best_val_loss = float(\"inf\")\n",
        "patience, patience_counter = 2, 0\n",
        "train_losses, val_losses = [], []\n",
        "train_accs, val_accs = [], []\n",
        "\n",
        "for epoch in range(num_epochs):\n",
        "    print(f\"\\\\n🟢 Epoch {epoch+1}/{num_epochs}\")\n",
        "    model.train()\n",
        "    total_loss, correct, total = 0, 0, 0\n",
        "\n",
        "    for batch in tqdm(train_loader, desc=\"Training\"):\n",
        "        input_ids = batch[\"input_ids\"].to(device)\n",
        "        attention_mask = batch[\"attention_mask\"].to(device)\n",
        "        labels = batch[\"labels\"].to(device)\n",
        "\n",
        "        outputs = model(input_ids=input_ids, attention_mask=attention_mask, labels=labels)\n",
        "        loss = outputs.loss\n",
        "        logits = outputs.logits\n",
        "\n",
        "        optimizer.zero_grad()\n",
        "        loss.backward()\n",
        "        optimizer.step()\n",
        "        lr_scheduler.step()\n",
        "\n",
        "        total_loss += loss.item()\n",
        "        preds = torch.argmax(logits, dim=1)\n",
        "        correct += (preds == labels).sum().item()\n",
        "        total += labels.size(0)\n",
        "\n",
        "    train_loss = total_loss / len(train_loader)\n",
        "    train_acc = correct / total\n",
        "    train_losses.append(train_loss)\n",
        "    train_accs.append(train_acc)\n",
        "\n",
        "    # Validation\n",
        "    model.eval()\n",
        "    val_loss, correct, total = 0, 0, 0\n",
        "    with torch.no_grad():\n",
        "        for batch in tqdm(val_loader, desc=\"Validation\"):\n",
        "            input_ids = batch[\"input_ids\"].to(device)\n",
        "            attention_mask = batch[\"attention_mask\"].to(device)\n",
        "            labels = batch[\"labels\"].to(device)\n",
        "\n",
        "            outputs = model(input_ids=input_ids, attention_mask=attention_mask, labels=labels)\n",
        "            val_loss += outputs.loss.item()\n",
        "\n",
        "            preds = torch.argmax(outputs.logits, dim=1)\n",
        "            correct += (preds == labels).sum().item()\n",
        "            total += labels.size(0)\n",
        "\n",
        "    val_loss = val_loss / len(val_loader)\n",
        "    val_acc = correct / total\n",
        "    val_losses.append(val_loss)\n",
        "    val_accs.append(val_acc)\n",
        "\n",
        "    print(f\"✅ Train Loss: {train_loss:.4f} | Acc: {train_acc:.4f} - Val Loss: {val_loss:.4f} | Acc: {val_acc:.4f}\")\n",
        "\n",
        "    if val_loss < best_val_loss:\n",
        "        best_val_loss = val_loss\n",
        "        torch.save(model.state_dict(), \"best_model.pt\")\n",
        "        patience_counter = 0\n",
        "    else:\n",
        "        patience_counter += 1\n",
        "        if patience_counter >= patience:\n",
        "            print(\"⛔ Early stopping triggered.\")\n",
        "            break\n",
        "\n",
        "# 8. Évaluation finale\n",
        "model.load_state_dict(torch.load(\"best_model.pt\"))\n",
        "model.eval()\n",
        "all_preds, all_labels = [], []\n",
        "\n",
        "for batch in test_loader:\n",
        "    input_ids = batch[\"input_ids\"].to(device)\n",
        "    attention_mask = batch[\"attention_mask\"].to(device)\n",
        "    labels = batch[\"labels\"].to(device)\n",
        "\n",
        "    with torch.no_grad():\n",
        "        outputs = model(input_ids=input_ids, attention_mask=attention_mask)\n",
        "    preds = torch.argmax(outputs.logits, dim=1)\n",
        "    all_preds.extend(preds.cpu().numpy())\n",
        "    all_labels.extend(labels.cpu().numpy())\n",
        "\n",
        "print(\"\\\\n🔍 Classification Report:\")\n",
        "print(classification_report(all_labels, all_preds, target_names=label_encoder.classes_))\n",
        "\n",
        "# 9. Matrice de confusion\n",
        "cm = confusion_matrix(all_labels, all_preds)\n",
        "sns.heatmap(cm, annot=True, fmt='d', xticklabels=label_encoder.classes_, yticklabels=label_encoder.classes_, cmap=\"Blues\")\n",
        "plt.xlabel(\"Predicted\")\n",
        "plt.ylabel(\"True\")\n",
        "plt.title(\"Confusion Matrix\")\n",
        "plt.show()\n",
        "\n",
        "# 10. Courbes des pertes\n",
        "plt.plot(train_losses, label=\"Train Loss\")\n",
        "plt.plot(val_losses, label=\"Validation Loss\")\n",
        "plt.xlabel(\"Epoch\")\n",
        "plt.ylabel(\"Loss\")\n",
        "plt.title(\"Training and Validation Loss\")\n",
        "plt.legend()\n",
        "plt.show()"
      ],
      "metadata": {
        "colab": {
          "base_uri": "https://localhost:8080/",
          "height": 1000
        },
        "id": "Hb-YPuv02h0g",
        "outputId": "4421b667-28c0-46b9-abb6-df52f1d75d1f"
      },
      "id": "Hb-YPuv02h0g",
      "execution_count": 16,
      "outputs": [
        {
          "output_type": "stream",
          "name": "stderr",
          "text": [
            "Some weights of BertForSequenceClassification were not initialized from the model checkpoint at alger-ia/dziribert and are newly initialized: ['bert.pooler.dense.bias', 'bert.pooler.dense.weight', 'classifier.bias', 'classifier.weight']\n",
            "You should probably TRAIN this model on a down-stream task to be able to use it for predictions and inference.\n"
          ]
        },
        {
          "output_type": "stream",
          "name": "stdout",
          "text": [
            "\\n🟢 Epoch 1/10\n"
          ]
        },
        {
          "output_type": "stream",
          "name": "stderr",
          "text": [
            "Training: 100%|██████████| 160/160 [00:56<00:00,  2.83it/s]\n",
            "Validation: 100%|██████████| 23/23 [00:02<00:00,  8.92it/s]\n"
          ]
        },
        {
          "output_type": "stream",
          "name": "stdout",
          "text": [
            "✅ Train Loss: 0.8764 | Acc: 0.5690 - Val Loss: 0.4001 | Acc: 0.8415\n",
            "\\n🟢 Epoch 2/10\n"
          ]
        },
        {
          "output_type": "stream",
          "name": "stderr",
          "text": [
            "Training: 100%|██████████| 160/160 [00:55<00:00,  2.88it/s]\n",
            "Validation: 100%|██████████| 23/23 [00:02<00:00,  8.62it/s]\n"
          ]
        },
        {
          "output_type": "stream",
          "name": "stdout",
          "text": [
            "✅ Train Loss: 0.4260 | Acc: 0.8353 - Val Loss: 0.2513 | Acc: 0.9071\n",
            "\\n🟢 Epoch 3/10\n"
          ]
        },
        {
          "output_type": "stream",
          "name": "stderr",
          "text": [
            "Training: 100%|██████████| 160/160 [00:55<00:00,  2.88it/s]\n",
            "Validation: 100%|██████████| 23/23 [00:02<00:00,  8.67it/s]\n"
          ]
        },
        {
          "output_type": "stream",
          "name": "stdout",
          "text": [
            "✅ Train Loss: 0.3108 | Acc: 0.8871 - Val Loss: 0.2337 | Acc: 0.9262\n",
            "\\n🟢 Epoch 4/10\n"
          ]
        },
        {
          "output_type": "stream",
          "name": "stderr",
          "text": [
            "Training: 100%|██████████| 160/160 [00:55<00:00,  2.89it/s]\n",
            "Validation: 100%|██████████| 23/23 [00:02<00:00,  8.58it/s]\n"
          ]
        },
        {
          "output_type": "stream",
          "name": "stdout",
          "text": [
            "✅ Train Loss: 0.2399 | Acc: 0.9149 - Val Loss: 0.2384 | Acc: 0.9235\n",
            "\\n🟢 Epoch 5/10\n"
          ]
        },
        {
          "output_type": "stream",
          "name": "stderr",
          "text": [
            "Training: 100%|██████████| 160/160 [00:55<00:00,  2.88it/s]\n",
            "Validation: 100%|██████████| 23/23 [00:02<00:00,  8.64it/s]\n"
          ]
        },
        {
          "output_type": "stream",
          "name": "stdout",
          "text": [
            "✅ Train Loss: 0.2188 | Acc: 0.9247 - Val Loss: 0.2335 | Acc: 0.9235\n",
            "\\n🟢 Epoch 6/10\n"
          ]
        },
        {
          "output_type": "stream",
          "name": "stderr",
          "text": [
            "Training: 100%|██████████| 160/160 [00:55<00:00,  2.86it/s]\n",
            "Validation: 100%|██████████| 23/23 [00:02<00:00,  8.71it/s]\n"
          ]
        },
        {
          "output_type": "stream",
          "name": "stdout",
          "text": [
            "✅ Train Loss: 0.1959 | Acc: 0.9325 - Val Loss: 0.2501 | Acc: 0.9153\n",
            "\\n🟢 Epoch 7/10\n"
          ]
        },
        {
          "output_type": "stream",
          "name": "stderr",
          "text": [
            "Training: 100%|██████████| 160/160 [00:55<00:00,  2.89it/s]\n",
            "Validation: 100%|██████████| 23/23 [00:02<00:00,  8.62it/s]\n"
          ]
        },
        {
          "output_type": "stream",
          "name": "stdout",
          "text": [
            "✅ Train Loss: 0.1730 | Acc: 0.9404 - Val Loss: 0.2462 | Acc: 0.9262\n",
            "⛔ Early stopping triggered.\n",
            "\\n🔍 Classification Report:\n",
            "              precision    recall  f1-score   support\n",
            "\n",
            "     Negatif       0.88      0.86      0.87       171\n",
            "      Neutre       0.87      0.84      0.85       221\n",
            "     Positif       0.95      0.98      0.96       336\n",
            "\n",
            "    accuracy                           0.91       728\n",
            "   macro avg       0.90      0.89      0.90       728\n",
            "weighted avg       0.91      0.91      0.91       728\n",
            "\n"
          ]
        },
        {
          "output_type": "display_data",
          "data": {
            "text/plain": [
              "<Figure size 640x480 with 2 Axes>"
            ],
            "image/png": "[encoded data removed]"
          },
          "metadata": {}
        },
        {
          "output_type": "display_data",
          "data": {
            "text/plain": [
              "<Figure size 640x480 with 1 Axes>"
            ],
            "image/png": "[encoded data removed]"
          },
          "metadata": {}
        }
      ]
    },
    {
      "cell_type": "code",
      "source": [
        "import torch\n",
        "from torch.utils.data import DataLoader, Dataset, random_split\n",
        "from torch.nn import functional as F\n",
        "from torch import nn\n",
        "from torch.optim import AdamW\n",
        "from transformers import AutoTokenizer, AutoModelForSequenceClassification, AutoConfig, get_scheduler\n",
        "from sklearn.preprocessing import LabelEncoder\n",
        "from sklearn.metrics import classification_report, confusion_matrix\n",
        "import matplotlib.pyplot as plt\n",
        "from tqdm import tqdm\n",
        "import pandas as pd\n",
        "import numpy as np\n",
        "import seaborn as sns\n",
        "import random\n",
        "\n",
        "# Configuration du device GPU uniquement\n",
        "assert torch.cuda.is_available(), \"CUDA GPU is not available.\"\n",
        "device = torch.device(\"cuda\")\n",
        "\n",
        "# 1. Chargement des données\n",
        "df = pd.read_csv(\"Comments_clean.csv\").dropna(subset=[\"Comments\"])\n",
        "\n",
        "# 2. Encodage des sentiments\n",
        "label_encoder = LabelEncoder()\n",
        "df[\"Sentiments_encoded\"] = label_encoder.fit_transform(df[\"Sentiments\"])\n",
        "num_labels = len(label_encoder.classes_)\n",
        "\n",
        "# 3. Tokenizer et Dataset\n",
        "tokenizer = AutoTokenizer.from_pretrained(\"alger-ia/dziribert\")\n",
        "\n",
        "class SentimentDataset(Dataset):\n",
        "    def __init__(self, texts, labels, tokenizer, max_len=128):\n",
        "        self.texts = texts\n",
        "        self.labels = labels\n",
        "        self.tokenizer = tokenizer\n",
        "        self.max_len = max_len\n",
        "\n",
        "    def __len__(self): return len(self.texts)\n",
        "\n",
        "    def __getitem__(self, idx):\n",
        "        text = str(self.texts[idx])\n",
        "        encoding = self.tokenizer(\n",
        "            text,\n",
        "            truncation=True,\n",
        "            padding=\"max_length\",\n",
        "            max_length=self.max_len,\n",
        "            return_tensors=\"pt\"\n",
        "        )\n",
        "        return {\n",
        "            \"input_ids\": encoding[\"input_ids\"].squeeze(),\n",
        "            \"attention_mask\": encoding[\"attention_mask\"].squeeze(),\n",
        "            \"labels\": torch.tensor(self.labels[idx], dtype=torch.long)\n",
        "        }\n",
        "\n",
        "# 4. Split dataset (Train 70%, Test 20%, Val 10%)\n",
        "dataset = SentimentDataset(df[\"Comments\"].values, df[\"Sentiments_encoded\"].values, tokenizer)\n",
        "total_size = len(dataset)\n",
        "train_size = int(0.7 * total_size)\n",
        "test_size = int(0.2 * total_size)\n",
        "val_size = total_size - train_size - test_size\n",
        "train_set, test_set, val_set = random_split(dataset, [train_size, test_size, val_size], generator=torch.Generator().manual_seed(42))\n",
        "\n",
        "train_loader = DataLoader(train_set, batch_size=16, shuffle=True)\n",
        "val_loader = DataLoader(val_set, batch_size=16)\n",
        "test_loader = DataLoader(test_set, batch_size=16)\n",
        "\n",
        "# 5. Chargement du modèle avec dropout custom\n",
        "config = AutoConfig.from_pretrained(\"alger-ia/dziribert\", num_labels=num_labels, hidden_dropout_prob=0.4)\n",
        "model = AutoModelForSequenceClassification.from_pretrained(\"alger-ia/dziribert\", config=config)\n",
        "model.to(device)\n",
        "\n",
        "# 6. Optimiseur et Scheduler\n",
        "optimizer = AdamW(model.parameters(), lr=1e-5, weight_decay=0.01)\n",
        "num_epochs = 10\n",
        "num_training_steps = num_epochs * len(train_loader)\n",
        "lr_scheduler = get_scheduler(\"linear\", optimizer=optimizer, num_warmup_steps=50, num_training_steps=num_training_steps)\n",
        "\n",
        "# 7. Entraînement avec Early Stopping\n",
        "best_val_loss = float(\"inf\")\n",
        "patience, patience_counter = 2, 0\n",
        "train_losses, val_losses = [], []\n",
        "train_accs, val_accs = [], []\n",
        "\n",
        "for epoch in range(num_epochs):\n",
        "    print(f\"\\\\n🟢 Epoch {epoch+1}/{num_epochs}\")\n",
        "    model.train()\n",
        "    total_loss, correct, total = 0, 0, 0\n",
        "\n",
        "    for batch in tqdm(train_loader, desc=\"Training\"):\n",
        "        input_ids = batch[\"input_ids\"].to(device)\n",
        "        attention_mask = batch[\"attention_mask\"].to(device)\n",
        "        labels = batch[\"labels\"].to(device)\n",
        "\n",
        "        outputs = model(input_ids=input_ids, attention_mask=attention_mask, labels=labels)\n",
        "        loss = outputs.loss\n",
        "        logits = outputs.logits\n",
        "\n",
        "        optimizer.zero_grad()\n",
        "        loss.backward()\n",
        "        optimizer.step()\n",
        "        lr_scheduler.step()\n",
        "\n",
        "        total_loss += loss.item()\n",
        "        preds = torch.argmax(logits, dim=1)\n",
        "        correct += (preds == labels).sum().item()\n",
        "        total += labels.size(0)\n",
        "\n",
        "    train_loss = total_loss / len(train_loader)\n",
        "    train_acc = correct / total\n",
        "    train_losses.append(train_loss)\n",
        "    train_accs.append(train_acc)\n",
        "\n",
        "    # Validation\n",
        "    model.eval()\n",
        "    val_loss, correct, total = 0, 0, 0\n",
        "    with torch.no_grad():\n",
        "        for batch in tqdm(val_loader, desc=\"Validation\"):\n",
        "            input_ids = batch[\"input_ids\"].to(device)\n",
        "            attention_mask = batch[\"attention_mask\"].to(device)\n",
        "            labels = batch[\"labels\"].to(device)\n",
        "\n",
        "            outputs = model(input_ids=input_ids, attention_mask=attention_mask, labels=labels)\n",
        "            val_loss += outputs.loss.item()\n",
        "\n",
        "            preds = torch.argmax(outputs.logits, dim=1)\n",
        "            correct += (preds == labels).sum().item()\n",
        "            total += labels.size(0)\n",
        "\n",
        "    val_loss = val_loss / len(val_loader)\n",
        "    val_acc = correct / total\n",
        "    val_losses.append(val_loss)\n",
        "    val_accs.append(val_acc)\n",
        "\n",
        "    print(f\"✅ Train Loss: {train_loss:.4f} | Acc: {train_acc:.4f} - Val Loss: {val_loss:.4f} | Acc: {val_acc:.4f}\")\n",
        "\n",
        "    if val_loss < best_val_loss:\n",
        "        best_val_loss = val_loss\n",
        "        torch.save(model.state_dict(), \"best_model.pt\")\n",
        "        patience_counter = 0\n",
        "    else:\n",
        "        patience_counter += 1\n",
        "        if patience_counter >= patience:\n",
        "            print(\"⛔ Early stopping triggered.\")\n",
        "            break\n",
        "\n",
        "# 8. Évaluation finale\n",
        "model.load_state_dict(torch.load(\"best_model.pt\"))\n",
        "model.eval()\n",
        "all_preds, all_labels = [], []\n",
        "\n",
        "for batch in test_loader:\n",
        "    input_ids = batch[\"input_ids\"].to(device)\n",
        "    attention_mask = batch[\"attention_mask\"].to(device)\n",
        "    labels = batch[\"labels\"].to(device)\n",
        "\n",
        "    with torch.no_grad():\n",
        "        outputs = model(input_ids=input_ids, attention_mask=attention_mask)\n",
        "    preds = torch.argmax(outputs.logits, dim=1)\n",
        "    all_preds.extend(preds.cpu().numpy())\n",
        "    all_labels.extend(labels.cpu().numpy())\n",
        "\n",
        "print(\"\\\\n🔍 Classification Report:\")\n",
        "print(classification_report(all_labels, all_preds, target_names=label_encoder.classes_))\n",
        "\n",
        "# 9. Matrice de confusion\n",
        "cm = confusion_matrix(all_labels, all_preds)\n",
        "sns.heatmap(cm, annot=True, fmt='d', xticklabels=label_encoder.classes_, yticklabels=label_encoder.classes_, cmap=\"Blues\")\n",
        "plt.xlabel(\"Predicted\")\n",
        "plt.ylabel(\"True\")\n",
        "plt.title(\"Confusion Matrix\")\n",
        "plt.show()\n",
        "\n",
        "# 10. Courbes des pertes\n",
        "plt.plot(train_losses, label=\"Train Loss\")\n",
        "plt.plot(val_losses, label=\"Validation Loss\")\n",
        "plt.xlabel(\"Epoch\")\n",
        "plt.ylabel(\"Loss\")\n",
        "plt.title(\"Training and Validation Loss\")\n",
        "plt.legend()\n",
        "plt.show()"
      ],
      "metadata": {
        "colab": {
          "base_uri": "https://localhost:8080/",
          "height": 1000
        },
        "id": "NQZNDIn-dA0x",
        "outputId": "62de4073-7af7-4cda-a895-44c9c401772e"
      },
      "id": "NQZNDIn-dA0x",
      "execution_count": 18,
      "outputs": [
        {
          "metadata": {
            "tags": null
          },
          "name": "stderr",
          "output_type": "stream",
          "text": [
            "Some weights of BertForSequenceClassification were not initialized from the model checkpoint at alger-ia/dziribert and are newly initialized: ['bert.pooler.dense.bias', 'bert.pooler.dense.weight', 'classifier.bias', 'classifier.weight']\n",
            "You should probably TRAIN this model on a down-stream task to be able to use it for predictions and inference.\n"
          ]
        },
        {
          "metadata": {
            "tags": null
          },
          "name": "stdout",
          "output_type": "stream",
          "text": [
            "\\n🟢 Epoch 1/10\n"
          ]
        },
        {
          "metadata": {
            "tags": null
          },
          "name": "stderr",
          "output_type": "stream",
          "text": [
            "Training: 100%|██████████| 160/160 [00:56<00:00,  2.83it/s]\n",
            "Validation: 100%|██████████| 23/23 [00:02<00:00,  8.81it/s]\n"
          ]
        },
        {
          "metadata": {
            "tags": null
          },
          "name": "stdout",
          "output_type": "stream",
          "text": [
            "✅ Train Loss: 0.9330 | Acc: 0.5314 - Val Loss: 0.5751 | Acc: 0.7842\n",
            "\\n🟢 Epoch 2/10\n"
          ]
        },
        {
          "output_type": "stream",
          "name": "stderr",
          "text": [
            "Training: 100%|██████████| 160/160 [00:55<00:00,  2.88it/s]\n",
            "Validation: 100%|██████████| 23/23 [00:02<00:00,  8.52it/s]\n"
          ]
        },
        {
          "output_type": "stream",
          "name": "stdout",
          "text": [
            "✅ Train Loss: 0.5685 | Acc: 0.7694 - Val Loss: 0.3700 | Acc: 0.8607\n",
            "\\n🟢 Epoch 3/10\n"
          ]
        },
        {
          "output_type": "stream",
          "name": "stderr",
          "text": [
            "Training: 100%|██████████| 160/160 [00:55<00:00,  2.88it/s]\n",
            "Validation: 100%|██████████| 23/23 [00:02<00:00,  8.58it/s]\n"
          ]
        },
        {
          "output_type": "stream",
          "name": "stdout",
          "text": [
            "✅ Train Loss: 0.4355 | Acc: 0.8384 - Val Loss: 0.3011 | Acc: 0.8880\n",
            "\\n🟢 Epoch 4/10\n"
          ]
        },
        {
          "output_type": "stream",
          "name": "stderr",
          "text": [
            "Training: 100%|██████████| 160/160 [00:55<00:00,  2.87it/s]\n",
            "Validation: 100%|██████████| 23/23 [00:02<00:00,  8.61it/s]\n"
          ]
        },
        {
          "output_type": "stream",
          "name": "stdout",
          "text": [
            "✅ Train Loss: 0.3523 | Acc: 0.8698 - Val Loss: 0.2797 | Acc: 0.8989\n",
            "\\n🟢 Epoch 5/10\n"
          ]
        },
        {
          "output_type": "stream",
          "name": "stderr",
          "text": [
            "Training: 100%|██████████| 160/160 [00:55<00:00,  2.87it/s]\n",
            "Validation: 100%|██████████| 23/23 [00:02<00:00,  8.66it/s]\n"
          ]
        },
        {
          "output_type": "stream",
          "name": "stdout",
          "text": [
            "✅ Train Loss: 0.3205 | Acc: 0.8851 - Val Loss: 0.2700 | Acc: 0.9071\n",
            "\\n🟢 Epoch 6/10\n"
          ]
        },
        {
          "output_type": "stream",
          "name": "stderr",
          "text": [
            "Training: 100%|██████████| 160/160 [00:55<00:00,  2.87it/s]\n",
            "Validation: 100%|██████████| 23/23 [00:02<00:00,  8.59it/s]\n"
          ]
        },
        {
          "output_type": "stream",
          "name": "stdout",
          "text": [
            "✅ Train Loss: 0.2774 | Acc: 0.9055 - Val Loss: 0.2578 | Acc: 0.9098\n",
            "\\n🟢 Epoch 7/10\n"
          ]
        },
        {
          "output_type": "stream",
          "name": "stderr",
          "text": [
            "Training: 100%|██████████| 160/160 [00:55<00:00,  2.87it/s]\n",
            "Validation: 100%|██████████| 23/23 [00:02<00:00,  8.63it/s]\n"
          ]
        },
        {
          "output_type": "stream",
          "name": "stdout",
          "text": [
            "✅ Train Loss: 0.2655 | Acc: 0.9082 - Val Loss: 0.2566 | Acc: 0.9071\n",
            "\\n🟢 Epoch 8/10\n"
          ]
        },
        {
          "output_type": "stream",
          "name": "stderr",
          "text": [
            "Training: 100%|██████████| 160/160 [00:55<00:00,  2.89it/s]\n",
            "Validation: 100%|██████████| 23/23 [00:02<00:00,  8.65it/s]\n"
          ]
        },
        {
          "output_type": "stream",
          "name": "stdout",
          "text": [
            "✅ Train Loss: 0.2413 | Acc: 0.9180 - Val Loss: 0.2554 | Acc: 0.9098\n",
            "\\n🟢 Epoch 9/10\n"
          ]
        },
        {
          "output_type": "stream",
          "name": "stderr",
          "text": [
            "Training: 100%|██████████| 160/160 [00:55<00:00,  2.87it/s]\n",
            "Validation: 100%|██████████| 23/23 [00:02<00:00,  8.69it/s]\n"
          ]
        },
        {
          "output_type": "stream",
          "name": "stdout",
          "text": [
            "✅ Train Loss: 0.2394 | Acc: 0.9133 - Val Loss: 0.2534 | Acc: 0.9044\n",
            "\\n🟢 Epoch 10/10\n"
          ]
        },
        {
          "output_type": "stream",
          "name": "stderr",
          "text": [
            "Training: 100%|██████████| 160/160 [00:55<00:00,  2.86it/s]\n",
            "Validation: 100%|██████████| 23/23 [00:02<00:00,  8.68it/s]\n"
          ]
        },
        {
          "output_type": "stream",
          "name": "stdout",
          "text": [
            "✅ Train Loss: 0.2248 | Acc: 0.9271 - Val Loss: 0.2519 | Acc: 0.9126\n",
            "\\n🔍 Classification Report:\n",
            "              precision    recall  f1-score   support\n",
            "\n",
            "     Negatif       0.88      0.84      0.86       171\n",
            "      Neutre       0.84      0.85      0.84       221\n",
            "     Positif       0.96      0.97      0.96       336\n",
            "\n",
            "    accuracy                           0.90       728\n",
            "   macro avg       0.89      0.89      0.89       728\n",
            "weighted avg       0.90      0.90      0.90       728\n",
            "\n"
          ]
        },
        {
          "output_type": "display_data",
          "data": {
            "text/plain": [
              "<Figure size 640x480 with 2 Axes>"
            ],
            "image/png": "[encoded data removed]"
          },
          "metadata": {}
        },
        {
          "output_type": "display_data",
          "data": {
            "text/plain": [
              "<Figure size 640x480 with 1 Axes>"
            ],
            "image/png": "[encoded data removed]"
          },
          "metadata": {}
        }
      ]
    },
    {
      "cell_type": "code",
      "source": [
        "import torch\n",
        "from torch.utils.data import DataLoader, Dataset, random_split\n",
        "from torch.nn import functional as F\n",
        "from torch import nn\n",
        "from torch.optim import AdamW\n",
        "from transformers import AutoTokenizer, AutoModelForSequenceClassification, AutoConfig, get_scheduler\n",
        "from sklearn.preprocessing import LabelEncoder\n",
        "from sklearn.metrics import classification_report, confusion_matrix\n",
        "import matplotlib.pyplot as plt\n",
        "from tqdm import tqdm\n",
        "import pandas as pd\n",
        "import numpy as np\n",
        "import seaborn as sns\n",
        "import random\n",
        "\n",
        "# Configuration du device GPU uniquement\n",
        "assert torch.cuda.is_available(), \"CUDA GPU is not available.\"\n",
        "device = torch.device(\"cuda\")\n",
        "\n",
        "# 1. Chargement des données\n",
        "df = pd.read_csv(\"Comments_clean.csv\").dropna(subset=[\"Comments\"])\n",
        "\n",
        "# 2. Encodage des sentiments\n",
        "label_encoder = LabelEncoder()\n",
        "df[\"Sentiments_encoded\"] = label_encoder.fit_transform(df[\"Sentiments\"])\n",
        "num_labels = len(label_encoder.classes_)\n",
        "\n",
        "# 3. Tokenizer et Dataset\n",
        "tokenizer = AutoTokenizer.from_pretrained(\"alger-ia/dziribert\")\n",
        "\n",
        "class SentimentDataset(Dataset):\n",
        "    def __init__(self, texts, labels, tokenizer, max_len=128):\n",
        "        self.texts = texts\n",
        "        self.labels = labels\n",
        "        self.tokenizer = tokenizer\n",
        "        self.max_len = max_len\n",
        "\n",
        "    def __len__(self): return len(self.texts)\n",
        "\n",
        "    def __getitem__(self, idx):\n",
        "        text = str(self.texts[idx])\n",
        "        encoding = self.tokenizer(\n",
        "            text,\n",
        "            truncation=True,\n",
        "            padding=\"max_length\",\n",
        "            max_length=self.max_len,\n",
        "            return_tensors=\"pt\"\n",
        "        )\n",
        "        return {\n",
        "            \"input_ids\": encoding[\"input_ids\"].squeeze(),\n",
        "            \"attention_mask\": encoding[\"attention_mask\"].squeeze(),\n",
        "            \"labels\": torch.tensor(self.labels[idx], dtype=torch.long)\n",
        "        }\n",
        "\n",
        "# 4. Split dataset (Train 70%, Test 20%, Val 10%)\n",
        "dataset = SentimentDataset(df[\"Comments\"].values, df[\"Sentiments_encoded\"].values, tokenizer)\n",
        "total_size = len(dataset)\n",
        "train_size = int(0.7 * total_size)\n",
        "test_size = int(0.2 * total_size)\n",
        "val_size = total_size - train_size - test_size\n",
        "train_set, test_set, val_set = random_split(dataset, [train_size, test_size, val_size], generator=torch.Generator().manual_seed(42))\n",
        "\n",
        "train_loader = DataLoader(train_set, batch_size=16, shuffle=True)\n",
        "val_loader = DataLoader(val_set, batch_size=16)\n",
        "test_loader = DataLoader(test_set, batch_size=16)\n",
        "\n",
        "# 5. Chargement du modèle avec dropout custom\n",
        "config = AutoConfig.from_pretrained(\"alger-ia/dziribert\", num_labels=num_labels, hidden_dropout_prob=0.4)\n",
        "model = AutoModelForSequenceClassification.from_pretrained(\"alger-ia/dziribert\", config=config)\n",
        "model.to(device)\n",
        "\n",
        "# 6. Optimiseur et Scheduler\n",
        "optimizer = AdamW(model.parameters(), lr=5e-5, weight_decay=0.01)\n",
        "num_epochs = 10\n",
        "num_training_steps = num_epochs * len(train_loader)\n",
        "lr_scheduler = get_scheduler(\"linear\", optimizer=optimizer, num_warmup_steps=50, num_training_steps=num_training_steps)\n",
        "\n",
        "# 7. Entraînement avec Early Stopping\n",
        "best_val_loss = float(\"inf\")\n",
        "patience, patience_counter = 2, 0\n",
        "train_losses, val_losses = [], []\n",
        "train_accs, val_accs = [], []\n",
        "\n",
        "for epoch in range(num_epochs):\n",
        "    print(f\"\\\\n🟢 Epoch {epoch+1}/{num_epochs}\")\n",
        "    model.train()\n",
        "    total_loss, correct, total = 0, 0, 0\n",
        "\n",
        "    for batch in tqdm(train_loader, desc=\"Training\"):\n",
        "        input_ids = batch[\"input_ids\"].to(device)\n",
        "        attention_mask = batch[\"attention_mask\"].to(device)\n",
        "        labels = batch[\"labels\"].to(device)\n",
        "\n",
        "        outputs = model(input_ids=input_ids, attention_mask=attention_mask, labels=labels)\n",
        "        loss = outputs.loss\n",
        "        logits = outputs.logits\n",
        "\n",
        "        optimizer.zero_grad()\n",
        "        loss.backward()\n",
        "        optimizer.step()\n",
        "        lr_scheduler.step()\n",
        "\n",
        "        total_loss += loss.item()\n",
        "        preds = torch.argmax(logits, dim=1)\n",
        "        correct += (preds == labels).sum().item()\n",
        "        total += labels.size(0)\n",
        "\n",
        "    train_loss = total_loss / len(train_loader)\n",
        "    train_acc = correct / total\n",
        "    train_losses.append(train_loss)\n",
        "    train_accs.append(train_acc)\n",
        "\n",
        "    # Validation\n",
        "    model.eval()\n",
        "    val_loss, correct, total = 0, 0, 0\n",
        "    with torch.no_grad():\n",
        "        for batch in tqdm(val_loader, desc=\"Validation\"):\n",
        "            input_ids = batch[\"input_ids\"].to(device)\n",
        "            attention_mask = batch[\"attention_mask\"].to(device)\n",
        "            labels = batch[\"labels\"].to(device)\n",
        "\n",
        "            outputs = model(input_ids=input_ids, attention_mask=attention_mask, labels=labels)\n",
        "            val_loss += outputs.loss.item()\n",
        "\n",
        "            preds = torch.argmax(outputs.logits, dim=1)\n",
        "            correct += (preds == labels).sum().item()\n",
        "            total += labels.size(0)\n",
        "\n",
        "    val_loss = val_loss / len(val_loader)\n",
        "    val_acc = correct / total\n",
        "    val_losses.append(val_loss)\n",
        "    val_accs.append(val_acc)\n",
        "\n",
        "    print(f\"✅ Train Loss: {train_loss:.4f} | Acc: {train_acc:.4f} - Val Loss: {val_loss:.4f} | Acc: {val_acc:.4f}\")\n",
        "\n",
        "    if val_loss < best_val_loss:\n",
        "        best_val_loss = val_loss\n",
        "        torch.save(model.state_dict(), \"best_model.pt\")\n",
        "        patience_counter = 0\n",
        "    else:\n",
        "        patience_counter += 1\n",
        "        if patience_counter >= patience:\n",
        "            print(\"⛔ Early stopping triggered.\")\n",
        "            break\n",
        "\n",
        "# 8. Évaluation finale\n",
        "model.load_state_dict(torch.load(\"best_model.pt\"))\n",
        "model.eval()\n",
        "all_preds, all_labels = [], []\n",
        "\n",
        "for batch in test_loader:\n",
        "    input_ids = batch[\"input_ids\"].to(device)\n",
        "    attention_mask = batch[\"attention_mask\"].to(device)\n",
        "    labels = batch[\"labels\"].to(device)\n",
        "\n",
        "    with torch.no_grad():\n",
        "        outputs = model(input_ids=input_ids, attention_mask=attention_mask)\n",
        "    preds = torch.argmax(outputs.logits, dim=1)\n",
        "    all_preds.extend(preds.cpu().numpy())\n",
        "    all_labels.extend(labels.cpu().numpy())\n",
        "\n",
        "print(\"\\\\n🔍 Classification Report:\")\n",
        "print(classification_report(all_labels, all_preds, target_names=label_encoder.classes_))\n",
        "\n",
        "# 9. Matrice de confusion\n",
        "cm = confusion_matrix(all_labels, all_preds)\n",
        "sns.heatmap(cm, annot=True, fmt='d', xticklabels=label_encoder.classes_, yticklabels=label_encoder.classes_, cmap=\"Blues\")\n",
        "plt.xlabel(\"Predicted\")\n",
        "plt.ylabel(\"True\")\n",
        "plt.title(\"Confusion Matrix\")\n",
        "plt.show()\n",
        "\n",
        "# 10. Courbes des pertes\n",
        "plt.plot(train_losses, label=\"Train Loss\")\n",
        "plt.plot(val_losses, label=\"Validation Loss\")\n",
        "plt.xlabel(\"Epoch\")\n",
        "plt.ylabel(\"Loss\")\n",
        "plt.title(\"Training and Validation Loss\")\n",
        "plt.legend()\n",
        "plt.show()"
      ],
      "metadata": {
        "id": "iQTvFa-KgApB",
        "outputId": "913d9e7a-b2ea-4af7-ebd6-ae59dcf64294",
        "colab": {
          "base_uri": "https://localhost:8080/",
          "height": 1000
        }
      },
      "id": "iQTvFa-KgApB",
      "execution_count": 20,
      "outputs": [
        {
          "output_type": "stream",
          "name": "stderr",
          "text": [
            "Some weights of BertForSequenceClassification were not initialized from the model checkpoint at alger-ia/dziribert and are newly initialized: ['bert.pooler.dense.bias', 'bert.pooler.dense.weight', 'classifier.bias', 'classifier.weight']\n",
            "You should probably TRAIN this model on a down-stream task to be able to use it for predictions and inference.\n"
          ]
        },
        {
          "output_type": "stream",
          "name": "stdout",
          "text": [
            "\\n🟢 Epoch 1/10\n"
          ]
        },
        {
          "output_type": "stream",
          "name": "stderr",
          "text": [
            "Training: 100%|██████████| 160/160 [00:56<00:00,  2.83it/s]\n",
            "Validation: 100%|██████████| 23/23 [00:02<00:00,  8.77it/s]\n"
          ]
        },
        {
          "output_type": "stream",
          "name": "stdout",
          "text": [
            "✅ Train Loss: 0.6623 | Acc: 0.7008 - Val Loss: 0.2899 | Acc: 0.9071\n",
            "\\n🟢 Epoch 2/10\n"
          ]
        },
        {
          "output_type": "stream",
          "name": "stderr",
          "text": [
            "Training: 100%|██████████| 160/160 [00:55<00:00,  2.87it/s]\n",
            "Validation: 100%|██████████| 23/23 [00:02<00:00,  8.51it/s]\n"
          ]
        },
        {
          "output_type": "stream",
          "name": "stdout",
          "text": [
            "✅ Train Loss: 0.3107 | Acc: 0.8933 - Val Loss: 0.2522 | Acc: 0.9126\n",
            "\\n🟢 Epoch 3/10\n"
          ]
        },
        {
          "output_type": "stream",
          "name": "stderr",
          "text": [
            "Training: 100%|██████████| 160/160 [00:55<00:00,  2.88it/s]\n",
            "Validation: 100%|██████████| 23/23 [00:02<00:00,  8.64it/s]\n"
          ]
        },
        {
          "output_type": "stream",
          "name": "stdout",
          "text": [
            "✅ Train Loss: 0.2307 | Acc: 0.9286 - Val Loss: 0.2191 | Acc: 0.9235\n",
            "\\n🟢 Epoch 4/10\n"
          ]
        },
        {
          "output_type": "stream",
          "name": "stderr",
          "text": [
            "Training: 100%|██████████| 160/160 [00:55<00:00,  2.89it/s]\n",
            "Validation: 100%|██████████| 23/23 [00:02<00:00,  8.67it/s]\n"
          ]
        },
        {
          "output_type": "stream",
          "name": "stdout",
          "text": [
            "✅ Train Loss: 0.1793 | Acc: 0.9412 - Val Loss: 0.2298 | Acc: 0.9098\n",
            "\\n🟢 Epoch 5/10\n"
          ]
        },
        {
          "output_type": "stream",
          "name": "stderr",
          "text": [
            "Training: 100%|██████████| 160/160 [00:55<00:00,  2.88it/s]\n",
            "Validation: 100%|██████████| 23/23 [00:02<00:00,  8.68it/s]\n"
          ]
        },
        {
          "output_type": "stream",
          "name": "stdout",
          "text": [
            "✅ Train Loss: 0.1704 | Acc: 0.9471 - Val Loss: 0.2076 | Acc: 0.9317\n",
            "\\n🟢 Epoch 6/10\n"
          ]
        },
        {
          "output_type": "stream",
          "name": "stderr",
          "text": [
            "Training: 100%|██████████| 160/160 [00:55<00:00,  2.87it/s]\n",
            "Validation: 100%|██████████| 23/23 [00:02<00:00,  8.64it/s]\n"
          ]
        },
        {
          "output_type": "stream",
          "name": "stdout",
          "text": [
            "✅ Train Loss: 0.1319 | Acc: 0.9576 - Val Loss: 0.2048 | Acc: 0.9208\n",
            "\\n🟢 Epoch 7/10\n"
          ]
        },
        {
          "output_type": "stream",
          "name": "stderr",
          "text": [
            "Training: 100%|██████████| 160/160 [00:55<00:00,  2.88it/s]\n",
            "Validation: 100%|██████████| 23/23 [00:02<00:00,  8.67it/s]\n"
          ]
        },
        {
          "output_type": "stream",
          "name": "stdout",
          "text": [
            "✅ Train Loss: 0.1060 | Acc: 0.9694 - Val Loss: 0.2303 | Acc: 0.9344\n",
            "\\n🟢 Epoch 8/10\n"
          ]
        },
        {
          "output_type": "stream",
          "name": "stderr",
          "text": [
            "Training: 100%|██████████| 160/160 [00:55<00:00,  2.88it/s]\n",
            "Validation: 100%|██████████| 23/23 [00:02<00:00,  8.63it/s]\n"
          ]
        },
        {
          "output_type": "stream",
          "name": "stdout",
          "text": [
            "✅ Train Loss: 0.1012 | Acc: 0.9718 - Val Loss: 0.2345 | Acc: 0.9290\n",
            "⛔ Early stopping triggered.\n",
            "\\n🔍 Classification Report:\n",
            "              precision    recall  f1-score   support\n",
            "\n",
            "     Negatif       0.90      0.85      0.87       171\n",
            "      Neutre       0.86      0.88      0.87       221\n",
            "     Positif       0.96      0.98      0.97       336\n",
            "\n",
            "    accuracy                           0.92       728\n",
            "   macro avg       0.91      0.90      0.90       728\n",
            "weighted avg       0.92      0.92      0.92       728\n",
            "\n"
          ]
        },
        {
          "output_type": "display_data",
          "data": {
            "text/plain": [
              "<Figure size 640x480 with 2 Axes>"
            ],
            "image/png": "[encoded data removed]"
          },
          "metadata": {}
        },
        {
          "output_type": "display_data",
          "data": {
            "text/plain": [
              "<Figure size 640x480 with 1 Axes>"
            ],
            "image/png": "[encoded data removed]"
          },
          "metadata": {}
        }
      ]
    },
    {
      "cell_type": "code",
      "source": [
        "import torch\n",
        "from torch.utils.data import DataLoader, Dataset, random_split\n",
        "from torch.nn import functional as F\n",
        "from torch import nn\n",
        "from torch.optim import AdamW\n",
        "from transformers import AutoTokenizer, AutoModelForSequenceClassification, AutoConfig, get_scheduler\n",
        "from sklearn.preprocessing import LabelEncoder\n",
        "from sklearn.metrics import classification_report, confusion_matrix\n",
        "import matplotlib.pyplot as plt\n",
        "from tqdm import tqdm\n",
        "import pandas as pd\n",
        "import numpy as np\n",
        "import seaborn as sns\n",
        "import random\n",
        "\n",
        "# Configuration du device GPU uniquement\n",
        "assert torch.cuda.is_available(), \"CUDA GPU is not available.\"\n",
        "device = torch.device(\"cuda\")\n",
        "\n",
        "# 1. Chargement des données\n",
        "df = pd.read_csv(\"Comments_clean.csv\").dropna(subset=[\"Comments\"])\n",
        "\n",
        "# 2. Encodage des sentiments\n",
        "label_encoder = LabelEncoder()\n",
        "df[\"Sentiments_encoded\"] = label_encoder.fit_transform(df[\"Sentiments\"])\n",
        "num_labels = len(label_encoder.classes_)\n",
        "\n",
        "# 3. Tokenizer et Dataset\n",
        "tokenizer = AutoTokenizer.from_pretrained(\"alger-ia/dziribert\")\n",
        "\n",
        "class SentimentDataset(Dataset):\n",
        "    def __init__(self, texts, labels, tokenizer, max_len=128):\n",
        "        self.texts = texts\n",
        "        self.labels = labels\n",
        "        self.tokenizer = tokenizer\n",
        "        self.max_len = max_len\n",
        "\n",
        "    def __len__(self): return len(self.texts)\n",
        "\n",
        "    def __getitem__(self, idx):\n",
        "        text = str(self.texts[idx])\n",
        "        encoding = self.tokenizer(\n",
        "            text,\n",
        "            truncation=True,\n",
        "            padding=\"max_length\",\n",
        "            max_length=self.max_len,\n",
        "            return_tensors=\"pt\"\n",
        "        )\n",
        "        return {\n",
        "            \"input_ids\": encoding[\"input_ids\"].squeeze(),\n",
        "            \"attention_mask\": encoding[\"attention_mask\"].squeeze(),\n",
        "            \"labels\": torch.tensor(self.labels[idx], dtype=torch.long)\n",
        "        }\n",
        "\n",
        "# 4. Split dataset (Train 70%, Test 20%, Val 10%)\n",
        "dataset = SentimentDataset(df[\"Comments\"].values, df[\"Sentiments_encoded\"].values, tokenizer)\n",
        "total_size = len(dataset)\n",
        "train_size = int(0.7 * total_size)\n",
        "test_size = int(0.2 * total_size)\n",
        "val_size = total_size - train_size - test_size\n",
        "train_set, test_set, val_set = random_split(dataset, [train_size, test_size, val_size], generator=torch.Generator().manual_seed(42))\n",
        "\n",
        "train_loader = DataLoader(train_set, batch_size=32, shuffle=True)\n",
        "val_loader = DataLoader(val_set, batch_size=32)\n",
        "test_loader = DataLoader(test_set, batch_size=32)\n",
        "\n",
        "# 5. Chargement du modèle avec dropout custom\n",
        "config = AutoConfig.from_pretrained(\"alger-ia/dziribert\", num_labels=num_labels, hidden_dropout_prob=0.5)\n",
        "model = AutoModelForSequenceClassification.from_pretrained(\"alger-ia/dziribert\", config=config)\n",
        "model.to(device)\n",
        "\n",
        "# 6. Optimiseur et Scheduler\n",
        "optimizer = AdamW(model.parameters(), lr=5e-5, weight_decay=0.01)\n",
        "num_epochs = 15\n",
        "num_training_steps = num_epochs * len(train_loader)\n",
        "lr_scheduler = get_scheduler(\"linear\", optimizer=optimizer, num_warmup_steps=50, num_training_steps=num_training_steps)\n",
        "\n",
        "# 7. Entraînement avec Early Stopping\n",
        "best_val_loss = float(\"inf\")\n",
        "patience, patience_counter = 2, 0\n",
        "train_losses, val_losses = [], []\n",
        "train_accs, val_accs = [], []\n",
        "\n",
        "for epoch in range(num_epochs):\n",
        "    print(f\"\\\\n🟢 Epoch {epoch+1}/{num_epochs}\")\n",
        "    model.train()\n",
        "    total_loss, correct, total = 0, 0, 0\n",
        "\n",
        "    for batch in tqdm(train_loader, desc=\"Training\"):\n",
        "        input_ids = batch[\"input_ids\"].to(device)\n",
        "        attention_mask = batch[\"attention_mask\"].to(device)\n",
        "        labels = batch[\"labels\"].to(device)\n",
        "\n",
        "        outputs = model(input_ids=input_ids, attention_mask=attention_mask, labels=labels)\n",
        "        loss = outputs.loss\n",
        "        logits = outputs.logits\n",
        "\n",
        "        optimizer.zero_grad()\n",
        "        loss.backward()\n",
        "        optimizer.step()\n",
        "        lr_scheduler.step()\n",
        "\n",
        "        total_loss += loss.item()\n",
        "        preds = torch.argmax(logits, dim=1)\n",
        "        correct += (preds == labels).sum().item()\n",
        "        total += labels.size(0)\n",
        "\n",
        "    train_loss = total_loss / len(train_loader)\n",
        "    train_acc = correct / total\n",
        "    train_losses.append(train_loss)\n",
        "    train_accs.append(train_acc)\n",
        "\n",
        "    # Validation\n",
        "    model.eval()\n",
        "    val_loss, correct, total = 0, 0, 0\n",
        "    with torch.no_grad():\n",
        "        for batch in tqdm(val_loader, desc=\"Validation\"):\n",
        "            input_ids = batch[\"input_ids\"].to(device)\n",
        "            attention_mask = batch[\"attention_mask\"].to(device)\n",
        "            labels = batch[\"labels\"].to(device)\n",
        "\n",
        "            outputs = model(input_ids=input_ids, attention_mask=attention_mask, labels=labels)\n",
        "            val_loss += outputs.loss.item()\n",
        "\n",
        "            preds = torch.argmax(outputs.logits, dim=1)\n",
        "            correct += (preds == labels).sum().item()\n",
        "            total += labels.size(0)\n",
        "\n",
        "    val_loss = val_loss / len(val_loader)\n",
        "    val_acc = correct / total\n",
        "    val_losses.append(val_loss)\n",
        "    val_accs.append(val_acc)\n",
        "\n",
        "    print(f\"✅ Train Loss: {train_loss:.4f} | Acc: {train_acc:.4f} - Val Loss: {val_loss:.4f} | Acc: {val_acc:.4f}\")\n",
        "\n",
        "    if val_loss < best_val_loss:\n",
        "        best_val_loss = val_loss\n",
        "        torch.save(model.state_dict(), \"best_model.pt\")\n",
        "        patience_counter = 0\n",
        "    else:\n",
        "        patience_counter += 1\n",
        "        if patience_counter >= patience:\n",
        "            print(\"⛔ Early stopping triggered.\")\n",
        "            break\n",
        "\n",
        "# 8. Évaluation finale\n",
        "model.load_state_dict(torch.load(\"best_model.pt\"))\n",
        "model.eval()\n",
        "all_preds, all_labels = [], []\n",
        "\n",
        "for batch in test_loader:\n",
        "    input_ids = batch[\"input_ids\"].to(device)\n",
        "    attention_mask = batch[\"attention_mask\"].to(device)\n",
        "    labels = batch[\"labels\"].to(device)\n",
        "\n",
        "    with torch.no_grad():\n",
        "        outputs = model(input_ids=input_ids, attention_mask=attention_mask)\n",
        "    preds = torch.argmax(outputs.logits, dim=1)\n",
        "    all_preds.extend(preds.cpu().numpy())\n",
        "    all_labels.extend(labels.cpu().numpy())\n",
        "\n",
        "print(\"\\\\n🔍 Classification Report:\")\n",
        "print(classification_report(all_labels, all_preds, target_names=label_encoder.classes_))\n",
        "\n",
        "# 9. Matrice de confusion\n",
        "cm = confusion_matrix(all_labels, all_preds)\n",
        "sns.heatmap(cm, annot=True, fmt='d', xticklabels=label_encoder.classes_, yticklabels=label_encoder.classes_, cmap=\"Blues\")\n",
        "plt.xlabel(\"Predicted\")\n",
        "plt.ylabel(\"True\")\n",
        "plt.title(\"Confusion Matrix\")\n",
        "plt.show()\n",
        "\n",
        "# 10. Courbes des pertes\n",
        "plt.plot(train_losses, label=\"Train Loss\")\n",
        "plt.plot(val_losses, label=\"Validation Loss\")\n",
        "plt.xlabel(\"Epoch\")\n",
        "plt.ylabel(\"Loss\")\n",
        "plt.title(\"Training and Validation Loss\")\n",
        "plt.legend()\n",
        "plt.show()"
      ],
      "metadata": {
        "id": "zDuHz5-Ij9rY",
        "outputId": "e444efc0-4199-4074-e59a-3efce6ba821d",
        "colab": {
          "base_uri": "https://localhost:8080/"
        }
      },
      "id": "zDuHz5-Ij9rY",
      "execution_count": null,
      "outputs": [
        {
          "output_type": "stream",
          "name": "stderr",
          "text": [
            "Some weights of BertForSequenceClassification were not initialized from the model checkpoint at alger-ia/dziribert and are newly initialized: ['bert.pooler.dense.bias', 'bert.pooler.dense.weight', 'classifier.bias', 'classifier.weight']\n",
            "You should probably TRAIN this model on a down-stream task to be able to use it for predictions and inference.\n"
          ]
        },
        {
          "output_type": "stream",
          "name": "stdout",
          "text": [
            "\\n🟢 Epoch 1/15\n"
          ]
        },
        {
          "output_type": "stream",
          "name": "stderr",
          "text": [
            "Training: 100%|██████████| 80/80 [00:51<00:00,  1.56it/s]\n",
            "Validation: 100%|██████████| 12/12 [00:02<00:00,  4.85it/s]\n"
          ]
        },
        {
          "output_type": "stream",
          "name": "stdout",
          "text": [
            "✅ Train Loss: 0.9286 | Acc: 0.5255 - Val Loss: 0.4805 | Acc: 0.7869\n",
            "\\n🟢 Epoch 2/15\n"
          ]
        },
        {
          "output_type": "stream",
          "name": "stderr",
          "text": [
            "Training:  34%|███▍      | 27/80 [00:16<00:33,  1.60it/s]"
          ]
        }
      ]
    }
  ],
  "metadata": {
    "kernelspec": {
      "display_name": "Python 3",
      "name": "python3"
    },
    "language_info": {
      "codemirror_mode": {
        "name": "ipython",
        "version": 3
      },
      "file_extension": ".py",
      "mimetype": "text/x-python",
      "name": "python",
      "nbconvert_exporter": "python",
      "pygments_lexer": "ipython3",
      "version": "3.12.3"
    },
    "colab": {
      "provenance": [],
      "gpuType": "T4",
      "include_colab_link": true
    },
    "accelerator": "GPU"
  },
  "nbformat": 4,
  "nbformat_minor": 5
}