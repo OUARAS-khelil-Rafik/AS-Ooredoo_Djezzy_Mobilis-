{
  "cells": [
    {
      "cell_type": "markdown",
      "id": "979e6de5",
      "metadata": {
        "id": "979e6de5"
      },
      "source": [
        "<h1 style=\"text-align: center; color: #E30613;\"><b><i>Entraînement avec MARBERT sur les Données de Sentiments</i></b></h1>\n",
        "\n",
        "<p style=\"font-size: 18px;\">\n",
        "Ce notebook présente un workflow complet pour l'entraînement et l'évaluation d'un modèle de classification des sentiments en utilisant <span style=\"color: #28A745;\"><b>MARBERT</b></span>, un modèle de langage pré-entraîné.\n",
        "</p>\n",
        "\n",
        "### <span style=\"color: #28A745;\">**Objectifs :**</span>\n",
        "1. Charger et prétraiter les données textuelles.\n",
        "2. Encoder les étiquettes des sentiments.\n",
        "3. Utiliser un tokenizer pour préparer les données pour le modèle.\n",
        "4. Diviser les données en ensembles d'entraînement, de validation et de test.\n",
        "5. Entraîner le modèle avec des techniques avancées comme le dropout et l'early stopping.\n",
        "6. Évaluer les performances du modèle à l'aide de métriques comme la matrice de confusion et le rapport de classification.\n",
        "7. Visualiser les courbes de pertes et d'accuracy pour analyser les performances.\n",
        "\n",
        "### <span style=\"color: #28A745;\">**Plan du Notebook :**</span>\n",
        "1. **Introduction et Bibliothèques nécessaires**  \n",
        "    Importation des bibliothèques et configuration de l'environnement.\n",
        "    \n",
        "2. **Chargement et Prétraitement des Données**  \n",
        "    Nettoyage des données et préparation des étiquettes.\n",
        "\n",
        "3. **Tokenization et Préparation des Données**  \n",
        "    Utilisation du tokenizer MARBERT et création des ensembles d'entraînement, de validation et de test.\n",
        "\n",
        "4. **Entraînement du Modèle**  \n",
        "    Entraînement avec des techniques comme l'early stopping et le dropout.\n",
        "\n",
        "5. **Évaluation et Visualisation**  \n",
        "    Analyse des performances avec des métriques et des visualisations.\n",
        "\n",
        "6. **Conclusion**  \n",
        "    Résumé des résultats et perspectives d'amélioration."
      ]
    },
    {
      "cell_type": "markdown",
      "id": "zYubPwo2ezaN",
      "metadata": {
        "id": "zYubPwo2ezaN"
      },
      "source": [
        "# <span style=\"color: #E30613;\">**MARBERT**</span>"
      ]
    },
    {
      "cell_type": "markdown",
      "id": "68103f0f",
      "metadata": {
        "id": "68103f0f"
      },
      "source": [
        "## <span style=\"color: #28A745;\">**Bibiliothèques nécessaires**</span>"
      ]
    },
    {
      "cell_type": "code",
      "execution_count": 1,
      "id": "915dbad9",
      "metadata": {
        "collapsed": true,
        "id": "915dbad9"
      },
      "outputs": [],
      "source": [
        "import torch\n",
        "from torch.utils.data import DataLoader, Dataset, random_split\n",
        "from torch.nn import functional as F\n",
        "from torch import nn\n",
        "from torch.optim import AdamW\n",
        "from transformers import AutoTokenizer, AutoModelForSequenceClassification, AutoConfig, get_scheduler\n",
        "from sklearn.preprocessing import LabelEncoder\n",
        "from sklearn.metrics import classification_report, confusion_matrix\n",
        "import matplotlib.pyplot as plt\n",
        "from tqdm import tqdm\n",
        "import pandas as pd\n",
        "import numpy as np\n",
        "import seaborn as sns\n",
        "import random"
      ]
    },
    {
      "cell_type": "markdown",
      "id": "7WOHv2OTVsJ4",
      "metadata": {
        "id": "7WOHv2OTVsJ4"
      },
      "source": [
        "## <span style=\"color: #28A745;\">**Utilisation de GPU**</span>"
      ]
    },
    {
      "cell_type": "code",
      "execution_count": 2,
      "id": "QckqKaljV0xd",
      "metadata": {
        "id": "QckqKaljV0xd",
        "colab": {
          "base_uri": "https://localhost:8080/",
          "height": 176
        },
        "outputId": "364391c4-5e91-4d81-8879-afae143da933"
      },
      "outputs": [
        {
          "output_type": "error",
          "ename": "AssertionError",
          "evalue": "CUDA GPU is not available.",
          "traceback": [
            "\u001b[0;31m---------------------------------------------------------------------------\u001b[0m",
            "\u001b[0;31mAssertionError\u001b[0m                            Traceback (most recent call last)",
            "\u001b[0;32m<ipython-input-2-f248e18da16b>\u001b[0m in \u001b[0;36m<cell line: 0>\u001b[0;34m()\u001b[0m\n\u001b[1;32m      1\u001b[0m \u001b[0;31m# ✅ Configuration du device GPU uniquement\u001b[0m\u001b[0;34m\u001b[0m\u001b[0;34m\u001b[0m\u001b[0m\n\u001b[0;32m----> 2\u001b[0;31m \u001b[0;32massert\u001b[0m \u001b[0mtorch\u001b[0m\u001b[0;34m.\u001b[0m\u001b[0mcuda\u001b[0m\u001b[0;34m.\u001b[0m\u001b[0mis_available\u001b[0m\u001b[0;34m(\u001b[0m\u001b[0;34m)\u001b[0m\u001b[0;34m,\u001b[0m \u001b[0;34m\"CUDA GPU is not available.\"\u001b[0m\u001b[0;34m\u001b[0m\u001b[0;34m\u001b[0m\u001b[0m\n\u001b[0m\u001b[1;32m      3\u001b[0m \u001b[0mdevice\u001b[0m \u001b[0;34m=\u001b[0m \u001b[0mtorch\u001b[0m\u001b[0;34m.\u001b[0m\u001b[0mdevice\u001b[0m\u001b[0;34m(\u001b[0m\u001b[0;34m\"cuda\"\u001b[0m\u001b[0;34m)\u001b[0m\u001b[0;34m\u001b[0m\u001b[0;34m\u001b[0m\u001b[0m\n",
            "\u001b[0;31mAssertionError\u001b[0m: CUDA GPU is not available."
          ]
        }
      ],
      "source": [
        "# ✅ Configuration du device GPU uniquement\n",
        "assert torch.cuda.is_available(), \"CUDA GPU is not available.\"\n",
        "device = torch.device(\"cuda\")"
      ]
    },
    {
      "cell_type": "markdown",
      "id": "hUFyzWDFV-ea",
      "metadata": {
        "id": "hUFyzWDFV-ea"
      },
      "source": [
        "## <span style=\"color: #28A745;\">**Chargement des Données**</span>"
      ]
    },
    {
      "cell_type": "code",
      "execution_count": null,
      "id": "APU8OV_aWDGo",
      "metadata": {
        "id": "APU8OV_aWDGo"
      },
      "outputs": [],
      "source": [
        "# 📁 Chargement des données\n",
        "df = pd.read_csv(\"/content/Results/Comments_clean.csv\").dropna(subset=[\"Comments\"])"
      ]
    },
    {
      "cell_type": "markdown",
      "id": "dpgLkOzNWIfI",
      "metadata": {
        "id": "dpgLkOzNWIfI"
      },
      "source": [
        "## <span style=\"color: #28A745;\">**Encodage des étiquettes**</span>"
      ]
    },
    {
      "cell_type": "code",
      "execution_count": null,
      "id": "4skFs0KGWSUa",
      "metadata": {
        "id": "4skFs0KGWSUa"
      },
      "outputs": [],
      "source": [
        "# 🎯 Encodage des étiquettes\n",
        "label_encoder = LabelEncoder()\n",
        "df[\"Sentiments_encoded\"] = label_encoder.fit_transform(df[\"Sentiments\"])\n",
        "num_labels = len(label_encoder.classes_)"
      ]
    },
    {
      "cell_type": "markdown",
      "id": "v-EKAf3OWTy0",
      "metadata": {
        "id": "v-EKAf3OWTy0"
      },
      "source": [
        "## <span style=\"color: #28A745;\">**Tokenizer, Split dataset (Train 70%, Test 20%, Val 10%)**</span>"
      ]
    },
    {
      "cell_type": "code",
      "execution_count": null,
      "id": "12b41a4c",
      "metadata": {
        "id": "12b41a4c"
      },
      "outputs": [],
      "source": [
        "tokenizer = AutoTokenizer.from_pretrained(\"aubmindlab/bert-base-arabertv2\")\n",
        "\n",
        "class SentimentDataset(Dataset):\n",
        "    def __init__(self, texts, labels, tokenizer, max_len=128):\n",
        "        self.texts = texts\n",
        "        self.labels = labels\n",
        "        self.tokenizer = tokenizer\n",
        "        self.max_len = max_len\n",
        "\n",
        "    def __len__(self): return len(self.texts)\n",
        "\n",
        "    def __getitem__(self, idx):\n",
        "        text = str(self.texts[idx])\n",
        "        encoding = self.tokenizer(\n",
        "            text,\n",
        "            truncation=True,\n",
        "            padding=\"max_length\",\n",
        "            max_length=self.max_len,\n",
        "            return_tensors=\"pt\"\n",
        "        )\n",
        "        return {\n",
        "            \"input_ids\": encoding[\"input_ids\"].squeeze(),\n",
        "            \"attention_mask\": encoding[\"attention_mask\"].squeeze(),\n",
        "            \"labels\": torch.tensor(self.labels[idx], dtype=torch.long)\n",
        "        }\n",
        "\n",
        "# ✂️ Split dataset (Train 70%, Test 20%, Val 10%)\n",
        "dataset = SentimentDataset(df[\"Comments\"].values, df[\"Sentiments_encoded\"].values, tokenizer)\n",
        "total_size = len(dataset)\n",
        "train_size = int(0.7 * total_size)\n",
        "test_size = int(0.2 * total_size)\n",
        "val_size = total_size - train_size - test_size\n",
        "train_set, test_set, val_set = random_split(dataset, [train_size, test_size, val_size], generator=torch.Generator().manual_seed(42))\n",
        "\n",
        "train_loader = DataLoader(train_set, batch_size=16, shuffle=True)\n",
        "val_loader = DataLoader(val_set, batch_size=16)\n",
        "test_loader = DataLoader(test_set, batch_size=16)"
      ]
    },
    {
      "cell_type": "markdown",
      "id": "557123f1",
      "metadata": {
        "id": "557123f1"
      },
      "source": [
        "## <span style=\"color: #28A745;\">**Chargement du modèle avec dropout custom**</span>"
      ]
    },
    {
      "cell_type": "code",
      "execution_count": null,
      "id": "eecd3412",
      "metadata": {
        "id": "eecd3412"
      },
      "outputs": [],
      "source": [
        "config = AutoConfig.from_pretrained(\"aubmindlab/bert-base-arabertv2\", num_labels=num_labels, hidden_dropout_prob=0.4, output_attentions=True)\n",
        "model = AutoModelForSequenceClassification.from_pretrained(\"aubmindlab/bert-base-arabertv2\", config=config)\n",
        "model.to(device)\n",
        "\n",
        "\"\"\"\n",
        "# Define model names and paths\n",
        "model_configs = {\n",
        "    \"AraBERT\": {\n",
        "        \"name\": \"aubmindlab/bert-base-arabertv2\",\n",
        "        \"tokenizer\": AutoTokenizer.from_pretrained(\"aubmindlab/bert-base-arabertv2\"),\n",
        "    },\n",
        "    \"MARBERT\": {\n",
        "        \"name\": \"UBC-NLP/MARBERT\",\n",
        "        \"tokenizer\": AutoTokenizer.from_pretrained(\"UBC-NLP/MARBERT\"),\n",
        "    },\n",
        "    \"DziriBERT\": {\n",
        "        \"name\": \"alger-ia/dziribert\",\n",
        "        \"tokenizer\": AutoTokenizer.from_pretrained(\"alger-ia/dziribert\"),\n",
        "    },\n",
        "}\n",
        "\"\"\""
      ]
    },
    {
      "cell_type": "markdown",
      "id": "8b412658",
      "metadata": {
        "id": "8b412658"
      },
      "source": [
        "## <span style=\"color: #28A745;\">**Optimiseur et Scheduler**</span>"
      ]
    },
    {
      "cell_type": "code",
      "execution_count": null,
      "id": "267e3ffc",
      "metadata": {
        "id": "267e3ffc"
      },
      "outputs": [],
      "source": [
        "# Optimiseur et Scheduler\n",
        "optimizer = AdamW(model.parameters(), lr=2e-5, weight_decay=0.01)\n",
        "num_epochs = 10\n",
        "num_training_steps = num_epochs * len(train_loader)\n",
        "lr_scheduler = get_scheduler(\"linear\", optimizer=optimizer, num_warmup_steps=100, num_training_steps=num_training_steps)"
      ]
    },
    {
      "cell_type": "markdown",
      "id": "3d4197a4",
      "metadata": {
        "id": "3d4197a4"
      },
      "source": [
        "## <span style=\"color: #28A745;\">**Entraînement de Modèle**</span>"
      ]
    },
    {
      "cell_type": "code",
      "execution_count": null,
      "id": "d571625b",
      "metadata": {
        "id": "d571625b"
      },
      "outputs": [],
      "source": [
        "# 🔧 Entraînement avec Early Stopping\n",
        "best_val_loss = float(\"inf\")\n",
        "patience, patience_counter = 2, 0\n",
        "train_losses, val_losses = [], []\n",
        "train_accs, val_accs = [], []\n",
        "\n",
        "for epoch in range(num_epochs):\n",
        "    print(f\"\\n🟢 Epoch {epoch+1}/{num_epochs}\")\n",
        "    model.train()\n",
        "    total_loss, correct, total = 0, 0, 0\n",
        "\n",
        "    for batch in tqdm(train_loader, desc=\"Training\"):\n",
        "        input_ids = batch[\"input_ids\"].to(device)\n",
        "        attention_mask = batch[\"attention_mask\"].to(device)\n",
        "        labels = batch[\"labels\"].to(device)\n",
        "\n",
        "        outputs = model(input_ids=input_ids, attention_mask=attention_mask, labels=labels)\n",
        "        loss = outputs.loss\n",
        "        logits = outputs.logits\n",
        "\n",
        "        optimizer.zero_grad()\n",
        "        loss.backward()\n",
        "        optimizer.step()\n",
        "        lr_scheduler.step()\n",
        "\n",
        "        total_loss += loss.item()\n",
        "        preds = torch.argmax(logits, dim=1)\n",
        "        correct += (preds == labels).sum().item()\n",
        "        total += labels.size(0)\n",
        "\n",
        "    train_loss = total_loss / len(train_loader)\n",
        "    train_acc = correct / total\n",
        "    train_losses.append(train_loss)\n",
        "    train_accs.append(train_acc)\n",
        "\n",
        "    # Validation\n",
        "    model.eval()\n",
        "    val_loss, correct, total = 0, 0, 0\n",
        "    with torch.no_grad():\n",
        "        for batch in tqdm(val_loader, desc=\"Validation\"):\n",
        "            input_ids = batch[\"input_ids\"].to(device)\n",
        "            attention_mask = batch[\"attention_mask\"].to(device)\n",
        "            labels = batch[\"labels\"].to(device)\n",
        "\n",
        "            outputs = model(input_ids=input_ids, attention_mask=attention_mask, labels=labels)\n",
        "            val_loss += outputs.loss.item()\n",
        "\n",
        "            preds = torch.argmax(outputs.logits, dim=1)\n",
        "            correct += (preds == labels).sum().item()\n",
        "            total += labels.size(0)\n",
        "\n",
        "    val_loss = val_loss / len(val_loader)\n",
        "    val_acc = correct / total\n",
        "    val_losses.append(val_loss)\n",
        "    val_accs.append(val_acc)\n",
        "\n",
        "    print(f\"✅ Train Loss: {train_loss:.4f} | Acc: {train_acc:.4f} - Val Loss: {val_loss:.4f} | Acc: {val_acc:.4f}\")\n",
        "\n",
        "    if val_loss < best_val_loss:\n",
        "        best_val_loss = val_loss\n",
        "        torch.save(model.state_dict(), \"/content/Results/best_model.pt\")\n",
        "        patience_counter = 0\n",
        "    else:\n",
        "        patience_counter += 1\n",
        "        if patience_counter >= patience:\n",
        "            print(\"⛔ Early stopping triggered.\")\n",
        "            break"
      ]
    },
    {
      "cell_type": "markdown",
      "id": "b2aa2587",
      "metadata": {
        "id": "b2aa2587"
      },
      "source": [
        "## <span style=\"color: #28A745;\">**Évaluation finale**</span>"
      ]
    },
    {
      "cell_type": "code",
      "execution_count": null,
      "id": "4708042f",
      "metadata": {
        "id": "4708042f"
      },
      "outputs": [],
      "source": [
        "# Évaluation finale\n",
        "model.load_state_dict(torch.load(\"/content/Results/best_model.pt\"))\n",
        "model.eval()\n",
        "all_preds, all_labels = [], []\n",
        "\n",
        "for batch in test_loader:\n",
        "    input_ids = batch[\"input_ids\"].to(device)\n",
        "    attention_mask = batch[\"attention_mask\"].to(device)\n",
        "    labels = batch[\"labels\"].to(device)\n",
        "\n",
        "    with torch.no_grad():\n",
        "        outputs = model(input_ids=input_ids, attention_mask=attention_mask)\n",
        "    preds = torch.argmax(outputs.logits, dim=1)\n",
        "    all_preds.extend(preds.cpu().numpy())\n",
        "    all_labels.extend(labels.cpu().numpy())\n",
        "\n",
        "print(\"🔍 Rapport de classification:\")\n",
        "print(classification_report(all_labels, all_preds, target_names=label_encoder.classes_))"
      ]
    },
    {
      "cell_type": "markdown",
      "id": "3be60881",
      "metadata": {
        "id": "3be60881"
      },
      "source": [
        "## <span style=\"color: #28A745;\">**Courbes des pertes**</span>"
      ]
    },
    {
      "cell_type": "code",
      "execution_count": null,
      "id": "51acc255",
      "metadata": {
        "id": "51acc255"
      },
      "outputs": [],
      "source": [
        "# Courbes des pertes\n",
        "plt.plot(train_losses, label=\"Train Loss\", color='#28A745')  # Vert\n",
        "plt.plot(val_losses, label=\"Validation Loss\", color='#E30613')  # Rouge\n",
        "plt.xlabel(\"Epoch\")\n",
        "plt.ylabel(\"Loss\")\n",
        "plt.title(\"Training and Validation Loss\")\n",
        "\n",
        "plt.legend()\n",
        "plt.show()"
      ]
    },
    {
      "cell_type": "markdown",
      "id": "0f42c89f",
      "metadata": {
        "id": "0f42c89f"
      },
      "source": [
        "## <span style=\"color: #28A745;\">**Matrice de confusion**</span>"
      ]
    },
    {
      "cell_type": "code",
      "execution_count": null,
      "id": "067ff487",
      "metadata": {
        "id": "067ff487"
      },
      "outputs": [],
      "source": [
        "# Matrice de confusion\n",
        "cm = confusion_matrix(all_labels, all_preds)\n",
        "sns.heatmap(cm, annot=True, fmt='d', xticklabels=label_encoder.classes_, yticklabels=label_encoder.classes_, cmap=\"Reds\")\n",
        "plt.xlabel(\"Prédictions\")\n",
        "plt.ylabel(\"Prédictions\")\n",
        "plt.title(\"Matrice de confusion\")\n",
        "plt.show()"
      ]
    },
    {
      "cell_type": "markdown",
      "id": "0fcc10c4",
      "metadata": {
        "id": "0fcc10c4"
      },
      "source": [
        "<h3 style=\"text-align: center; color: #E30613;\"><b><i>Développé par: OUARAS Khelil Rafik</i></b></h3>"
      ]
    }
  ],
  "metadata": {
    "accelerator": "GPU",
    "colab": {
      "gpuType": "T4",
      "provenance": []
    },
    "kernelspec": {
      "display_name": "Python 3",
      "name": "python3"
    },
    "language_info": {
      "codemirror_mode": {
        "name": "ipython",
        "version": 3
      },
      "file_extension": ".py",
      "mimetype": "text/x-python",
      "name": "python",
      "nbconvert_exporter": "python",
      "pygments_lexer": "ipython3",
      "version": "3.12.3"
    }
  },
  "nbformat": 4,
  "nbformat_minor": 5
}