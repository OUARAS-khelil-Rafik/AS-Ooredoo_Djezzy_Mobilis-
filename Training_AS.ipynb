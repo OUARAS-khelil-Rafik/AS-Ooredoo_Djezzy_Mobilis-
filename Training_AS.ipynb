{
  "cells": [
    {
      "cell_type": "markdown",
      "id": "b1d4d949",
      "metadata": {
        "id": "b1d4d949"
      },
      "source": [
        "<h1 style=\"text-align: center; color: #E30613;\"><b><i>Entraînement des Modèles sur les Données de Sentiments</i></b></h1>\n",
        "\n",
        "Ce notebook explore un pipeline complet pour l'analyse des sentiments à partir de données textuelles. Voici les étapes principales couvertes :\n",
        "\n",
        "<ol>\n",
        "    <li><b>Chargement des Données</b> : Importation des données à partir d'un fichier CSV et exploration initiale.</li>\n",
        "    <li><b>Prétraitement des Données</b> : Nettoyage des données, suppression des valeurs manquantes et encodage des étiquettes.</li>\n",
        "    <li><b>Division des Données</b> : Séparation des données en ensembles d'entraînement, de validation et de test.</li>\n",
        "    <li><b>Vectorisation</b> : Transformation des données textuelles en représentations numériques à l'aide de <code>CountVectorizer</code> et <code>TfidfVectorizer</code>.</li>\n",
        "    <li><b>Entraînement des Modèles</b> : Application de plusieurs algorithmes de classification, notamment :\n",
        "        <ul>\n",
        "            <li>Régression Logistique</li>\n",
        "            <li>SVM (Support Vector Machine)</li>\n",
        "            <li>Arbre de Décision</li>\n",
        "            <li>Naive Bayes</li>\n",
        "            <li>LightGBM</li>\n",
        "        </ul>\n",
        "    </li>\n",
        "    <li><b>Évaluation des Modèles</b> : Analyse des performances des modèles à l'aide de métriques telles que l'accuracy, les matrices de confusion et les rapports de classification.</li>\n",
        "    <li><b>Visualisation</b> : Utilisation de graphiques pour interpréter les résultats et comparer les performances des modèles.</li>\n",
        "</ol>\n",
        "\n",
        "Chaque étape est documentée et accompagnée de visualisations pour une meilleure compréhension des résultats."
      ]
    },
    {
      "cell_type": "markdown",
      "id": "28673de0",
      "metadata": {
        "id": "28673de0"
      },
      "source": [
        "## <span style=\"color: #28A745;\">**Bibiliothèques nécessaires**</span>"
      ]
    },
    {
      "cell_type": "code",
      "execution_count": 276,
      "id": "83ecb0b2",
      "metadata": {
        "colab": {
          "base_uri": "https://localhost:8080/"
        },
        "id": "83ecb0b2",
        "outputId": "efd740fa-5f84-4c5b-d48d-3e4b2243932b"
      },
      "outputs": [
        {
          "name": "stdout",
          "output_type": "stream",
          "text": [
            "Requirement already satisfied: pandas in /usr/local/lib/python3.11/dist-packages (2.2.2)\n",
            "Requirement already satisfied: numpy in /usr/local/lib/python3.11/dist-packages (2.0.2)\n",
            "Requirement already satisfied: scikit-learn in /usr/local/lib/python3.11/dist-packages (1.6.1)\n",
            "Requirement already satisfied: matplotlib in /usr/local/lib/python3.11/dist-packages (3.10.0)\n",
            "Requirement already satisfied: seaborn in /usr/local/lib/python3.11/dist-packages (0.13.2)\n",
            "Requirement already satisfied: lightgbm in /usr/local/lib/python3.11/dist-packages (4.5.0)\n",
            "Requirement already satisfied: python-dateutil>=2.8.2 in /usr/local/lib/python3.11/dist-packages (from pandas) (2.9.0.post0)\n",
            "Requirement already satisfied: pytz>=2020.1 in /usr/local/lib/python3.11/dist-packages (from pandas) (2025.2)\n",
            "Requirement already satisfied: tzdata>=2022.7 in /usr/local/lib/python3.11/dist-packages (from pandas) (2025.2)\n",
            "Requirement already satisfied: scipy>=1.6.0 in /usr/local/lib/python3.11/dist-packages (from scikit-learn) (1.15.2)\n",
            "Requirement already satisfied: joblib>=1.2.0 in /usr/local/lib/python3.11/dist-packages (from scikit-learn) (1.4.2)\n",
            "Requirement already satisfied: threadpoolctl>=3.1.0 in /usr/local/lib/python3.11/dist-packages (from scikit-learn) (3.6.0)\n",
            "Requirement already satisfied: contourpy>=1.0.1 in /usr/local/lib/python3.11/dist-packages (from matplotlib) (1.3.2)\n",
            "Requirement already satisfied: cycler>=0.10 in /usr/local/lib/python3.11/dist-packages (from matplotlib) (0.12.1)\n",
            "Requirement already satisfied: fonttools>=4.22.0 in /usr/local/lib/python3.11/dist-packages (from matplotlib) (4.57.0)\n",
            "Requirement already satisfied: kiwisolver>=1.3.1 in /usr/local/lib/python3.11/dist-packages (from matplotlib) (1.4.8)\n",
            "Requirement already satisfied: packaging>=20.0 in /usr/local/lib/python3.11/dist-packages (from matplotlib) (24.2)\n",
            "Requirement already satisfied: pillow>=8 in /usr/local/lib/python3.11/dist-packages (from matplotlib) (11.2.1)\n",
            "Requirement already satisfied: pyparsing>=2.3.1 in /usr/local/lib/python3.11/dist-packages (from matplotlib) (3.2.3)\n",
            "Requirement already satisfied: six>=1.5 in /usr/local/lib/python3.11/dist-packages (from python-dateutil>=2.8.2->pandas) (1.17.0)\n"
          ]
        }
      ],
      "source": [
        "%pip install pandas numpy scikit-learn matplotlib seaborn lightgbm\n",
        "\n",
        "from sklearn.metrics import classification_report, confusion_matrix, accuracy_score\n",
        "import seaborn as sns\n",
        "import matplotlib.pyplot as plt\n",
        "import pandas as pd\n",
        "import numpy as np"
      ]
    },
    {
      "cell_type": "markdown",
      "id": "6ddcbd24",
      "metadata": {
        "id": "6ddcbd24"
      },
      "source": [
        "## <span style=\"color: #28A745;\">**Chargement des Données**</span>"
      ]
    },
    {
      "cell_type": "code",
      "execution_count": 277,
      "id": "8049764f",
      "metadata": {
        "colab": {
          "base_uri": "https://localhost:8080/",
          "height": 206
        },
        "id": "8049764f",
        "outputId": "d7bb0f05-0f10-45c8-d8e1-65b78b392057"
      },
      "outputs": [
        {
          "data": {
            "application/vnd.google.colaboratory.intrinsic+json": {
              "summary": "{\n  \"name\": \"df\",\n  \"rows\": 3614,\n  \"fields\": [\n    {\n      \"column\": \"ID Post\",\n      \"properties\": {\n        \"dtype\": \"number\",\n        \"std\": 54,\n        \"min\": 1,\n        \"max\": 183,\n        \"num_unique_values\": 183,\n        \"samples\": [\n          20,\n          43,\n          156\n        ],\n        \"semantic_type\": \"\",\n        \"description\": \"\"\n      }\n    },\n    {\n      \"column\": \"User Name\",\n      \"properties\": {\n        \"dtype\": \"string\",\n        \"num_unique_values\": 2465,\n        \"samples\": [\n          \"Anis Kami\",\n          \"\\u0634\\u0645\\u0633 \\u0634\\u0645\\u0633\",\n          \"Bachir Hassani\"\n        ],\n        \"semantic_type\": \"\",\n        \"description\": \"\"\n      }\n    },\n    {\n      \"column\": \"Comments\",\n      \"properties\": {\n        \"dtype\": \"string\",\n        \"num_unique_values\": 2716,\n        \"samples\": [\n          \"\\u0627\\u0636\\u0639\\u0641 \\u0634\\u0631\\u0643\\u0629 \\u062a\\u0646\\u0627\\u0641\\u0633 \\u062c\\u0627\\u0632\\u064a \\u0643\\u0627\\u0646\\u062a \\u0628\\u0643\\u0631\\u064a \\u0645\\u0627\\u062a\\u0648\\u0644\\u064a \\u062c\\u0632\\u0627\\u0626\\u0631\\u064a\\u0629\",\n          \"ooredoo numero one algerie\",\n          \"merci ooredoo algerie seulement\"\n        ],\n        \"semantic_type\": \"\",\n        \"description\": \"\"\n      }\n    },\n    {\n      \"column\": \"Sentiments\",\n      \"properties\": {\n        \"dtype\": \"category\",\n        \"num_unique_values\": 3,\n        \"samples\": [\n          \"Negatif\",\n          \"Positif\",\n          \"Neutre\"\n        ],\n        \"semantic_type\": \"\",\n        \"description\": \"\"\n      }\n    }\n  ]\n}",
              "type": "dataframe",
              "variable_name": "df"
            },
            "text/html": [
              "\n",
              "  <div id=\"df-9de3597e-5e2c-467c-994b-ea72c89247e7\" class=\"colab-df-container\">\n",
              "    <div>\n",
              "<style scoped>\n",
              "    .dataframe tbody tr th:only-of-type {\n",
              "        vertical-align: middle;\n",
              "    }\n",
              "\n",
              "    .dataframe tbody tr th {\n",
              "        vertical-align: top;\n",
              "    }\n",
              "\n",
              "    .dataframe thead th {\n",
              "        text-align: right;\n",
              "    }\n",
              "</style>\n",
              "<table border=\"1\" class=\"dataframe\">\n",
              "  <thead>\n",
              "    <tr style=\"text-align: right;\">\n",
              "      <th></th>\n",
              "      <th>ID Post</th>\n",
              "      <th>User Name</th>\n",
              "      <th>Comments</th>\n",
              "      <th>Sentiments</th>\n",
              "    </tr>\n",
              "  </thead>\n",
              "  <tbody>\n",
              "    <tr>\n",
              "      <th>0</th>\n",
              "      <td>1</td>\n",
              "      <td>Yanise Yanise</td>\n",
              "      <td>سلام عليكم ورحمة لديا مشكلة تعبئة بدات تنقص قل...</td>\n",
              "      <td>Negatif</td>\n",
              "    </tr>\n",
              "    <tr>\n",
              "      <th>1</th>\n",
              "      <td>1</td>\n",
              "      <td>Jj Kie</td>\n",
              "      <td>عام انتم بخير</td>\n",
              "      <td>Positif</td>\n",
              "    </tr>\n",
              "    <tr>\n",
              "      <th>2</th>\n",
              "      <td>1</td>\n",
              "      <td>Sakou Younes</td>\n",
              "      <td>عام انتم بخير</td>\n",
              "      <td>Positif</td>\n",
              "    </tr>\n",
              "    <tr>\n",
              "      <th>3</th>\n",
              "      <td>1</td>\n",
              "      <td>راني نعاني</td>\n",
              "      <td>عام بخير</td>\n",
              "      <td>Positif</td>\n",
              "    </tr>\n",
              "    <tr>\n",
              "      <th>4</th>\n",
              "      <td>1</td>\n",
              "      <td>أحمد فيراس</td>\n",
              "      <td>حب</td>\n",
              "      <td>Positif</td>\n",
              "    </tr>\n",
              "  </tbody>\n",
              "</table>\n",
              "</div>\n",
              "    <div class=\"colab-df-buttons\">\n",
              "\n",
              "  <div class=\"colab-df-container\">\n",
              "    <button class=\"colab-df-convert\" onclick=\"convertToInteractive('df-9de3597e-5e2c-467c-994b-ea72c89247e7')\"\n",
              "            title=\"Convert this dataframe to an interactive table.\"\n",
              "            style=\"display:none;\">\n",
              "\n",
              "  <svg xmlns=\"http://www.w3.org/2000/svg\" height=\"24px\" viewBox=\"0 -960 960 960\">\n",
              "    <path d=\"M120-120v-720h720v720H120Zm60-500h600v-160H180v160Zm220 220h160v-160H400v160Zm0 220h160v-160H400v160ZM180-400h160v-160H180v160Zm440 0h160v-160H620v160ZM180-180h160v-160H180v160Zm440 0h160v-160H620v160Z\"/>\n",
              "  </svg>\n",
              "    </button>\n",
              "\n",
              "  <style>\n",
              "    .colab-df-container {\n",
              "      display:flex;\n",
              "      gap: 12px;\n",
              "    }\n",
              "\n",
              "    .colab-df-convert {\n",
              "      background-color: #E8F0FE;\n",
              "      border: none;\n",
              "      border-radius: 50%;\n",
              "      cursor: pointer;\n",
              "      display: none;\n",
              "      fill: #1967D2;\n",
              "      height: 32px;\n",
              "      padding: 0 0 0 0;\n",
              "      width: 32px;\n",
              "    }\n",
              "\n",
              "    .colab-df-convert:hover {\n",
              "      background-color: #E2EBFA;\n",
              "      box-shadow: 0px 1px 2px rgba(60, 64, 67, 0.3), 0px 1px 3px 1px rgba(60, 64, 67, 0.15);\n",
              "      fill: #174EA6;\n",
              "    }\n",
              "\n",
              "    .colab-df-buttons div {\n",
              "      margin-bottom: 4px;\n",
              "    }\n",
              "\n",
              "    [theme=dark] .colab-df-convert {\n",
              "      background-color: #3B4455;\n",
              "      fill: #D2E3FC;\n",
              "    }\n",
              "\n",
              "    [theme=dark] .colab-df-convert:hover {\n",
              "      background-color: #434B5C;\n",
              "      box-shadow: 0px 1px 3px 1px rgba(0, 0, 0, 0.15);\n",
              "      filter: drop-shadow(0px 1px 2px rgba(0, 0, 0, 0.3));\n",
              "      fill: #FFFFFF;\n",
              "    }\n",
              "  </style>\n",
              "\n",
              "    <script>\n",
              "      const buttonEl =\n",
              "        document.querySelector('#df-9de3597e-5e2c-467c-994b-ea72c89247e7 button.colab-df-convert');\n",
              "      buttonEl.style.display =\n",
              "        google.colab.kernel.accessAllowed ? 'block' : 'none';\n",
              "\n",
              "      async function convertToInteractive(key) {\n",
              "        const element = document.querySelector('#df-9de3597e-5e2c-467c-994b-ea72c89247e7');\n",
              "        const dataTable =\n",
              "          await google.colab.kernel.invokeFunction('convertToInteractive',\n",
              "                                                    [key], {});\n",
              "        if (!dataTable) return;\n",
              "\n",
              "        const docLinkHtml = 'Like what you see? Visit the ' +\n",
              "          '<a target=\"_blank\" href=https://colab.research.google.com/notebooks/data_table.ipynb>data table notebook</a>'\n",
              "          + ' to learn more about interactive tables.';\n",
              "        element.innerHTML = '';\n",
              "        dataTable['output_type'] = 'display_data';\n",
              "        await google.colab.output.renderOutput(dataTable, element);\n",
              "        const docLink = document.createElement('div');\n",
              "        docLink.innerHTML = docLinkHtml;\n",
              "        element.appendChild(docLink);\n",
              "      }\n",
              "    </script>\n",
              "  </div>\n",
              "\n",
              "\n",
              "    <div id=\"df-2c7fa090-3280-41ff-b051-b9504783aa67\">\n",
              "      <button class=\"colab-df-quickchart\" onclick=\"quickchart('df-2c7fa090-3280-41ff-b051-b9504783aa67')\"\n",
              "                title=\"Suggest charts\"\n",
              "                style=\"display:none;\">\n",
              "\n",
              "<svg xmlns=\"http://www.w3.org/2000/svg\" height=\"24px\"viewBox=\"0 0 24 24\"\n",
              "     width=\"24px\">\n",
              "    <g>\n",
              "        <path d=\"M19 3H5c-1.1 0-2 .9-2 2v14c0 1.1.9 2 2 2h14c1.1 0 2-.9 2-2V5c0-1.1-.9-2-2-2zM9 17H7v-7h2v7zm4 0h-2V7h2v10zm4 0h-2v-4h2v4z\"/>\n",
              "    </g>\n",
              "</svg>\n",
              "      </button>\n",
              "\n",
              "<style>\n",
              "  .colab-df-quickchart {\n",
              "      --bg-color: #E8F0FE;\n",
              "      --fill-color: #1967D2;\n",
              "      --hover-bg-color: #E2EBFA;\n",
              "      --hover-fill-color: #174EA6;\n",
              "      --disabled-fill-color: #AAA;\n",
              "      --disabled-bg-color: #DDD;\n",
              "  }\n",
              "\n",
              "  [theme=dark] .colab-df-quickchart {\n",
              "      --bg-color: #3B4455;\n",
              "      --fill-color: #D2E3FC;\n",
              "      --hover-bg-color: #434B5C;\n",
              "      --hover-fill-color: #FFFFFF;\n",
              "      --disabled-bg-color: #3B4455;\n",
              "      --disabled-fill-color: #666;\n",
              "  }\n",
              "\n",
              "  .colab-df-quickchart {\n",
              "    background-color: var(--bg-color);\n",
              "    border: none;\n",
              "    border-radius: 50%;\n",
              "    cursor: pointer;\n",
              "    display: none;\n",
              "    fill: var(--fill-color);\n",
              "    height: 32px;\n",
              "    padding: 0;\n",
              "    width: 32px;\n",
              "  }\n",
              "\n",
              "  .colab-df-quickchart:hover {\n",
              "    background-color: var(--hover-bg-color);\n",
              "    box-shadow: 0 1px 2px rgba(60, 64, 67, 0.3), 0 1px 3px 1px rgba(60, 64, 67, 0.15);\n",
              "    fill: var(--button-hover-fill-color);\n",
              "  }\n",
              "\n",
              "  .colab-df-quickchart-complete:disabled,\n",
              "  .colab-df-quickchart-complete:disabled:hover {\n",
              "    background-color: var(--disabled-bg-color);\n",
              "    fill: var(--disabled-fill-color);\n",
              "    box-shadow: none;\n",
              "  }\n",
              "\n",
              "  .colab-df-spinner {\n",
              "    border: 2px solid var(--fill-color);\n",
              "    border-color: transparent;\n",
              "    border-bottom-color: var(--fill-color);\n",
              "    animation:\n",
              "      spin 1s steps(1) infinite;\n",
              "  }\n",
              "\n",
              "  @keyframes spin {\n",
              "    0% {\n",
              "      border-color: transparent;\n",
              "      border-bottom-color: var(--fill-color);\n",
              "      border-left-color: var(--fill-color);\n",
              "    }\n",
              "    20% {\n",
              "      border-color: transparent;\n",
              "      border-left-color: var(--fill-color);\n",
              "      border-top-color: var(--fill-color);\n",
              "    }\n",
              "    30% {\n",
              "      border-color: transparent;\n",
              "      border-left-color: var(--fill-color);\n",
              "      border-top-color: var(--fill-color);\n",
              "      border-right-color: var(--fill-color);\n",
              "    }\n",
              "    40% {\n",
              "      border-color: transparent;\n",
              "      border-right-color: var(--fill-color);\n",
              "      border-top-color: var(--fill-color);\n",
              "    }\n",
              "    60% {\n",
              "      border-color: transparent;\n",
              "      border-right-color: var(--fill-color);\n",
              "    }\n",
              "    80% {\n",
              "      border-color: transparent;\n",
              "      border-right-color: var(--fill-color);\n",
              "      border-bottom-color: var(--fill-color);\n",
              "    }\n",
              "    90% {\n",
              "      border-color: transparent;\n",
              "      border-bottom-color: var(--fill-color);\n",
              "    }\n",
              "  }\n",
              "</style>\n",
              "\n",
              "      <script>\n",
              "        async function quickchart(key) {\n",
              "          const quickchartButtonEl =\n",
              "            document.querySelector('#' + key + ' button');\n",
              "          quickchartButtonEl.disabled = true;  // To prevent multiple clicks.\n",
              "          quickchartButtonEl.classList.add('colab-df-spinner');\n",
              "          try {\n",
              "            const charts = await google.colab.kernel.invokeFunction(\n",
              "                'suggestCharts', [key], {});\n",
              "          } catch (error) {\n",
              "            console.error('Error during call to suggestCharts:', error);\n",
              "          }\n",
              "          quickchartButtonEl.classList.remove('colab-df-spinner');\n",
              "          quickchartButtonEl.classList.add('colab-df-quickchart-complete');\n",
              "        }\n",
              "        (() => {\n",
              "          let quickchartButtonEl =\n",
              "            document.querySelector('#df-2c7fa090-3280-41ff-b051-b9504783aa67 button');\n",
              "          quickchartButtonEl.style.display =\n",
              "            google.colab.kernel.accessAllowed ? 'block' : 'none';\n",
              "        })();\n",
              "      </script>\n",
              "    </div>\n",
              "\n",
              "    </div>\n",
              "  </div>\n"
            ],
            "text/plain": [
              "   ID Post      User Name                                           Comments  \\\n",
              "0        1  Yanise Yanise  سلام عليكم ورحمة لديا مشكلة تعبئة بدات تنقص قل...   \n",
              "1        1         Jj Kie                                      عام انتم بخير   \n",
              "2        1   Sakou Younes                                      عام انتم بخير   \n",
              "3        1     راني نعاني                                           عام بخير   \n",
              "4        1     أحمد فيراس                                                 حب   \n",
              "\n",
              "  Sentiments  \n",
              "0    Negatif  \n",
              "1    Positif  \n",
              "2    Positif  \n",
              "3    Positif  \n",
              "4    Positif  "
            ]
          },
          "execution_count": 277,
          "metadata": {},
          "output_type": "execute_result"
        }
      ],
      "source": [
        "# Lire le fichier CSV contenant les commentaires nettoyés\n",
        "file_path = \"/content/Results/Comments_clean.csv\"\n",
        "df = pd.read_csv(file_path)\n",
        "\n",
        "# Afficher les 5 premières lignes du DataFrame\n",
        "df.head()"
      ]
    },
    {
      "cell_type": "markdown",
      "id": "92351f64",
      "metadata": {
        "id": "92351f64"
      },
      "source": [
        "## <span style=\"color: #28A745;\">**Encodage des étiquettes de sentiments**</span>"
      ]
    },
    {
      "cell_type": "code",
      "execution_count": 278,
      "id": "5e557ee5",
      "metadata": {
        "id": "5e557ee5"
      },
      "outputs": [],
      "source": [
        "from sklearn.preprocessing import LabelEncoder\n",
        "\n",
        "# Verifier les colonnes du DataFrame\n",
        "df = df.dropna(subset=[\"Comments\"])\n",
        "\n",
        "label_encoder = LabelEncoder()\n",
        "df[\"Sentiments_encoded\"] = label_encoder.fit_transform(df[\"Sentiments\"])\n",
        "\n",
        "# Séparer les données en variables d'entrée (X) et cible (y)\n",
        "X = df[\"Comments\"]\n",
        "y = df[\"Sentiments_encoded\"]"
      ]
    },
    {
      "cell_type": "markdown",
      "id": "ce8010bb",
      "metadata": {
        "id": "ce8010bb"
      },
      "source": [
        "## <span style=\"color: #28A745;\">**Division en jeu d'entraînement, validation et de test**</span>"
      ]
    },
    {
      "cell_type": "code",
      "execution_count": 279,
      "id": "9bdf78c3",
      "metadata": {
        "id": "9bdf78c3"
      },
      "outputs": [],
      "source": [
        "from sklearn.model_selection import train_test_split\n",
        "\n",
        "X_train_val, X_test, y_train_val, y_test = train_test_split(X, y, test_size=0.2, random_state=42) # (80% pour train+validation, 20% pour test)\n",
        "X_train, X_val, y_train, y_val = train_test_split(X_train_val, y_train_val, test_size=0.125, random_state=42)  # 0.125 * 0.8 = 0.1 (70% pour train, 10% pour validation)"
      ]
    },
    {
      "cell_type": "markdown",
      "id": "7ce7ed38",
      "metadata": {
        "id": "7ce7ed38"
      },
      "source": [
        "## <span style=\"color: #28A745;\">**Vectorisation (CountVectorizer & TFIDFVectorizer)**</span>"
      ]
    },
    {
      "cell_type": "code",
      "execution_count": 280,
      "id": "e489e641",
      "metadata": {
        "colab": {
          "base_uri": "https://localhost:8080/"
        },
        "id": "e489e641",
        "outputId": "5d11e8e1-ad14-41c2-804a-c15272498e07"
      },
      "outputs": [
        {
          "data": {
            "text/plain": [
              "{'CountVectorizer train shape': (2529, 4615),\n",
              " 'CountVectorizer val shape': (362, 4615),\n",
              " 'CountVectorizer test shape': (723, 4615),\n",
              " 'TF-IDF train shape': (2529, 4615),\n",
              " 'TF-IDF val shape': (362, 4615),\n",
              " 'TF-IDF test shape': (723, 4615),\n",
              " 'Classes': array(['Negatif', 'Neutre', 'Positif'], dtype=object)}"
            ]
          },
          "execution_count": 280,
          "metadata": {},
          "output_type": "execute_result"
        }
      ],
      "source": [
        "from sklearn.feature_extraction.text import CountVectorizer, TfidfVectorizer\n",
        "\n",
        "count_vectorizer = CountVectorizer()\n",
        "tfidf_vectorizer = TfidfVectorizer()\n",
        "\n",
        "X_train_count = count_vectorizer.fit_transform(X_train)\n",
        "X_val_count = count_vectorizer.transform(X_val)\n",
        "X_test_count = count_vectorizer.transform(X_test)\n",
        "\n",
        "X_train_tfidf = tfidf_vectorizer.fit_transform(X_train)\n",
        "X_val_tfidf = tfidf_vectorizer.transform(X_val)\n",
        "X_test_tfidf = tfidf_vectorizer.transform(X_test)\n",
        "\n",
        "# Afficher les dimensions des matrices vectorisées\n",
        "{\n",
        "    \"CountVectorizer train shape\": X_train_count.shape,\n",
        "    \"CountVectorizer val shape\": X_val_count.shape,\n",
        "    \"CountVectorizer test shape\": X_test_count.shape,\n",
        "    \"TF-IDF train shape\": X_train_tfidf.shape,\n",
        "    \"TF-IDF val shape\": X_val_tfidf.shape,\n",
        "    \"TF-IDF test shape\": X_test_tfidf.shape,\n",
        "    \"Classes\": label_encoder.classes_\n",
        "}"
      ]
    },
    {
      "cell_type": "markdown",
      "id": "20667679",
      "metadata": {
        "id": "20667679"
      },
      "source": [
        "## <span style=\"color: #E30613;\">**1. Régression Logistique**</span>"
      ]
    },
    {
      "cell_type": "code",
      "execution_count": 281,
      "id": "43286a87",
      "metadata": {
        "id": "43286a87"
      },
      "outputs": [],
      "source": [
        "from sklearn.linear_model import LogisticRegression"
      ]
    },
    {
      "cell_type": "markdown",
      "id": "392b55d1",
      "metadata": {
        "id": "392b55d1"
      },
      "source": [
        "### <span style=\"color: #28A745;\">**1.1. Régression Logistique avec CountVectorizer**</span>"
      ]
    },
    {
      "cell_type": "code",
      "execution_count": 282,
      "id": "e6d2609a",
      "metadata": {
        "colab": {
          "base_uri": "https://localhost:8080/"
        },
        "id": "e6d2609a",
        "outputId": "4fc1a18e-e379-4434-87f7-2d07125f79ac"
      },
      "outputs": [
        {
          "name": "stdout",
          "output_type": "stream",
          "text": [
            "Rapport pour LogisticRegression avec CountVectorizer:\n",
            "Accuracy pour LogisticRegression avec CountVectorizer: 87.28%\n",
            "Accuracy pour LogisticRegression avec CountVectorizer (validation): 89.78%\n",
            "              precision    recall  f1-score   support\n",
            "\n",
            "     Negatif       0.90      0.81      0.85       178\n",
            "      Neutre       0.78      0.89      0.83       233\n",
            "     Positif       0.94      0.90      0.92       312\n",
            "\n",
            "    accuracy                           0.87       723\n",
            "   macro avg       0.87      0.86      0.87       723\n",
            "weighted avg       0.88      0.87      0.87       723\n",
            "\n"
          ]
        },
        {
          "name": "stderr",
          "output_type": "stream",
          "text": [
            "/usr/local/lib/python3.11/dist-packages/sklearn/linear_model/_logistic.py:1247: FutureWarning: 'multi_class' was deprecated in version 1.5 and will be removed in 1.7. From then on, it will always use 'multinomial'. Leave it to its default value to avoid this warning.\n",
            "  warnings.warn(\n"
          ]
        }
      ],
      "source": [
        "# Entraînement et évaluation avec CountVectorizer\n",
        "logistic_model_count = LogisticRegression(C=3, max_iter=1000, solver='liblinear', multi_class='auto', class_weight='balanced', penalty='l2')\n",
        "logistic_model_count.fit(X_train_count, y_train)\n",
        "\n",
        "# Prédictions sur le jeu de test\n",
        "y_pred_count = logistic_model_count.predict(X_test_count)\n",
        "\n",
        "# Prédictions sur le jeu de validation\n",
        "y_val_pred_count = logistic_model_count.predict(X_val_count)\n",
        "\n",
        "# Rapport complet pour CountVectorizer\n",
        "print(\"Rapport pour LogisticRegression avec CountVectorizer:\")\n",
        "accuracy_count = accuracy_score(y_test, y_pred_count)\n",
        "print(f\"Accuracy pour LogisticRegression avec CountVectorizer: {accuracy_count*100:.2f}%\")\n",
        "accuracy_val_count = accuracy_score(y_val, y_val_pred_count)\n",
        "print(f\"Accuracy pour LogisticRegression avec CountVectorizer (validation): {accuracy_val_count*100:.2f}%\")\n",
        "print(classification_report(y_test, y_pred_count, target_names=label_encoder.classes_))\n"
      ]
    },
    {
      "cell_type": "markdown",
      "id": "N-JfJbIQbkLM",
      "metadata": {
        "id": "N-JfJbIQbkLM"
      },
      "source": [
        "#### <span style=\"color: #28A745;\">**Matrice de confusion**</span>"
      ]
    },
    {
      "cell_type": "code",
      "execution_count": 283,
      "id": "2soj6nDYb7uO",
      "metadata": {
        "colab": {
          "base_uri": "https://localhost:8080/",
          "height": 564
        },
        "id": "2soj6nDYb7uO",
        "outputId": "7d0007d5-4d78-47fb-a48b-bc258ecc92b4"
      },
      "outputs": [
        {
          "data": {
            "image/png": "[encoded data removed]",
            "text/plain": [
              "<Figure size 800x600 with 2 Axes>"
            ]
          },
          "metadata": {},
          "output_type": "display_data"
        }
      ],
      "source": [
        "# Matrice de confusion pour CountVectorizer\n",
        "conf_matrix_count = confusion_matrix(y_test, y_pred_count)\n",
        "plt.figure(figsize=(8, 6))\n",
        "sns.heatmap(conf_matrix_count, annot=True, fmt='d', cmap='Reds', xticklabels=label_encoder.classes_, yticklabels=label_encoder.classes_)\n",
        "plt.title(\"Matrice de confusion - LogisticRegression avec CountVectorizer\")\n",
        "plt.xlabel(\"Prédictions\")\n",
        "plt.ylabel(\"Vérités\")\n",
        "plt.show()"
      ]
    },
    {
      "cell_type": "markdown",
      "id": "c31a2f77",
      "metadata": {},
      "source": [
        "#### <span style=\"color: #28A745;\">**Courbe d’apprentissage**</span>"
      ]
    },
    {
      "cell_type": "code",
      "execution_count": null,
      "id": "db81cb62",
      "metadata": {},
      "outputs": [],
      "source": [
        "from sklearn.model_selection import learning_curve\n",
        "\n",
        "# Fonction pour tracer la courbe d'apprentissage\n",
        "def plot_learning_curve(estimator, X, y, title):\n",
        "    train_sizes, train_scores, test_scores = learning_curve(estimator, X, y, cv=5, scoring='accuracy', n_jobs=-1, train_sizes=np.linspace(0.1, 1.0, 10))\n",
        "    train_scores_mean = np.mean(train_scores, axis=1)\n",
        "    test_scores_mean = np.mean(test_scores, axis=1)\n",
        "\n",
        "    plt.figure(figsize=(10, 6))\n",
        "    plt.plot(train_sizes, train_scores_mean, 'o-', color=\"r\", label=\"Score d'entraînement\")\n",
        "    plt.plot(train_sizes, test_scores_mean, 'o-', color=\"g\", label=\"Score de validation\")\n",
        "    plt.title(title)\n",
        "    plt.xlabel(\"Taille de l'échantillon d'entraînement\")\n",
        "    plt.ylabel(\"Score\")\n",
        "    plt.legend(loc=\"best\")\n",
        "    plt.grid()\n",
        "    plt.show()\n",
        "\n",
        "# Tracer la courbe d'apprentissage pour Logistic Regression avec CountVectorizer\n",
        "plot_learning_curve(logistic_model_count, X_train_count, y_train, \"Courbe d'apprentissage - Logistic Regression (CountVectorizer)\")"
      ]
    },
    {
      "cell_type": "markdown",
      "id": "e76ae25f",
      "metadata": {
        "id": "e76ae25f"
      },
      "source": [
        "### <span style=\"color: #28A745;\">**1.2. Régression Logistique avec TF-IDF Vectorizer**</span>"
      ]
    },
    {
      "cell_type": "code",
      "execution_count": 284,
      "id": "953e5a25",
      "metadata": {
        "colab": {
          "base_uri": "https://localhost:8080/"
        },
        "id": "953e5a25",
        "outputId": "baabe530-0f0f-429d-e6be-f62f84e6d0b6"
      },
      "outputs": [
        {
          "name": "stdout",
          "output_type": "stream",
          "text": [
            "Rapport pour LogisticRegression avec TF-IDF:\n",
            "Accuracy pour LogisticRegression avec TF-IDF: 86.58%\n",
            "Accuracy pour LogisticRegression avec TF-IDF (validation): 89.78%\n",
            "              precision    recall  f1-score   support\n",
            "\n",
            "     Negatif       0.85      0.85      0.85       178\n",
            "      Neutre       0.79      0.82      0.81       233\n",
            "     Positif       0.93      0.91      0.92       312\n",
            "\n",
            "    accuracy                           0.87       723\n",
            "   macro avg       0.86      0.86      0.86       723\n",
            "weighted avg       0.87      0.87      0.87       723\n",
            "\n"
          ]
        },
        {
          "name": "stderr",
          "output_type": "stream",
          "text": [
            "/usr/local/lib/python3.11/dist-packages/sklearn/linear_model/_logistic.py:1247: FutureWarning: 'multi_class' was deprecated in version 1.5 and will be removed in 1.7. From then on, it will always use 'multinomial'. Leave it to its default value to avoid this warning.\n",
            "  warnings.warn(\n"
          ]
        }
      ],
      "source": [
        "# Entraînement et évaluation avec TF-IDF\n",
        "logistic_model_tfidf = LogisticRegression(C=10, max_iter=1000, solver='liblinear', multi_class='auto', class_weight='balanced', penalty='l2')\n",
        "logistic_model_tfidf.fit(X_train_tfidf, y_train)\n",
        "\n",
        "# Prédictions sur le jeu de test\n",
        "y_pred_tfidf = logistic_model_tfidf.predict(X_test_tfidf)\n",
        "\n",
        "# Prédictions sur le jeu de validation\n",
        "y_val_pred_tfidf = logistic_model_tfidf.predict(X_val_tfidf)\n",
        "\n",
        "# Rapport complet pour TF-IDF\n",
        "print(\"Rapport pour LogisticRegression avec TF-IDF:\")\n",
        "accuracy_tfidf = accuracy_score(y_test, y_pred_tfidf)\n",
        "print(f\"Accuracy pour LogisticRegression avec TF-IDF: {accuracy_tfidf*100:.2f}%\")\n",
        "accuracy_val_tfidf = accuracy_score(y_val, y_val_pred_tfidf)\n",
        "print(f\"Accuracy pour LogisticRegression avec TF-IDF (validation): {accuracy_val_tfidf*100:.2f}%\")\n",
        "print(classification_report(y_test, y_pred_tfidf, target_names=label_encoder.classes_))"
      ]
    },
    {
      "cell_type": "markdown",
      "id": "H_wfC4mZcL1z",
      "metadata": {
        "id": "H_wfC4mZcL1z"
      },
      "source": [
        "#### <span style=\"color: #28A745;\">**Matrice de confusion**</span>"
      ]
    },
    {
      "cell_type": "code",
      "execution_count": 285,
      "id": "T3IFIUdMcNDK",
      "metadata": {
        "colab": {
          "base_uri": "https://localhost:8080/",
          "height": 564
        },
        "id": "T3IFIUdMcNDK",
        "outputId": "4cc2eb55-25be-416d-867a-388a0fb291c0"
      },
      "outputs": [
        {
          "data": {
            "image/png": "[encoded data removed]",
            "text/plain": [
              "<Figure size 800x600 with 2 Axes>"
            ]
          },
          "metadata": {},
          "output_type": "display_data"
        }
      ],
      "source": [
        "# Matrice de confusion pour TF-IDF\n",
        "conf_matrix_tfidf = confusion_matrix(y_test, y_pred_tfidf)\n",
        "plt.figure(figsize=(8, 6))\n",
        "sns.heatmap(conf_matrix_tfidf, annot=True, fmt='d', cmap='Reds', xticklabels=label_encoder.classes_, yticklabels=label_encoder.classes_)\n",
        "plt.title(\"Matrice de confusion - LogisticRegression avec TF-IDF\")\n",
        "plt.xlabel(\"Prédictions\")\n",
        "plt.ylabel(\"Vérités\")\n",
        "plt.show()"
      ]
    },
    {
      "cell_type": "markdown",
      "id": "05c80e4e",
      "metadata": {},
      "source": [
        "#### <span style=\"color: #28A745;\">**Courbe d’apprentissage**</span>"
      ]
    },
    {
      "cell_type": "code",
      "execution_count": null,
      "id": "b9ac6680",
      "metadata": {},
      "outputs": [],
      "source": [
        "# Tracer la courbe d'apprentissage pour Logistic Regression avec TF-IDF\n",
        "plot_learning_curve(logistic_model_tfidf, X_train_tfidf, y_train, \"Courbe d'apprentissage - Logistic Regression (TF-IDF)\")"
      ]
    },
    {
      "cell_type": "markdown",
      "id": "a900e009",
      "metadata": {
        "id": "a900e009"
      },
      "source": [
        "## <span style=\"color: #E30613;\">**2. SVM (Support Vector Machine)**</span>"
      ]
    },
    {
      "cell_type": "code",
      "execution_count": 286,
      "id": "1374fcc6",
      "metadata": {
        "id": "1374fcc6"
      },
      "outputs": [],
      "source": [
        "from sklearn.svm import SVC"
      ]
    },
    {
      "cell_type": "markdown",
      "id": "1457bbd3",
      "metadata": {
        "id": "1457bbd3"
      },
      "source": [
        "### <span style=\"color: #28A745;\">**2.1. SVM avec CountVectorizer**</span>"
      ]
    },
    {
      "cell_type": "code",
      "execution_count": 287,
      "id": "4be62580",
      "metadata": {
        "colab": {
          "base_uri": "https://localhost:8080/"
        },
        "id": "4be62580",
        "outputId": "149887ae-cbed-47bc-8dc5-82c6d01d059b"
      },
      "outputs": [
        {
          "name": "stdout",
          "output_type": "stream",
          "text": [
            "Rapport pour SVC avec CountVectorizer:\n",
            "Accuracy pour SVC avec CountVectorizer: 85.89%\n",
            "Accuracy pour SVC avec CountVectorizer (validation): 86.46%\n",
            "              precision    recall  f1-score   support\n",
            "\n",
            "     Negatif       0.88      0.81      0.84       178\n",
            "      Neutre       0.76      0.87      0.81       233\n",
            "     Positif       0.94      0.88      0.91       312\n",
            "\n",
            "    accuracy                           0.86       723\n",
            "   macro avg       0.86      0.85      0.85       723\n",
            "weighted avg       0.87      0.86      0.86       723\n",
            "\n"
          ]
        }
      ],
      "source": [
        "# Entraînement et évaluation avec CountVectorizer\n",
        "svc_model_count = SVC(C=2, kernel='sigmoid', class_weight='balanced', gamma='scale')\n",
        "svc_model_count.fit(X_train_count, y_train)\n",
        "\n",
        "# Prédictions sur le jeu de test\n",
        "y_pred_count_svc = svc_model_count.predict(X_test_count)\n",
        "\n",
        "# Prédictions sur le jeu de validation\n",
        "y_val_pred_count_svc = svc_model_count.predict(X_val_count)\n",
        "\n",
        "# Rapport complet pour SVC avec CountVectorizer\n",
        "print(\"Rapport pour SVC avec CountVectorizer:\")\n",
        "# Accuracy pour CountVectorizer (test)\n",
        "accuracy_count_svc = accuracy_score(y_test, y_pred_count_svc)\n",
        "print(f\"Accuracy pour SVC avec CountVectorizer: {accuracy_count_svc*100:.2f}%\")\n",
        "accuracy_val_count_svc = accuracy_score(y_val, y_val_pred_count_svc)\n",
        "print(f\"Accuracy pour SVC avec CountVectorizer (validation): {accuracy_val_count_svc*100:.2f}%\")\n",
        "print(classification_report(y_test, y_pred_count_svc, target_names=label_encoder.classes_))"
      ]
    },
    {
      "cell_type": "markdown",
      "id": "5PYajITrdpuH",
      "metadata": {
        "id": "5PYajITrdpuH"
      },
      "source": [
        "#### <span style=\"color: #28A745;\">**Matrice de confusion**</span>"
      ]
    },
    {
      "cell_type": "code",
      "execution_count": 288,
      "id": "y-Tnf7KRdqkJ",
      "metadata": {
        "colab": {
          "base_uri": "https://localhost:8080/",
          "height": 564
        },
        "id": "y-Tnf7KRdqkJ",
        "outputId": "66fa22a2-4293-4fb4-cd27-06ef21b1ed74"
      },
      "outputs": [
        {
          "data": {
            "image/png": "[encoded data removed]",
            "text/plain": [
              "<Figure size 800x600 with 2 Axes>"
            ]
          },
          "metadata": {},
          "output_type": "display_data"
        }
      ],
      "source": [
        "# Matrice de confusion pour SVC avec CountVectorizer\n",
        "conf_matrix_count_svc = confusion_matrix(y_test, y_pred_count_svc)\n",
        "plt.figure(figsize=(8, 6))\n",
        "sns.heatmap(conf_matrix_count_svc, annot=True, fmt='d', cmap='Reds', xticklabels=label_encoder.classes_, yticklabels=label_encoder.classes_)\n",
        "plt.title(\"Matrice de confusion - SVC avec CountVectorizer\")\n",
        "plt.xlabel(\"Prédictions\")\n",
        "plt.ylabel(\"Vérités\")\n",
        "plt.show()"
      ]
    },
    {
      "cell_type": "markdown",
      "id": "50ec1d27",
      "metadata": {},
      "source": [
        "#### <span style=\"color: #28A745;\">**Courbe d’apprentissage**</span>"
      ]
    },
    {
      "cell_type": "code",
      "execution_count": null,
      "id": "04b02fe6",
      "metadata": {},
      "outputs": [],
      "source": [
        "# Tracer la courbe d'apprentissage pour SVM avec CountVectorizer\n",
        "plot_learning_curve(svc_model_count, X_train_count, y_train, \"Courbe d'apprentissage - SVM (CountVectorizer)\")"
      ]
    },
    {
      "cell_type": "markdown",
      "id": "ca4bc20f",
      "metadata": {
        "id": "ca4bc20f"
      },
      "source": [
        "### <span style=\"color: #28A745;\">**2.2. SVM avec TF-IDF Vectorizer**</span>"
      ]
    },
    {
      "cell_type": "code",
      "execution_count": 289,
      "id": "dd7e80ca",
      "metadata": {
        "colab": {
          "base_uri": "https://localhost:8080/"
        },
        "id": "dd7e80ca",
        "outputId": "4269fbfa-9902-47e9-f691-ceedb42d065a"
      },
      "outputs": [
        {
          "name": "stdout",
          "output_type": "stream",
          "text": [
            "Rapport pour SVC avec TF-IDF:\n",
            "Accuracy pour SVC avec TF-IDF: 86.86%\n",
            "Accuracy pour SVC avec TF-IDF (validation): 89.23%\n",
            "              precision    recall  f1-score   support\n",
            "\n",
            "     Negatif       0.85      0.85      0.85       178\n",
            "      Neutre       0.79      0.84      0.81       233\n",
            "     Positif       0.95      0.90      0.92       312\n",
            "\n",
            "    accuracy                           0.87       723\n",
            "   macro avg       0.86      0.86      0.86       723\n",
            "weighted avg       0.87      0.87      0.87       723\n",
            "\n"
          ]
        }
      ],
      "source": [
        "# Entraînement et évaluation avec TF-IDF\n",
        "svc_model_tfidf = SVC(C=1, kernel='sigmoid', class_weight='balanced', gamma='scale')\n",
        "svc_model_tfidf.fit(X_train_tfidf, y_train)\n",
        "\n",
        "# Prédictions sur le jeu de test\n",
        "y_pred_tfidf_svc = svc_model_tfidf.predict(X_test_tfidf)\n",
        "\n",
        "# Prédictions sur le jeu de validation\n",
        "y_val_pred_tfidf_svc = svc_model_tfidf.predict(X_val_tfidf)\n",
        "\n",
        "# Rapport complet pour SVC avec TF-IDF\n",
        "print(\"Rapport pour SVC avec TF-IDF:\")\n",
        "# Accuracy pour TF-IDF (test)\n",
        "accuracy_tfidf_svc = accuracy_score(y_test, y_pred_tfidf_svc)\n",
        "print(f\"Accuracy pour SVC avec TF-IDF: {accuracy_tfidf_svc*100:.2f}%\")\n",
        "accuracy_val_tfidf_svc = accuracy_score(y_val, y_val_pred_tfidf_svc)\n",
        "print(f\"Accuracy pour SVC avec TF-IDF (validation): {accuracy_val_tfidf_svc*100:.2f}%\")\n",
        "print(classification_report(y_test, y_pred_tfidf_svc, target_names=label_encoder.classes_))"
      ]
    },
    {
      "cell_type": "markdown",
      "id": "HQ7yqK_seFLt",
      "metadata": {
        "id": "HQ7yqK_seFLt"
      },
      "source": [
        "#### <span style=\"color: #28A745;\">**Matrice de confusion**</span>"
      ]
    },
    {
      "cell_type": "code",
      "execution_count": 290,
      "id": "Fuiia89aeGJ3",
      "metadata": {
        "colab": {
          "base_uri": "https://localhost:8080/",
          "height": 564
        },
        "id": "Fuiia89aeGJ3",
        "outputId": "fcb2eb68-077b-4527-8161-f16fe574c248"
      },
      "outputs": [
        {
          "data": {
            "image/png": "[encoded data removed]",
            "text/plain": [
              "<Figure size 800x600 with 2 Axes>"
            ]
          },
          "metadata": {},
          "output_type": "display_data"
        }
      ],
      "source": [
        "# Matrice de confusion pour SVC avec TF-IDF\n",
        "conf_matrix_tfidf_svc = confusion_matrix(y_test, y_pred_tfidf_svc)\n",
        "plt.figure(figsize=(8, 6))\n",
        "sns.heatmap(conf_matrix_tfidf_svc, annot=True, fmt='d', cmap='Reds', xticklabels=label_encoder.classes_, yticklabels=label_encoder.classes_)\n",
        "plt.title(\"Matrice de confusion - SVC avec TF-IDF\")\n",
        "plt.xlabel(\"Prédictions\")\n",
        "plt.ylabel(\"Vérités\")\n",
        "plt.show()"
      ]
    },
    {
      "cell_type": "markdown",
      "id": "b017df53",
      "metadata": {},
      "source": [
        "#### <span style=\"color: #28A745;\">**Courbe d’apprentissage**</span>"
      ]
    },
    {
      "cell_type": "code",
      "execution_count": null,
      "id": "a2858169",
      "metadata": {
        "vscode": {
          "languageId": "markdown"
        }
      },
      "outputs": [],
      "source": [
        "# Tracer la courbe d'apprentissage pour Logistic Regression avec TF-IDF\n",
        "plot_learning_curve(logistic_model_tfidf, X_train_tfidf, y_train, \"Courbe d'apprentissage - Logistic Regression (TF-IDF)\")"
      ]
    },
    {
      "cell_type": "markdown",
      "id": "6c92f5a0",
      "metadata": {
        "id": "6c92f5a0"
      },
      "source": [
        "## <span style=\"color: #E30613;\">**3. Arbre de Décision**</span>"
      ]
    },
    {
      "cell_type": "code",
      "execution_count": 291,
      "id": "285c91ab",
      "metadata": {
        "id": "285c91ab"
      },
      "outputs": [],
      "source": [
        "from sklearn.tree import DecisionTreeClassifier"
      ]
    },
    {
      "cell_type": "markdown",
      "id": "833554e3",
      "metadata": {
        "id": "833554e3"
      },
      "source": [
        "### <span style=\"color: #28A745;\">**3.1. Arbre de Décision avec CountVectorizer**</span>"
      ]
    },
    {
      "cell_type": "code",
      "execution_count": 292,
      "id": "8755601f",
      "metadata": {
        "colab": {
          "base_uri": "https://localhost:8080/"
        },
        "id": "8755601f",
        "outputId": "ad7d70c5-1a27-43db-b6be-e96f4136139d"
      },
      "outputs": [
        {
          "name": "stdout",
          "output_type": "stream",
          "text": [
            "Rapport pour DecisionTreeClassifier avec CountVectorizer:\n",
            "Accuracy pour DecisionTreeClassifier avec CountVectorizer: 80.50%\n",
            "Accuracy pour DecisionTreeClassifier avec CountVectorizer (validation): 83.43%\n",
            "              precision    recall  f1-score   support\n",
            "\n",
            "     Negatif       0.80      0.77      0.79       178\n",
            "      Neutre       0.68      0.81      0.74       233\n",
            "     Positif       0.93      0.82      0.87       312\n",
            "\n",
            "    accuracy                           0.80       723\n",
            "   macro avg       0.81      0.80      0.80       723\n",
            "weighted avg       0.82      0.80      0.81       723\n",
            "\n"
          ]
        }
      ],
      "source": [
        "# Entraînement et évaluation avec CountVectorizer\n",
        "decision_tree_model_count = DecisionTreeClassifier(class_weight='balanced', criterion=\"gini\", max_depth=None, min_samples_leaf=1, min_samples_split=5)\n",
        "decision_tree_model_count.fit(X_train_count, y_train)\n",
        "\n",
        "# Prédictions sur le jeu de test\n",
        "y_pred_count_dt = decision_tree_model_count.predict(X_test_count)\n",
        "\n",
        "# Prédictions sur le jeu de validation\n",
        "y_val_pred_count_dt = decision_tree_model_count.predict(X_val_count)\n",
        "\n",
        "# Rapport complet pour DecisionTreeClassifier avec CountVectorizer\n",
        "print(\"Rapport pour DecisionTreeClassifier avec CountVectorizer:\")\n",
        "accuracy_count_dt = accuracy_score(y_test, y_pred_count_dt)\n",
        "print(f\"Accuracy pour DecisionTreeClassifier avec CountVectorizer: {accuracy_count_dt*100:.2f}%\")\n",
        "accuracy_val_count_dt = accuracy_score(y_val, y_val_pred_count_dt)\n",
        "print(f\"Accuracy pour DecisionTreeClassifier avec CountVectorizer (validation): {accuracy_val_count_dt*100:.2f}%\")\n",
        "print(classification_report(y_test, y_pred_count_dt, target_names=label_encoder.classes_))"
      ]
    },
    {
      "cell_type": "markdown",
      "id": "Zy05-AKq1UjW",
      "metadata": {
        "id": "Zy05-AKq1UjW"
      },
      "source": [
        "#### <span style=\"color: #28A745;\">**Matrice de confusion**</span>"
      ]
    },
    {
      "cell_type": "code",
      "execution_count": 293,
      "id": "Jzi3wElq1odR",
      "metadata": {
        "colab": {
          "base_uri": "https://localhost:8080/",
          "height": 564
        },
        "id": "Jzi3wElq1odR",
        "outputId": "a66aee9d-41aa-4b5c-86e4-a0de31573001"
      },
      "outputs": [
        {
          "data": {
            "image/png": "[encoded data removed]",
            "text/plain": [
              "<Figure size 800x600 with 2 Axes>"
            ]
          },
          "metadata": {},
          "output_type": "display_data"
        }
      ],
      "source": [
        "# Matrice de confusion pour DecisionTreeClassifier avec CountVectorizer\n",
        "conf_matrix_count_dt = confusion_matrix(y_test, y_pred_count_dt)\n",
        "plt.figure(figsize=(8, 6))\n",
        "sns.heatmap(conf_matrix_count_dt, annot=True, fmt='d', cmap='Reds', xticklabels=label_encoder.classes_, yticklabels=label_encoder.classes_)\n",
        "plt.title(\"Matrice de confusion - DecisionTreeClassifier avec CountVectorizer\")\n",
        "plt.xlabel(\"Prédictions\")\n",
        "plt.ylabel(\"Vérités\")\n",
        "plt.show()"
      ]
    },
    {
      "cell_type": "markdown",
      "id": "1689e577",
      "metadata": {},
      "source": [
        "#### <span style=\"color: #28A745;\">**Courbe d’apprentissage**</span>"
      ]
    },
    {
      "cell_type": "code",
      "execution_count": null,
      "id": "1219a623",
      "metadata": {},
      "outputs": [],
      "source": [
        "# Tracer la courbe d'apprentissage pour DecisionTreeClassifier avec CountVectorizer\n",
        "plot_learning_curve(decision_tree_model_count, X_train_count, y_train, \"Courbe d'apprentissage - DecisionTreeClassifier (CountVectorizer)\")"
      ]
    },
    {
      "cell_type": "markdown",
      "id": "15b3e9d4",
      "metadata": {
        "id": "15b3e9d4"
      },
      "source": [
        "### <span style=\"color: #28A745;\">**3.2. Arbre de Décision avec TF-IDF Vectorizer**</span>"
      ]
    },
    {
      "cell_type": "code",
      "execution_count": 294,
      "id": "7db098d3",
      "metadata": {
        "colab": {
          "base_uri": "https://localhost:8080/"
        },
        "id": "7db098d3",
        "outputId": "d0e5b36a-21dd-408c-de21-ebea4c93ed77"
      },
      "outputs": [
        {
          "name": "stdout",
          "output_type": "stream",
          "text": [
            "Rapport pour DecisionTreeClassifier avec TF-IDF:\n",
            "Accuracy pour DecisionTreeClassifier avec TF-IDF: 83.13%\n",
            "Accuracy pour DecisionTreeClassifier avec TF-IDF (validation): 83.15%\n",
            "              precision    recall  f1-score   support\n",
            "\n",
            "     Negatif       0.85      0.76      0.80       178\n",
            "      Neutre       0.72      0.85      0.78       233\n",
            "     Positif       0.93      0.86      0.89       312\n",
            "\n",
            "    accuracy                           0.83       723\n",
            "   macro avg       0.83      0.82      0.82       723\n",
            "weighted avg       0.84      0.83      0.83       723\n",
            "\n"
          ]
        }
      ],
      "source": [
        "# Entraînement et évaluation avec TF-IDF\n",
        "decision_tree_model_tfidf = DecisionTreeClassifier(class_weight='balanced', criterion=\"gini\", max_depth=None, min_samples_leaf=1, min_samples_split=5)\n",
        "decision_tree_model_tfidf.fit(X_train_tfidf, y_train)\n",
        "\n",
        "# Prédictions sur le jeu de test\n",
        "y_pred_tfidf_dt = decision_tree_model_tfidf.predict(X_test_tfidf)\n",
        "\n",
        "# Prédictions sur le jeu de validation\n",
        "y_val_pred_tfidf_dt = decision_tree_model_tfidf.predict(X_val_tfidf)\n",
        "\n",
        "# Rapport complet pour DecisionTreeClassifier avec TF-IDF\n",
        "print(\"Rapport pour DecisionTreeClassifier avec TF-IDF:\")\n",
        "accuracy_tfidf_dt = accuracy_score(y_test, y_pred_tfidf_dt)\n",
        "print(f\"Accuracy pour DecisionTreeClassifier avec TF-IDF: {accuracy_tfidf_dt*100:.2f}%\")\n",
        "accuracy_val_tfidf_dt = accuracy_score(y_val, y_val_pred_tfidf_dt)\n",
        "print(f\"Accuracy pour DecisionTreeClassifier avec TF-IDF (validation): {accuracy_val_tfidf_dt*100:.2f}%\")\n",
        "print(classification_report(y_test, y_pred_tfidf_dt, target_names=label_encoder.classes_))"
      ]
    },
    {
      "cell_type": "markdown",
      "id": "3fyWoF7n3-6q",
      "metadata": {
        "id": "3fyWoF7n3-6q"
      },
      "source": [
        "#### <span style=\"color: #28A745;\">**Matrice de confusion**</span>"
      ]
    },
    {
      "cell_type": "code",
      "execution_count": 295,
      "id": "N-wJ7xkN4AMS",
      "metadata": {
        "colab": {
          "base_uri": "https://localhost:8080/",
          "height": 564
        },
        "id": "N-wJ7xkN4AMS",
        "outputId": "ebd139e7-a7a7-4855-e0da-38e677186559"
      },
      "outputs": [
        {
          "data": {
            "image/png": "[encoded data removed]",
            "text/plain": [
              "<Figure size 800x600 with 2 Axes>"
            ]
          },
          "metadata": {},
          "output_type": "display_data"
        }
      ],
      "source": [
        "# Matrice de confusion pour DecisionTreeClassifier avec TF-IDF\n",
        "conf_matrix_tfidf_dt = confusion_matrix(y_test, y_pred_tfidf_dt)\n",
        "plt.figure(figsize=(8, 6))\n",
        "sns.heatmap(conf_matrix_tfidf_dt, annot=True, fmt='d', cmap='Reds', xticklabels=label_encoder.classes_, yticklabels=label_encoder.classes_)\n",
        "plt.title(\"Matrice de confusion - DecisionTreeClassifier avec TF-IDF\")\n",
        "plt.xlabel(\"Prédictions\")\n",
        "plt.ylabel(\"Vérités\")\n",
        "plt.show()"
      ]
    },
    {
      "cell_type": "markdown",
      "id": "44567d98",
      "metadata": {},
      "source": [
        "#### <span style=\"color: #28A745;\">**Courbe d’apprentissage**</span>"
      ]
    },
    {
      "cell_type": "code",
      "execution_count": null,
      "id": "7cea84bb",
      "metadata": {},
      "outputs": [],
      "source": [
        "# Tracer la courbe d'apprentissage pour DecisionTreeClassifier avec TF-IDF\n",
        "plot_learning_curve(decision_tree_model_tfidf, X_train_tfidf, y_train, \"Courbe d'apprentissage - DecisionTreeClassifier (TF-IDF)\")"
      ]
    },
    {
      "cell_type": "markdown",
      "id": "f643cc61",
      "metadata": {
        "id": "f643cc61"
      },
      "source": [
        "## <span style=\"color: #E30613;\">**4. Naive Bayes**</span>"
      ]
    },
    {
      "cell_type": "code",
      "execution_count": 296,
      "id": "ad42b55c",
      "metadata": {
        "id": "ad42b55c"
      },
      "outputs": [],
      "source": [
        "from sklearn.naive_bayes import MultinomialNB"
      ]
    },
    {
      "cell_type": "markdown",
      "id": "a6e92c31",
      "metadata": {
        "id": "a6e92c31"
      },
      "source": [
        "### <span style=\"color: #28A745;\">**4.1. Naive Bayes avec CountVectorizer**</span>"
      ]
    },
    {
      "cell_type": "code",
      "execution_count": 297,
      "id": "9b3fc178",
      "metadata": {
        "colab": {
          "base_uri": "https://localhost:8080/"
        },
        "id": "9b3fc178",
        "outputId": "29286120-d5c0-4810-93eb-5a7ae5eed5dc"
      },
      "outputs": [
        {
          "name": "stdout",
          "output_type": "stream",
          "text": [
            "Rapport pour MultinomialNB avec CountVectorizer:\n",
            "Accuracy pour MultinomialNB avec CountVectorizer: 88.24%\n",
            "Accuracy pour MultinomialNB avec CountVectorizer (validation): 91.16%\n",
            "              precision    recall  f1-score   support\n",
            "\n",
            "     Negatif       0.90      0.85      0.87       178\n",
            "      Neutre       0.81      0.84      0.83       233\n",
            "     Positif       0.93      0.93      0.93       312\n",
            "\n",
            "    accuracy                           0.88       723\n",
            "   macro avg       0.88      0.87      0.88       723\n",
            "weighted avg       0.88      0.88      0.88       723\n",
            "\n"
          ]
        }
      ],
      "source": [
        "# Entraînement et évaluation avec CountVectorizer\n",
        "nb_model_count = MultinomialNB(alpha=0.5, fit_prior=True, class_prior=[1.9, 5.5, 5])\n",
        "nb_model_count.fit(X_train_count, y_train)\n",
        "\n",
        "# Prédictions sur le jeu de test\n",
        "y_pred_count_nb = nb_model_count.predict(X_test_count)\n",
        "\n",
        "# Prédictions sur le jeu de validation\n",
        "y_val_pred_count_nb = nb_model_count.predict(X_val_count)\n",
        "\n",
        "# Rapport complet pour MultinomialNB avec CountVectorizer\n",
        "print(\"Rapport pour MultinomialNB avec CountVectorizer:\")\n",
        "accuracy_count_nb = accuracy_score(y_test, y_pred_count_nb)\n",
        "print(f\"Accuracy pour MultinomialNB avec CountVectorizer: {accuracy_count_nb*100:.2f}%\")\n",
        "accuracy_val_count_nb = accuracy_score(y_val, y_val_pred_count_nb)\n",
        "print(f\"Accuracy pour MultinomialNB avec CountVectorizer (validation): {accuracy_val_count_nb*100:.2f}%\")\n",
        "print(classification_report(y_test, y_pred_count_nb, target_names=label_encoder.classes_))"
      ]
    },
    {
      "cell_type": "markdown",
      "id": "6pWyV-DP6qD2",
      "metadata": {
        "id": "6pWyV-DP6qD2"
      },
      "source": [
        "#### <span style=\"color: #28A745;\">**Matrice de confusion**</span>"
      ]
    },
    {
      "cell_type": "code",
      "execution_count": 298,
      "id": "sUOv6qbY6q-F",
      "metadata": {
        "colab": {
          "base_uri": "https://localhost:8080/",
          "height": 564
        },
        "id": "sUOv6qbY6q-F",
        "outputId": "33a55279-2c33-4bd9-f211-a48a88dadb43"
      },
      "outputs": [
        {
          "data": {
            "image/png": "[encoded data removed]",
            "text/plain": [
              "<Figure size 800x600 with 2 Axes>"
            ]
          },
          "metadata": {},
          "output_type": "display_data"
        }
      ],
      "source": [
        "# Matrice de confusion pour MultinomialNB avec CountVectorizer\n",
        "conf_matrix_count_nb = confusion_matrix(y_test, y_pred_count_nb)\n",
        "plt.figure(figsize=(8, 6))\n",
        "sns.heatmap(conf_matrix_count_nb, annot=True, fmt='d', cmap='Reds', xticklabels=label_encoder.classes_, yticklabels=label_encoder.classes_)\n",
        "plt.title(\"Matrice de confusion - MultinomialNB avec CountVectorizer\")\n",
        "plt.xlabel(\"Prédictions\")\n",
        "plt.ylabel(\"Vérités\")\n",
        "plt.show()"
      ]
    },
    {
      "cell_type": "markdown",
      "id": "254f0ab2",
      "metadata": {},
      "source": [
        "#### <span style=\"color: #28A745;\">**Courbe d’apprentissage**</span>"
      ]
    },
    {
      "cell_type": "code",
      "execution_count": null,
      "id": "686e871a",
      "metadata": {},
      "outputs": [],
      "source": [
        "# Tracer la courbe d'apprentissage pour MultinomialNB avec CountVectorizer\n",
        "plot_learning_curve(nb_model_count, X_train_count, y_train, \"Courbe d'apprentissage - MultinomialNB (CountVectorizer)\")"
      ]
    },
    {
      "cell_type": "markdown",
      "id": "f8f93ecd",
      "metadata": {
        "id": "f8f93ecd"
      },
      "source": [
        "### <span style=\"color: #28A745;\">**4.2. Naive Bayes avec TF-IDF Vectorizer**</span>"
      ]
    },
    {
      "cell_type": "code",
      "execution_count": 299,
      "id": "085a24e1",
      "metadata": {
        "colab": {
          "base_uri": "https://localhost:8080/"
        },
        "id": "085a24e1",
        "outputId": "a700c25d-db09-4e4a-c566-d5ee18c3e026"
      },
      "outputs": [
        {
          "name": "stdout",
          "output_type": "stream",
          "text": [
            "Rapport pour MultinomialNB avec TF-IDF:\n",
            "Accuracy pour MultinomialNB avec TF-IDF: 87.69%\n",
            "Accuracy pour MultinomialNB avec TF-IDF (validation): 90.61%\n",
            "              precision    recall  f1-score   support\n",
            "\n",
            "     Negatif       0.87      0.86      0.86       178\n",
            "      Neutre       0.82      0.82      0.82       233\n",
            "     Positif       0.93      0.93      0.93       312\n",
            "\n",
            "    accuracy                           0.88       723\n",
            "   macro avg       0.87      0.87      0.87       723\n",
            "weighted avg       0.88      0.88      0.88       723\n",
            "\n"
          ]
        }
      ],
      "source": [
        "# Entraînement et évaluation avec TF-IDF\n",
        "nb_model_tfidf = MultinomialNB(alpha=0.5, fit_prior=True, class_prior=[4.2, 5.6, 5.5])\n",
        "nb_model_tfidf.fit(X_train_tfidf, y_train)\n",
        "\n",
        "# Prédictions sur le jeu de test\n",
        "y_pred_tfidf_nb = nb_model_tfidf.predict(X_test_tfidf)\n",
        "\n",
        "# Prédictions sur le jeu de validation\n",
        "y_val_pred_tfidf_nb = nb_model_tfidf.predict(X_val_tfidf)\n",
        "\n",
        "# Rapport complet pour MultinomialNB avec TF-IDF\n",
        "print(\"Rapport pour MultinomialNB avec TF-IDF:\")\n",
        "accuracy_tfidf_nb = accuracy_score(y_test, y_pred_tfidf_nb)\n",
        "print(f\"Accuracy pour MultinomialNB avec TF-IDF: {accuracy_tfidf_nb*100:.2f}%\")\n",
        "accuracy_val_tfidf_nb = accuracy_score(y_val, y_val_pred_tfidf_nb)\n",
        "print(f\"Accuracy pour MultinomialNB avec TF-IDF (validation): {accuracy_val_tfidf_nb*100:.2f}%\")\n",
        "print(classification_report(y_test, y_pred_tfidf_nb, target_names=label_encoder.classes_))"
      ]
    },
    {
      "cell_type": "markdown",
      "id": "U6ilU37M7K_L",
      "metadata": {
        "id": "U6ilU37M7K_L"
      },
      "source": [
        "#### <span style=\"color: #28A745;\">**Matrice de confusion**</span>"
      ]
    },
    {
      "cell_type": "code",
      "execution_count": 1,
      "id": "VJjiBNRs7L7U",
      "metadata": {
        "colab": {
          "base_uri": "https://localhost:8080/",
          "height": 564
        },
        "id": "VJjiBNRs7L7U",
        "outputId": "28779b38-5562-4482-c65b-9f6cc53fedf4"
      },
      "outputs": [
        {
          "ename": "NameError",
          "evalue": "name 'confusion_matrix' is not defined",
          "output_type": "error",
          "traceback": [
            "\u001b[1;31m---------------------------------------------------------------------------\u001b[0m",
            "\u001b[1;31mNameError\u001b[0m                                 Traceback (most recent call last)",
            "Cell \u001b[1;32mIn[1], line 2\u001b[0m\n\u001b[0;32m      1\u001b[0m \u001b[38;5;66;03m# Matrice de confusion pour MultinomialNB avec TF-IDF\u001b[39;00m\n\u001b[1;32m----> 2\u001b[0m conf_matrix_tfidf_nb \u001b[38;5;241m=\u001b[39m \u001b[43mconfusion_matrix\u001b[49m(y_test, y_pred_tfidf_nb)\n\u001b[0;32m      3\u001b[0m plt\u001b[38;5;241m.\u001b[39mfigure(figsize\u001b[38;5;241m=\u001b[39m(\u001b[38;5;241m8\u001b[39m, \u001b[38;5;241m6\u001b[39m))\n\u001b[0;32m      4\u001b[0m sns\u001b[38;5;241m.\u001b[39mheatmap(conf_matrix_tfidf_nb, annot\u001b[38;5;241m=\u001b[39m\u001b[38;5;28;01mTrue\u001b[39;00m, fmt\u001b[38;5;241m=\u001b[39m\u001b[38;5;124m'\u001b[39m\u001b[38;5;124md\u001b[39m\u001b[38;5;124m'\u001b[39m, cmap\u001b[38;5;241m=\u001b[39m\u001b[38;5;124m'\u001b[39m\u001b[38;5;124mReds\u001b[39m\u001b[38;5;124m'\u001b[39m, xticklabels\u001b[38;5;241m=\u001b[39mlabel_encoder\u001b[38;5;241m.\u001b[39mclasses_, yticklabels\u001b[38;5;241m=\u001b[39mlabel_encoder\u001b[38;5;241m.\u001b[39mclasses_)\n",
            "\u001b[1;31mNameError\u001b[0m: name 'confusion_matrix' is not defined"
          ]
        }
      ],
      "source": [
        "# Matrice de confusion pour MultinomialNB avec TF-IDF\n",
        "conf_matrix_tfidf_nb = confusion_matrix(y_test, y_pred_tfidf_nb)\n",
        "plt.figure(figsize=(8, 6))\n",
        "sns.heatmap(conf_matrix_tfidf_nb, annot=True, fmt='d', cmap='Reds', xticklabels=label_encoder.classes_, yticklabels=label_encoder.classes_)\n",
        "plt.title(\"Matrice de confusion - MultinomialNB avec TF-IDF\")\n",
        "plt.xlabel(\"Prédictions\")\n",
        "plt.ylabel(\"Vérités\")\n",
        "plt.show()"
      ]
    },
    {
      "cell_type": "markdown",
      "id": "161d0b5c",
      "metadata": {},
      "source": [
        "#### <span style=\"color: #28A745;\">**Courbe d’apprentissage**</span>"
      ]
    },
    {
      "cell_type": "code",
      "execution_count": null,
      "id": "778d7a86",
      "metadata": {},
      "outputs": [],
      "source": [
        "# Tracer la courbe d'apprentissage pour MultinomialNB avec TF-IDF\n",
        "plot_learning_curve(nb_model_tfidf, X_train_tfidf, y_train, \"Courbe d'apprentissage - MultinomialNB (TF-IDF)\")"
      ]
    },
    {
      "cell_type": "markdown",
      "id": "1789ce80",
      "metadata": {
        "id": "1789ce80"
      },
      "source": [
        "## <span style=\"color: #E30613;\">**5. LightGBM**</span>"
      ]
    },
    {
      "cell_type": "code",
      "execution_count": 301,
      "id": "f0d0770f",
      "metadata": {
        "id": "f0d0770f"
      },
      "outputs": [],
      "source": [
        "from lightgbm import LGBMClassifier"
      ]
    },
    {
      "cell_type": "markdown",
      "id": "8cd09c23",
      "metadata": {
        "id": "8cd09c23"
      },
      "source": [
        "### <span style=\"color: #28A745;\">**5.1. LightGBM avec CountVectorizer**</span>"
      ]
    },
    {
      "cell_type": "code",
      "execution_count": 302,
      "id": "87b59291",
      "metadata": {
        "colab": {
          "base_uri": "https://localhost:8080/"
        },
        "id": "87b59291",
        "outputId": "15e9fc34-640d-43f2-d725-480b9450b65a"
      },
      "outputs": [
        {
          "name": "stderr",
          "output_type": "stream",
          "text": [
            "/usr/local/lib/python3.11/dist-packages/sklearn/utils/deprecation.py:151: FutureWarning: 'force_all_finite' was renamed to 'ensure_all_finite' in 1.6 and will be removed in 1.8.\n",
            "  warnings.warn(\n"
          ]
        },
        {
          "name": "stdout",
          "output_type": "stream",
          "text": [
            "[LightGBM] [Info] Auto-choosing row-wise multi-threading, the overhead of testing was 0.018182 seconds.\n",
            "You can set `force_row_wise=true` to remove the overhead.\n",
            "And if memory is not enough, you can set `force_col_wise=true`.\n",
            "[LightGBM] [Info] Total Bins 1273\n",
            "[LightGBM] [Info] Number of data points in the train set: 2529, number of used features: 564\n",
            "[LightGBM] [Info] Start training from score -1.098612\n",
            "[LightGBM] [Info] Start training from score -1.098612\n",
            "[LightGBM] [Info] Start training from score -1.098612\n"
          ]
        },
        {
          "name": "stderr",
          "output_type": "stream",
          "text": [
            "/usr/local/lib/python3.11/dist-packages/sklearn/utils/deprecation.py:151: FutureWarning: 'force_all_finite' was renamed to 'ensure_all_finite' in 1.6 and will be removed in 1.8.\n",
            "  warnings.warn(\n",
            "/usr/local/lib/python3.11/dist-packages/sklearn/utils/deprecation.py:151: FutureWarning: 'force_all_finite' was renamed to 'ensure_all_finite' in 1.6 and will be removed in 1.8.\n",
            "  warnings.warn(\n"
          ]
        },
        {
          "name": "stdout",
          "output_type": "stream",
          "text": [
            "Rapport pour LGBMClassifier avec CountVectorizer:\n",
            "Accuracy pour LGBMClassifier avec CountVectorizer: 87.00%\n",
            "Accuracy pour LGBMClassifier avec CountVectorizer (validation): 87.02%\n",
            "              precision    recall  f1-score   support\n",
            "\n",
            "     Negatif       0.87      0.85      0.86       178\n",
            "      Neutre       0.78      0.87      0.82       233\n",
            "     Positif       0.95      0.88      0.92       312\n",
            "\n",
            "    accuracy                           0.87       723\n",
            "   macro avg       0.87      0.87      0.87       723\n",
            "weighted avg       0.88      0.87      0.87       723\n",
            "\n"
          ]
        }
      ],
      "source": [
        "# Entraînement et évaluation avec CountVectorizer\n",
        "lgbm_model_count = LGBMClassifier(learning_rate=0.05, num_leaves=30, n_estimators=200, class_weight='balanced', max_depth=-1, min_child_samples=4)\n",
        "lgbm_model_count.fit(X_train_count.astype(np.float32), y_train)\n",
        "\n",
        "# Prédictions sur le jeu de test\n",
        "y_pred_count_lgbm = lgbm_model_count.predict(X_test_count.astype(np.float32))\n",
        "\n",
        "# Prédictions sur le jeu de validation\n",
        "y_val_pred_count_lgbm = lgbm_model_count.predict(X_val_count.astype(np.float32))\n",
        "\n",
        "# Rapport complet pour LGBMClassifier avec CountVectorizer\n",
        "print(\"Rapport pour LGBMClassifier avec CountVectorizer:\")\n",
        "accuracy_count_lgbm = accuracy_score(y_test, y_pred_count_lgbm)\n",
        "print(f\"Accuracy pour LGBMClassifier avec CountVectorizer: {accuracy_count_lgbm*100:.2f}%\")\n",
        "accuracy_val_count_lgbm = accuracy_score(y_val, y_val_pred_count_lgbm)\n",
        "print(f\"Accuracy pour LGBMClassifier avec CountVectorizer (validation): {accuracy_val_count_lgbm*100:.2f}%\")\n",
        "print(classification_report(y_test, y_pred_count_lgbm, target_names=label_encoder.classes_))"
      ]
    },
    {
      "cell_type": "markdown",
      "id": "bGGjB9hg7mug",
      "metadata": {
        "id": "bGGjB9hg7mug"
      },
      "source": [
        "#### <span style=\"color: #28A745;\">**Matrice de confusion**</span>"
      ]
    },
    {
      "cell_type": "code",
      "execution_count": 303,
      "id": "J7qzgN8l7qUt",
      "metadata": {
        "colab": {
          "base_uri": "https://localhost:8080/",
          "height": 564
        },
        "id": "J7qzgN8l7qUt",
        "outputId": "2f029e02-9f78-4839-b5be-fc6532e128d9"
      },
      "outputs": [
        {
          "data": {
            "image/png": "[encoded data removed]",
            "text/plain": [
              "<Figure size 800x600 with 2 Axes>"
            ]
          },
          "metadata": {},
          "output_type": "display_data"
        }
      ],
      "source": [
        "# Matrice de confusion pour LGBMClassifier avec CountVectorizer\n",
        "conf_matrix_count_lgbm = confusion_matrix(y_test, y_pred_count_lgbm)\n",
        "plt.figure(figsize=(8, 6))\n",
        "sns.heatmap(conf_matrix_count_lgbm, annot=True, fmt='d', cmap='Reds', xticklabels=label_encoder.classes_, yticklabels=label_encoder.classes_)\n",
        "plt.title(\"Matrice de confusion - LGBMClassifier avec CountVectorizer\")\n",
        "plt.xlabel(\"Prédictions\")\n",
        "plt.ylabel(\"Vérités\")\n",
        "plt.show()"
      ]
    },
    {
      "cell_type": "markdown",
      "id": "40ea5d62",
      "metadata": {},
      "source": [
        "#### <span style=\"color: #28A745;\">**Courbe d’apprentissage**</span>"
      ]
    },
    {
      "cell_type": "code",
      "execution_count": null,
      "id": "130e2f92",
      "metadata": {},
      "outputs": [],
      "source": [
        "# Tracer la courbe d'apprentissage pour LightGBM avec CountVectorizer\n",
        "plot_learning_curve(lgbm_model_count, X_train_count.astype(np.float32), y_train, \"Courbe d'apprentissage - LightGBM (CountVectorizer)\")"
      ]
    },
    {
      "cell_type": "markdown",
      "id": "22e3140e",
      "metadata": {
        "id": "22e3140e"
      },
      "source": [
        "### <span style=\"color: #28A745;\">**5.2. LightGBM avec TF-IDF Vectorizer**</span>"
      ]
    },
    {
      "cell_type": "code",
      "execution_count": 304,
      "id": "a4a7d4bd",
      "metadata": {
        "colab": {
          "base_uri": "https://localhost:8080/"
        },
        "id": "a4a7d4bd",
        "outputId": "c2ea5d7d-7a40-4e66-fa0d-bf2c0f63b1b4"
      },
      "outputs": [
        {
          "name": "stderr",
          "output_type": "stream",
          "text": [
            "/usr/local/lib/python3.11/dist-packages/sklearn/utils/deprecation.py:151: FutureWarning: 'force_all_finite' was renamed to 'ensure_all_finite' in 1.6 and will be removed in 1.8.\n",
            "  warnings.warn(\n"
          ]
        },
        {
          "name": "stdout",
          "output_type": "stream",
          "text": [
            "[LightGBM] [Info] Auto-choosing row-wise multi-threading, the overhead of testing was 0.015808 seconds.\n",
            "You can set `force_row_wise=true` to remove the overhead.\n",
            "And if memory is not enough, you can set `force_col_wise=true`.\n",
            "[LightGBM] [Info] Total Bins 3243\n",
            "[LightGBM] [Info] Number of data points in the train set: 2529, number of used features: 564\n",
            "[LightGBM] [Info] Start training from score -1.098612\n",
            "[LightGBM] [Info] Start training from score -1.098612\n",
            "[LightGBM] [Info] Start training from score -1.098612\n"
          ]
        },
        {
          "name": "stderr",
          "output_type": "stream",
          "text": [
            "/usr/local/lib/python3.11/dist-packages/sklearn/utils/deprecation.py:151: FutureWarning: 'force_all_finite' was renamed to 'ensure_all_finite' in 1.6 and will be removed in 1.8.\n",
            "  warnings.warn(\n",
            "/usr/local/lib/python3.11/dist-packages/sklearn/utils/deprecation.py:151: FutureWarning: 'force_all_finite' was renamed to 'ensure_all_finite' in 1.6 and will be removed in 1.8.\n",
            "  warnings.warn(\n"
          ]
        },
        {
          "name": "stdout",
          "output_type": "stream",
          "text": [
            "Rapport pour LGBMClassifier avec TF-IDF:\n",
            "Accuracy pour LGBMClassifier avec TF-IDF: 86.72%\n",
            "Accuracy pour LGBMClassifier avec TF-IDF (validation): 86.46%\n",
            "              precision    recall  f1-score   support\n",
            "\n",
            "     Negatif       0.89      0.83      0.86       178\n",
            "      Neutre       0.76      0.89      0.82       233\n",
            "     Positif       0.95      0.88      0.91       312\n",
            "\n",
            "    accuracy                           0.87       723\n",
            "   macro avg       0.87      0.86      0.86       723\n",
            "weighted avg       0.88      0.87      0.87       723\n",
            "\n"
          ]
        }
      ],
      "source": [
        "# Entraînement et évaluation avec TF-IDF\n",
        "lgbm_model_tfidf = LGBMClassifier(learning_rate=0.05, num_leaves=20, n_estimators=250, class_weight='balanced', max_depth=-1, min_child_samples=4)\n",
        "lgbm_model_tfidf.fit(X_train_tfidf.astype(np.float32), y_train)\n",
        "\n",
        "# Prédictions sur le jeu de test\n",
        "y_pred_tfidf_lgbm = lgbm_model_tfidf.predict(X_test_tfidf.astype(np.float32))\n",
        "\n",
        "# Prédictions sur le jeu de validation\n",
        "y_val_pred_tfidf_lgbm = lgbm_model_tfidf.predict(X_val_tfidf.astype(np.float32))\n",
        "\n",
        "# Rapport complet pour LGBMClassifier avec TF-IDF\n",
        "print(\"Rapport pour LGBMClassifier avec TF-IDF:\")\n",
        "accuracy_tfidf_lgbm = accuracy_score(y_test, y_pred_tfidf_lgbm)\n",
        "print(f\"Accuracy pour LGBMClassifier avec TF-IDF: {accuracy_tfidf_lgbm*100:.2f}%\")\n",
        "accuracy_val_tfidf_lgbm = accuracy_score(y_val, y_val_pred_tfidf_lgbm)\n",
        "print(f\"Accuracy pour LGBMClassifier avec TF-IDF (validation): {accuracy_val_tfidf_lgbm*100:.2f}%\")\n",
        "print(classification_report(y_test, y_pred_tfidf_lgbm, target_names=label_encoder.classes_))"
      ]
    },
    {
      "cell_type": "markdown",
      "id": "Aam6q4X6870G",
      "metadata": {
        "id": "Aam6q4X6870G"
      },
      "source": [
        "#### <span style=\"color: #28A745;\">**Matrice de confusion**</span>"
      ]
    },
    {
      "cell_type": "code",
      "execution_count": 305,
      "id": "BI8_In5f87gT",
      "metadata": {
        "colab": {
          "base_uri": "https://localhost:8080/",
          "height": 564
        },
        "id": "BI8_In5f87gT",
        "outputId": "5866975f-3e78-4a68-fc54-9db8f8175488"
      },
      "outputs": [
        {
          "data": {
            "image/png": "[encoded data removed]",
            "text/plain": [
              "<Figure size 800x600 with 2 Axes>"
            ]
          },
          "metadata": {},
          "output_type": "display_data"
        }
      ],
      "source": [
        "# Matrice de confusion pour LGBMClassifier avec TF-IDF\n",
        "conf_matrix_tfidf_lgbm = confusion_matrix(y_test, y_pred_tfidf_lgbm)\n",
        "plt.figure(figsize=(8, 6))\n",
        "sns.heatmap(conf_matrix_tfidf_lgbm, annot=True, fmt='d', cmap='Reds', xticklabels=label_encoder.classes_, yticklabels=label_encoder.classes_)\n",
        "plt.title(\"Matrice de confusion - LGBMClassifier avec TF-IDF\")\n",
        "plt.xlabel(\"Prédictions\")\n",
        "plt.ylabel(\"Vérités\")\n",
        "plt.show()"
      ]
    },
    {
      "cell_type": "markdown",
      "id": "c86b38c9",
      "metadata": {},
      "source": [
        "#### <span style=\"color: #28A745;\">**Courbe d’apprentissage**</span>"
      ]
    },
    {
      "cell_type": "code",
      "execution_count": null,
      "id": "1424d906",
      "metadata": {},
      "outputs": [],
      "source": [
        "# Tracer la courbe d'apprentissage pour LightGBM avec TF-IDF\n",
        "plot_learning_curve(lgbm_model_tfidf, X_train_tfidf.astype(np.float32), y_train, \"Courbe d'apprentissage - LightGBM (TF-IDF)\")"
      ]
    },
    {
      "cell_type": "markdown",
      "id": "5dc6a445",
      "metadata": {
        "id": "5dc6a445"
      },
      "source": [
        "## <span style=\"color: #28A745;\">**Résultats Comparatifs des Modèles de Classification**</span>"
      ]
    },
    {
      "cell_type": "code",
      "execution_count": 306,
      "id": "9a96ef9b",
      "metadata": {
        "colab": {
          "base_uri": "https://localhost:8080/",
          "height": 363
        },
        "id": "9a96ef9b",
        "outputId": "57735084-48b1-434c-d825-ba0ab3af1205"
      },
      "outputs": [
        {
          "data": {
            "application/vnd.google.colaboratory.intrinsic+json": {
              "summary": "{\n  \"name\": \"results_comparison\",\n  \"rows\": 10,\n  \"fields\": [\n    {\n      \"column\": \"Mod\\u00e8le\",\n      \"properties\": {\n        \"dtype\": \"string\",\n        \"num_unique_values\": 5,\n        \"samples\": [\n          \"R\\u00e9gression Logistique\",\n          \"Arbre de D\\u00e9cision\",\n          \"LightGBM\"\n        ],\n        \"semantic_type\": \"\",\n        \"description\": \"\"\n      }\n    },\n    {\n      \"column\": \"Vectorisation\",\n      \"properties\": {\n        \"dtype\": \"category\",\n        \"num_unique_values\": 2,\n        \"samples\": [\n          \"TF-IDF\",\n          \"CountVectorizer\"\n        ],\n        \"semantic_type\": \"\",\n        \"description\": \"\"\n      }\n    },\n    {\n      \"column\": \"Accuracy (Test)\",\n      \"properties\": {\n        \"dtype\": \"string\",\n        \"num_unique_values\": 10,\n        \"samples\": [\n          \"83.13%\",\n          \"87.69%\"\n        ],\n        \"semantic_type\": \"\",\n        \"description\": \"\"\n      }\n    },\n    {\n      \"column\": \"Accuracy (Validation)\",\n      \"properties\": {\n        \"dtype\": \"string\",\n        \"num_unique_values\": 8,\n        \"samples\": [\n          \"90.61%\",\n          \"86.46%\"\n        ],\n        \"semantic_type\": \"\",\n        \"description\": \"\"\n      }\n    }\n  ]\n}",
              "type": "dataframe",
              "variable_name": "results_comparison"
            },
            "text/html": [
              "\n",
              "  <div id=\"df-e4a16311-f3c7-42ec-a0a8-feaedcc53a6f\" class=\"colab-df-container\">\n",
              "    <div>\n",
              "<style scoped>\n",
              "    .dataframe tbody tr th:only-of-type {\n",
              "        vertical-align: middle;\n",
              "    }\n",
              "\n",
              "    .dataframe tbody tr th {\n",
              "        vertical-align: top;\n",
              "    }\n",
              "\n",
              "    .dataframe thead th {\n",
              "        text-align: right;\n",
              "    }\n",
              "</style>\n",
              "<table border=\"1\" class=\"dataframe\">\n",
              "  <thead>\n",
              "    <tr style=\"text-align: right;\">\n",
              "      <th></th>\n",
              "      <th>Modèle</th>\n",
              "      <th>Vectorisation</th>\n",
              "      <th>Accuracy (Test)</th>\n",
              "      <th>Accuracy (Validation)</th>\n",
              "    </tr>\n",
              "  </thead>\n",
              "  <tbody>\n",
              "    <tr>\n",
              "      <th>0</th>\n",
              "      <td>Naive Bayes</td>\n",
              "      <td>CountVectorizer</td>\n",
              "      <td>88.24%</td>\n",
              "      <td>91.16%</td>\n",
              "    </tr>\n",
              "    <tr>\n",
              "      <th>1</th>\n",
              "      <td>Naive Bayes</td>\n",
              "      <td>TF-IDF</td>\n",
              "      <td>87.69%</td>\n",
              "      <td>90.61%</td>\n",
              "    </tr>\n",
              "    <tr>\n",
              "      <th>2</th>\n",
              "      <td>Régression Logistique</td>\n",
              "      <td>CountVectorizer</td>\n",
              "      <td>87.28%</td>\n",
              "      <td>89.78%</td>\n",
              "    </tr>\n",
              "    <tr>\n",
              "      <th>3</th>\n",
              "      <td>LightGBM</td>\n",
              "      <td>CountVectorizer</td>\n",
              "      <td>87.00%</td>\n",
              "      <td>87.02%</td>\n",
              "    </tr>\n",
              "    <tr>\n",
              "      <th>4</th>\n",
              "      <td>SVM</td>\n",
              "      <td>TF-IDF</td>\n",
              "      <td>86.86%</td>\n",
              "      <td>89.23%</td>\n",
              "    </tr>\n",
              "    <tr>\n",
              "      <th>5</th>\n",
              "      <td>LightGBM</td>\n",
              "      <td>TF-IDF</td>\n",
              "      <td>86.72%</td>\n",
              "      <td>86.46%</td>\n",
              "    </tr>\n",
              "    <tr>\n",
              "      <th>6</th>\n",
              "      <td>Régression Logistique</td>\n",
              "      <td>TF-IDF</td>\n",
              "      <td>86.58%</td>\n",
              "      <td>89.78%</td>\n",
              "    </tr>\n",
              "    <tr>\n",
              "      <th>7</th>\n",
              "      <td>SVM</td>\n",
              "      <td>CountVectorizer</td>\n",
              "      <td>85.89%</td>\n",
              "      <td>86.46%</td>\n",
              "    </tr>\n",
              "    <tr>\n",
              "      <th>8</th>\n",
              "      <td>Arbre de Décision</td>\n",
              "      <td>TF-IDF</td>\n",
              "      <td>83.13%</td>\n",
              "      <td>83.15%</td>\n",
              "    </tr>\n",
              "    <tr>\n",
              "      <th>9</th>\n",
              "      <td>Arbre de Décision</td>\n",
              "      <td>CountVectorizer</td>\n",
              "      <td>80.50%</td>\n",
              "      <td>83.43%</td>\n",
              "    </tr>\n",
              "  </tbody>\n",
              "</table>\n",
              "</div>\n",
              "    <div class=\"colab-df-buttons\">\n",
              "\n",
              "  <div class=\"colab-df-container\">\n",
              "    <button class=\"colab-df-convert\" onclick=\"convertToInteractive('df-e4a16311-f3c7-42ec-a0a8-feaedcc53a6f')\"\n",
              "            title=\"Convert this dataframe to an interactive table.\"\n",
              "            style=\"display:none;\">\n",
              "\n",
              "  <svg xmlns=\"http://www.w3.org/2000/svg\" height=\"24px\" viewBox=\"0 -960 960 960\">\n",
              "    <path d=\"M120-120v-720h720v720H120Zm60-500h600v-160H180v160Zm220 220h160v-160H400v160Zm0 220h160v-160H400v160ZM180-400h160v-160H180v160Zm440 0h160v-160H620v160ZM180-180h160v-160H180v160Zm440 0h160v-160H620v160Z\"/>\n",
              "  </svg>\n",
              "    </button>\n",
              "\n",
              "  <style>\n",
              "    .colab-df-container {\n",
              "      display:flex;\n",
              "      gap: 12px;\n",
              "    }\n",
              "\n",
              "    .colab-df-convert {\n",
              "      background-color: #E8F0FE;\n",
              "      border: none;\n",
              "      border-radius: 50%;\n",
              "      cursor: pointer;\n",
              "      display: none;\n",
              "      fill: #1967D2;\n",
              "      height: 32px;\n",
              "      padding: 0 0 0 0;\n",
              "      width: 32px;\n",
              "    }\n",
              "\n",
              "    .colab-df-convert:hover {\n",
              "      background-color: #E2EBFA;\n",
              "      box-shadow: 0px 1px 2px rgba(60, 64, 67, 0.3), 0px 1px 3px 1px rgba(60, 64, 67, 0.15);\n",
              "      fill: #174EA6;\n",
              "    }\n",
              "\n",
              "    .colab-df-buttons div {\n",
              "      margin-bottom: 4px;\n",
              "    }\n",
              "\n",
              "    [theme=dark] .colab-df-convert {\n",
              "      background-color: #3B4455;\n",
              "      fill: #D2E3FC;\n",
              "    }\n",
              "\n",
              "    [theme=dark] .colab-df-convert:hover {\n",
              "      background-color: #434B5C;\n",
              "      box-shadow: 0px 1px 3px 1px rgba(0, 0, 0, 0.15);\n",
              "      filter: drop-shadow(0px 1px 2px rgba(0, 0, 0, 0.3));\n",
              "      fill: #FFFFFF;\n",
              "    }\n",
              "  </style>\n",
              "\n",
              "    <script>\n",
              "      const buttonEl =\n",
              "        document.querySelector('#df-e4a16311-f3c7-42ec-a0a8-feaedcc53a6f button.colab-df-convert');\n",
              "      buttonEl.style.display =\n",
              "        google.colab.kernel.accessAllowed ? 'block' : 'none';\n",
              "\n",
              "      async function convertToInteractive(key) {\n",
              "        const element = document.querySelector('#df-e4a16311-f3c7-42ec-a0a8-feaedcc53a6f');\n",
              "        const dataTable =\n",
              "          await google.colab.kernel.invokeFunction('convertToInteractive',\n",
              "                                                    [key], {});\n",
              "        if (!dataTable) return;\n",
              "\n",
              "        const docLinkHtml = 'Like what you see? Visit the ' +\n",
              "          '<a target=\"_blank\" href=https://colab.research.google.com/notebooks/data_table.ipynb>data table notebook</a>'\n",
              "          + ' to learn more about interactive tables.';\n",
              "        element.innerHTML = '';\n",
              "        dataTable['output_type'] = 'display_data';\n",
              "        await google.colab.output.renderOutput(dataTable, element);\n",
              "        const docLink = document.createElement('div');\n",
              "        docLink.innerHTML = docLinkHtml;\n",
              "        element.appendChild(docLink);\n",
              "      }\n",
              "    </script>\n",
              "  </div>\n",
              "\n",
              "\n",
              "    <div id=\"df-f7ce0e11-c3c6-400d-84f5-9d2ee4ab08fa\">\n",
              "      <button class=\"colab-df-quickchart\" onclick=\"quickchart('df-f7ce0e11-c3c6-400d-84f5-9d2ee4ab08fa')\"\n",
              "                title=\"Suggest charts\"\n",
              "                style=\"display:none;\">\n",
              "\n",
              "<svg xmlns=\"http://www.w3.org/2000/svg\" height=\"24px\"viewBox=\"0 0 24 24\"\n",
              "     width=\"24px\">\n",
              "    <g>\n",
              "        <path d=\"M19 3H5c-1.1 0-2 .9-2 2v14c0 1.1.9 2 2 2h14c1.1 0 2-.9 2-2V5c0-1.1-.9-2-2-2zM9 17H7v-7h2v7zm4 0h-2V7h2v10zm4 0h-2v-4h2v4z\"/>\n",
              "    </g>\n",
              "</svg>\n",
              "      </button>\n",
              "\n",
              "<style>\n",
              "  .colab-df-quickchart {\n",
              "      --bg-color: #E8F0FE;\n",
              "      --fill-color: #1967D2;\n",
              "      --hover-bg-color: #E2EBFA;\n",
              "      --hover-fill-color: #174EA6;\n",
              "      --disabled-fill-color: #AAA;\n",
              "      --disabled-bg-color: #DDD;\n",
              "  }\n",
              "\n",
              "  [theme=dark] .colab-df-quickchart {\n",
              "      --bg-color: #3B4455;\n",
              "      --fill-color: #D2E3FC;\n",
              "      --hover-bg-color: #434B5C;\n",
              "      --hover-fill-color: #FFFFFF;\n",
              "      --disabled-bg-color: #3B4455;\n",
              "      --disabled-fill-color: #666;\n",
              "  }\n",
              "\n",
              "  .colab-df-quickchart {\n",
              "    background-color: var(--bg-color);\n",
              "    border: none;\n",
              "    border-radius: 50%;\n",
              "    cursor: pointer;\n",
              "    display: none;\n",
              "    fill: var(--fill-color);\n",
              "    height: 32px;\n",
              "    padding: 0;\n",
              "    width: 32px;\n",
              "  }\n",
              "\n",
              "  .colab-df-quickchart:hover {\n",
              "    background-color: var(--hover-bg-color);\n",
              "    box-shadow: 0 1px 2px rgba(60, 64, 67, 0.3), 0 1px 3px 1px rgba(60, 64, 67, 0.15);\n",
              "    fill: var(--button-hover-fill-color);\n",
              "  }\n",
              "\n",
              "  .colab-df-quickchart-complete:disabled,\n",
              "  .colab-df-quickchart-complete:disabled:hover {\n",
              "    background-color: var(--disabled-bg-color);\n",
              "    fill: var(--disabled-fill-color);\n",
              "    box-shadow: none;\n",
              "  }\n",
              "\n",
              "  .colab-df-spinner {\n",
              "    border: 2px solid var(--fill-color);\n",
              "    border-color: transparent;\n",
              "    border-bottom-color: var(--fill-color);\n",
              "    animation:\n",
              "      spin 1s steps(1) infinite;\n",
              "  }\n",
              "\n",
              "  @keyframes spin {\n",
              "    0% {\n",
              "      border-color: transparent;\n",
              "      border-bottom-color: var(--fill-color);\n",
              "      border-left-color: var(--fill-color);\n",
              "    }\n",
              "    20% {\n",
              "      border-color: transparent;\n",
              "      border-left-color: var(--fill-color);\n",
              "      border-top-color: var(--fill-color);\n",
              "    }\n",
              "    30% {\n",
              "      border-color: transparent;\n",
              "      border-left-color: var(--fill-color);\n",
              "      border-top-color: var(--fill-color);\n",
              "      border-right-color: var(--fill-color);\n",
              "    }\n",
              "    40% {\n",
              "      border-color: transparent;\n",
              "      border-right-color: var(--fill-color);\n",
              "      border-top-color: var(--fill-color);\n",
              "    }\n",
              "    60% {\n",
              "      border-color: transparent;\n",
              "      border-right-color: var(--fill-color);\n",
              "    }\n",
              "    80% {\n",
              "      border-color: transparent;\n",
              "      border-right-color: var(--fill-color);\n",
              "      border-bottom-color: var(--fill-color);\n",
              "    }\n",
              "    90% {\n",
              "      border-color: transparent;\n",
              "      border-bottom-color: var(--fill-color);\n",
              "    }\n",
              "  }\n",
              "</style>\n",
              "\n",
              "      <script>\n",
              "        async function quickchart(key) {\n",
              "          const quickchartButtonEl =\n",
              "            document.querySelector('#' + key + ' button');\n",
              "          quickchartButtonEl.disabled = true;  // To prevent multiple clicks.\n",
              "          quickchartButtonEl.classList.add('colab-df-spinner');\n",
              "          try {\n",
              "            const charts = await google.colab.kernel.invokeFunction(\n",
              "                'suggestCharts', [key], {});\n",
              "          } catch (error) {\n",
              "            console.error('Error during call to suggestCharts:', error);\n",
              "          }\n",
              "          quickchartButtonEl.classList.remove('colab-df-spinner');\n",
              "          quickchartButtonEl.classList.add('colab-df-quickchart-complete');\n",
              "        }\n",
              "        (() => {\n",
              "          let quickchartButtonEl =\n",
              "            document.querySelector('#df-f7ce0e11-c3c6-400d-84f5-9d2ee4ab08fa button');\n",
              "          quickchartButtonEl.style.display =\n",
              "            google.colab.kernel.accessAllowed ? 'block' : 'none';\n",
              "        })();\n",
              "      </script>\n",
              "    </div>\n",
              "\n",
              "  <div id=\"id_728b8e22-431e-407d-aa9f-cea49659aaee\">\n",
              "    <style>\n",
              "      .colab-df-generate {\n",
              "        background-color: #E8F0FE;\n",
              "        border: none;\n",
              "        border-radius: 50%;\n",
              "        cursor: pointer;\n",
              "        display: none;\n",
              "        fill: #1967D2;\n",
              "        height: 32px;\n",
              "        padding: 0 0 0 0;\n",
              "        width: 32px;\n",
              "      }\n",
              "\n",
              "      .colab-df-generate:hover {\n",
              "        background-color: #E2EBFA;\n",
              "        box-shadow: 0px 1px 2px rgba(60, 64, 67, 0.3), 0px 1px 3px 1px rgba(60, 64, 67, 0.15);\n",
              "        fill: #174EA6;\n",
              "      }\n",
              "\n",
              "      [theme=dark] .colab-df-generate {\n",
              "        background-color: #3B4455;\n",
              "        fill: #D2E3FC;\n",
              "      }\n",
              "\n",
              "      [theme=dark] .colab-df-generate:hover {\n",
              "        background-color: #434B5C;\n",
              "        box-shadow: 0px 1px 3px 1px rgba(0, 0, 0, 0.15);\n",
              "        filter: drop-shadow(0px 1px 2px rgba(0, 0, 0, 0.3));\n",
              "        fill: #FFFFFF;\n",
              "      }\n",
              "    </style>\n",
              "    <button class=\"colab-df-generate\" onclick=\"generateWithVariable('results_comparison')\"\n",
              "            title=\"Generate code using this dataframe.\"\n",
              "            style=\"display:none;\">\n",
              "\n",
              "  <svg xmlns=\"http://www.w3.org/2000/svg\" height=\"24px\"viewBox=\"0 0 24 24\"\n",
              "       width=\"24px\">\n",
              "    <path d=\"M7,19H8.4L18.45,9,17,7.55,7,17.6ZM5,21V16.75L18.45,3.32a2,2,0,0,1,2.83,0l1.4,1.43a1.91,1.91,0,0,1,.58,1.4,1.91,1.91,0,0,1-.58,1.4L9.25,21ZM18.45,9,17,7.55Zm-12,3A5.31,5.31,0,0,0,4.9,8.1,5.31,5.31,0,0,0,1,6.5,5.31,5.31,0,0,0,4.9,4.9,5.31,5.31,0,0,0,6.5,1,5.31,5.31,0,0,0,8.1,4.9,5.31,5.31,0,0,0,12,6.5,5.46,5.46,0,0,0,6.5,12Z\"/>\n",
              "  </svg>\n",
              "    </button>\n",
              "    <script>\n",
              "      (() => {\n",
              "      const buttonEl =\n",
              "        document.querySelector('#id_728b8e22-431e-407d-aa9f-cea49659aaee button.colab-df-generate');\n",
              "      buttonEl.style.display =\n",
              "        google.colab.kernel.accessAllowed ? 'block' : 'none';\n",
              "\n",
              "      buttonEl.onclick = () => {\n",
              "        google.colab.notebook.generateWithVariable('results_comparison');\n",
              "      }\n",
              "      })();\n",
              "    </script>\n",
              "  </div>\n",
              "\n",
              "    </div>\n",
              "  </div>\n"
            ],
            "text/plain": [
              "                  Modèle    Vectorisation Accuracy (Test)  \\\n",
              "0            Naive Bayes  CountVectorizer          88.24%   \n",
              "1            Naive Bayes           TF-IDF          87.69%   \n",
              "2  Régression Logistique  CountVectorizer          87.28%   \n",
              "3               LightGBM  CountVectorizer          87.00%   \n",
              "4                    SVM           TF-IDF          86.86%   \n",
              "5               LightGBM           TF-IDF          86.72%   \n",
              "6  Régression Logistique           TF-IDF          86.58%   \n",
              "7                    SVM  CountVectorizer          85.89%   \n",
              "8      Arbre de Décision           TF-IDF          83.13%   \n",
              "9      Arbre de Décision  CountVectorizer          80.50%   \n",
              "\n",
              "  Accuracy (Validation)  \n",
              "0                91.16%  \n",
              "1                90.61%  \n",
              "2                89.78%  \n",
              "3                87.02%  \n",
              "4                89.23%  \n",
              "5                86.46%  \n",
              "6                89.78%  \n",
              "7                86.46%  \n",
              "8                83.15%  \n",
              "9                83.43%  "
            ]
          },
          "execution_count": 306,
          "metadata": {},
          "output_type": "execute_result"
        }
      ],
      "source": [
        "# Liste des modèles et leurs noms à afficher\n",
        "models = [\n",
        "    (\"Régression Logistique\", \"count\", \"tfidf\"),\n",
        "    (\"SVM\", \"count_svc\", \"tfidf_svc\"),\n",
        "    (\"Arbre de Décision\", \"count_dt\", \"tfidf_dt\"),\n",
        "    (\"Naive Bayes\", \"count_nb\", \"tfidf_nb\"),\n",
        "    (\"LightGBM\", \"count_lgbm\", \"tfidf_lgbm\")\n",
        "]\n",
        "\n",
        "# Fonction pour formater les précisions\n",
        "def format_accuracies(base_name):\n",
        "    train_acc = globals()[f\"accuracy_{base_name}\"]\n",
        "    val_acc = globals()[f\"accuracy_val_{base_name}\"]\n",
        "    return (f\"{train_acc * 100:.2f}%\", f\"{val_acc * 100:.2f}%\")\n",
        "\n",
        "# Préparation des données pour le DataFrame\n",
        "data = []\n",
        "for model_name, count_name, tfidf_name in models:\n",
        "    count_train, count_val = format_accuracies(count_name)\n",
        "    tfidf_train, tfidf_val = format_accuracies(tfidf_name)\n",
        "\n",
        "    data.extend([\n",
        "        {\n",
        "            \"Modèle\": model_name,\n",
        "            \"Vectorisation\": \"CountVectorizer\",\n",
        "            \"Accuracy (Test)\": count_train,\n",
        "            \"Accuracy (Validation)\": count_val\n",
        "        },\n",
        "        {\n",
        "            \"Modèle\": model_name,\n",
        "            \"Vectorisation\": \"TF-IDF\",\n",
        "            \"Accuracy (Test)\": tfidf_train,\n",
        "            \"Accuracy (Validation)\": tfidf_val\n",
        "        }\n",
        "    ])\n",
        "\n",
        "# Création du DataFrame\n",
        "results_comparison = pd.DataFrame(data)\n",
        "\n",
        "# Tri et réinitialisation de l'index\n",
        "results_comparison = (results_comparison\n",
        "                     .sort_values(by=\"Accuracy (Test)\", ascending=False)\n",
        "                     .reset_index(drop=True))\n",
        "\n",
        "# Affichage du tableau comparatif\n",
        "results_comparison"
      ]
    },
    {
      "cell_type": "markdown",
      "id": "3d3d9171",
      "metadata": {
        "id": "3d3d9171"
      },
      "source": [
        "<h3 style=\"text-align: center; color: #E30613;\"><b><i>Développé par: OUARAS Khelil Rafik</i></b></h3>"
      ]
    }
  ],
  "metadata": {
    "colab": {
      "provenance": []
    },
    "kernelspec": {
      "display_name": "base",
      "language": "python",
      "name": "python3"
    },
    "language_info": {
      "codemirror_mode": {
        "name": "ipython",
        "version": 3
      },
      "file_extension": ".py",
      "mimetype": "text/x-python",
      "name": "python",
      "nbconvert_exporter": "python",
      "pygments_lexer": "ipython3",
      "version": "3.12.3"
    }
  },
  "nbformat": 4,
  "nbformat_minor": 5
}
