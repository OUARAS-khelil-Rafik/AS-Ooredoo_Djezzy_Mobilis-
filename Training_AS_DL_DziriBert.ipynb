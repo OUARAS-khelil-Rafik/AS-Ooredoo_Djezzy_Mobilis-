{
  "cells": [
    {
      "cell_type": "markdown",
      "id": "979e6de5",
      "metadata": {
        "id": "979e6de5"
      },
      "source": [
        "<h1 style=\"text-align: center; color: #E30613;\"><b><i>Entraînement avec DziriBert sur les Données de Sentiments</i></b></h1>\n",
        "\n",
        "<p style=\"font-size: 18px;\">\n",
        "Ce notebook présente un workflow complet pour l'entraînement et l'évaluation d'un modèle de classification des sentiments en utilisant <span style=\"color: #28A745;\"><b>DziriBert</b></span>, un modèle de langage pré-entraîné.\n",
        "</p>\n",
        "\n",
        "### <span style=\"color: #28A745;\">**Objectifs :**</span>\n",
        "1. Charger et prétraiter les données textuelles.\n",
        "2. Encoder les étiquettes des sentiments.\n",
        "3. Utiliser un tokenizer pour préparer les données pour le modèle.\n",
        "4. Diviser les données en ensembles d'entraînement, de validation et de test.\n",
        "5. Entraîner le modèle avec des techniques avancées comme le dropout et l'early stopping.\n",
        "6. Évaluer les performances du modèle à l'aide de métriques comme la matrice de confusion et le rapport de classification.\n",
        "7. Visualiser les courbes de pertes et d'accuracy pour analyser les performances.\n",
        "\n",
        "### <span style=\"color: #28A745;\">**Plan du Notebook :**</span>\n",
        "1. **Introduction et Bibliothèques nécessaires**  \n",
        "    Importation des bibliothèques et configuration de l'environnement.\n",
        "    \n",
        "2. **Chargement et Prétraitement des Données**  \n",
        "    Nettoyage des données et préparation des étiquettes.\n",
        "\n",
        "3. **Tokenization et Préparation des Données**  \n",
        "    Utilisation du tokenizer DziriBert et création des ensembles d'entraînement, de validation et de test.\n",
        "\n",
        "4. **Entraînement du Modèle**  \n",
        "    Entraînement avec des techniques comme l'early stopping et le dropout.\n",
        "\n",
        "5. **Évaluation et Visualisation**  \n",
        "    Analyse des performances avec des métriques et des visualisations.\n",
        "\n",
        "6. **Conclusion**  \n",
        "    Résumé des résultats et perspectives d'amélioration."
      ]
    },
    {
      "cell_type": "markdown",
      "id": "zYubPwo2ezaN",
      "metadata": {
        "id": "zYubPwo2ezaN"
      },
      "source": [
        "# <span style=\"color: #E30613;\">**DziriBert**</span>"
      ]
    },
    {
      "cell_type": "markdown",
      "id": "68103f0f",
      "metadata": {
        "id": "68103f0f"
      },
      "source": [
        "## <span style=\"color: #28A745;\">**Bibiliothèques nécessaires**</span>"
      ]
    },
    {
      "cell_type": "code",
      "execution_count": 20,
      "id": "915dbad9",
      "metadata": {
        "collapsed": true,
        "id": "915dbad9"
      },
      "outputs": [],
      "source": [
        "import torch\n",
        "from torch.utils.data import DataLoader, Dataset, random_split\n",
        "from torch.nn import functional as F\n",
        "from torch import nn\n",
        "from torch.optim import AdamW\n",
        "from transformers import AutoTokenizer, AutoModelForSequenceClassification, AutoConfig, get_scheduler\n",
        "from sklearn.preprocessing import LabelEncoder\n",
        "from sklearn.metrics import classification_report, confusion_matrix\n",
        "import matplotlib.pyplot as plt\n",
        "from tqdm import tqdm\n",
        "import pandas as pd\n",
        "import numpy as np\n",
        "import seaborn as sns\n",
        "import random"
      ]
    },
    {
      "cell_type": "markdown",
      "id": "7WOHv2OTVsJ4",
      "metadata": {
        "id": "7WOHv2OTVsJ4"
      },
      "source": [
        "## <span style=\"color: #28A745;\">**Utilisation de GPU**</span>"
      ]
    },
    {
      "cell_type": "code",
      "execution_count": 21,
      "id": "QckqKaljV0xd",
      "metadata": {
        "id": "QckqKaljV0xd"
      },
      "outputs": [],
      "source": [
        "# ✅ Configuration du device GPU uniquement\n",
        "assert torch.cuda.is_available(), \"CUDA GPU is not available.\"\n",
        "device = torch.device(\"cuda\")"
      ]
    },
    {
      "cell_type": "markdown",
      "id": "hUFyzWDFV-ea",
      "metadata": {
        "id": "hUFyzWDFV-ea"
      },
      "source": [
        "## <span style=\"color: #28A745;\">**Chargement des Données**</span>"
      ]
    },
    {
      "cell_type": "code",
      "execution_count": 22,
      "id": "APU8OV_aWDGo",
      "metadata": {
        "id": "APU8OV_aWDGo"
      },
      "outputs": [],
      "source": [
        "# 📁 Chargement des données\n",
        "df = pd.read_csv(\"/content/Results/Comments_clean.csv\").dropna(subset=[\"Comments\"])"
      ]
    },
    {
      "cell_type": "markdown",
      "id": "dpgLkOzNWIfI",
      "metadata": {
        "id": "dpgLkOzNWIfI"
      },
      "source": [
        "## <span style=\"color: #28A745;\">**Encodage des étiquettes**</span>"
      ]
    },
    {
      "cell_type": "code",
      "execution_count": 23,
      "id": "4skFs0KGWSUa",
      "metadata": {
        "id": "4skFs0KGWSUa"
      },
      "outputs": [],
      "source": [
        "# 🎯 Encodage des étiquettes\n",
        "label_encoder = LabelEncoder()\n",
        "df[\"Sentiments_encoded\"] = label_encoder.fit_transform(df[\"Sentiments\"])\n",
        "num_labels = len(label_encoder.classes_)"
      ]
    },
    {
      "cell_type": "markdown",
      "id": "v-EKAf3OWTy0",
      "metadata": {
        "id": "v-EKAf3OWTy0"
      },
      "source": [
        "## <span style=\"color: #28A745;\">**Tokenizer, Split dataset (Train 70%, Test 20%, Val 10%)**</span>"
      ]
    },
    {
      "cell_type": "code",
      "execution_count": 24,
      "id": "12b41a4c",
      "metadata": {
        "id": "12b41a4c"
      },
      "outputs": [],
      "source": [
        "tokenizer = AutoTokenizer.from_pretrained(\"alger-ia/dziribert\")\n",
        "\n",
        "class SentimentDataset(Dataset):\n",
        "    def __init__(self, texts, labels, tokenizer, max_len=128):\n",
        "        self.texts = texts\n",
        "        self.labels = labels\n",
        "        self.tokenizer = tokenizer\n",
        "        self.max_len = max_len\n",
        "\n",
        "    def __len__(self): return len(self.texts)\n",
        "\n",
        "    def __getitem__(self, idx):\n",
        "        text = str(self.texts[idx])\n",
        "        encoding = self.tokenizer(\n",
        "            text,\n",
        "            truncation=True,\n",
        "            padding=\"max_length\",\n",
        "            max_length=self.max_len,\n",
        "            return_tensors=\"pt\"\n",
        "        )\n",
        "        return {\n",
        "            \"input_ids\": encoding[\"input_ids\"].squeeze(),\n",
        "            \"attention_mask\": encoding[\"attention_mask\"].squeeze(),\n",
        "            \"labels\": torch.tensor(self.labels[idx], dtype=torch.long)\n",
        "        }\n",
        "\n",
        "# ✂️ Split dataset (Train 70%, Test 20%, Val 10%)\n",
        "dataset = SentimentDataset(df[\"Comments\"].values, df[\"Sentiments_encoded\"].values, tokenizer)\n",
        "total_size = len(dataset)\n",
        "train_size = int(0.7 * total_size)\n",
        "test_size = int(0.2 * total_size)\n",
        "val_size = total_size - train_size - test_size\n",
        "train_set, test_set, val_set = random_split(dataset, [train_size, test_size, val_size], generator=torch.Generator().manual_seed(42))\n",
        "\n",
        "train_loader = DataLoader(train_set, batch_size=16, shuffle=True)\n",
        "val_loader = DataLoader(val_set, batch_size=16)\n",
        "test_loader = DataLoader(test_set, batch_size=16)"
      ]
    },
    {
      "cell_type": "markdown",
      "id": "557123f1",
      "metadata": {
        "id": "557123f1"
      },
      "source": [
        "## <span style=\"color: #28A745;\">**Chargement du modèle avec dropout custom**</span>"
      ]
    },
    {
      "cell_type": "code",
      "execution_count": 25,
      "id": "eecd3412",
      "metadata": {
        "id": "eecd3412",
        "outputId": "674de4c3-5da4-4211-fac3-a4c9cc3791e2",
        "colab": {
          "base_uri": "https://localhost:8080/"
        }
      },
      "outputs": [
        {
          "output_type": "stream",
          "name": "stderr",
          "text": [
            "Some weights of BertForSequenceClassification were not initialized from the model checkpoint at alger-ia/dziribert and are newly initialized: ['bert.pooler.dense.bias', 'bert.pooler.dense.weight', 'classifier.bias', 'classifier.weight']\n",
            "You should probably TRAIN this model on a down-stream task to be able to use it for predictions and inference.\n"
          ]
        },
        {
          "output_type": "execute_result",
          "data": {
            "text/plain": [
              "BertForSequenceClassification(\n",
              "  (bert): BertModel(\n",
              "    (embeddings): BertEmbeddings(\n",
              "      (word_embeddings): Embedding(50000, 768, padding_idx=0)\n",
              "      (position_embeddings): Embedding(512, 768)\n",
              "      (token_type_embeddings): Embedding(2, 768)\n",
              "      (LayerNorm): LayerNorm((768,), eps=1e-12, elementwise_affine=True)\n",
              "      (dropout): Dropout(p=0.4, inplace=False)\n",
              "    )\n",
              "    (encoder): BertEncoder(\n",
              "      (layer): ModuleList(\n",
              "        (0-11): 12 x BertLayer(\n",
              "          (attention): BertAttention(\n",
              "            (self): BertSdpaSelfAttention(\n",
              "              (query): Linear(in_features=768, out_features=768, bias=True)\n",
              "              (key): Linear(in_features=768, out_features=768, bias=True)\n",
              "              (value): Linear(in_features=768, out_features=768, bias=True)\n",
              "              (dropout): Dropout(p=0.1, inplace=False)\n",
              "            )\n",
              "            (output): BertSelfOutput(\n",
              "              (dense): Linear(in_features=768, out_features=768, bias=True)\n",
              "              (LayerNorm): LayerNorm((768,), eps=1e-12, elementwise_affine=True)\n",
              "              (dropout): Dropout(p=0.4, inplace=False)\n",
              "            )\n",
              "          )\n",
              "          (intermediate): BertIntermediate(\n",
              "            (dense): Linear(in_features=768, out_features=3072, bias=True)\n",
              "            (intermediate_act_fn): GELUActivation()\n",
              "          )\n",
              "          (output): BertOutput(\n",
              "            (dense): Linear(in_features=3072, out_features=768, bias=True)\n",
              "            (LayerNorm): LayerNorm((768,), eps=1e-12, elementwise_affine=True)\n",
              "            (dropout): Dropout(p=0.4, inplace=False)\n",
              "          )\n",
              "        )\n",
              "      )\n",
              "    )\n",
              "    (pooler): BertPooler(\n",
              "      (dense): Linear(in_features=768, out_features=768, bias=True)\n",
              "      (activation): Tanh()\n",
              "    )\n",
              "  )\n",
              "  (dropout): Dropout(p=0.4, inplace=False)\n",
              "  (classifier): Linear(in_features=768, out_features=3, bias=True)\n",
              ")"
            ]
          },
          "metadata": {},
          "execution_count": 25
        }
      ],
      "source": [
        "\"\"\"\n",
        "# Chargement du modèle avec dropout custom\n",
        "config = AutoConfig.from_pretrained(\"alger-ia/dziribert\", num_labels=num_labels, hidden_dropout_prob=0.45)\n",
        "model = AutoModelForSequenceClassification.from_pretrained(\"alger-ia/dziribert\", config=config)\n",
        "model.to(device)\n",
        "\"\"\"\n",
        "\n",
        "config = AutoConfig.from_pretrained(\"alger-ia/dziribert\", num_labels=num_labels, hidden_dropout_prob=0.4, output_attentions=True)\n",
        "model = AutoModelForSequenceClassification.from_pretrained(\"alger-ia/dziribert\", config=config)\n",
        "model.to(device)"
      ]
    },
    {
      "cell_type": "markdown",
      "id": "8b412658",
      "metadata": {
        "id": "8b412658"
      },
      "source": [
        "## <span style=\"color: #28A745;\">**Optimiseur et Scheduler**</span>"
      ]
    },
    {
      "cell_type": "code",
      "execution_count": 26,
      "id": "267e3ffc",
      "metadata": {
        "id": "267e3ffc"
      },
      "outputs": [],
      "source": [
        "# Optimiseur et Scheduler\n",
        "optimizer = AdamW(model.parameters(), lr=2e-5, weight_decay=0.01)\n",
        "num_epochs = 10\n",
        "num_training_steps = num_epochs * len(train_loader)\n",
        "lr_scheduler = get_scheduler(\"linear\", optimizer=optimizer, num_warmup_steps=100, num_training_steps=num_training_steps)"
      ]
    },
    {
      "cell_type": "markdown",
      "id": "3d4197a4",
      "metadata": {
        "id": "3d4197a4"
      },
      "source": [
        "## <span style=\"color: #28A745;\">**Entraînement de Modèle**</span>"
      ]
    },
    {
      "cell_type": "code",
      "execution_count": 27,
      "id": "d571625b",
      "metadata": {
        "id": "d571625b",
        "outputId": "f2b4cbd9-3c58-42f5-af2b-856ee353634a",
        "colab": {
          "base_uri": "https://localhost:8080/"
        }
      },
      "outputs": [
        {
          "output_type": "stream",
          "name": "stdout",
          "text": [
            "\n",
            "🟢 Epoch 1/10\n"
          ]
        },
        {
          "output_type": "stream",
          "name": "stderr",
          "text": [
            "Training: 100%|██████████| 159/159 [00:51<00:00,  3.09it/s]\n",
            "Validation: 100%|██████████| 23/23 [00:02<00:00,  9.01it/s]\n"
          ]
        },
        {
          "output_type": "stream",
          "name": "stdout",
          "text": [
            "✅ Train Loss: 0.8979 | Acc: 0.5397 - Val Loss: 0.4986 | Acc: 0.8044\n",
            "\n",
            "🟢 Epoch 2/10\n"
          ]
        },
        {
          "output_type": "stream",
          "name": "stderr",
          "text": [
            "Training: 100%|██████████| 159/159 [00:53<00:00,  2.98it/s]\n",
            "Validation: 100%|██████████| 23/23 [00:02<00:00,  8.46it/s]\n"
          ]
        },
        {
          "output_type": "stream",
          "name": "stdout",
          "text": [
            "✅ Train Loss: 0.4575 | Acc: 0.8169 - Val Loss: 0.3588 | Acc: 0.8760\n",
            "\n",
            "🟢 Epoch 3/10\n"
          ]
        },
        {
          "output_type": "stream",
          "name": "stderr",
          "text": [
            "Training: 100%|██████████| 159/159 [00:54<00:00,  2.90it/s]\n",
            "Validation: 100%|██████████| 23/23 [00:02<00:00,  8.35it/s]\n"
          ]
        },
        {
          "output_type": "stream",
          "name": "stdout",
          "text": [
            "✅ Train Loss: 0.3096 | Acc: 0.8814 - Val Loss: 0.3475 | Acc: 0.8678\n",
            "\n",
            "🟢 Epoch 4/10\n"
          ]
        },
        {
          "output_type": "stream",
          "name": "stderr",
          "text": [
            "Training: 100%|██████████| 159/159 [00:55<00:00,  2.86it/s]\n",
            "Validation: 100%|██████████| 23/23 [00:02<00:00,  8.18it/s]\n"
          ]
        },
        {
          "output_type": "stream",
          "name": "stdout",
          "text": [
            "✅ Train Loss: 0.2461 | Acc: 0.9083 - Val Loss: 0.3264 | Acc: 0.8650\n",
            "\n",
            "🟢 Epoch 5/10\n"
          ]
        },
        {
          "output_type": "stream",
          "name": "stderr",
          "text": [
            "Training: 100%|██████████| 159/159 [00:55<00:00,  2.85it/s]\n",
            "Validation: 100%|██████████| 23/23 [00:02<00:00,  8.22it/s]\n"
          ]
        },
        {
          "output_type": "stream",
          "name": "stdout",
          "text": [
            "✅ Train Loss: 0.2097 | Acc: 0.9225 - Val Loss: 0.3429 | Acc: 0.8788\n",
            "\n",
            "🟢 Epoch 6/10\n"
          ]
        },
        {
          "output_type": "stream",
          "name": "stderr",
          "text": [
            "Training: 100%|██████████| 159/159 [00:56<00:00,  2.81it/s]\n",
            "Validation: 100%|██████████| 23/23 [00:02<00:00,  8.16it/s]\n"
          ]
        },
        {
          "output_type": "stream",
          "name": "stdout",
          "text": [
            "✅ Train Loss: 0.1936 | Acc: 0.9288 - Val Loss: 0.3235 | Acc: 0.8871\n",
            "\n",
            "🟢 Epoch 7/10\n"
          ]
        },
        {
          "output_type": "stream",
          "name": "stderr",
          "text": [
            "Training: 100%|██████████| 159/159 [00:56<00:00,  2.83it/s]\n",
            "Validation: 100%|██████████| 23/23 [00:02<00:00,  8.20it/s]\n"
          ]
        },
        {
          "output_type": "stream",
          "name": "stdout",
          "text": [
            "✅ Train Loss: 0.1555 | Acc: 0.9427 - Val Loss: 0.3356 | Acc: 0.8843\n",
            "\n",
            "🟢 Epoch 8/10\n"
          ]
        },
        {
          "output_type": "stream",
          "name": "stderr",
          "text": [
            "Training: 100%|██████████| 159/159 [00:56<00:00,  2.81it/s]\n",
            "Validation: 100%|██████████| 23/23 [00:02<00:00,  8.06it/s]"
          ]
        },
        {
          "output_type": "stream",
          "name": "stdout",
          "text": [
            "✅ Train Loss: 0.1410 | Acc: 0.9470 - Val Loss: 0.3482 | Acc: 0.8926\n",
            "⛔ Early stopping triggered.\n"
          ]
        },
        {
          "output_type": "stream",
          "name": "stderr",
          "text": [
            "\n"
          ]
        }
      ],
      "source": [
        "# 🔧 Entraînement avec Early Stopping\n",
        "best_val_loss = float(\"inf\")\n",
        "patience, patience_counter = 2, 0\n",
        "train_losses, val_losses = [], []\n",
        "train_accs, val_accs = [], []\n",
        "\n",
        "for epoch in range(num_epochs):\n",
        "    print(f\"\\n🟢 Epoch {epoch+1}/{num_epochs}\")\n",
        "    model.train()\n",
        "    total_loss, correct, total = 0, 0, 0\n",
        "\n",
        "    for batch in tqdm(train_loader, desc=\"Training\"):\n",
        "        input_ids = batch[\"input_ids\"].to(device)\n",
        "        attention_mask = batch[\"attention_mask\"].to(device)\n",
        "        labels = batch[\"labels\"].to(device)\n",
        "\n",
        "        outputs = model(input_ids=input_ids, attention_mask=attention_mask, labels=labels)\n",
        "        loss = outputs.loss\n",
        "        logits = outputs.logits\n",
        "\n",
        "        optimizer.zero_grad()\n",
        "        loss.backward()\n",
        "        optimizer.step()\n",
        "        lr_scheduler.step()\n",
        "\n",
        "        total_loss += loss.item()\n",
        "        preds = torch.argmax(logits, dim=1)\n",
        "        correct += (preds == labels).sum().item()\n",
        "        total += labels.size(0)\n",
        "\n",
        "    train_loss = total_loss / len(train_loader)\n",
        "    train_acc = correct / total\n",
        "    train_losses.append(train_loss)\n",
        "    train_accs.append(train_acc)\n",
        "\n",
        "    # Validation\n",
        "    model.eval()\n",
        "    val_loss, correct, total = 0, 0, 0\n",
        "    with torch.no_grad():\n",
        "        for batch in tqdm(val_loader, desc=\"Validation\"):\n",
        "            input_ids = batch[\"input_ids\"].to(device)\n",
        "            attention_mask = batch[\"attention_mask\"].to(device)\n",
        "            labels = batch[\"labels\"].to(device)\n",
        "\n",
        "            outputs = model(input_ids=input_ids, attention_mask=attention_mask, labels=labels)\n",
        "            val_loss += outputs.loss.item()\n",
        "\n",
        "            preds = torch.argmax(outputs.logits, dim=1)\n",
        "            correct += (preds == labels).sum().item()\n",
        "            total += labels.size(0)\n",
        "\n",
        "    val_loss = val_loss / len(val_loader)\n",
        "    val_acc = correct / total\n",
        "    val_losses.append(val_loss)\n",
        "    val_accs.append(val_acc)\n",
        "\n",
        "    print(f\"✅ Train Loss: {train_loss:.4f} | Acc: {train_acc:.4f} - Val Loss: {val_loss:.4f} | Acc: {val_acc:.4f}\")\n",
        "\n",
        "    if val_loss < best_val_loss:\n",
        "        best_val_loss = val_loss\n",
        "        torch.save(model.state_dict(), \"/content/Results/best_model_DziriBert.pt\")\n",
        "        patience_counter = 0\n",
        "    else:\n",
        "        patience_counter += 1\n",
        "        if patience_counter >= patience:\n",
        "            print(\"⛔ Early stopping triggered.\")\n",
        "            break"
      ]
    },
    {
      "cell_type": "markdown",
      "id": "b2aa2587",
      "metadata": {
        "id": "b2aa2587"
      },
      "source": [
        "## <span style=\"color: #28A745;\">**Évaluation finale**</span>"
      ]
    },
    {
      "cell_type": "code",
      "execution_count": 28,
      "id": "4708042f",
      "metadata": {
        "id": "4708042f",
        "outputId": "6a45c7eb-1ef7-4a00-c8ca-adfa9572b626",
        "colab": {
          "base_uri": "https://localhost:8080/"
        }
      },
      "outputs": [
        {
          "output_type": "stream",
          "name": "stdout",
          "text": [
            "🔍 Rapport de classification pour DziriBert:\n",
            "📉 Train Loss Finale: 0.1410\n",
            "📉 Validation Loss Finale: 0.3482\n",
            "              precision    recall  f1-score   support\n",
            "\n",
            "     Negatif       0.90      0.90      0.90       160\n",
            "      Neutre       0.88      0.86      0.87       244\n",
            "     Positif       0.93      0.95      0.94       318\n",
            "\n",
            "    accuracy                           0.91       722\n",
            "   macro avg       0.90      0.90      0.90       722\n",
            "weighted avg       0.91      0.91      0.91       722\n",
            "\n"
          ]
        }
      ],
      "source": [
        "# Évaluation finale\n",
        "model.load_state_dict(torch.load(\"/content/Results/best_model_DziriBert.pt\"))\n",
        "model.eval()\n",
        "all_preds, all_labels = [], []\n",
        "\n",
        "for batch in test_loader:\n",
        "    input_ids = batch[\"input_ids\"].to(device)\n",
        "    attention_mask = batch[\"attention_mask\"].to(device)\n",
        "    labels = batch[\"labels\"].to(device)\n",
        "\n",
        "    with torch.no_grad():\n",
        "        outputs = model(input_ids=input_ids, attention_mask=attention_mask)\n",
        "    preds = torch.argmax(outputs.logits, dim=1)\n",
        "    all_preds.extend(preds.cpu().numpy())\n",
        "    all_labels.extend(labels.cpu().numpy())\n",
        "\n",
        "print(\"🔍 Rapport de classification pour DziriBert:\")\n",
        "print(f\"📉 Train Loss Finale: {train_loss:.4f}\") # Affichage des pertes finales pour entrainement\n",
        "print(f\"📉 Validation Loss Finale: {val_loss:.4f}\") # Affichage des pertes finales pour validation\n",
        "print(classification_report(all_labels, all_preds, target_names=label_encoder.classes_))"
      ]
    },
    {
      "cell_type": "markdown",
      "id": "3be60881",
      "metadata": {
        "id": "3be60881"
      },
      "source": [
        "## <span style=\"color: #28A745;\">**Courbes des pertes**</span>"
      ]
    },
    {
      "cell_type": "code",
      "execution_count": 29,
      "id": "51acc255",
      "metadata": {
        "id": "51acc255",
        "outputId": "e55574ab-a8bf-4936-aa55-296e236b67da",
        "colab": {
          "base_uri": "https://localhost:8080/",
          "height": 472
        }
      },
      "outputs": [
        {
          "output_type": "display_data",
          "data": {
            "text/plain": [
              "<Figure size 640x480 with 1 Axes>"
            ],
            "image/png": "[encoded data removed]"
          },
          "metadata": {}
        }
      ],
      "source": [
        "# Courbes des pertes\n",
        "plt.plot(train_losses, label=\"Train Loss\", color='#28A745')  # Vert\n",
        "plt.plot(val_losses, label=\"Validation Loss\", color='#E30613')  # Rouge\n",
        "plt.xlabel(\"Epoch\")\n",
        "plt.ylabel(\"Loss\")\n",
        "plt.title(\"Training and Validation Loss\")\n",
        "\n",
        "plt.legend()\n",
        "plt.show()"
      ]
    },
    {
      "cell_type": "markdown",
      "id": "0f42c89f",
      "metadata": {
        "id": "0f42c89f"
      },
      "source": [
        "## <span style=\"color: #28A745;\">**Matrice de confusion**</span>"
      ]
    },
    {
      "cell_type": "code",
      "execution_count": 30,
      "id": "067ff487",
      "metadata": {
        "id": "067ff487",
        "outputId": "3495f112-92a8-40b7-d8bb-5ef8e381163b",
        "colab": {
          "base_uri": "https://localhost:8080/",
          "height": 472
        }
      },
      "outputs": [
        {
          "output_type": "display_data",
          "data": {
            "text/plain": [
              "<Figure size 640x480 with 2 Axes>"
            ],
            "image/png": "[encoded data removed]"
          },
          "metadata": {}
        }
      ],
      "source": [
        "# Matrice de confusion\n",
        "cm = confusion_matrix(all_labels, all_preds)\n",
        "sns.heatmap(cm, annot=True, fmt='d', xticklabels=label_encoder.classes_, yticklabels=label_encoder.classes_, cmap=\"Reds\")\n",
        "plt.xlabel(\"P\")\n",
        "plt.ylabel(\"Prédictions\")\n",
        "plt.title(\"Matrice de confusion - DziriBert\")\n",
        "plt.show()"
      ]
    },
    {
      "cell_type": "markdown",
      "id": "0fcc10c4",
      "metadata": {
        "id": "0fcc10c4"
      },
      "source": [
        "<h3 style=\"text-align: center; color: #E30613;\"><b><i>Développé par: OUARAS Khelil Rafik</i></b></h3>"
      ]
    }
  ],
  "metadata": {
    "accelerator": "GPU",
    "colab": {
      "gpuType": "T4",
      "provenance": []
    },
    "kernelspec": {
      "display_name": "Python 3",
      "name": "python3"
    },
    "language_info": {
      "codemirror_mode": {
        "name": "ipython",
        "version": 3
      },
      "file_extension": ".py",
      "mimetype": "text/x-python",
      "name": "python",
      "nbconvert_exporter": "python",
      "pygments_lexer": "ipython3",
      "version": "3.12.3"
    }
  },
  "nbformat": 4,
  "nbformat_minor": 5
}